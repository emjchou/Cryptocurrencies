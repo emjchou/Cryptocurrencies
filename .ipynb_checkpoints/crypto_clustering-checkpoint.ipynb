{
 "cells": [
  {
   "cell_type": "markdown",
   "metadata": {},
   "source": [
    "# Clustering Crypto"
   ]
  },
  {
   "cell_type": "code",
   "execution_count": 128,
   "metadata": {},
   "outputs": [],
   "source": [
    "# Initial imports\n",
    "import pandas as pd\n",
    "import hvplot.pandas\n",
    "from path import Path\n",
    "import plotly.express as px\n",
    "from sklearn.preprocessing import StandardScaler, MinMaxScaler\n",
    "from sklearn.decomposition import PCA\n",
    "from sklearn.cluster import KMeans\n"
   ]
  },
  {
   "cell_type": "markdown",
   "metadata": {},
   "source": [
    "### Deliverable 1: Preprocessing the Data for PCA"
   ]
  },
  {
   "cell_type": "code",
   "execution_count": 129,
   "metadata": {},
   "outputs": [
    {
     "data": {
      "text/html": [
       "<div>\n",
       "<style scoped>\n",
       "    .dataframe tbody tr th:only-of-type {\n",
       "        vertical-align: middle;\n",
       "    }\n",
       "\n",
       "    .dataframe tbody tr th {\n",
       "        vertical-align: top;\n",
       "    }\n",
       "\n",
       "    .dataframe thead th {\n",
       "        text-align: right;\n",
       "    }\n",
       "</style>\n",
       "<table border=\"1\" class=\"dataframe\">\n",
       "  <thead>\n",
       "    <tr style=\"text-align: right;\">\n",
       "      <th></th>\n",
       "      <th>CoinName</th>\n",
       "      <th>Algorithm</th>\n",
       "      <th>IsTrading</th>\n",
       "      <th>ProofType</th>\n",
       "      <th>TotalCoinsMined</th>\n",
       "      <th>TotalCoinSupply</th>\n",
       "    </tr>\n",
       "  </thead>\n",
       "  <tbody>\n",
       "    <tr>\n",
       "      <th>42</th>\n",
       "      <td>42 Coin</td>\n",
       "      <td>Scrypt</td>\n",
       "      <td>True</td>\n",
       "      <td>PoW/PoS</td>\n",
       "      <td>4.199995e+01</td>\n",
       "      <td>42</td>\n",
       "    </tr>\n",
       "    <tr>\n",
       "      <th>365</th>\n",
       "      <td>365Coin</td>\n",
       "      <td>X11</td>\n",
       "      <td>True</td>\n",
       "      <td>PoW/PoS</td>\n",
       "      <td>NaN</td>\n",
       "      <td>2300000000</td>\n",
       "    </tr>\n",
       "    <tr>\n",
       "      <th>404</th>\n",
       "      <td>404Coin</td>\n",
       "      <td>Scrypt</td>\n",
       "      <td>True</td>\n",
       "      <td>PoW/PoS</td>\n",
       "      <td>1.055185e+09</td>\n",
       "      <td>532000000</td>\n",
       "    </tr>\n",
       "    <tr>\n",
       "      <th>611</th>\n",
       "      <td>SixEleven</td>\n",
       "      <td>SHA-256</td>\n",
       "      <td>True</td>\n",
       "      <td>PoW</td>\n",
       "      <td>NaN</td>\n",
       "      <td>611000</td>\n",
       "    </tr>\n",
       "    <tr>\n",
       "      <th>808</th>\n",
       "      <td>808</td>\n",
       "      <td>SHA-256</td>\n",
       "      <td>True</td>\n",
       "      <td>PoW/PoS</td>\n",
       "      <td>0.000000e+00</td>\n",
       "      <td>0</td>\n",
       "    </tr>\n",
       "    <tr>\n",
       "      <th>1337</th>\n",
       "      <td>EliteCoin</td>\n",
       "      <td>X13</td>\n",
       "      <td>True</td>\n",
       "      <td>PoW/PoS</td>\n",
       "      <td>2.927942e+10</td>\n",
       "      <td>314159265359</td>\n",
       "    </tr>\n",
       "    <tr>\n",
       "      <th>2015</th>\n",
       "      <td>2015 coin</td>\n",
       "      <td>X11</td>\n",
       "      <td>True</td>\n",
       "      <td>PoW/PoS</td>\n",
       "      <td>NaN</td>\n",
       "      <td>0</td>\n",
       "    </tr>\n",
       "    <tr>\n",
       "      <th>BTC</th>\n",
       "      <td>Bitcoin</td>\n",
       "      <td>SHA-256</td>\n",
       "      <td>True</td>\n",
       "      <td>PoW</td>\n",
       "      <td>1.792718e+07</td>\n",
       "      <td>21000000</td>\n",
       "    </tr>\n",
       "    <tr>\n",
       "      <th>ETH</th>\n",
       "      <td>Ethereum</td>\n",
       "      <td>Ethash</td>\n",
       "      <td>True</td>\n",
       "      <td>PoW</td>\n",
       "      <td>1.076842e+08</td>\n",
       "      <td>0</td>\n",
       "    </tr>\n",
       "    <tr>\n",
       "      <th>LTC</th>\n",
       "      <td>Litecoin</td>\n",
       "      <td>Scrypt</td>\n",
       "      <td>True</td>\n",
       "      <td>PoW</td>\n",
       "      <td>6.303924e+07</td>\n",
       "      <td>84000000</td>\n",
       "    </tr>\n",
       "  </tbody>\n",
       "</table>\n",
       "</div>"
      ],
      "text/plain": [
       "       CoinName Algorithm  IsTrading ProofType  TotalCoinsMined  \\\n",
       "42      42 Coin    Scrypt       True   PoW/PoS     4.199995e+01   \n",
       "365     365Coin       X11       True   PoW/PoS              NaN   \n",
       "404     404Coin    Scrypt       True   PoW/PoS     1.055185e+09   \n",
       "611   SixEleven   SHA-256       True       PoW              NaN   \n",
       "808         808   SHA-256       True   PoW/PoS     0.000000e+00   \n",
       "1337  EliteCoin       X13       True   PoW/PoS     2.927942e+10   \n",
       "2015  2015 coin       X11       True   PoW/PoS              NaN   \n",
       "BTC     Bitcoin   SHA-256       True       PoW     1.792718e+07   \n",
       "ETH    Ethereum    Ethash       True       PoW     1.076842e+08   \n",
       "LTC    Litecoin    Scrypt       True       PoW     6.303924e+07   \n",
       "\n",
       "     TotalCoinSupply  \n",
       "42                42  \n",
       "365       2300000000  \n",
       "404        532000000  \n",
       "611           611000  \n",
       "808                0  \n",
       "1337    314159265359  \n",
       "2015               0  \n",
       "BTC         21000000  \n",
       "ETH                0  \n",
       "LTC         84000000  "
      ]
     },
     "execution_count": 129,
     "metadata": {},
     "output_type": "execute_result"
    }
   ],
   "source": [
    "# Load the crypto_data.csv dataset.\n",
    "# YOUR CODE HERE\n",
    "\n",
    "crypto_df = pd.read_csv(\"crypto_data.csv\", index_col=0)\n",
    "crypto_df.head(10)"
   ]
  },
  {
   "cell_type": "code",
   "execution_count": 130,
   "metadata": {},
   "outputs": [
    {
     "data": {
      "text/html": [
       "<div>\n",
       "<style scoped>\n",
       "    .dataframe tbody tr th:only-of-type {\n",
       "        vertical-align: middle;\n",
       "    }\n",
       "\n",
       "    .dataframe tbody tr th {\n",
       "        vertical-align: top;\n",
       "    }\n",
       "\n",
       "    .dataframe thead th {\n",
       "        text-align: right;\n",
       "    }\n",
       "</style>\n",
       "<table border=\"1\" class=\"dataframe\">\n",
       "  <thead>\n",
       "    <tr style=\"text-align: right;\">\n",
       "      <th></th>\n",
       "      <th>CoinName</th>\n",
       "      <th>Algorithm</th>\n",
       "      <th>IsTrading</th>\n",
       "      <th>ProofType</th>\n",
       "      <th>TotalCoinsMined</th>\n",
       "      <th>TotalCoinSupply</th>\n",
       "    </tr>\n",
       "  </thead>\n",
       "  <tbody>\n",
       "    <tr>\n",
       "      <th>42</th>\n",
       "      <td>42 Coin</td>\n",
       "      <td>Scrypt</td>\n",
       "      <td>True</td>\n",
       "      <td>PoW/PoS</td>\n",
       "      <td>4.199995e+01</td>\n",
       "      <td>42</td>\n",
       "    </tr>\n",
       "    <tr>\n",
       "      <th>365</th>\n",
       "      <td>365Coin</td>\n",
       "      <td>X11</td>\n",
       "      <td>True</td>\n",
       "      <td>PoW/PoS</td>\n",
       "      <td>NaN</td>\n",
       "      <td>2300000000</td>\n",
       "    </tr>\n",
       "    <tr>\n",
       "      <th>404</th>\n",
       "      <td>404Coin</td>\n",
       "      <td>Scrypt</td>\n",
       "      <td>True</td>\n",
       "      <td>PoW/PoS</td>\n",
       "      <td>1.055185e+09</td>\n",
       "      <td>532000000</td>\n",
       "    </tr>\n",
       "    <tr>\n",
       "      <th>611</th>\n",
       "      <td>SixEleven</td>\n",
       "      <td>SHA-256</td>\n",
       "      <td>True</td>\n",
       "      <td>PoW</td>\n",
       "      <td>NaN</td>\n",
       "      <td>611000</td>\n",
       "    </tr>\n",
       "    <tr>\n",
       "      <th>808</th>\n",
       "      <td>808</td>\n",
       "      <td>SHA-256</td>\n",
       "      <td>True</td>\n",
       "      <td>PoW/PoS</td>\n",
       "      <td>0.000000e+00</td>\n",
       "      <td>0</td>\n",
       "    </tr>\n",
       "    <tr>\n",
       "      <th>1337</th>\n",
       "      <td>EliteCoin</td>\n",
       "      <td>X13</td>\n",
       "      <td>True</td>\n",
       "      <td>PoW/PoS</td>\n",
       "      <td>2.927942e+10</td>\n",
       "      <td>314159265359</td>\n",
       "    </tr>\n",
       "    <tr>\n",
       "      <th>2015</th>\n",
       "      <td>2015 coin</td>\n",
       "      <td>X11</td>\n",
       "      <td>True</td>\n",
       "      <td>PoW/PoS</td>\n",
       "      <td>NaN</td>\n",
       "      <td>0</td>\n",
       "    </tr>\n",
       "    <tr>\n",
       "      <th>BTC</th>\n",
       "      <td>Bitcoin</td>\n",
       "      <td>SHA-256</td>\n",
       "      <td>True</td>\n",
       "      <td>PoW</td>\n",
       "      <td>1.792718e+07</td>\n",
       "      <td>21000000</td>\n",
       "    </tr>\n",
       "    <tr>\n",
       "      <th>ETH</th>\n",
       "      <td>Ethereum</td>\n",
       "      <td>Ethash</td>\n",
       "      <td>True</td>\n",
       "      <td>PoW</td>\n",
       "      <td>1.076842e+08</td>\n",
       "      <td>0</td>\n",
       "    </tr>\n",
       "    <tr>\n",
       "      <th>LTC</th>\n",
       "      <td>Litecoin</td>\n",
       "      <td>Scrypt</td>\n",
       "      <td>True</td>\n",
       "      <td>PoW</td>\n",
       "      <td>6.303924e+07</td>\n",
       "      <td>84000000</td>\n",
       "    </tr>\n",
       "  </tbody>\n",
       "</table>\n",
       "</div>"
      ],
      "text/plain": [
       "       CoinName Algorithm  IsTrading ProofType  TotalCoinsMined  \\\n",
       "42      42 Coin    Scrypt       True   PoW/PoS     4.199995e+01   \n",
       "365     365Coin       X11       True   PoW/PoS              NaN   \n",
       "404     404Coin    Scrypt       True   PoW/PoS     1.055185e+09   \n",
       "611   SixEleven   SHA-256       True       PoW              NaN   \n",
       "808         808   SHA-256       True   PoW/PoS     0.000000e+00   \n",
       "1337  EliteCoin       X13       True   PoW/PoS     2.927942e+10   \n",
       "2015  2015 coin       X11       True   PoW/PoS              NaN   \n",
       "BTC     Bitcoin   SHA-256       True       PoW     1.792718e+07   \n",
       "ETH    Ethereum    Ethash       True       PoW     1.076842e+08   \n",
       "LTC    Litecoin    Scrypt       True       PoW     6.303924e+07   \n",
       "\n",
       "     TotalCoinSupply  \n",
       "42                42  \n",
       "365       2300000000  \n",
       "404        532000000  \n",
       "611           611000  \n",
       "808                0  \n",
       "1337    314159265359  \n",
       "2015               0  \n",
       "BTC         21000000  \n",
       "ETH                0  \n",
       "LTC         84000000  "
      ]
     },
     "execution_count": 130,
     "metadata": {},
     "output_type": "execute_result"
    }
   ],
   "source": [
    "# Keep all the cryptocurrencies that are being traded.\n",
    "# YOUR CODE HERE\n",
    "\n",
    "crypto_df=crypto_df[crypto_df[\"IsTrading\"]==True]\n",
    "crypto_df.head(10)"
   ]
  },
  {
   "cell_type": "code",
   "execution_count": 131,
   "metadata": {},
   "outputs": [],
   "source": [
    "# Keep all the cryptocurrencies that have a working algorithm.\n",
    "# YOUR CODE HERE\n"
   ]
  },
  {
   "cell_type": "code",
   "execution_count": 132,
   "metadata": {},
   "outputs": [
    {
     "data": {
      "text/html": [
       "<div>\n",
       "<style scoped>\n",
       "    .dataframe tbody tr th:only-of-type {\n",
       "        vertical-align: middle;\n",
       "    }\n",
       "\n",
       "    .dataframe tbody tr th {\n",
       "        vertical-align: top;\n",
       "    }\n",
       "\n",
       "    .dataframe thead th {\n",
       "        text-align: right;\n",
       "    }\n",
       "</style>\n",
       "<table border=\"1\" class=\"dataframe\">\n",
       "  <thead>\n",
       "    <tr style=\"text-align: right;\">\n",
       "      <th></th>\n",
       "      <th>CoinName</th>\n",
       "      <th>Algorithm</th>\n",
       "      <th>ProofType</th>\n",
       "      <th>TotalCoinsMined</th>\n",
       "      <th>TotalCoinSupply</th>\n",
       "    </tr>\n",
       "  </thead>\n",
       "  <tbody>\n",
       "    <tr>\n",
       "      <th>42</th>\n",
       "      <td>42 Coin</td>\n",
       "      <td>Scrypt</td>\n",
       "      <td>PoW/PoS</td>\n",
       "      <td>4.199995e+01</td>\n",
       "      <td>42</td>\n",
       "    </tr>\n",
       "    <tr>\n",
       "      <th>365</th>\n",
       "      <td>365Coin</td>\n",
       "      <td>X11</td>\n",
       "      <td>PoW/PoS</td>\n",
       "      <td>NaN</td>\n",
       "      <td>2300000000</td>\n",
       "    </tr>\n",
       "    <tr>\n",
       "      <th>404</th>\n",
       "      <td>404Coin</td>\n",
       "      <td>Scrypt</td>\n",
       "      <td>PoW/PoS</td>\n",
       "      <td>1.055185e+09</td>\n",
       "      <td>532000000</td>\n",
       "    </tr>\n",
       "    <tr>\n",
       "      <th>611</th>\n",
       "      <td>SixEleven</td>\n",
       "      <td>SHA-256</td>\n",
       "      <td>PoW</td>\n",
       "      <td>NaN</td>\n",
       "      <td>611000</td>\n",
       "    </tr>\n",
       "    <tr>\n",
       "      <th>808</th>\n",
       "      <td>808</td>\n",
       "      <td>SHA-256</td>\n",
       "      <td>PoW/PoS</td>\n",
       "      <td>0.000000e+00</td>\n",
       "      <td>0</td>\n",
       "    </tr>\n",
       "    <tr>\n",
       "      <th>...</th>\n",
       "      <td>...</td>\n",
       "      <td>...</td>\n",
       "      <td>...</td>\n",
       "      <td>...</td>\n",
       "      <td>...</td>\n",
       "    </tr>\n",
       "    <tr>\n",
       "      <th>SERO</th>\n",
       "      <td>Super Zero</td>\n",
       "      <td>Ethash</td>\n",
       "      <td>PoW</td>\n",
       "      <td>NaN</td>\n",
       "      <td>1000000000</td>\n",
       "    </tr>\n",
       "    <tr>\n",
       "      <th>UOS</th>\n",
       "      <td>UOS</td>\n",
       "      <td>SHA-256</td>\n",
       "      <td>DPoI</td>\n",
       "      <td>NaN</td>\n",
       "      <td>1000000000</td>\n",
       "    </tr>\n",
       "    <tr>\n",
       "      <th>BDX</th>\n",
       "      <td>Beldex</td>\n",
       "      <td>CryptoNight</td>\n",
       "      <td>PoW</td>\n",
       "      <td>9.802226e+08</td>\n",
       "      <td>1400222610</td>\n",
       "    </tr>\n",
       "    <tr>\n",
       "      <th>ZEN</th>\n",
       "      <td>Horizen</td>\n",
       "      <td>Equihash</td>\n",
       "      <td>PoW</td>\n",
       "      <td>7.296538e+06</td>\n",
       "      <td>21000000</td>\n",
       "    </tr>\n",
       "    <tr>\n",
       "      <th>XBC</th>\n",
       "      <td>BitcoinPlus</td>\n",
       "      <td>Scrypt</td>\n",
       "      <td>PoS</td>\n",
       "      <td>1.283270e+05</td>\n",
       "      <td>1000000</td>\n",
       "    </tr>\n",
       "  </tbody>\n",
       "</table>\n",
       "<p>1144 rows × 5 columns</p>\n",
       "</div>"
      ],
      "text/plain": [
       "         CoinName    Algorithm ProofType  TotalCoinsMined TotalCoinSupply\n",
       "42        42 Coin       Scrypt   PoW/PoS     4.199995e+01              42\n",
       "365       365Coin          X11   PoW/PoS              NaN      2300000000\n",
       "404       404Coin       Scrypt   PoW/PoS     1.055185e+09       532000000\n",
       "611     SixEleven      SHA-256       PoW              NaN          611000\n",
       "808           808      SHA-256   PoW/PoS     0.000000e+00               0\n",
       "...           ...          ...       ...              ...             ...\n",
       "SERO   Super Zero       Ethash       PoW              NaN      1000000000\n",
       "UOS           UOS      SHA-256      DPoI              NaN      1000000000\n",
       "BDX        Beldex  CryptoNight       PoW     9.802226e+08      1400222610\n",
       "ZEN       Horizen     Equihash       PoW     7.296538e+06        21000000\n",
       "XBC   BitcoinPlus       Scrypt       PoS     1.283270e+05         1000000\n",
       "\n",
       "[1144 rows x 5 columns]"
      ]
     },
     "execution_count": 132,
     "metadata": {},
     "output_type": "execute_result"
    }
   ],
   "source": [
    "# Remove the \"IsTrading\" column. \n",
    "# YOUR CODE HERE\n",
    "\n",
    "crypto_df=crypto_df.drop([\"IsTrading\"], axis=1)\n",
    "crypto_df"
   ]
  },
  {
   "cell_type": "code",
   "execution_count": 133,
   "metadata": {},
   "outputs": [
    {
     "data": {
      "text/html": [
       "<div>\n",
       "<style scoped>\n",
       "    .dataframe tbody tr th:only-of-type {\n",
       "        vertical-align: middle;\n",
       "    }\n",
       "\n",
       "    .dataframe tbody tr th {\n",
       "        vertical-align: top;\n",
       "    }\n",
       "\n",
       "    .dataframe thead th {\n",
       "        text-align: right;\n",
       "    }\n",
       "</style>\n",
       "<table border=\"1\" class=\"dataframe\">\n",
       "  <thead>\n",
       "    <tr style=\"text-align: right;\">\n",
       "      <th></th>\n",
       "      <th>CoinName</th>\n",
       "      <th>Algorithm</th>\n",
       "      <th>ProofType</th>\n",
       "      <th>TotalCoinsMined</th>\n",
       "      <th>TotalCoinSupply</th>\n",
       "    </tr>\n",
       "  </thead>\n",
       "  <tbody>\n",
       "    <tr>\n",
       "      <th>42</th>\n",
       "      <td>42 Coin</td>\n",
       "      <td>Scrypt</td>\n",
       "      <td>PoW/PoS</td>\n",
       "      <td>4.199995e+01</td>\n",
       "      <td>42</td>\n",
       "    </tr>\n",
       "    <tr>\n",
       "      <th>404</th>\n",
       "      <td>404Coin</td>\n",
       "      <td>Scrypt</td>\n",
       "      <td>PoW/PoS</td>\n",
       "      <td>1.055185e+09</td>\n",
       "      <td>532000000</td>\n",
       "    </tr>\n",
       "    <tr>\n",
       "      <th>808</th>\n",
       "      <td>808</td>\n",
       "      <td>SHA-256</td>\n",
       "      <td>PoW/PoS</td>\n",
       "      <td>0.000000e+00</td>\n",
       "      <td>0</td>\n",
       "    </tr>\n",
       "    <tr>\n",
       "      <th>1337</th>\n",
       "      <td>EliteCoin</td>\n",
       "      <td>X13</td>\n",
       "      <td>PoW/PoS</td>\n",
       "      <td>2.927942e+10</td>\n",
       "      <td>314159265359</td>\n",
       "    </tr>\n",
       "    <tr>\n",
       "      <th>BTC</th>\n",
       "      <td>Bitcoin</td>\n",
       "      <td>SHA-256</td>\n",
       "      <td>PoW</td>\n",
       "      <td>1.792718e+07</td>\n",
       "      <td>21000000</td>\n",
       "    </tr>\n",
       "    <tr>\n",
       "      <th>...</th>\n",
       "      <td>...</td>\n",
       "      <td>...</td>\n",
       "      <td>...</td>\n",
       "      <td>...</td>\n",
       "      <td>...</td>\n",
       "    </tr>\n",
       "    <tr>\n",
       "      <th>ZEPH</th>\n",
       "      <td>ZEPHYR</td>\n",
       "      <td>SHA-256</td>\n",
       "      <td>DPoS</td>\n",
       "      <td>2.000000e+09</td>\n",
       "      <td>2000000000</td>\n",
       "    </tr>\n",
       "    <tr>\n",
       "      <th>GAP</th>\n",
       "      <td>Gapcoin</td>\n",
       "      <td>Scrypt</td>\n",
       "      <td>PoW/PoS</td>\n",
       "      <td>1.493105e+07</td>\n",
       "      <td>250000000</td>\n",
       "    </tr>\n",
       "    <tr>\n",
       "      <th>BDX</th>\n",
       "      <td>Beldex</td>\n",
       "      <td>CryptoNight</td>\n",
       "      <td>PoW</td>\n",
       "      <td>9.802226e+08</td>\n",
       "      <td>1400222610</td>\n",
       "    </tr>\n",
       "    <tr>\n",
       "      <th>ZEN</th>\n",
       "      <td>Horizen</td>\n",
       "      <td>Equihash</td>\n",
       "      <td>PoW</td>\n",
       "      <td>7.296538e+06</td>\n",
       "      <td>21000000</td>\n",
       "    </tr>\n",
       "    <tr>\n",
       "      <th>XBC</th>\n",
       "      <td>BitcoinPlus</td>\n",
       "      <td>Scrypt</td>\n",
       "      <td>PoS</td>\n",
       "      <td>1.283270e+05</td>\n",
       "      <td>1000000</td>\n",
       "    </tr>\n",
       "  </tbody>\n",
       "</table>\n",
       "<p>685 rows × 5 columns</p>\n",
       "</div>"
      ],
      "text/plain": [
       "         CoinName    Algorithm ProofType  TotalCoinsMined TotalCoinSupply\n",
       "42        42 Coin       Scrypt   PoW/PoS     4.199995e+01              42\n",
       "404       404Coin       Scrypt   PoW/PoS     1.055185e+09       532000000\n",
       "808           808      SHA-256   PoW/PoS     0.000000e+00               0\n",
       "1337    EliteCoin          X13   PoW/PoS     2.927942e+10    314159265359\n",
       "BTC       Bitcoin      SHA-256       PoW     1.792718e+07        21000000\n",
       "...           ...          ...       ...              ...             ...\n",
       "ZEPH       ZEPHYR      SHA-256      DPoS     2.000000e+09      2000000000\n",
       "GAP       Gapcoin       Scrypt   PoW/PoS     1.493105e+07       250000000\n",
       "BDX        Beldex  CryptoNight       PoW     9.802226e+08      1400222610\n",
       "ZEN       Horizen     Equihash       PoW     7.296538e+06        21000000\n",
       "XBC   BitcoinPlus       Scrypt       PoS     1.283270e+05         1000000\n",
       "\n",
       "[685 rows x 5 columns]"
      ]
     },
     "execution_count": 133,
     "metadata": {},
     "output_type": "execute_result"
    }
   ],
   "source": [
    "# Remove rows that have at least 1 null value.\n",
    "# YOUR CODE HERE\n",
    "\n",
    "crypto_df=crypto_df.dropna()\n",
    "crypto_df"
   ]
  },
  {
   "cell_type": "code",
   "execution_count": 134,
   "metadata": {},
   "outputs": [
    {
     "data": {
      "text/html": [
       "<div>\n",
       "<style scoped>\n",
       "    .dataframe tbody tr th:only-of-type {\n",
       "        vertical-align: middle;\n",
       "    }\n",
       "\n",
       "    .dataframe tbody tr th {\n",
       "        vertical-align: top;\n",
       "    }\n",
       "\n",
       "    .dataframe thead th {\n",
       "        text-align: right;\n",
       "    }\n",
       "</style>\n",
       "<table border=\"1\" class=\"dataframe\">\n",
       "  <thead>\n",
       "    <tr style=\"text-align: right;\">\n",
       "      <th></th>\n",
       "      <th>CoinName</th>\n",
       "      <th>Algorithm</th>\n",
       "      <th>ProofType</th>\n",
       "      <th>TotalCoinsMined</th>\n",
       "      <th>TotalCoinSupply</th>\n",
       "    </tr>\n",
       "  </thead>\n",
       "  <tbody>\n",
       "    <tr>\n",
       "      <th>42</th>\n",
       "      <td>42 Coin</td>\n",
       "      <td>Scrypt</td>\n",
       "      <td>PoW/PoS</td>\n",
       "      <td>4.199995e+01</td>\n",
       "      <td>42</td>\n",
       "    </tr>\n",
       "    <tr>\n",
       "      <th>404</th>\n",
       "      <td>404Coin</td>\n",
       "      <td>Scrypt</td>\n",
       "      <td>PoW/PoS</td>\n",
       "      <td>1.055185e+09</td>\n",
       "      <td>532000000</td>\n",
       "    </tr>\n",
       "    <tr>\n",
       "      <th>1337</th>\n",
       "      <td>EliteCoin</td>\n",
       "      <td>X13</td>\n",
       "      <td>PoW/PoS</td>\n",
       "      <td>2.927942e+10</td>\n",
       "      <td>314159265359</td>\n",
       "    </tr>\n",
       "    <tr>\n",
       "      <th>BTC</th>\n",
       "      <td>Bitcoin</td>\n",
       "      <td>SHA-256</td>\n",
       "      <td>PoW</td>\n",
       "      <td>1.792718e+07</td>\n",
       "      <td>21000000</td>\n",
       "    </tr>\n",
       "    <tr>\n",
       "      <th>ETH</th>\n",
       "      <td>Ethereum</td>\n",
       "      <td>Ethash</td>\n",
       "      <td>PoW</td>\n",
       "      <td>1.076842e+08</td>\n",
       "      <td>0</td>\n",
       "    </tr>\n",
       "    <tr>\n",
       "      <th>...</th>\n",
       "      <td>...</td>\n",
       "      <td>...</td>\n",
       "      <td>...</td>\n",
       "      <td>...</td>\n",
       "      <td>...</td>\n",
       "    </tr>\n",
       "    <tr>\n",
       "      <th>ZEPH</th>\n",
       "      <td>ZEPHYR</td>\n",
       "      <td>SHA-256</td>\n",
       "      <td>DPoS</td>\n",
       "      <td>2.000000e+09</td>\n",
       "      <td>2000000000</td>\n",
       "    </tr>\n",
       "    <tr>\n",
       "      <th>GAP</th>\n",
       "      <td>Gapcoin</td>\n",
       "      <td>Scrypt</td>\n",
       "      <td>PoW/PoS</td>\n",
       "      <td>1.493105e+07</td>\n",
       "      <td>250000000</td>\n",
       "    </tr>\n",
       "    <tr>\n",
       "      <th>BDX</th>\n",
       "      <td>Beldex</td>\n",
       "      <td>CryptoNight</td>\n",
       "      <td>PoW</td>\n",
       "      <td>9.802226e+08</td>\n",
       "      <td>1400222610</td>\n",
       "    </tr>\n",
       "    <tr>\n",
       "      <th>ZEN</th>\n",
       "      <td>Horizen</td>\n",
       "      <td>Equihash</td>\n",
       "      <td>PoW</td>\n",
       "      <td>7.296538e+06</td>\n",
       "      <td>21000000</td>\n",
       "    </tr>\n",
       "    <tr>\n",
       "      <th>XBC</th>\n",
       "      <td>BitcoinPlus</td>\n",
       "      <td>Scrypt</td>\n",
       "      <td>PoS</td>\n",
       "      <td>1.283270e+05</td>\n",
       "      <td>1000000</td>\n",
       "    </tr>\n",
       "  </tbody>\n",
       "</table>\n",
       "<p>532 rows × 5 columns</p>\n",
       "</div>"
      ],
      "text/plain": [
       "         CoinName    Algorithm ProofType  TotalCoinsMined TotalCoinSupply\n",
       "42        42 Coin       Scrypt   PoW/PoS     4.199995e+01              42\n",
       "404       404Coin       Scrypt   PoW/PoS     1.055185e+09       532000000\n",
       "1337    EliteCoin          X13   PoW/PoS     2.927942e+10    314159265359\n",
       "BTC       Bitcoin      SHA-256       PoW     1.792718e+07        21000000\n",
       "ETH      Ethereum       Ethash       PoW     1.076842e+08               0\n",
       "...           ...          ...       ...              ...             ...\n",
       "ZEPH       ZEPHYR      SHA-256      DPoS     2.000000e+09      2000000000\n",
       "GAP       Gapcoin       Scrypt   PoW/PoS     1.493105e+07       250000000\n",
       "BDX        Beldex  CryptoNight       PoW     9.802226e+08      1400222610\n",
       "ZEN       Horizen     Equihash       PoW     7.296538e+06        21000000\n",
       "XBC   BitcoinPlus       Scrypt       PoS     1.283270e+05         1000000\n",
       "\n",
       "[532 rows x 5 columns]"
      ]
     },
     "execution_count": 134,
     "metadata": {},
     "output_type": "execute_result"
    }
   ],
   "source": [
    "# Keep the rows where coins are mined.\n",
    "# YOUR CODE HERE\n",
    "\n",
    "crypto_df=crypto_df[crypto_df[\"TotalCoinsMined\"]>0]\n",
    "crypto_df"
   ]
  },
  {
   "cell_type": "code",
   "execution_count": 135,
   "metadata": {},
   "outputs": [
    {
     "data": {
      "text/html": [
       "<div>\n",
       "<style scoped>\n",
       "    .dataframe tbody tr th:only-of-type {\n",
       "        vertical-align: middle;\n",
       "    }\n",
       "\n",
       "    .dataframe tbody tr th {\n",
       "        vertical-align: top;\n",
       "    }\n",
       "\n",
       "    .dataframe thead th {\n",
       "        text-align: right;\n",
       "    }\n",
       "</style>\n",
       "<table border=\"1\" class=\"dataframe\">\n",
       "  <thead>\n",
       "    <tr style=\"text-align: right;\">\n",
       "      <th></th>\n",
       "      <th>CoinName</th>\n",
       "    </tr>\n",
       "  </thead>\n",
       "  <tbody>\n",
       "    <tr>\n",
       "      <th>42</th>\n",
       "      <td>42 Coin</td>\n",
       "    </tr>\n",
       "    <tr>\n",
       "      <th>404</th>\n",
       "      <td>404Coin</td>\n",
       "    </tr>\n",
       "    <tr>\n",
       "      <th>1337</th>\n",
       "      <td>EliteCoin</td>\n",
       "    </tr>\n",
       "    <tr>\n",
       "      <th>BTC</th>\n",
       "      <td>Bitcoin</td>\n",
       "    </tr>\n",
       "    <tr>\n",
       "      <th>ETH</th>\n",
       "      <td>Ethereum</td>\n",
       "    </tr>\n",
       "    <tr>\n",
       "      <th>...</th>\n",
       "      <td>...</td>\n",
       "    </tr>\n",
       "    <tr>\n",
       "      <th>ZEPH</th>\n",
       "      <td>ZEPHYR</td>\n",
       "    </tr>\n",
       "    <tr>\n",
       "      <th>GAP</th>\n",
       "      <td>Gapcoin</td>\n",
       "    </tr>\n",
       "    <tr>\n",
       "      <th>BDX</th>\n",
       "      <td>Beldex</td>\n",
       "    </tr>\n",
       "    <tr>\n",
       "      <th>ZEN</th>\n",
       "      <td>Horizen</td>\n",
       "    </tr>\n",
       "    <tr>\n",
       "      <th>XBC</th>\n",
       "      <td>BitcoinPlus</td>\n",
       "    </tr>\n",
       "  </tbody>\n",
       "</table>\n",
       "<p>532 rows × 1 columns</p>\n",
       "</div>"
      ],
      "text/plain": [
       "         CoinName\n",
       "42        42 Coin\n",
       "404       404Coin\n",
       "1337    EliteCoin\n",
       "BTC       Bitcoin\n",
       "ETH      Ethereum\n",
       "...           ...\n",
       "ZEPH       ZEPHYR\n",
       "GAP       Gapcoin\n",
       "BDX        Beldex\n",
       "ZEN       Horizen\n",
       "XBC   BitcoinPlus\n",
       "\n",
       "[532 rows x 1 columns]"
      ]
     },
     "execution_count": 135,
     "metadata": {},
     "output_type": "execute_result"
    }
   ],
   "source": [
    "# Create a new DataFrame that holds only the cryptocurrencies names.\n",
    "# YOUR CODE HERE\n",
    "\n",
    "crypto_names=crypto_df[[\"CoinName\"]]\n",
    "crypto_names"
   ]
  },
  {
   "cell_type": "code",
   "execution_count": 136,
   "metadata": {},
   "outputs": [
    {
     "data": {
      "text/html": [
       "<div>\n",
       "<style scoped>\n",
       "    .dataframe tbody tr th:only-of-type {\n",
       "        vertical-align: middle;\n",
       "    }\n",
       "\n",
       "    .dataframe tbody tr th {\n",
       "        vertical-align: top;\n",
       "    }\n",
       "\n",
       "    .dataframe thead th {\n",
       "        text-align: right;\n",
       "    }\n",
       "</style>\n",
       "<table border=\"1\" class=\"dataframe\">\n",
       "  <thead>\n",
       "    <tr style=\"text-align: right;\">\n",
       "      <th></th>\n",
       "      <th>Algorithm</th>\n",
       "      <th>ProofType</th>\n",
       "      <th>TotalCoinsMined</th>\n",
       "      <th>TotalCoinSupply</th>\n",
       "    </tr>\n",
       "  </thead>\n",
       "  <tbody>\n",
       "    <tr>\n",
       "      <th>42</th>\n",
       "      <td>Scrypt</td>\n",
       "      <td>PoW/PoS</td>\n",
       "      <td>4.199995e+01</td>\n",
       "      <td>42</td>\n",
       "    </tr>\n",
       "    <tr>\n",
       "      <th>404</th>\n",
       "      <td>Scrypt</td>\n",
       "      <td>PoW/PoS</td>\n",
       "      <td>1.055185e+09</td>\n",
       "      <td>532000000</td>\n",
       "    </tr>\n",
       "    <tr>\n",
       "      <th>1337</th>\n",
       "      <td>X13</td>\n",
       "      <td>PoW/PoS</td>\n",
       "      <td>2.927942e+10</td>\n",
       "      <td>314159265359</td>\n",
       "    </tr>\n",
       "    <tr>\n",
       "      <th>BTC</th>\n",
       "      <td>SHA-256</td>\n",
       "      <td>PoW</td>\n",
       "      <td>1.792718e+07</td>\n",
       "      <td>21000000</td>\n",
       "    </tr>\n",
       "    <tr>\n",
       "      <th>ETH</th>\n",
       "      <td>Ethash</td>\n",
       "      <td>PoW</td>\n",
       "      <td>1.076842e+08</td>\n",
       "      <td>0</td>\n",
       "    </tr>\n",
       "    <tr>\n",
       "      <th>...</th>\n",
       "      <td>...</td>\n",
       "      <td>...</td>\n",
       "      <td>...</td>\n",
       "      <td>...</td>\n",
       "    </tr>\n",
       "    <tr>\n",
       "      <th>ZEPH</th>\n",
       "      <td>SHA-256</td>\n",
       "      <td>DPoS</td>\n",
       "      <td>2.000000e+09</td>\n",
       "      <td>2000000000</td>\n",
       "    </tr>\n",
       "    <tr>\n",
       "      <th>GAP</th>\n",
       "      <td>Scrypt</td>\n",
       "      <td>PoW/PoS</td>\n",
       "      <td>1.493105e+07</td>\n",
       "      <td>250000000</td>\n",
       "    </tr>\n",
       "    <tr>\n",
       "      <th>BDX</th>\n",
       "      <td>CryptoNight</td>\n",
       "      <td>PoW</td>\n",
       "      <td>9.802226e+08</td>\n",
       "      <td>1400222610</td>\n",
       "    </tr>\n",
       "    <tr>\n",
       "      <th>ZEN</th>\n",
       "      <td>Equihash</td>\n",
       "      <td>PoW</td>\n",
       "      <td>7.296538e+06</td>\n",
       "      <td>21000000</td>\n",
       "    </tr>\n",
       "    <tr>\n",
       "      <th>XBC</th>\n",
       "      <td>Scrypt</td>\n",
       "      <td>PoS</td>\n",
       "      <td>1.283270e+05</td>\n",
       "      <td>1000000</td>\n",
       "    </tr>\n",
       "  </tbody>\n",
       "</table>\n",
       "<p>532 rows × 4 columns</p>\n",
       "</div>"
      ],
      "text/plain": [
       "        Algorithm ProofType  TotalCoinsMined TotalCoinSupply\n",
       "42         Scrypt   PoW/PoS     4.199995e+01              42\n",
       "404        Scrypt   PoW/PoS     1.055185e+09       532000000\n",
       "1337          X13   PoW/PoS     2.927942e+10    314159265359\n",
       "BTC       SHA-256       PoW     1.792718e+07        21000000\n",
       "ETH        Ethash       PoW     1.076842e+08               0\n",
       "...           ...       ...              ...             ...\n",
       "ZEPH      SHA-256      DPoS     2.000000e+09      2000000000\n",
       "GAP        Scrypt   PoW/PoS     1.493105e+07       250000000\n",
       "BDX   CryptoNight       PoW     9.802226e+08      1400222610\n",
       "ZEN      Equihash       PoW     7.296538e+06        21000000\n",
       "XBC        Scrypt       PoS     1.283270e+05         1000000\n",
       "\n",
       "[532 rows x 4 columns]"
      ]
     },
     "execution_count": 136,
     "metadata": {},
     "output_type": "execute_result"
    }
   ],
   "source": [
    "# Drop the 'CoinName' column since it's not going to be used on the clustering algorithm.\n",
    "# YOUR CODE HERE\n",
    "\n",
    "crypto_df=crypto_df.drop(\"CoinName\", axis=1)\n",
    "\n",
    "crypto_df"
   ]
  },
  {
   "cell_type": "code",
   "execution_count": 137,
   "metadata": {},
   "outputs": [
    {
     "data": {
      "text/html": [
       "<div>\n",
       "<style scoped>\n",
       "    .dataframe tbody tr th:only-of-type {\n",
       "        vertical-align: middle;\n",
       "    }\n",
       "\n",
       "    .dataframe tbody tr th {\n",
       "        vertical-align: top;\n",
       "    }\n",
       "\n",
       "    .dataframe thead th {\n",
       "        text-align: right;\n",
       "    }\n",
       "</style>\n",
       "<table border=\"1\" class=\"dataframe\">\n",
       "  <thead>\n",
       "    <tr style=\"text-align: right;\">\n",
       "      <th></th>\n",
       "      <th>TotalCoinsMined</th>\n",
       "      <th>TotalCoinSupply</th>\n",
       "      <th>Algorithm_1GB AES Pattern Search</th>\n",
       "      <th>Algorithm_536</th>\n",
       "      <th>Algorithm_Argon2d</th>\n",
       "      <th>Algorithm_BLAKE256</th>\n",
       "      <th>Algorithm_Blake</th>\n",
       "      <th>Algorithm_Blake2S</th>\n",
       "      <th>Algorithm_Blake2b</th>\n",
       "      <th>Algorithm_C11</th>\n",
       "      <th>Algorithm_Cloverhash</th>\n",
       "      <th>Algorithm_Counterparty</th>\n",
       "      <th>Algorithm_CryptoNight</th>\n",
       "      <th>Algorithm_CryptoNight Heavy</th>\n",
       "      <th>Algorithm_CryptoNight-V7</th>\n",
       "      <th>Algorithm_Cryptonight-GPU</th>\n",
       "      <th>Algorithm_DPoS</th>\n",
       "      <th>Algorithm_Dagger</th>\n",
       "      <th>Algorithm_Dagger-Hashimoto</th>\n",
       "      <th>Algorithm_ECC 256K1</th>\n",
       "      <th>Algorithm_Equihash</th>\n",
       "      <th>Algorithm_Equihash+Scrypt</th>\n",
       "      <th>Algorithm_Ethash</th>\n",
       "      <th>Algorithm_Exosis</th>\n",
       "      <th>Algorithm_Green Protocol</th>\n",
       "      <th>Algorithm_Groestl</th>\n",
       "      <th>Algorithm_HMQ1725</th>\n",
       "      <th>Algorithm_HybridScryptHash256</th>\n",
       "      <th>Algorithm_IMesh</th>\n",
       "      <th>Algorithm_Jump Consistent Hash</th>\n",
       "      <th>Algorithm_Keccak</th>\n",
       "      <th>Algorithm_Leased POS</th>\n",
       "      <th>Algorithm_Lyra2RE</th>\n",
       "      <th>Algorithm_Lyra2REv2</th>\n",
       "      <th>Algorithm_Lyra2Z</th>\n",
       "      <th>Algorithm_M7 POW</th>\n",
       "      <th>Algorithm_Multiple</th>\n",
       "      <th>Algorithm_NIST5</th>\n",
       "      <th>Algorithm_NeoScrypt</th>\n",
       "      <th>Algorithm_Ouroboros</th>\n",
       "      <th>Algorithm_PHI1612</th>\n",
       "      <th>Algorithm_POS 2.0</th>\n",
       "      <th>Algorithm_POS 3.0</th>\n",
       "      <th>Algorithm_PoS</th>\n",
       "      <th>Algorithm_Proof-of-Authority</th>\n",
       "      <th>Algorithm_Proof-of-BibleHash</th>\n",
       "      <th>Algorithm_QUAIT</th>\n",
       "      <th>Algorithm_QuBit</th>\n",
       "      <th>Algorithm_Quark</th>\n",
       "      <th>Algorithm_SHA-256</th>\n",
       "      <th>Algorithm_SHA-256 + Hive</th>\n",
       "      <th>Algorithm_SHA-256D</th>\n",
       "      <th>Algorithm_SHA-512</th>\n",
       "      <th>Algorithm_SHA3</th>\n",
       "      <th>Algorithm_Scrypt</th>\n",
       "      <th>Algorithm_Semux BFT consensus</th>\n",
       "      <th>Algorithm_Shabal256</th>\n",
       "      <th>Algorithm_Skein</th>\n",
       "      <th>Algorithm_SkunkHash</th>\n",
       "      <th>Algorithm_SkunkHash v2 Raptor</th>\n",
       "      <th>Algorithm_Stanford Folding</th>\n",
       "      <th>Algorithm_TRC10</th>\n",
       "      <th>Algorithm_Time Travel</th>\n",
       "      <th>Algorithm_Tribus</th>\n",
       "      <th>Algorithm_VBFT</th>\n",
       "      <th>Algorithm_VeChainThor Authority</th>\n",
       "      <th>Algorithm_X11</th>\n",
       "      <th>Algorithm_X11GOST</th>\n",
       "      <th>Algorithm_X13</th>\n",
       "      <th>Algorithm_X14</th>\n",
       "      <th>Algorithm_X15</th>\n",
       "      <th>Algorithm_X16R</th>\n",
       "      <th>Algorithm_XEVAN</th>\n",
       "      <th>ProofType_DPOS</th>\n",
       "      <th>ProofType_DPoS</th>\n",
       "      <th>ProofType_HPoW</th>\n",
       "      <th>ProofType_LPoS</th>\n",
       "      <th>ProofType_POBh</th>\n",
       "      <th>ProofType_PoA</th>\n",
       "      <th>ProofType_PoC</th>\n",
       "      <th>ProofType_PoS</th>\n",
       "      <th>ProofType_PoS/LPoS</th>\n",
       "      <th>ProofType_PoS/PoW</th>\n",
       "      <th>ProofType_PoS/PoW/PoT</th>\n",
       "      <th>ProofType_PoST</th>\n",
       "      <th>ProofType_PoW</th>\n",
       "      <th>ProofType_PoW + Hive</th>\n",
       "      <th>ProofType_PoW and PoS</th>\n",
       "      <th>ProofType_PoW/PoS</th>\n",
       "      <th>ProofType_PoW/PoS</th>\n",
       "      <th>ProofType_PoW/PoW</th>\n",
       "      <th>ProofType_PoW/nPoS</th>\n",
       "      <th>ProofType_Pos</th>\n",
       "      <th>ProofType_Proof of Authority</th>\n",
       "      <th>ProofType_Proof of Trust</th>\n",
       "      <th>ProofType_TPoS</th>\n",
       "      <th>ProofType_Zero-Knowledge Proof</th>\n",
       "      <th>ProofType_dPoW/PoW</th>\n",
       "    </tr>\n",
       "  </thead>\n",
       "  <tbody>\n",
       "    <tr>\n",
       "      <th>42</th>\n",
       "      <td>4.199995e+01</td>\n",
       "      <td>42</td>\n",
       "      <td>0</td>\n",
       "      <td>0</td>\n",
       "      <td>0</td>\n",
       "      <td>0</td>\n",
       "      <td>0</td>\n",
       "      <td>0</td>\n",
       "      <td>0</td>\n",
       "      <td>0</td>\n",
       "      <td>0</td>\n",
       "      <td>0</td>\n",
       "      <td>0</td>\n",
       "      <td>0</td>\n",
       "      <td>0</td>\n",
       "      <td>0</td>\n",
       "      <td>0</td>\n",
       "      <td>0</td>\n",
       "      <td>0</td>\n",
       "      <td>0</td>\n",
       "      <td>0</td>\n",
       "      <td>0</td>\n",
       "      <td>0</td>\n",
       "      <td>0</td>\n",
       "      <td>0</td>\n",
       "      <td>0</td>\n",
       "      <td>0</td>\n",
       "      <td>0</td>\n",
       "      <td>0</td>\n",
       "      <td>0</td>\n",
       "      <td>0</td>\n",
       "      <td>0</td>\n",
       "      <td>0</td>\n",
       "      <td>0</td>\n",
       "      <td>0</td>\n",
       "      <td>0</td>\n",
       "      <td>0</td>\n",
       "      <td>0</td>\n",
       "      <td>0</td>\n",
       "      <td>0</td>\n",
       "      <td>0</td>\n",
       "      <td>0</td>\n",
       "      <td>0</td>\n",
       "      <td>0</td>\n",
       "      <td>0</td>\n",
       "      <td>0</td>\n",
       "      <td>0</td>\n",
       "      <td>0</td>\n",
       "      <td>0</td>\n",
       "      <td>0</td>\n",
       "      <td>0</td>\n",
       "      <td>0</td>\n",
       "      <td>0</td>\n",
       "      <td>0</td>\n",
       "      <td>1</td>\n",
       "      <td>0</td>\n",
       "      <td>0</td>\n",
       "      <td>0</td>\n",
       "      <td>0</td>\n",
       "      <td>0</td>\n",
       "      <td>0</td>\n",
       "      <td>0</td>\n",
       "      <td>0</td>\n",
       "      <td>0</td>\n",
       "      <td>0</td>\n",
       "      <td>0</td>\n",
       "      <td>0</td>\n",
       "      <td>0</td>\n",
       "      <td>0</td>\n",
       "      <td>0</td>\n",
       "      <td>0</td>\n",
       "      <td>0</td>\n",
       "      <td>0</td>\n",
       "      <td>0</td>\n",
       "      <td>0</td>\n",
       "      <td>0</td>\n",
       "      <td>0</td>\n",
       "      <td>0</td>\n",
       "      <td>0</td>\n",
       "      <td>0</td>\n",
       "      <td>0</td>\n",
       "      <td>0</td>\n",
       "      <td>0</td>\n",
       "      <td>0</td>\n",
       "      <td>0</td>\n",
       "      <td>0</td>\n",
       "      <td>0</td>\n",
       "      <td>0</td>\n",
       "      <td>1</td>\n",
       "      <td>0</td>\n",
       "      <td>0</td>\n",
       "      <td>0</td>\n",
       "      <td>0</td>\n",
       "      <td>0</td>\n",
       "      <td>0</td>\n",
       "      <td>0</td>\n",
       "      <td>0</td>\n",
       "      <td>0</td>\n",
       "    </tr>\n",
       "    <tr>\n",
       "      <th>404</th>\n",
       "      <td>1.055185e+09</td>\n",
       "      <td>532000000</td>\n",
       "      <td>0</td>\n",
       "      <td>0</td>\n",
       "      <td>0</td>\n",
       "      <td>0</td>\n",
       "      <td>0</td>\n",
       "      <td>0</td>\n",
       "      <td>0</td>\n",
       "      <td>0</td>\n",
       "      <td>0</td>\n",
       "      <td>0</td>\n",
       "      <td>0</td>\n",
       "      <td>0</td>\n",
       "      <td>0</td>\n",
       "      <td>0</td>\n",
       "      <td>0</td>\n",
       "      <td>0</td>\n",
       "      <td>0</td>\n",
       "      <td>0</td>\n",
       "      <td>0</td>\n",
       "      <td>0</td>\n",
       "      <td>0</td>\n",
       "      <td>0</td>\n",
       "      <td>0</td>\n",
       "      <td>0</td>\n",
       "      <td>0</td>\n",
       "      <td>0</td>\n",
       "      <td>0</td>\n",
       "      <td>0</td>\n",
       "      <td>0</td>\n",
       "      <td>0</td>\n",
       "      <td>0</td>\n",
       "      <td>0</td>\n",
       "      <td>0</td>\n",
       "      <td>0</td>\n",
       "      <td>0</td>\n",
       "      <td>0</td>\n",
       "      <td>0</td>\n",
       "      <td>0</td>\n",
       "      <td>0</td>\n",
       "      <td>0</td>\n",
       "      <td>0</td>\n",
       "      <td>0</td>\n",
       "      <td>0</td>\n",
       "      <td>0</td>\n",
       "      <td>0</td>\n",
       "      <td>0</td>\n",
       "      <td>0</td>\n",
       "      <td>0</td>\n",
       "      <td>0</td>\n",
       "      <td>0</td>\n",
       "      <td>0</td>\n",
       "      <td>0</td>\n",
       "      <td>1</td>\n",
       "      <td>0</td>\n",
       "      <td>0</td>\n",
       "      <td>0</td>\n",
       "      <td>0</td>\n",
       "      <td>0</td>\n",
       "      <td>0</td>\n",
       "      <td>0</td>\n",
       "      <td>0</td>\n",
       "      <td>0</td>\n",
       "      <td>0</td>\n",
       "      <td>0</td>\n",
       "      <td>0</td>\n",
       "      <td>0</td>\n",
       "      <td>0</td>\n",
       "      <td>0</td>\n",
       "      <td>0</td>\n",
       "      <td>0</td>\n",
       "      <td>0</td>\n",
       "      <td>0</td>\n",
       "      <td>0</td>\n",
       "      <td>0</td>\n",
       "      <td>0</td>\n",
       "      <td>0</td>\n",
       "      <td>0</td>\n",
       "      <td>0</td>\n",
       "      <td>0</td>\n",
       "      <td>0</td>\n",
       "      <td>0</td>\n",
       "      <td>0</td>\n",
       "      <td>0</td>\n",
       "      <td>0</td>\n",
       "      <td>0</td>\n",
       "      <td>0</td>\n",
       "      <td>1</td>\n",
       "      <td>0</td>\n",
       "      <td>0</td>\n",
       "      <td>0</td>\n",
       "      <td>0</td>\n",
       "      <td>0</td>\n",
       "      <td>0</td>\n",
       "      <td>0</td>\n",
       "      <td>0</td>\n",
       "      <td>0</td>\n",
       "    </tr>\n",
       "    <tr>\n",
       "      <th>1337</th>\n",
       "      <td>2.927942e+10</td>\n",
       "      <td>314159265359</td>\n",
       "      <td>0</td>\n",
       "      <td>0</td>\n",
       "      <td>0</td>\n",
       "      <td>0</td>\n",
       "      <td>0</td>\n",
       "      <td>0</td>\n",
       "      <td>0</td>\n",
       "      <td>0</td>\n",
       "      <td>0</td>\n",
       "      <td>0</td>\n",
       "      <td>0</td>\n",
       "      <td>0</td>\n",
       "      <td>0</td>\n",
       "      <td>0</td>\n",
       "      <td>0</td>\n",
       "      <td>0</td>\n",
       "      <td>0</td>\n",
       "      <td>0</td>\n",
       "      <td>0</td>\n",
       "      <td>0</td>\n",
       "      <td>0</td>\n",
       "      <td>0</td>\n",
       "      <td>0</td>\n",
       "      <td>0</td>\n",
       "      <td>0</td>\n",
       "      <td>0</td>\n",
       "      <td>0</td>\n",
       "      <td>0</td>\n",
       "      <td>0</td>\n",
       "      <td>0</td>\n",
       "      <td>0</td>\n",
       "      <td>0</td>\n",
       "      <td>0</td>\n",
       "      <td>0</td>\n",
       "      <td>0</td>\n",
       "      <td>0</td>\n",
       "      <td>0</td>\n",
       "      <td>0</td>\n",
       "      <td>0</td>\n",
       "      <td>0</td>\n",
       "      <td>0</td>\n",
       "      <td>0</td>\n",
       "      <td>0</td>\n",
       "      <td>0</td>\n",
       "      <td>0</td>\n",
       "      <td>0</td>\n",
       "      <td>0</td>\n",
       "      <td>0</td>\n",
       "      <td>0</td>\n",
       "      <td>0</td>\n",
       "      <td>0</td>\n",
       "      <td>0</td>\n",
       "      <td>0</td>\n",
       "      <td>0</td>\n",
       "      <td>0</td>\n",
       "      <td>0</td>\n",
       "      <td>0</td>\n",
       "      <td>0</td>\n",
       "      <td>0</td>\n",
       "      <td>0</td>\n",
       "      <td>0</td>\n",
       "      <td>0</td>\n",
       "      <td>0</td>\n",
       "      <td>0</td>\n",
       "      <td>0</td>\n",
       "      <td>0</td>\n",
       "      <td>1</td>\n",
       "      <td>0</td>\n",
       "      <td>0</td>\n",
       "      <td>0</td>\n",
       "      <td>0</td>\n",
       "      <td>0</td>\n",
       "      <td>0</td>\n",
       "      <td>0</td>\n",
       "      <td>0</td>\n",
       "      <td>0</td>\n",
       "      <td>0</td>\n",
       "      <td>0</td>\n",
       "      <td>0</td>\n",
       "      <td>0</td>\n",
       "      <td>0</td>\n",
       "      <td>0</td>\n",
       "      <td>0</td>\n",
       "      <td>0</td>\n",
       "      <td>0</td>\n",
       "      <td>0</td>\n",
       "      <td>1</td>\n",
       "      <td>0</td>\n",
       "      <td>0</td>\n",
       "      <td>0</td>\n",
       "      <td>0</td>\n",
       "      <td>0</td>\n",
       "      <td>0</td>\n",
       "      <td>0</td>\n",
       "      <td>0</td>\n",
       "      <td>0</td>\n",
       "    </tr>\n",
       "    <tr>\n",
       "      <th>BTC</th>\n",
       "      <td>1.792718e+07</td>\n",
       "      <td>21000000</td>\n",
       "      <td>0</td>\n",
       "      <td>0</td>\n",
       "      <td>0</td>\n",
       "      <td>0</td>\n",
       "      <td>0</td>\n",
       "      <td>0</td>\n",
       "      <td>0</td>\n",
       "      <td>0</td>\n",
       "      <td>0</td>\n",
       "      <td>0</td>\n",
       "      <td>0</td>\n",
       "      <td>0</td>\n",
       "      <td>0</td>\n",
       "      <td>0</td>\n",
       "      <td>0</td>\n",
       "      <td>0</td>\n",
       "      <td>0</td>\n",
       "      <td>0</td>\n",
       "      <td>0</td>\n",
       "      <td>0</td>\n",
       "      <td>0</td>\n",
       "      <td>0</td>\n",
       "      <td>0</td>\n",
       "      <td>0</td>\n",
       "      <td>0</td>\n",
       "      <td>0</td>\n",
       "      <td>0</td>\n",
       "      <td>0</td>\n",
       "      <td>0</td>\n",
       "      <td>0</td>\n",
       "      <td>0</td>\n",
       "      <td>0</td>\n",
       "      <td>0</td>\n",
       "      <td>0</td>\n",
       "      <td>0</td>\n",
       "      <td>0</td>\n",
       "      <td>0</td>\n",
       "      <td>0</td>\n",
       "      <td>0</td>\n",
       "      <td>0</td>\n",
       "      <td>0</td>\n",
       "      <td>0</td>\n",
       "      <td>0</td>\n",
       "      <td>0</td>\n",
       "      <td>0</td>\n",
       "      <td>0</td>\n",
       "      <td>0</td>\n",
       "      <td>1</td>\n",
       "      <td>0</td>\n",
       "      <td>0</td>\n",
       "      <td>0</td>\n",
       "      <td>0</td>\n",
       "      <td>0</td>\n",
       "      <td>0</td>\n",
       "      <td>0</td>\n",
       "      <td>0</td>\n",
       "      <td>0</td>\n",
       "      <td>0</td>\n",
       "      <td>0</td>\n",
       "      <td>0</td>\n",
       "      <td>0</td>\n",
       "      <td>0</td>\n",
       "      <td>0</td>\n",
       "      <td>0</td>\n",
       "      <td>0</td>\n",
       "      <td>0</td>\n",
       "      <td>0</td>\n",
       "      <td>0</td>\n",
       "      <td>0</td>\n",
       "      <td>0</td>\n",
       "      <td>0</td>\n",
       "      <td>0</td>\n",
       "      <td>0</td>\n",
       "      <td>0</td>\n",
       "      <td>0</td>\n",
       "      <td>0</td>\n",
       "      <td>0</td>\n",
       "      <td>0</td>\n",
       "      <td>0</td>\n",
       "      <td>0</td>\n",
       "      <td>0</td>\n",
       "      <td>0</td>\n",
       "      <td>0</td>\n",
       "      <td>1</td>\n",
       "      <td>0</td>\n",
       "      <td>0</td>\n",
       "      <td>0</td>\n",
       "      <td>0</td>\n",
       "      <td>0</td>\n",
       "      <td>0</td>\n",
       "      <td>0</td>\n",
       "      <td>0</td>\n",
       "      <td>0</td>\n",
       "      <td>0</td>\n",
       "      <td>0</td>\n",
       "      <td>0</td>\n",
       "    </tr>\n",
       "    <tr>\n",
       "      <th>ETH</th>\n",
       "      <td>1.076842e+08</td>\n",
       "      <td>0</td>\n",
       "      <td>0</td>\n",
       "      <td>0</td>\n",
       "      <td>0</td>\n",
       "      <td>0</td>\n",
       "      <td>0</td>\n",
       "      <td>0</td>\n",
       "      <td>0</td>\n",
       "      <td>0</td>\n",
       "      <td>0</td>\n",
       "      <td>0</td>\n",
       "      <td>0</td>\n",
       "      <td>0</td>\n",
       "      <td>0</td>\n",
       "      <td>0</td>\n",
       "      <td>0</td>\n",
       "      <td>0</td>\n",
       "      <td>0</td>\n",
       "      <td>0</td>\n",
       "      <td>0</td>\n",
       "      <td>0</td>\n",
       "      <td>1</td>\n",
       "      <td>0</td>\n",
       "      <td>0</td>\n",
       "      <td>0</td>\n",
       "      <td>0</td>\n",
       "      <td>0</td>\n",
       "      <td>0</td>\n",
       "      <td>0</td>\n",
       "      <td>0</td>\n",
       "      <td>0</td>\n",
       "      <td>0</td>\n",
       "      <td>0</td>\n",
       "      <td>0</td>\n",
       "      <td>0</td>\n",
       "      <td>0</td>\n",
       "      <td>0</td>\n",
       "      <td>0</td>\n",
       "      <td>0</td>\n",
       "      <td>0</td>\n",
       "      <td>0</td>\n",
       "      <td>0</td>\n",
       "      <td>0</td>\n",
       "      <td>0</td>\n",
       "      <td>0</td>\n",
       "      <td>0</td>\n",
       "      <td>0</td>\n",
       "      <td>0</td>\n",
       "      <td>0</td>\n",
       "      <td>0</td>\n",
       "      <td>0</td>\n",
       "      <td>0</td>\n",
       "      <td>0</td>\n",
       "      <td>0</td>\n",
       "      <td>0</td>\n",
       "      <td>0</td>\n",
       "      <td>0</td>\n",
       "      <td>0</td>\n",
       "      <td>0</td>\n",
       "      <td>0</td>\n",
       "      <td>0</td>\n",
       "      <td>0</td>\n",
       "      <td>0</td>\n",
       "      <td>0</td>\n",
       "      <td>0</td>\n",
       "      <td>0</td>\n",
       "      <td>0</td>\n",
       "      <td>0</td>\n",
       "      <td>0</td>\n",
       "      <td>0</td>\n",
       "      <td>0</td>\n",
       "      <td>0</td>\n",
       "      <td>0</td>\n",
       "      <td>0</td>\n",
       "      <td>0</td>\n",
       "      <td>0</td>\n",
       "      <td>0</td>\n",
       "      <td>0</td>\n",
       "      <td>0</td>\n",
       "      <td>0</td>\n",
       "      <td>0</td>\n",
       "      <td>0</td>\n",
       "      <td>0</td>\n",
       "      <td>0</td>\n",
       "      <td>1</td>\n",
       "      <td>0</td>\n",
       "      <td>0</td>\n",
       "      <td>0</td>\n",
       "      <td>0</td>\n",
       "      <td>0</td>\n",
       "      <td>0</td>\n",
       "      <td>0</td>\n",
       "      <td>0</td>\n",
       "      <td>0</td>\n",
       "      <td>0</td>\n",
       "      <td>0</td>\n",
       "      <td>0</td>\n",
       "    </tr>\n",
       "    <tr>\n",
       "      <th>...</th>\n",
       "      <td>...</td>\n",
       "      <td>...</td>\n",
       "      <td>...</td>\n",
       "      <td>...</td>\n",
       "      <td>...</td>\n",
       "      <td>...</td>\n",
       "      <td>...</td>\n",
       "      <td>...</td>\n",
       "      <td>...</td>\n",
       "      <td>...</td>\n",
       "      <td>...</td>\n",
       "      <td>...</td>\n",
       "      <td>...</td>\n",
       "      <td>...</td>\n",
       "      <td>...</td>\n",
       "      <td>...</td>\n",
       "      <td>...</td>\n",
       "      <td>...</td>\n",
       "      <td>...</td>\n",
       "      <td>...</td>\n",
       "      <td>...</td>\n",
       "      <td>...</td>\n",
       "      <td>...</td>\n",
       "      <td>...</td>\n",
       "      <td>...</td>\n",
       "      <td>...</td>\n",
       "      <td>...</td>\n",
       "      <td>...</td>\n",
       "      <td>...</td>\n",
       "      <td>...</td>\n",
       "      <td>...</td>\n",
       "      <td>...</td>\n",
       "      <td>...</td>\n",
       "      <td>...</td>\n",
       "      <td>...</td>\n",
       "      <td>...</td>\n",
       "      <td>...</td>\n",
       "      <td>...</td>\n",
       "      <td>...</td>\n",
       "      <td>...</td>\n",
       "      <td>...</td>\n",
       "      <td>...</td>\n",
       "      <td>...</td>\n",
       "      <td>...</td>\n",
       "      <td>...</td>\n",
       "      <td>...</td>\n",
       "      <td>...</td>\n",
       "      <td>...</td>\n",
       "      <td>...</td>\n",
       "      <td>...</td>\n",
       "      <td>...</td>\n",
       "      <td>...</td>\n",
       "      <td>...</td>\n",
       "      <td>...</td>\n",
       "      <td>...</td>\n",
       "      <td>...</td>\n",
       "      <td>...</td>\n",
       "      <td>...</td>\n",
       "      <td>...</td>\n",
       "      <td>...</td>\n",
       "      <td>...</td>\n",
       "      <td>...</td>\n",
       "      <td>...</td>\n",
       "      <td>...</td>\n",
       "      <td>...</td>\n",
       "      <td>...</td>\n",
       "      <td>...</td>\n",
       "      <td>...</td>\n",
       "      <td>...</td>\n",
       "      <td>...</td>\n",
       "      <td>...</td>\n",
       "      <td>...</td>\n",
       "      <td>...</td>\n",
       "      <td>...</td>\n",
       "      <td>...</td>\n",
       "      <td>...</td>\n",
       "      <td>...</td>\n",
       "      <td>...</td>\n",
       "      <td>...</td>\n",
       "      <td>...</td>\n",
       "      <td>...</td>\n",
       "      <td>...</td>\n",
       "      <td>...</td>\n",
       "      <td>...</td>\n",
       "      <td>...</td>\n",
       "      <td>...</td>\n",
       "      <td>...</td>\n",
       "      <td>...</td>\n",
       "      <td>...</td>\n",
       "      <td>...</td>\n",
       "      <td>...</td>\n",
       "      <td>...</td>\n",
       "      <td>...</td>\n",
       "      <td>...</td>\n",
       "      <td>...</td>\n",
       "      <td>...</td>\n",
       "      <td>...</td>\n",
       "      <td>...</td>\n",
       "    </tr>\n",
       "    <tr>\n",
       "      <th>ZEPH</th>\n",
       "      <td>2.000000e+09</td>\n",
       "      <td>2000000000</td>\n",
       "      <td>0</td>\n",
       "      <td>0</td>\n",
       "      <td>0</td>\n",
       "      <td>0</td>\n",
       "      <td>0</td>\n",
       "      <td>0</td>\n",
       "      <td>0</td>\n",
       "      <td>0</td>\n",
       "      <td>0</td>\n",
       "      <td>0</td>\n",
       "      <td>0</td>\n",
       "      <td>0</td>\n",
       "      <td>0</td>\n",
       "      <td>0</td>\n",
       "      <td>0</td>\n",
       "      <td>0</td>\n",
       "      <td>0</td>\n",
       "      <td>0</td>\n",
       "      <td>0</td>\n",
       "      <td>0</td>\n",
       "      <td>0</td>\n",
       "      <td>0</td>\n",
       "      <td>0</td>\n",
       "      <td>0</td>\n",
       "      <td>0</td>\n",
       "      <td>0</td>\n",
       "      <td>0</td>\n",
       "      <td>0</td>\n",
       "      <td>0</td>\n",
       "      <td>0</td>\n",
       "      <td>0</td>\n",
       "      <td>0</td>\n",
       "      <td>0</td>\n",
       "      <td>0</td>\n",
       "      <td>0</td>\n",
       "      <td>0</td>\n",
       "      <td>0</td>\n",
       "      <td>0</td>\n",
       "      <td>0</td>\n",
       "      <td>0</td>\n",
       "      <td>0</td>\n",
       "      <td>0</td>\n",
       "      <td>0</td>\n",
       "      <td>0</td>\n",
       "      <td>0</td>\n",
       "      <td>0</td>\n",
       "      <td>0</td>\n",
       "      <td>1</td>\n",
       "      <td>0</td>\n",
       "      <td>0</td>\n",
       "      <td>0</td>\n",
       "      <td>0</td>\n",
       "      <td>0</td>\n",
       "      <td>0</td>\n",
       "      <td>0</td>\n",
       "      <td>0</td>\n",
       "      <td>0</td>\n",
       "      <td>0</td>\n",
       "      <td>0</td>\n",
       "      <td>0</td>\n",
       "      <td>0</td>\n",
       "      <td>0</td>\n",
       "      <td>0</td>\n",
       "      <td>0</td>\n",
       "      <td>0</td>\n",
       "      <td>0</td>\n",
       "      <td>0</td>\n",
       "      <td>0</td>\n",
       "      <td>0</td>\n",
       "      <td>0</td>\n",
       "      <td>0</td>\n",
       "      <td>0</td>\n",
       "      <td>1</td>\n",
       "      <td>0</td>\n",
       "      <td>0</td>\n",
       "      <td>0</td>\n",
       "      <td>0</td>\n",
       "      <td>0</td>\n",
       "      <td>0</td>\n",
       "      <td>0</td>\n",
       "      <td>0</td>\n",
       "      <td>0</td>\n",
       "      <td>0</td>\n",
       "      <td>0</td>\n",
       "      <td>0</td>\n",
       "      <td>0</td>\n",
       "      <td>0</td>\n",
       "      <td>0</td>\n",
       "      <td>0</td>\n",
       "      <td>0</td>\n",
       "      <td>0</td>\n",
       "      <td>0</td>\n",
       "      <td>0</td>\n",
       "      <td>0</td>\n",
       "      <td>0</td>\n",
       "      <td>0</td>\n",
       "    </tr>\n",
       "    <tr>\n",
       "      <th>GAP</th>\n",
       "      <td>1.493105e+07</td>\n",
       "      <td>250000000</td>\n",
       "      <td>0</td>\n",
       "      <td>0</td>\n",
       "      <td>0</td>\n",
       "      <td>0</td>\n",
       "      <td>0</td>\n",
       "      <td>0</td>\n",
       "      <td>0</td>\n",
       "      <td>0</td>\n",
       "      <td>0</td>\n",
       "      <td>0</td>\n",
       "      <td>0</td>\n",
       "      <td>0</td>\n",
       "      <td>0</td>\n",
       "      <td>0</td>\n",
       "      <td>0</td>\n",
       "      <td>0</td>\n",
       "      <td>0</td>\n",
       "      <td>0</td>\n",
       "      <td>0</td>\n",
       "      <td>0</td>\n",
       "      <td>0</td>\n",
       "      <td>0</td>\n",
       "      <td>0</td>\n",
       "      <td>0</td>\n",
       "      <td>0</td>\n",
       "      <td>0</td>\n",
       "      <td>0</td>\n",
       "      <td>0</td>\n",
       "      <td>0</td>\n",
       "      <td>0</td>\n",
       "      <td>0</td>\n",
       "      <td>0</td>\n",
       "      <td>0</td>\n",
       "      <td>0</td>\n",
       "      <td>0</td>\n",
       "      <td>0</td>\n",
       "      <td>0</td>\n",
       "      <td>0</td>\n",
       "      <td>0</td>\n",
       "      <td>0</td>\n",
       "      <td>0</td>\n",
       "      <td>0</td>\n",
       "      <td>0</td>\n",
       "      <td>0</td>\n",
       "      <td>0</td>\n",
       "      <td>0</td>\n",
       "      <td>0</td>\n",
       "      <td>0</td>\n",
       "      <td>0</td>\n",
       "      <td>0</td>\n",
       "      <td>0</td>\n",
       "      <td>0</td>\n",
       "      <td>1</td>\n",
       "      <td>0</td>\n",
       "      <td>0</td>\n",
       "      <td>0</td>\n",
       "      <td>0</td>\n",
       "      <td>0</td>\n",
       "      <td>0</td>\n",
       "      <td>0</td>\n",
       "      <td>0</td>\n",
       "      <td>0</td>\n",
       "      <td>0</td>\n",
       "      <td>0</td>\n",
       "      <td>0</td>\n",
       "      <td>0</td>\n",
       "      <td>0</td>\n",
       "      <td>0</td>\n",
       "      <td>0</td>\n",
       "      <td>0</td>\n",
       "      <td>0</td>\n",
       "      <td>0</td>\n",
       "      <td>0</td>\n",
       "      <td>0</td>\n",
       "      <td>0</td>\n",
       "      <td>0</td>\n",
       "      <td>0</td>\n",
       "      <td>0</td>\n",
       "      <td>0</td>\n",
       "      <td>0</td>\n",
       "      <td>0</td>\n",
       "      <td>0</td>\n",
       "      <td>0</td>\n",
       "      <td>0</td>\n",
       "      <td>0</td>\n",
       "      <td>0</td>\n",
       "      <td>1</td>\n",
       "      <td>0</td>\n",
       "      <td>0</td>\n",
       "      <td>0</td>\n",
       "      <td>0</td>\n",
       "      <td>0</td>\n",
       "      <td>0</td>\n",
       "      <td>0</td>\n",
       "      <td>0</td>\n",
       "      <td>0</td>\n",
       "    </tr>\n",
       "    <tr>\n",
       "      <th>BDX</th>\n",
       "      <td>9.802226e+08</td>\n",
       "      <td>1400222610</td>\n",
       "      <td>0</td>\n",
       "      <td>0</td>\n",
       "      <td>0</td>\n",
       "      <td>0</td>\n",
       "      <td>0</td>\n",
       "      <td>0</td>\n",
       "      <td>0</td>\n",
       "      <td>0</td>\n",
       "      <td>0</td>\n",
       "      <td>0</td>\n",
       "      <td>1</td>\n",
       "      <td>0</td>\n",
       "      <td>0</td>\n",
       "      <td>0</td>\n",
       "      <td>0</td>\n",
       "      <td>0</td>\n",
       "      <td>0</td>\n",
       "      <td>0</td>\n",
       "      <td>0</td>\n",
       "      <td>0</td>\n",
       "      <td>0</td>\n",
       "      <td>0</td>\n",
       "      <td>0</td>\n",
       "      <td>0</td>\n",
       "      <td>0</td>\n",
       "      <td>0</td>\n",
       "      <td>0</td>\n",
       "      <td>0</td>\n",
       "      <td>0</td>\n",
       "      <td>0</td>\n",
       "      <td>0</td>\n",
       "      <td>0</td>\n",
       "      <td>0</td>\n",
       "      <td>0</td>\n",
       "      <td>0</td>\n",
       "      <td>0</td>\n",
       "      <td>0</td>\n",
       "      <td>0</td>\n",
       "      <td>0</td>\n",
       "      <td>0</td>\n",
       "      <td>0</td>\n",
       "      <td>0</td>\n",
       "      <td>0</td>\n",
       "      <td>0</td>\n",
       "      <td>0</td>\n",
       "      <td>0</td>\n",
       "      <td>0</td>\n",
       "      <td>0</td>\n",
       "      <td>0</td>\n",
       "      <td>0</td>\n",
       "      <td>0</td>\n",
       "      <td>0</td>\n",
       "      <td>0</td>\n",
       "      <td>0</td>\n",
       "      <td>0</td>\n",
       "      <td>0</td>\n",
       "      <td>0</td>\n",
       "      <td>0</td>\n",
       "      <td>0</td>\n",
       "      <td>0</td>\n",
       "      <td>0</td>\n",
       "      <td>0</td>\n",
       "      <td>0</td>\n",
       "      <td>0</td>\n",
       "      <td>0</td>\n",
       "      <td>0</td>\n",
       "      <td>0</td>\n",
       "      <td>0</td>\n",
       "      <td>0</td>\n",
       "      <td>0</td>\n",
       "      <td>0</td>\n",
       "      <td>0</td>\n",
       "      <td>0</td>\n",
       "      <td>0</td>\n",
       "      <td>0</td>\n",
       "      <td>0</td>\n",
       "      <td>0</td>\n",
       "      <td>0</td>\n",
       "      <td>0</td>\n",
       "      <td>0</td>\n",
       "      <td>0</td>\n",
       "      <td>0</td>\n",
       "      <td>0</td>\n",
       "      <td>1</td>\n",
       "      <td>0</td>\n",
       "      <td>0</td>\n",
       "      <td>0</td>\n",
       "      <td>0</td>\n",
       "      <td>0</td>\n",
       "      <td>0</td>\n",
       "      <td>0</td>\n",
       "      <td>0</td>\n",
       "      <td>0</td>\n",
       "      <td>0</td>\n",
       "      <td>0</td>\n",
       "      <td>0</td>\n",
       "    </tr>\n",
       "    <tr>\n",
       "      <th>ZEN</th>\n",
       "      <td>7.296538e+06</td>\n",
       "      <td>21000000</td>\n",
       "      <td>0</td>\n",
       "      <td>0</td>\n",
       "      <td>0</td>\n",
       "      <td>0</td>\n",
       "      <td>0</td>\n",
       "      <td>0</td>\n",
       "      <td>0</td>\n",
       "      <td>0</td>\n",
       "      <td>0</td>\n",
       "      <td>0</td>\n",
       "      <td>0</td>\n",
       "      <td>0</td>\n",
       "      <td>0</td>\n",
       "      <td>0</td>\n",
       "      <td>0</td>\n",
       "      <td>0</td>\n",
       "      <td>0</td>\n",
       "      <td>0</td>\n",
       "      <td>1</td>\n",
       "      <td>0</td>\n",
       "      <td>0</td>\n",
       "      <td>0</td>\n",
       "      <td>0</td>\n",
       "      <td>0</td>\n",
       "      <td>0</td>\n",
       "      <td>0</td>\n",
       "      <td>0</td>\n",
       "      <td>0</td>\n",
       "      <td>0</td>\n",
       "      <td>0</td>\n",
       "      <td>0</td>\n",
       "      <td>0</td>\n",
       "      <td>0</td>\n",
       "      <td>0</td>\n",
       "      <td>0</td>\n",
       "      <td>0</td>\n",
       "      <td>0</td>\n",
       "      <td>0</td>\n",
       "      <td>0</td>\n",
       "      <td>0</td>\n",
       "      <td>0</td>\n",
       "      <td>0</td>\n",
       "      <td>0</td>\n",
       "      <td>0</td>\n",
       "      <td>0</td>\n",
       "      <td>0</td>\n",
       "      <td>0</td>\n",
       "      <td>0</td>\n",
       "      <td>0</td>\n",
       "      <td>0</td>\n",
       "      <td>0</td>\n",
       "      <td>0</td>\n",
       "      <td>0</td>\n",
       "      <td>0</td>\n",
       "      <td>0</td>\n",
       "      <td>0</td>\n",
       "      <td>0</td>\n",
       "      <td>0</td>\n",
       "      <td>0</td>\n",
       "      <td>0</td>\n",
       "      <td>0</td>\n",
       "      <td>0</td>\n",
       "      <td>0</td>\n",
       "      <td>0</td>\n",
       "      <td>0</td>\n",
       "      <td>0</td>\n",
       "      <td>0</td>\n",
       "      <td>0</td>\n",
       "      <td>0</td>\n",
       "      <td>0</td>\n",
       "      <td>0</td>\n",
       "      <td>0</td>\n",
       "      <td>0</td>\n",
       "      <td>0</td>\n",
       "      <td>0</td>\n",
       "      <td>0</td>\n",
       "      <td>0</td>\n",
       "      <td>0</td>\n",
       "      <td>0</td>\n",
       "      <td>0</td>\n",
       "      <td>0</td>\n",
       "      <td>0</td>\n",
       "      <td>0</td>\n",
       "      <td>1</td>\n",
       "      <td>0</td>\n",
       "      <td>0</td>\n",
       "      <td>0</td>\n",
       "      <td>0</td>\n",
       "      <td>0</td>\n",
       "      <td>0</td>\n",
       "      <td>0</td>\n",
       "      <td>0</td>\n",
       "      <td>0</td>\n",
       "      <td>0</td>\n",
       "      <td>0</td>\n",
       "      <td>0</td>\n",
       "    </tr>\n",
       "    <tr>\n",
       "      <th>XBC</th>\n",
       "      <td>1.283270e+05</td>\n",
       "      <td>1000000</td>\n",
       "      <td>0</td>\n",
       "      <td>0</td>\n",
       "      <td>0</td>\n",
       "      <td>0</td>\n",
       "      <td>0</td>\n",
       "      <td>0</td>\n",
       "      <td>0</td>\n",
       "      <td>0</td>\n",
       "      <td>0</td>\n",
       "      <td>0</td>\n",
       "      <td>0</td>\n",
       "      <td>0</td>\n",
       "      <td>0</td>\n",
       "      <td>0</td>\n",
       "      <td>0</td>\n",
       "      <td>0</td>\n",
       "      <td>0</td>\n",
       "      <td>0</td>\n",
       "      <td>0</td>\n",
       "      <td>0</td>\n",
       "      <td>0</td>\n",
       "      <td>0</td>\n",
       "      <td>0</td>\n",
       "      <td>0</td>\n",
       "      <td>0</td>\n",
       "      <td>0</td>\n",
       "      <td>0</td>\n",
       "      <td>0</td>\n",
       "      <td>0</td>\n",
       "      <td>0</td>\n",
       "      <td>0</td>\n",
       "      <td>0</td>\n",
       "      <td>0</td>\n",
       "      <td>0</td>\n",
       "      <td>0</td>\n",
       "      <td>0</td>\n",
       "      <td>0</td>\n",
       "      <td>0</td>\n",
       "      <td>0</td>\n",
       "      <td>0</td>\n",
       "      <td>0</td>\n",
       "      <td>0</td>\n",
       "      <td>0</td>\n",
       "      <td>0</td>\n",
       "      <td>0</td>\n",
       "      <td>0</td>\n",
       "      <td>0</td>\n",
       "      <td>0</td>\n",
       "      <td>0</td>\n",
       "      <td>0</td>\n",
       "      <td>0</td>\n",
       "      <td>0</td>\n",
       "      <td>1</td>\n",
       "      <td>0</td>\n",
       "      <td>0</td>\n",
       "      <td>0</td>\n",
       "      <td>0</td>\n",
       "      <td>0</td>\n",
       "      <td>0</td>\n",
       "      <td>0</td>\n",
       "      <td>0</td>\n",
       "      <td>0</td>\n",
       "      <td>0</td>\n",
       "      <td>0</td>\n",
       "      <td>0</td>\n",
       "      <td>0</td>\n",
       "      <td>0</td>\n",
       "      <td>0</td>\n",
       "      <td>0</td>\n",
       "      <td>0</td>\n",
       "      <td>0</td>\n",
       "      <td>0</td>\n",
       "      <td>0</td>\n",
       "      <td>0</td>\n",
       "      <td>0</td>\n",
       "      <td>0</td>\n",
       "      <td>0</td>\n",
       "      <td>0</td>\n",
       "      <td>1</td>\n",
       "      <td>0</td>\n",
       "      <td>0</td>\n",
       "      <td>0</td>\n",
       "      <td>0</td>\n",
       "      <td>0</td>\n",
       "      <td>0</td>\n",
       "      <td>0</td>\n",
       "      <td>0</td>\n",
       "      <td>0</td>\n",
       "      <td>0</td>\n",
       "      <td>0</td>\n",
       "      <td>0</td>\n",
       "      <td>0</td>\n",
       "      <td>0</td>\n",
       "      <td>0</td>\n",
       "      <td>0</td>\n",
       "      <td>0</td>\n",
       "    </tr>\n",
       "  </tbody>\n",
       "</table>\n",
       "<p>532 rows × 98 columns</p>\n",
       "</div>"
      ],
      "text/plain": [
       "      TotalCoinsMined TotalCoinSupply  Algorithm_1GB AES Pattern Search  \\\n",
       "42       4.199995e+01              42                                 0   \n",
       "404      1.055185e+09       532000000                                 0   \n",
       "1337     2.927942e+10    314159265359                                 0   \n",
       "BTC      1.792718e+07        21000000                                 0   \n",
       "ETH      1.076842e+08               0                                 0   \n",
       "...               ...             ...                               ...   \n",
       "ZEPH     2.000000e+09      2000000000                                 0   \n",
       "GAP      1.493105e+07       250000000                                 0   \n",
       "BDX      9.802226e+08      1400222610                                 0   \n",
       "ZEN      7.296538e+06        21000000                                 0   \n",
       "XBC      1.283270e+05         1000000                                 0   \n",
       "\n",
       "      Algorithm_536  Algorithm_Argon2d  Algorithm_BLAKE256  Algorithm_Blake  \\\n",
       "42                0                  0                   0                0   \n",
       "404               0                  0                   0                0   \n",
       "1337              0                  0                   0                0   \n",
       "BTC               0                  0                   0                0   \n",
       "ETH               0                  0                   0                0   \n",
       "...             ...                ...                 ...              ...   \n",
       "ZEPH              0                  0                   0                0   \n",
       "GAP               0                  0                   0                0   \n",
       "BDX               0                  0                   0                0   \n",
       "ZEN               0                  0                   0                0   \n",
       "XBC               0                  0                   0                0   \n",
       "\n",
       "      Algorithm_Blake2S  Algorithm_Blake2b  Algorithm_C11  \\\n",
       "42                    0                  0              0   \n",
       "404                   0                  0              0   \n",
       "1337                  0                  0              0   \n",
       "BTC                   0                  0              0   \n",
       "ETH                   0                  0              0   \n",
       "...                 ...                ...            ...   \n",
       "ZEPH                  0                  0              0   \n",
       "GAP                   0                  0              0   \n",
       "BDX                   0                  0              0   \n",
       "ZEN                   0                  0              0   \n",
       "XBC                   0                  0              0   \n",
       "\n",
       "      Algorithm_Cloverhash  Algorithm_Counterparty  Algorithm_CryptoNight  \\\n",
       "42                       0                       0                      0   \n",
       "404                      0                       0                      0   \n",
       "1337                     0                       0                      0   \n",
       "BTC                      0                       0                      0   \n",
       "ETH                      0                       0                      0   \n",
       "...                    ...                     ...                    ...   \n",
       "ZEPH                     0                       0                      0   \n",
       "GAP                      0                       0                      0   \n",
       "BDX                      0                       0                      1   \n",
       "ZEN                      0                       0                      0   \n",
       "XBC                      0                       0                      0   \n",
       "\n",
       "      Algorithm_CryptoNight Heavy  Algorithm_CryptoNight-V7  \\\n",
       "42                              0                         0   \n",
       "404                             0                         0   \n",
       "1337                            0                         0   \n",
       "BTC                             0                         0   \n",
       "ETH                             0                         0   \n",
       "...                           ...                       ...   \n",
       "ZEPH                            0                         0   \n",
       "GAP                             0                         0   \n",
       "BDX                             0                         0   \n",
       "ZEN                             0                         0   \n",
       "XBC                             0                         0   \n",
       "\n",
       "      Algorithm_Cryptonight-GPU  Algorithm_DPoS  Algorithm_Dagger  \\\n",
       "42                            0               0                 0   \n",
       "404                           0               0                 0   \n",
       "1337                          0               0                 0   \n",
       "BTC                           0               0                 0   \n",
       "ETH                           0               0                 0   \n",
       "...                         ...             ...               ...   \n",
       "ZEPH                          0               0                 0   \n",
       "GAP                           0               0                 0   \n",
       "BDX                           0               0                 0   \n",
       "ZEN                           0               0                 0   \n",
       "XBC                           0               0                 0   \n",
       "\n",
       "      Algorithm_Dagger-Hashimoto  Algorithm_ECC 256K1  Algorithm_Equihash  \\\n",
       "42                             0                    0                   0   \n",
       "404                            0                    0                   0   \n",
       "1337                           0                    0                   0   \n",
       "BTC                            0                    0                   0   \n",
       "ETH                            0                    0                   0   \n",
       "...                          ...                  ...                 ...   \n",
       "ZEPH                           0                    0                   0   \n",
       "GAP                            0                    0                   0   \n",
       "BDX                            0                    0                   0   \n",
       "ZEN                            0                    0                   1   \n",
       "XBC                            0                    0                   0   \n",
       "\n",
       "      Algorithm_Equihash+Scrypt  Algorithm_Ethash  Algorithm_Exosis  \\\n",
       "42                            0                 0                 0   \n",
       "404                           0                 0                 0   \n",
       "1337                          0                 0                 0   \n",
       "BTC                           0                 0                 0   \n",
       "ETH                           0                 1                 0   \n",
       "...                         ...               ...               ...   \n",
       "ZEPH                          0                 0                 0   \n",
       "GAP                           0                 0                 0   \n",
       "BDX                           0                 0                 0   \n",
       "ZEN                           0                 0                 0   \n",
       "XBC                           0                 0                 0   \n",
       "\n",
       "      Algorithm_Green Protocol  Algorithm_Groestl  Algorithm_HMQ1725  \\\n",
       "42                           0                  0                  0   \n",
       "404                          0                  0                  0   \n",
       "1337                         0                  0                  0   \n",
       "BTC                          0                  0                  0   \n",
       "ETH                          0                  0                  0   \n",
       "...                        ...                ...                ...   \n",
       "ZEPH                         0                  0                  0   \n",
       "GAP                          0                  0                  0   \n",
       "BDX                          0                  0                  0   \n",
       "ZEN                          0                  0                  0   \n",
       "XBC                          0                  0                  0   \n",
       "\n",
       "      Algorithm_HybridScryptHash256  Algorithm_IMesh  \\\n",
       "42                                0                0   \n",
       "404                               0                0   \n",
       "1337                              0                0   \n",
       "BTC                               0                0   \n",
       "ETH                               0                0   \n",
       "...                             ...              ...   \n",
       "ZEPH                              0                0   \n",
       "GAP                               0                0   \n",
       "BDX                               0                0   \n",
       "ZEN                               0                0   \n",
       "XBC                               0                0   \n",
       "\n",
       "      Algorithm_Jump Consistent Hash  Algorithm_Keccak  Algorithm_Leased POS  \\\n",
       "42                                 0                 0                     0   \n",
       "404                                0                 0                     0   \n",
       "1337                               0                 0                     0   \n",
       "BTC                                0                 0                     0   \n",
       "ETH                                0                 0                     0   \n",
       "...                              ...               ...                   ...   \n",
       "ZEPH                               0                 0                     0   \n",
       "GAP                                0                 0                     0   \n",
       "BDX                                0                 0                     0   \n",
       "ZEN                                0                 0                     0   \n",
       "XBC                                0                 0                     0   \n",
       "\n",
       "      Algorithm_Lyra2RE  Algorithm_Lyra2REv2  Algorithm_Lyra2Z  \\\n",
       "42                    0                    0                 0   \n",
       "404                   0                    0                 0   \n",
       "1337                  0                    0                 0   \n",
       "BTC                   0                    0                 0   \n",
       "ETH                   0                    0                 0   \n",
       "...                 ...                  ...               ...   \n",
       "ZEPH                  0                    0                 0   \n",
       "GAP                   0                    0                 0   \n",
       "BDX                   0                    0                 0   \n",
       "ZEN                   0                    0                 0   \n",
       "XBC                   0                    0                 0   \n",
       "\n",
       "      Algorithm_M7 POW  Algorithm_Multiple  Algorithm_NIST5  \\\n",
       "42                   0                   0                0   \n",
       "404                  0                   0                0   \n",
       "1337                 0                   0                0   \n",
       "BTC                  0                   0                0   \n",
       "ETH                  0                   0                0   \n",
       "...                ...                 ...              ...   \n",
       "ZEPH                 0                   0                0   \n",
       "GAP                  0                   0                0   \n",
       "BDX                  0                   0                0   \n",
       "ZEN                  0                   0                0   \n",
       "XBC                  0                   0                0   \n",
       "\n",
       "      Algorithm_NeoScrypt  Algorithm_Ouroboros  Algorithm_PHI1612  \\\n",
       "42                      0                    0                  0   \n",
       "404                     0                    0                  0   \n",
       "1337                    0                    0                  0   \n",
       "BTC                     0                    0                  0   \n",
       "ETH                     0                    0                  0   \n",
       "...                   ...                  ...                ...   \n",
       "ZEPH                    0                    0                  0   \n",
       "GAP                     0                    0                  0   \n",
       "BDX                     0                    0                  0   \n",
       "ZEN                     0                    0                  0   \n",
       "XBC                     0                    0                  0   \n",
       "\n",
       "      Algorithm_POS 2.0  Algorithm_POS 3.0  Algorithm_PoS  \\\n",
       "42                    0                  0              0   \n",
       "404                   0                  0              0   \n",
       "1337                  0                  0              0   \n",
       "BTC                   0                  0              0   \n",
       "ETH                   0                  0              0   \n",
       "...                 ...                ...            ...   \n",
       "ZEPH                  0                  0              0   \n",
       "GAP                   0                  0              0   \n",
       "BDX                   0                  0              0   \n",
       "ZEN                   0                  0              0   \n",
       "XBC                   0                  0              0   \n",
       "\n",
       "      Algorithm_Proof-of-Authority  Algorithm_Proof-of-BibleHash  \\\n",
       "42                               0                             0   \n",
       "404                              0                             0   \n",
       "1337                             0                             0   \n",
       "BTC                              0                             0   \n",
       "ETH                              0                             0   \n",
       "...                            ...                           ...   \n",
       "ZEPH                             0                             0   \n",
       "GAP                              0                             0   \n",
       "BDX                              0                             0   \n",
       "ZEN                              0                             0   \n",
       "XBC                              0                             0   \n",
       "\n",
       "      Algorithm_QUAIT  Algorithm_QuBit  Algorithm_Quark  Algorithm_SHA-256  \\\n",
       "42                  0                0                0                  0   \n",
       "404                 0                0                0                  0   \n",
       "1337                0                0                0                  0   \n",
       "BTC                 0                0                0                  1   \n",
       "ETH                 0                0                0                  0   \n",
       "...               ...              ...              ...                ...   \n",
       "ZEPH                0                0                0                  1   \n",
       "GAP                 0                0                0                  0   \n",
       "BDX                 0                0                0                  0   \n",
       "ZEN                 0                0                0                  0   \n",
       "XBC                 0                0                0                  0   \n",
       "\n",
       "      Algorithm_SHA-256 + Hive  Algorithm_SHA-256D  Algorithm_SHA-512  \\\n",
       "42                           0                   0                  0   \n",
       "404                          0                   0                  0   \n",
       "1337                         0                   0                  0   \n",
       "BTC                          0                   0                  0   \n",
       "ETH                          0                   0                  0   \n",
       "...                        ...                 ...                ...   \n",
       "ZEPH                         0                   0                  0   \n",
       "GAP                          0                   0                  0   \n",
       "BDX                          0                   0                  0   \n",
       "ZEN                          0                   0                  0   \n",
       "XBC                          0                   0                  0   \n",
       "\n",
       "      Algorithm_SHA3  Algorithm_Scrypt  Algorithm_Semux BFT consensus  \\\n",
       "42                 0                 1                              0   \n",
       "404                0                 1                              0   \n",
       "1337               0                 0                              0   \n",
       "BTC                0                 0                              0   \n",
       "ETH                0                 0                              0   \n",
       "...              ...               ...                            ...   \n",
       "ZEPH               0                 0                              0   \n",
       "GAP                0                 1                              0   \n",
       "BDX                0                 0                              0   \n",
       "ZEN                0                 0                              0   \n",
       "XBC                0                 1                              0   \n",
       "\n",
       "      Algorithm_Shabal256  Algorithm_Skein  Algorithm_SkunkHash  \\\n",
       "42                      0                0                    0   \n",
       "404                     0                0                    0   \n",
       "1337                    0                0                    0   \n",
       "BTC                     0                0                    0   \n",
       "ETH                     0                0                    0   \n",
       "...                   ...              ...                  ...   \n",
       "ZEPH                    0                0                    0   \n",
       "GAP                     0                0                    0   \n",
       "BDX                     0                0                    0   \n",
       "ZEN                     0                0                    0   \n",
       "XBC                     0                0                    0   \n",
       "\n",
       "      Algorithm_SkunkHash v2 Raptor  Algorithm_Stanford Folding  \\\n",
       "42                                0                           0   \n",
       "404                               0                           0   \n",
       "1337                              0                           0   \n",
       "BTC                               0                           0   \n",
       "ETH                               0                           0   \n",
       "...                             ...                         ...   \n",
       "ZEPH                              0                           0   \n",
       "GAP                               0                           0   \n",
       "BDX                               0                           0   \n",
       "ZEN                               0                           0   \n",
       "XBC                               0                           0   \n",
       "\n",
       "      Algorithm_TRC10  Algorithm_Time Travel  Algorithm_Tribus  \\\n",
       "42                  0                      0                 0   \n",
       "404                 0                      0                 0   \n",
       "1337                0                      0                 0   \n",
       "BTC                 0                      0                 0   \n",
       "ETH                 0                      0                 0   \n",
       "...               ...                    ...               ...   \n",
       "ZEPH                0                      0                 0   \n",
       "GAP                 0                      0                 0   \n",
       "BDX                 0                      0                 0   \n",
       "ZEN                 0                      0                 0   \n",
       "XBC                 0                      0                 0   \n",
       "\n",
       "      Algorithm_VBFT  Algorithm_VeChainThor Authority  Algorithm_X11  \\\n",
       "42                 0                                0              0   \n",
       "404                0                                0              0   \n",
       "1337               0                                0              0   \n",
       "BTC                0                                0              0   \n",
       "ETH                0                                0              0   \n",
       "...              ...                              ...            ...   \n",
       "ZEPH               0                                0              0   \n",
       "GAP                0                                0              0   \n",
       "BDX                0                                0              0   \n",
       "ZEN                0                                0              0   \n",
       "XBC                0                                0              0   \n",
       "\n",
       "      Algorithm_X11GOST  Algorithm_X13  Algorithm_X14  Algorithm_X15  \\\n",
       "42                    0              0              0              0   \n",
       "404                   0              0              0              0   \n",
       "1337                  0              1              0              0   \n",
       "BTC                   0              0              0              0   \n",
       "ETH                   0              0              0              0   \n",
       "...                 ...            ...            ...            ...   \n",
       "ZEPH                  0              0              0              0   \n",
       "GAP                   0              0              0              0   \n",
       "BDX                   0              0              0              0   \n",
       "ZEN                   0              0              0              0   \n",
       "XBC                   0              0              0              0   \n",
       "\n",
       "      Algorithm_X16R  Algorithm_XEVAN  ProofType_DPOS  ProofType_DPoS  \\\n",
       "42                 0                0               0               0   \n",
       "404                0                0               0               0   \n",
       "1337               0                0               0               0   \n",
       "BTC                0                0               0               0   \n",
       "ETH                0                0               0               0   \n",
       "...              ...              ...             ...             ...   \n",
       "ZEPH               0                0               0               1   \n",
       "GAP                0                0               0               0   \n",
       "BDX                0                0               0               0   \n",
       "ZEN                0                0               0               0   \n",
       "XBC                0                0               0               0   \n",
       "\n",
       "      ProofType_HPoW  ProofType_LPoS  ProofType_POBh  ProofType_PoA  \\\n",
       "42                 0               0               0              0   \n",
       "404                0               0               0              0   \n",
       "1337               0               0               0              0   \n",
       "BTC                0               0               0              0   \n",
       "ETH                0               0               0              0   \n",
       "...              ...             ...             ...            ...   \n",
       "ZEPH               0               0               0              0   \n",
       "GAP                0               0               0              0   \n",
       "BDX                0               0               0              0   \n",
       "ZEN                0               0               0              0   \n",
       "XBC                0               0               0              0   \n",
       "\n",
       "      ProofType_PoC  ProofType_PoS  ProofType_PoS/LPoS  ProofType_PoS/PoW  \\\n",
       "42                0              0                   0                  0   \n",
       "404               0              0                   0                  0   \n",
       "1337              0              0                   0                  0   \n",
       "BTC               0              0                   0                  0   \n",
       "ETH               0              0                   0                  0   \n",
       "...             ...            ...                 ...                ...   \n",
       "ZEPH              0              0                   0                  0   \n",
       "GAP               0              0                   0                  0   \n",
       "BDX               0              0                   0                  0   \n",
       "ZEN               0              0                   0                  0   \n",
       "XBC               0              1                   0                  0   \n",
       "\n",
       "      ProofType_PoS/PoW/PoT  ProofType_PoST  ProofType_PoW  \\\n",
       "42                        0               0              0   \n",
       "404                       0               0              0   \n",
       "1337                      0               0              0   \n",
       "BTC                       0               0              1   \n",
       "ETH                       0               0              1   \n",
       "...                     ...             ...            ...   \n",
       "ZEPH                      0               0              0   \n",
       "GAP                       0               0              0   \n",
       "BDX                       0               0              1   \n",
       "ZEN                       0               0              1   \n",
       "XBC                       0               0              0   \n",
       "\n",
       "      ProofType_PoW + Hive  ProofType_PoW and PoS  ProofType_PoW/PoS  \\\n",
       "42                       0                      0                  1   \n",
       "404                      0                      0                  1   \n",
       "1337                     0                      0                  1   \n",
       "BTC                      0                      0                  0   \n",
       "ETH                      0                      0                  0   \n",
       "...                    ...                    ...                ...   \n",
       "ZEPH                     0                      0                  0   \n",
       "GAP                      0                      0                  1   \n",
       "BDX                      0                      0                  0   \n",
       "ZEN                      0                      0                  0   \n",
       "XBC                      0                      0                  0   \n",
       "\n",
       "      ProofType_PoW/PoS   ProofType_PoW/PoW  ProofType_PoW/nPoS  \\\n",
       "42                     0                  0                   0   \n",
       "404                    0                  0                   0   \n",
       "1337                   0                  0                   0   \n",
       "BTC                    0                  0                   0   \n",
       "ETH                    0                  0                   0   \n",
       "...                  ...                ...                 ...   \n",
       "ZEPH                   0                  0                   0   \n",
       "GAP                    0                  0                   0   \n",
       "BDX                    0                  0                   0   \n",
       "ZEN                    0                  0                   0   \n",
       "XBC                    0                  0                   0   \n",
       "\n",
       "      ProofType_Pos  ProofType_Proof of Authority  ProofType_Proof of Trust  \\\n",
       "42                0                             0                         0   \n",
       "404               0                             0                         0   \n",
       "1337              0                             0                         0   \n",
       "BTC               0                             0                         0   \n",
       "ETH               0                             0                         0   \n",
       "...             ...                           ...                       ...   \n",
       "ZEPH              0                             0                         0   \n",
       "GAP               0                             0                         0   \n",
       "BDX               0                             0                         0   \n",
       "ZEN               0                             0                         0   \n",
       "XBC               0                             0                         0   \n",
       "\n",
       "      ProofType_TPoS  ProofType_Zero-Knowledge Proof  ProofType_dPoW/PoW  \n",
       "42                 0                               0                   0  \n",
       "404                0                               0                   0  \n",
       "1337               0                               0                   0  \n",
       "BTC                0                               0                   0  \n",
       "ETH                0                               0                   0  \n",
       "...              ...                             ...                 ...  \n",
       "ZEPH               0                               0                   0  \n",
       "GAP                0                               0                   0  \n",
       "BDX                0                               0                   0  \n",
       "ZEN                0                               0                   0  \n",
       "XBC                0                               0                   0  \n",
       "\n",
       "[532 rows x 98 columns]"
      ]
     },
     "execution_count": 137,
     "metadata": {},
     "output_type": "execute_result"
    }
   ],
   "source": [
    "# Use get_dummies() to create variables for text features.\n",
    "# YOUR CODE HERE\n",
    "\n",
    "X=pd.get_dummies(crypto_df, columns=[\"Algorithm\", \"ProofType\"])\n",
    "X"
   ]
  },
  {
   "cell_type": "code",
   "execution_count": 138,
   "metadata": {},
   "outputs": [
    {
     "name": "stdout",
     "output_type": "stream",
     "text": [
      "[[-0.11710817 -0.1528703  -0.0433963  ... -0.0433963  -0.0433963\n",
      "  -0.0433963 ]\n",
      " [-0.09396955 -0.145009   -0.0433963  ... -0.0433963  -0.0433963\n",
      "  -0.0433963 ]\n",
      " [ 0.52494561  4.48942416 -0.0433963  ... -0.0433963  -0.0433963\n",
      "  -0.0433963 ]\n",
      " ...\n",
      " [-0.09561336 -0.13217937 -0.0433963  ... -0.0433963  -0.0433963\n",
      "  -0.0433963 ]\n",
      " [-0.11694817 -0.15255998 -0.0433963  ... -0.0433963  -0.0433963\n",
      "  -0.0433963 ]\n",
      " [-0.11710536 -0.15285552 -0.0433963  ... -0.0433963  -0.0433963\n",
      "  -0.0433963 ]]\n"
     ]
    }
   ],
   "source": [
    "# Standardize the data with StandardScaler().\n",
    "# YOUR CODE HERE\n",
    "\n",
    "crypto_scaled=StandardScaler().fit_transform(X)\n",
    "print(crypto_scaled)"
   ]
  },
  {
   "cell_type": "markdown",
   "metadata": {},
   "source": [
    "### Deliverable 2: Reducing Data Dimensions Using PCA"
   ]
  },
  {
   "cell_type": "code",
   "execution_count": 139,
   "metadata": {},
   "outputs": [
    {
     "data": {
      "text/plain": [
       "array([[-0.34016081,  1.05209455, -0.58282474],\n",
       "       [-0.32350737,  1.05223366, -0.58324802],\n",
       "       [ 2.30371638,  1.63957457, -0.71352222],\n",
       "       ...,\n",
       "       [ 0.34244432, -2.35305682,  0.41301041],\n",
       "       [-0.17079368, -2.03388301,  0.41023017],\n",
       "       [-0.29497922,  0.84518732, -0.27179685]])"
      ]
     },
     "execution_count": 139,
     "metadata": {},
     "output_type": "execute_result"
    }
   ],
   "source": [
    "# Using PCA to reduce dimension to three principal components.\n",
    "# YOUR CODE HERE\n",
    "\n",
    "# initialize PCA model with 3 components\n",
    "pca=PCA(n_components=3)\n",
    "\n",
    "# get the 3 principle components from X\n",
    "X_pca=pca.fit_transform(crypto_scaled)\n",
    "\n",
    "X_pca"
   ]
  },
  {
   "cell_type": "code",
   "execution_count": 140,
   "metadata": {},
   "outputs": [
    {
     "data": {
      "text/html": [
       "<div>\n",
       "<style scoped>\n",
       "    .dataframe tbody tr th:only-of-type {\n",
       "        vertical-align: middle;\n",
       "    }\n",
       "\n",
       "    .dataframe tbody tr th {\n",
       "        vertical-align: top;\n",
       "    }\n",
       "\n",
       "    .dataframe thead th {\n",
       "        text-align: right;\n",
       "    }\n",
       "</style>\n",
       "<table border=\"1\" class=\"dataframe\">\n",
       "  <thead>\n",
       "    <tr style=\"text-align: right;\">\n",
       "      <th></th>\n",
       "      <th>PC 1</th>\n",
       "      <th>PC 2</th>\n",
       "      <th>PC 3</th>\n",
       "    </tr>\n",
       "  </thead>\n",
       "  <tbody>\n",
       "    <tr>\n",
       "      <th>42</th>\n",
       "      <td>-0.340161</td>\n",
       "      <td>1.052095</td>\n",
       "      <td>-0.582825</td>\n",
       "    </tr>\n",
       "    <tr>\n",
       "      <th>404</th>\n",
       "      <td>-0.323507</td>\n",
       "      <td>1.052234</td>\n",
       "      <td>-0.583248</td>\n",
       "    </tr>\n",
       "    <tr>\n",
       "      <th>1337</th>\n",
       "      <td>2.303716</td>\n",
       "      <td>1.639575</td>\n",
       "      <td>-0.713522</td>\n",
       "    </tr>\n",
       "    <tr>\n",
       "      <th>BTC</th>\n",
       "      <td>-0.140892</td>\n",
       "      <td>-1.326493</td>\n",
       "      <td>0.165107</td>\n",
       "    </tr>\n",
       "    <tr>\n",
       "      <th>ETH</th>\n",
       "      <td>-0.154126</td>\n",
       "      <td>-2.009849</td>\n",
       "      <td>0.405255</td>\n",
       "    </tr>\n",
       "    <tr>\n",
       "      <th>...</th>\n",
       "      <td>...</td>\n",
       "      <td>...</td>\n",
       "      <td>...</td>\n",
       "    </tr>\n",
       "    <tr>\n",
       "      <th>ZEPH</th>\n",
       "      <td>2.480867</td>\n",
       "      <td>0.824663</td>\n",
       "      <td>-0.221818</td>\n",
       "    </tr>\n",
       "    <tr>\n",
       "      <th>GAP</th>\n",
       "      <td>-0.338206</td>\n",
       "      <td>1.051970</td>\n",
       "      <td>-0.582847</td>\n",
       "    </tr>\n",
       "    <tr>\n",
       "      <th>BDX</th>\n",
       "      <td>0.342444</td>\n",
       "      <td>-2.353057</td>\n",
       "      <td>0.413010</td>\n",
       "    </tr>\n",
       "    <tr>\n",
       "      <th>ZEN</th>\n",
       "      <td>-0.170794</td>\n",
       "      <td>-2.033883</td>\n",
       "      <td>0.410230</td>\n",
       "    </tr>\n",
       "    <tr>\n",
       "      <th>XBC</th>\n",
       "      <td>-0.294979</td>\n",
       "      <td>0.845187</td>\n",
       "      <td>-0.271797</td>\n",
       "    </tr>\n",
       "  </tbody>\n",
       "</table>\n",
       "<p>532 rows × 3 columns</p>\n",
       "</div>"
      ],
      "text/plain": [
       "          PC 1      PC 2      PC 3\n",
       "42   -0.340161  1.052095 -0.582825\n",
       "404  -0.323507  1.052234 -0.583248\n",
       "1337  2.303716  1.639575 -0.713522\n",
       "BTC  -0.140892 -1.326493  0.165107\n",
       "ETH  -0.154126 -2.009849  0.405255\n",
       "...        ...       ...       ...\n",
       "ZEPH  2.480867  0.824663 -0.221818\n",
       "GAP  -0.338206  1.051970 -0.582847\n",
       "BDX   0.342444 -2.353057  0.413010\n",
       "ZEN  -0.170794 -2.033883  0.410230\n",
       "XBC  -0.294979  0.845187 -0.271797\n",
       "\n",
       "[532 rows x 3 columns]"
      ]
     },
     "execution_count": 140,
     "metadata": {},
     "output_type": "execute_result"
    }
   ],
   "source": [
    "# Create a DataFrame with the three principal components.\n",
    "# YOUR CODE HERE\n",
    "\n",
    "pcs_df = pd.DataFrame(\n",
    "data=X_pca, columns = [\"PC 1\", \"PC 2\", \"PC 3\"], index=X.index)\n",
    "\n",
    "pcs_df"
   ]
  },
  {
   "cell_type": "markdown",
   "metadata": {},
   "source": [
    "### Deliverable 3: Clustering Crytocurrencies Using K-Means\n",
    "\n",
    "#### Finding the Best Value for `k` Using the Elbow Curve"
   ]
  },
  {
   "cell_type": "code",
   "execution_count": 141,
   "metadata": {},
   "outputs": [
    {
     "name": "stderr",
     "output_type": "stream",
     "text": [
      "C:\\Users\\Emily\\anaconda3\\lib\\site-packages\\sklearn\\cluster\\_kmeans.py:881: UserWarning:\n",
      "\n",
      "KMeans is known to have a memory leak on Windows with MKL, when there are less chunks than available threads. You can avoid it by setting the environment variable OMP_NUM_THREADS=3.\n",
      "\n"
     ]
    },
    {
     "data": {},
     "metadata": {},
     "output_type": "display_data"
    },
    {
     "data": {
      "application/vnd.holoviews_exec.v0+json": "",
      "text/html": [
       "<div id='1368'>\n",
       "\n",
       "\n",
       "\n",
       "\n",
       "\n",
       "  <div class=\"bk-root\" id=\"902f209b-ca7d-412b-9310-dfca99dc6bdf\" data-root-id=\"1368\"></div>\n",
       "</div>\n",
       "<script type=\"application/javascript\">(function(root) {\n",
       "  function embed_document(root) {\n",
       "    var docs_json = {\"5402a4e6-dc93-41ef-a3db-64c57e5fc356\":{\"defs\":[{\"extends\":null,\"module\":null,\"name\":\"ReactiveHTML1\",\"overrides\":[],\"properties\":[]},{\"extends\":null,\"module\":null,\"name\":\"FlexBox1\",\"overrides\":[],\"properties\":[{\"default\":\"flex-start\",\"kind\":null,\"name\":\"align_content\"},{\"default\":\"flex-start\",\"kind\":null,\"name\":\"align_items\"},{\"default\":\"row\",\"kind\":null,\"name\":\"flex_direction\"},{\"default\":\"wrap\",\"kind\":null,\"name\":\"flex_wrap\"},{\"default\":\"flex-start\",\"kind\":null,\"name\":\"justify_content\"}]},{\"extends\":null,\"module\":null,\"name\":\"GridStack1\",\"overrides\":[],\"properties\":[{\"default\":\"warn\",\"kind\":null,\"name\":\"mode\"},{\"default\":null,\"kind\":null,\"name\":\"ncols\"},{\"default\":null,\"kind\":null,\"name\":\"nrows\"},{\"default\":true,\"kind\":null,\"name\":\"allow_resize\"},{\"default\":true,\"kind\":null,\"name\":\"allow_drag\"},{\"default\":[],\"kind\":null,\"name\":\"state\"}]},{\"extends\":null,\"module\":null,\"name\":\"click1\",\"overrides\":[],\"properties\":[{\"default\":\"\",\"kind\":null,\"name\":\"terminal_output\"},{\"default\":\"\",\"kind\":null,\"name\":\"debug_name\"},{\"default\":0,\"kind\":null,\"name\":\"clears\"}]},{\"extends\":null,\"module\":null,\"name\":\"TemplateActions1\",\"overrides\":[],\"properties\":[{\"default\":0,\"kind\":null,\"name\":\"open_modal\"},{\"default\":0,\"kind\":null,\"name\":\"close_modal\"}]},{\"extends\":null,\"module\":null,\"name\":\"MaterialTemplateActions1\",\"overrides\":[],\"properties\":[{\"default\":0,\"kind\":null,\"name\":\"open_modal\"},{\"default\":0,\"kind\":null,\"name\":\"close_modal\"}]}],\"roots\":{\"references\":[{\"attributes\":{\"bottom_units\":\"screen\",\"coordinates\":null,\"fill_alpha\":0.5,\"fill_color\":\"lightgrey\",\"group\":null,\"left_units\":\"screen\",\"level\":\"overlay\",\"line_alpha\":1.0,\"line_color\":\"black\",\"line_dash\":[4,4],\"line_width\":2,\"right_units\":\"screen\",\"syncable\":false,\"top_units\":\"screen\"},\"id\":\"1395\",\"type\":\"BoxAnnotation\"},{\"attributes\":{},\"id\":\"1378\",\"type\":\"LinearScale\"},{\"attributes\":{\"coordinates\":null,\"data_source\":{\"id\":\"1403\"},\"glyph\":{\"id\":\"1406\"},\"group\":null,\"hover_glyph\":null,\"muted_glyph\":{\"id\":\"1408\"},\"nonselection_glyph\":{\"id\":\"1407\"},\"selection_glyph\":{\"id\":\"1411\"},\"view\":{\"id\":\"1410\"}},\"id\":\"1409\",\"type\":\"GlyphRenderer\"},{\"attributes\":{\"line_color\":\"#30a2da\",\"line_width\":2,\"x\":{\"field\":\"k\"},\"y\":{\"field\":\"inertia\"}},\"id\":\"1411\",\"type\":\"Line\"},{\"attributes\":{},\"id\":\"1417\",\"type\":\"AllLabels\"},{\"attributes\":{},\"id\":\"1404\",\"type\":\"Selection\"},{\"attributes\":{},\"id\":\"1413\",\"type\":\"BasicTickFormatter\"},{\"attributes\":{\"data\":{\"inertia\":{\"__ndarray__\":\"lwZJdVtyrEBnIL7T1lajQHjmSSUXNJdASKKEXdz1fkCv+UFGPFR0QBY6m6HwVXBAfUxhPx2jaUBT9qcLfaZjQLMfi+DLDGBAxHNf+p0TWkA=\",\"dtype\":\"float64\",\"order\":\"little\",\"shape\":[10]},\"k\":[1,2,3,4,5,6,7,8,9,10]},\"selected\":{\"id\":\"1404\"},\"selection_policy\":{\"id\":\"1425\"}},\"id\":\"1403\",\"type\":\"ColumnDataSource\"},{\"attributes\":{},\"id\":\"1414\",\"type\":\"AllLabels\"},{\"attributes\":{\"margin\":[5,5,5,5],\"name\":\"HSpacer02166\",\"sizing_mode\":\"stretch_width\"},\"id\":\"1438\",\"type\":\"Spacer\"},{\"attributes\":{\"margin\":[5,5,5,5],\"name\":\"HSpacer02165\",\"sizing_mode\":\"stretch_width\"},\"id\":\"1369\",\"type\":\"Spacer\"},{\"attributes\":{\"callback\":null,\"renderers\":[{\"id\":\"1409\"}],\"tags\":[\"hv_created\"],\"tooltips\":[[\"k\",\"@{k}\"],[\"inertia\",\"@{inertia}\"]]},\"id\":\"1372\",\"type\":\"HoverTool\"},{\"attributes\":{\"tools\":[{\"id\":\"1372\"},{\"id\":\"1390\"},{\"id\":\"1391\"},{\"id\":\"1392\"},{\"id\":\"1393\"},{\"id\":\"1394\"}]},\"id\":\"1396\",\"type\":\"Toolbar\"},{\"attributes\":{\"children\":[{\"id\":\"1369\"},{\"id\":\"1373\"},{\"id\":\"1438\"}],\"margin\":[0,0,0,0],\"name\":\"Row02161\",\"tags\":[\"embedded\"]},\"id\":\"1368\",\"type\":\"Row\"},{\"attributes\":{\"end\":3994.865840388239,\"reset_end\":3994.865840388239,\"reset_start\":-249.38069398466962,\"start\":-249.38069398466962,\"tags\":[[[\"inertia\",\"inertia\",null]]]},\"id\":\"1371\",\"type\":\"Range1d\"},{\"attributes\":{\"line_alpha\":0.1,\"line_color\":\"#30a2da\",\"line_width\":2,\"x\":{\"field\":\"k\"},\"y\":{\"field\":\"inertia\"}},\"id\":\"1407\",\"type\":\"Line\"},{\"attributes\":{},\"id\":\"1425\",\"type\":\"UnionRenderers\"},{\"attributes\":{\"end\":10.0,\"reset_end\":10.0,\"reset_start\":1.0,\"start\":1.0,\"tags\":[[[\"k\",\"k\",null]]]},\"id\":\"1370\",\"type\":\"Range1d\"},{\"attributes\":{\"coordinates\":null,\"group\":null,\"text_color\":\"black\",\"text_font_size\":\"12pt\"},\"id\":\"1374\",\"type\":\"Title\"},{\"attributes\":{\"line_color\":\"#30a2da\",\"line_width\":2,\"x\":{\"field\":\"k\"},\"y\":{\"field\":\"inertia\"}},\"id\":\"1406\",\"type\":\"Line\"},{\"attributes\":{\"axis\":{\"id\":\"1382\"},\"coordinates\":null,\"grid_line_color\":null,\"group\":null,\"ticker\":null},\"id\":\"1385\",\"type\":\"Grid\"},{\"attributes\":{\"line_alpha\":0.2,\"line_color\":\"#30a2da\",\"line_width\":2,\"x\":{\"field\":\"k\"},\"y\":{\"field\":\"inertia\"}},\"id\":\"1408\",\"type\":\"Line\"},{\"attributes\":{},\"id\":\"1416\",\"type\":\"BasicTickFormatter\"},{\"attributes\":{\"source\":{\"id\":\"1403\"}},\"id\":\"1410\",\"type\":\"CDSView\"},{\"attributes\":{\"below\":[{\"id\":\"1382\"}],\"center\":[{\"id\":\"1385\"},{\"id\":\"1389\"}],\"height\":300,\"left\":[{\"id\":\"1386\"}],\"margin\":[5,5,5,5],\"min_border_bottom\":10,\"min_border_left\":10,\"min_border_right\":10,\"min_border_top\":10,\"renderers\":[{\"id\":\"1409\"}],\"sizing_mode\":\"fixed\",\"title\":{\"id\":\"1374\"},\"toolbar\":{\"id\":\"1396\"},\"width\":700,\"x_range\":{\"id\":\"1370\"},\"x_scale\":{\"id\":\"1378\"},\"y_range\":{\"id\":\"1371\"},\"y_scale\":{\"id\":\"1380\"}},\"id\":\"1373\",\"subtype\":\"Figure\",\"type\":\"Plot\"},{\"attributes\":{},\"id\":\"1380\",\"type\":\"LinearScale\"},{\"attributes\":{},\"id\":\"1391\",\"type\":\"PanTool\"},{\"attributes\":{\"axis_label\":\"k\",\"coordinates\":null,\"formatter\":{\"id\":\"1413\"},\"group\":null,\"major_label_policy\":{\"id\":\"1414\"},\"ticker\":{\"id\":\"1383\"}},\"id\":\"1382\",\"type\":\"LinearAxis\"},{\"attributes\":{\"axis\":{\"id\":\"1386\"},\"coordinates\":null,\"dimension\":1,\"grid_line_color\":null,\"group\":null,\"ticker\":null},\"id\":\"1389\",\"type\":\"Grid\"},{\"attributes\":{},\"id\":\"1383\",\"type\":\"BasicTicker\"},{\"attributes\":{\"axis_label\":\"inertia\",\"coordinates\":null,\"formatter\":{\"id\":\"1416\"},\"group\":null,\"major_label_policy\":{\"id\":\"1417\"},\"ticker\":{\"id\":\"1387\"}},\"id\":\"1386\",\"type\":\"LinearAxis\"},{\"attributes\":{},\"id\":\"1387\",\"type\":\"BasicTicker\"},{\"attributes\":{},\"id\":\"1392\",\"type\":\"WheelZoomTool\"},{\"attributes\":{},\"id\":\"1390\",\"type\":\"SaveTool\"},{\"attributes\":{\"overlay\":{\"id\":\"1395\"}},\"id\":\"1393\",\"type\":\"BoxZoomTool\"},{\"attributes\":{},\"id\":\"1394\",\"type\":\"ResetTool\"}],\"root_ids\":[\"1368\"]},\"title\":\"Bokeh Application\",\"version\":\"2.4.1\"}};\n",
       "    var render_items = [{\"docid\":\"5402a4e6-dc93-41ef-a3db-64c57e5fc356\",\"root_ids\":[\"1368\"],\"roots\":{\"1368\":\"902f209b-ca7d-412b-9310-dfca99dc6bdf\"}}];\n",
       "    root.Bokeh.embed.embed_items_notebook(docs_json, render_items);\n",
       "  }\n",
       "  if (root.Bokeh !== undefined && root.Bokeh.Panel !== undefined) {\n",
       "    embed_document(root);\n",
       "  } else {\n",
       "    var attempts = 0;\n",
       "    var timer = setInterval(function(root) {\n",
       "      if (root.Bokeh !== undefined && root.Bokeh.Panel !== undefined) {\n",
       "        clearInterval(timer);\n",
       "        embed_document(root);\n",
       "      } else if (document.readyState == \"complete\") {\n",
       "        attempts++;\n",
       "        if (attempts > 200) {\n",
       "          clearInterval(timer);\n",
       "          console.log(\"Bokeh: ERROR: Unable to run BokehJS code because BokehJS library is missing\");\n",
       "        }\n",
       "      }\n",
       "    }, 25, root)\n",
       "  }\n",
       "})(window);</script>"
      ],
      "text/plain": [
       ":Curve   [k]   (inertia)"
      ]
     },
     "execution_count": 141,
     "metadata": {
      "application/vnd.holoviews_exec.v0+json": {
       "id": "1368"
      }
     },
     "output_type": "execute_result"
    }
   ],
   "source": [
    "# Create an elbow curve to find the best value for K.\n",
    "# YOUR CODE HERE\n",
    "\n",
    "inertia = []\n",
    "k = list(range(1, 11))\n",
    "\n",
    "# calculate inertia for range of K values\n",
    "for i in k:\n",
    "    km=KMeans(n_clusters=i, random_state=0)\n",
    "    km.fit(pcs_df)\n",
    "    inertia.append(km.inertia_)\n",
    "    \n",
    "# plot elbow curve\n",
    "elbow_data={\"k\": k, \"inertia\":inertia}\n",
    "df_elbow=pd.DataFrame(elbow_data)\n",
    "df_elbow.hvplot.line(x=\"k\", y=\"inertia\")"
   ]
  },
  {
   "cell_type": "markdown",
   "metadata": {},
   "source": [
    "Running K-Means with `k=4`"
   ]
  },
  {
   "cell_type": "code",
   "execution_count": 142,
   "metadata": {},
   "outputs": [
    {
     "name": "stdout",
     "output_type": "stream",
     "text": [
      "[0 0 0 1 1 1 0 1 1 1 0 1 0 0 1 0 1 1 0 0 1 1 1 1 1 0 1 1 1 0 1 0 1 1 0 0 1\n",
      " 1 1 1 1 1 0 0 1 1 1 1 1 0 0 1 0 1 1 1 1 0 1 1 0 1 0 0 0 1 1 1 0 0 0 0 0 1\n",
      " 1 1 0 0 1 0 1 0 0 1 1 1 1 0 0 1 0 1 1 0 0 1 0 0 1 1 0 0 1 0 0 1 0 1 0 1 0\n",
      " 1 0 0 1 1 0 1 1 1 0 1 1 1 1 1 0 0 1 1 1 0 1 0 1 1 0 1 0 1 0 0 1 1 0 1 1 0\n",
      " 0 1 0 1 0 0 0 1 1 1 1 0 0 0 0 0 1 1 0 0 0 0 0 1 0 0 0 0 0 1 0 1 0 0 1 0 1\n",
      " 0 0 1 0 1 0 1 0 1 0 0 0 0 1 0 0 0 0 0 1 1 0 0 1 1 0 0 0 0 0 1 0 0 0 0 0 0\n",
      " 0 0 1 0 0 0 0 0 0 1 1 1 0 0 0 0 1 0 1 0 0 1 0 1 1 0 1 1 0 1 0 0 0 1 0 0 1\n",
      " 0 0 0 0 0 0 0 1 0 1 0 0 0 0 1 0 1 0 1 1 1 1 0 1 0 0 1 0 1 1 1 0 1 0 1 1 1\n",
      " 0 1 0 1 0 0 3 1 0 1 1 1 1 1 0 0 1 0 0 0 1 0 1 0 1 0 1 0 0 0 0 1 0 0 1 0 0\n",
      " 0 1 1 1 1 0 0 0 0 1 0 1 1 1 0 0 1 1 0 0 1 0 1 1 1 0 1 1 0 0 0 1 1 1 0 0 0\n",
      " 1 1 0 1 1 1 1 0 3 3 1 1 1 0 3 0 0 0 0 1 1 1 1 0 0 0 1 0 1 0 0 0 0 1 0 0 1\n",
      " 0 0 1 1 0 1 0 1 1 1 1 0 0 1 0 1 0 0 0 0 0 0 1 1 1 0 0 0 0 0 0 1 0 1 1 1 1\n",
      " 0 0 0 0 1 0 0 1 0 0 1 3 1 0 1 1 0 0 1 0 1 1 0 1 1 0 1 0 1 0 0 1 0 0 0 0 0\n",
      " 1 1 1 0 0 0 1 0 1 0 1 0 0 0 0 1 0 0 0 1 0 1 0 1 0 0 0 1 1 0 0 0 0 0 0 1 0\n",
      " 1 0 1 0 0 3 0 2 0 0 0 1 1 0]\n"
     ]
    }
   ],
   "source": [
    "# Initialize the K-Means model.\n",
    "# YOUR CODE HERE\n",
    "model=KMeans(n_clusters=4)\n",
    "\n",
    "# Fit the model\n",
    "# YOUR CODE HERE\n",
    "model.fit(pcs_df)\n",
    "\n",
    "# Predict clusters\n",
    "# YOUR CODE HERE\n",
    "predictions=model.predict(pcs_df)\n",
    "print(predictions)"
   ]
  },
  {
   "cell_type": "code",
   "execution_count": 143,
   "metadata": {},
   "outputs": [
    {
     "name": "stdout",
     "output_type": "stream",
     "text": [
      "(532, 9)\n"
     ]
    },
    {
     "data": {
      "text/html": [
       "<div>\n",
       "<style scoped>\n",
       "    .dataframe tbody tr th:only-of-type {\n",
       "        vertical-align: middle;\n",
       "    }\n",
       "\n",
       "    .dataframe tbody tr th {\n",
       "        vertical-align: top;\n",
       "    }\n",
       "\n",
       "    .dataframe thead th {\n",
       "        text-align: right;\n",
       "    }\n",
       "</style>\n",
       "<table border=\"1\" class=\"dataframe\">\n",
       "  <thead>\n",
       "    <tr style=\"text-align: right;\">\n",
       "      <th></th>\n",
       "      <th>Algorithm</th>\n",
       "      <th>ProofType</th>\n",
       "      <th>TotalCoinsMined</th>\n",
       "      <th>TotalCoinSupply</th>\n",
       "      <th>PC 1</th>\n",
       "      <th>PC 2</th>\n",
       "      <th>PC 3</th>\n",
       "      <th>CoinName</th>\n",
       "      <th>Class</th>\n",
       "    </tr>\n",
       "  </thead>\n",
       "  <tbody>\n",
       "    <tr>\n",
       "      <th>42</th>\n",
       "      <td>Scrypt</td>\n",
       "      <td>PoW/PoS</td>\n",
       "      <td>4.199995e+01</td>\n",
       "      <td>42</td>\n",
       "      <td>-0.340161</td>\n",
       "      <td>1.052095</td>\n",
       "      <td>-0.582825</td>\n",
       "      <td>42 Coin</td>\n",
       "      <td>0</td>\n",
       "    </tr>\n",
       "    <tr>\n",
       "      <th>404</th>\n",
       "      <td>Scrypt</td>\n",
       "      <td>PoW/PoS</td>\n",
       "      <td>1.055185e+09</td>\n",
       "      <td>532000000</td>\n",
       "      <td>-0.323507</td>\n",
       "      <td>1.052234</td>\n",
       "      <td>-0.583248</td>\n",
       "      <td>404Coin</td>\n",
       "      <td>0</td>\n",
       "    </tr>\n",
       "    <tr>\n",
       "      <th>1337</th>\n",
       "      <td>X13</td>\n",
       "      <td>PoW/PoS</td>\n",
       "      <td>2.927942e+10</td>\n",
       "      <td>314159265359</td>\n",
       "      <td>2.303716</td>\n",
       "      <td>1.639575</td>\n",
       "      <td>-0.713522</td>\n",
       "      <td>EliteCoin</td>\n",
       "      <td>0</td>\n",
       "    </tr>\n",
       "    <tr>\n",
       "      <th>BTC</th>\n",
       "      <td>SHA-256</td>\n",
       "      <td>PoW</td>\n",
       "      <td>1.792718e+07</td>\n",
       "      <td>21000000</td>\n",
       "      <td>-0.140892</td>\n",
       "      <td>-1.326493</td>\n",
       "      <td>0.165107</td>\n",
       "      <td>Bitcoin</td>\n",
       "      <td>1</td>\n",
       "    </tr>\n",
       "    <tr>\n",
       "      <th>ETH</th>\n",
       "      <td>Ethash</td>\n",
       "      <td>PoW</td>\n",
       "      <td>1.076842e+08</td>\n",
       "      <td>0</td>\n",
       "      <td>-0.154126</td>\n",
       "      <td>-2.009849</td>\n",
       "      <td>0.405255</td>\n",
       "      <td>Ethereum</td>\n",
       "      <td>1</td>\n",
       "    </tr>\n",
       "    <tr>\n",
       "      <th>LTC</th>\n",
       "      <td>Scrypt</td>\n",
       "      <td>PoW</td>\n",
       "      <td>6.303924e+07</td>\n",
       "      <td>84000000</td>\n",
       "      <td>-0.169538</td>\n",
       "      <td>-1.101006</td>\n",
       "      <td>-0.005777</td>\n",
       "      <td>Litecoin</td>\n",
       "      <td>1</td>\n",
       "    </tr>\n",
       "    <tr>\n",
       "      <th>DASH</th>\n",
       "      <td>X11</td>\n",
       "      <td>PoW/PoS</td>\n",
       "      <td>9.031294e+06</td>\n",
       "      <td>22000000</td>\n",
       "      <td>-0.393362</td>\n",
       "      <td>1.218154</td>\n",
       "      <td>-0.478724</td>\n",
       "      <td>Dash</td>\n",
       "      <td>0</td>\n",
       "    </tr>\n",
       "    <tr>\n",
       "      <th>XMR</th>\n",
       "      <td>CryptoNight-V7</td>\n",
       "      <td>PoW</td>\n",
       "      <td>1.720114e+07</td>\n",
       "      <td>0</td>\n",
       "      <td>-0.130292</td>\n",
       "      <td>-2.303661</td>\n",
       "      <td>0.411363</td>\n",
       "      <td>Monero</td>\n",
       "      <td>1</td>\n",
       "    </tr>\n",
       "    <tr>\n",
       "      <th>ETC</th>\n",
       "      <td>Ethash</td>\n",
       "      <td>PoW</td>\n",
       "      <td>1.133597e+08</td>\n",
       "      <td>210000000</td>\n",
       "      <td>-0.152568</td>\n",
       "      <td>-2.009956</td>\n",
       "      <td>0.405239</td>\n",
       "      <td>Ethereum Classic</td>\n",
       "      <td>1</td>\n",
       "    </tr>\n",
       "    <tr>\n",
       "      <th>ZEC</th>\n",
       "      <td>Equihash</td>\n",
       "      <td>PoW</td>\n",
       "      <td>7.383056e+06</td>\n",
       "      <td>21000000</td>\n",
       "      <td>-0.170793</td>\n",
       "      <td>-2.033883</td>\n",
       "      <td>0.410230</td>\n",
       "      <td>ZCash</td>\n",
       "      <td>1</td>\n",
       "    </tr>\n",
       "  </tbody>\n",
       "</table>\n",
       "</div>"
      ],
      "text/plain": [
       "           Algorithm ProofType  TotalCoinsMined TotalCoinSupply      PC 1  \\\n",
       "42            Scrypt   PoW/PoS     4.199995e+01              42 -0.340161   \n",
       "404           Scrypt   PoW/PoS     1.055185e+09       532000000 -0.323507   \n",
       "1337             X13   PoW/PoS     2.927942e+10    314159265359  2.303716   \n",
       "BTC          SHA-256       PoW     1.792718e+07        21000000 -0.140892   \n",
       "ETH           Ethash       PoW     1.076842e+08               0 -0.154126   \n",
       "LTC           Scrypt       PoW     6.303924e+07        84000000 -0.169538   \n",
       "DASH             X11   PoW/PoS     9.031294e+06        22000000 -0.393362   \n",
       "XMR   CryptoNight-V7       PoW     1.720114e+07               0 -0.130292   \n",
       "ETC           Ethash       PoW     1.133597e+08       210000000 -0.152568   \n",
       "ZEC         Equihash       PoW     7.383056e+06        21000000 -0.170793   \n",
       "\n",
       "          PC 2      PC 3          CoinName  Class  \n",
       "42    1.052095 -0.582825           42 Coin      0  \n",
       "404   1.052234 -0.583248           404Coin      0  \n",
       "1337  1.639575 -0.713522         EliteCoin      0  \n",
       "BTC  -1.326493  0.165107           Bitcoin      1  \n",
       "ETH  -2.009849  0.405255          Ethereum      1  \n",
       "LTC  -1.101006 -0.005777          Litecoin      1  \n",
       "DASH  1.218154 -0.478724              Dash      0  \n",
       "XMR  -2.303661  0.411363            Monero      1  \n",
       "ETC  -2.009956  0.405239  Ethereum Classic      1  \n",
       "ZEC  -2.033883  0.410230             ZCash      1  "
      ]
     },
     "execution_count": 143,
     "metadata": {},
     "output_type": "execute_result"
    }
   ],
   "source": [
    "# Create a new DataFrame including predicted clusters and cryptocurrencies features.\n",
    "# Concatentate the crypto_df and pcs_df DataFrames on the same columns.\n",
    "# YOUR CODE HERE\n",
    "clustered_df=pd.concat([crypto_df, pcs_df], axis=1)\n",
    "\n",
    "#  Add a new column, \"CoinName\" to the clustered_df DataFrame that holds the names of the cryptocurrencies. \n",
    "# YOUR CODE HERE\n",
    "clustered_df[\"CoinName\"]=crypto_names\n",
    "\n",
    "#  Add a new column, \"Class\" to the clustered_df DataFrame that holds the predictions.\n",
    "# YOUR CODE HERE\n",
    "clustered_df[\"Class\"]=model.labels_\n",
    "\n",
    "# Print the shape of the clustered_df\n",
    "print(clustered_df.shape)\n",
    "clustered_df.head(10)"
   ]
  },
  {
   "cell_type": "markdown",
   "metadata": {},
   "source": [
    "### Deliverable 4: Visualizing Cryptocurrencies Results\n",
    "\n",
    "#### 3D-Scatter with Clusters"
   ]
  },
  {
   "cell_type": "code",
   "execution_count": 153,
   "metadata": {},
   "outputs": [
    {
     "data": {
      "application/vnd.plotly.v1+json": {
       "config": {
        "plotlyServerURL": "https://plot.ly"
       },
       "data": [
        {
         "customdata": [
          [
           "Scrypt"
          ],
          [
           "Scrypt"
          ],
          [
           "X13"
          ],
          [
           "SHA-256"
          ],
          [
           "Ethash"
          ],
          [
           "Scrypt"
          ],
          [
           "X11"
          ],
          [
           "CryptoNight-V7"
          ],
          [
           "Ethash"
          ],
          [
           "Equihash"
          ],
          [
           "SHA-512"
          ],
          [
           "Multiple"
          ],
          [
           "SHA-256"
          ],
          [
           "SHA-256"
          ],
          [
           "Scrypt"
          ],
          [
           "X15"
          ],
          [
           "X11"
          ],
          [
           "Scrypt"
          ],
          [
           "Scrypt"
          ],
          [
           "Scrypt"
          ],
          [
           "Multiple"
          ],
          [
           "Scrypt"
          ],
          [
           "SHA-256"
          ],
          [
           "Scrypt"
          ],
          [
           "Scrypt"
          ],
          [
           "Scrypt"
          ],
          [
           "Quark"
          ],
          [
           "Groestl"
          ],
          [
           "Scrypt"
          ],
          [
           "Scrypt"
          ],
          [
           "Scrypt"
          ],
          [
           "Scrypt"
          ],
          [
           "Scrypt"
          ],
          [
           "X11"
          ],
          [
           "Scrypt"
          ],
          [
           "Groestl"
          ],
          [
           "Multiple"
          ],
          [
           "SHA-256"
          ],
          [
           "Scrypt"
          ],
          [
           "Scrypt"
          ],
          [
           "Scrypt"
          ],
          [
           "Scrypt"
          ],
          [
           "PoS"
          ],
          [
           "Scrypt"
          ],
          [
           "Scrypt"
          ],
          [
           "NeoScrypt"
          ],
          [
           "Scrypt"
          ],
          [
           "Scrypt"
          ],
          [
           "Scrypt"
          ],
          [
           "Scrypt"
          ],
          [
           "X11"
          ],
          [
           "Scrypt"
          ],
          [
           "X11"
          ],
          [
           "SHA-256"
          ],
          [
           "Scrypt"
          ],
          [
           "Scrypt"
          ],
          [
           "Scrypt"
          ],
          [
           "SHA3"
          ],
          [
           "Scrypt"
          ],
          [
           "HybridScryptHash256"
          ],
          [
           "Scrypt"
          ],
          [
           "Scrypt"
          ],
          [
           "SHA-256"
          ],
          [
           "Scrypt"
          ],
          [
           "X13"
          ],
          [
           "Scrypt"
          ],
          [
           "SHA-256"
          ],
          [
           "Scrypt"
          ],
          [
           "X13"
          ],
          [
           "NeoScrypt"
          ],
          [
           "Scrypt"
          ],
          [
           "Scrypt"
          ],
          [
           "Scrypt"
          ],
          [
           "Scrypt"
          ],
          [
           "Scrypt"
          ],
          [
           "Scrypt"
          ],
          [
           "X11"
          ],
          [
           "X11"
          ],
          [
           "SHA-256"
          ],
          [
           "Multiple"
          ],
          [
           "SHA-256"
          ],
          [
           "PHI1612"
          ],
          [
           "X11"
          ],
          [
           "SHA-256"
          ],
          [
           "SHA-256"
          ],
          [
           "SHA-256"
          ],
          [
           "X11"
          ],
          [
           "Scrypt"
          ],
          [
           "Scrypt"
          ],
          [
           "Scrypt"
          ],
          [
           "Scrypt"
          ],
          [
           "Lyra2REv2"
          ],
          [
           "Scrypt"
          ],
          [
           "X11"
          ],
          [
           "Multiple"
          ],
          [
           "SHA-256"
          ],
          [
           "X13"
          ],
          [
           "Scrypt"
          ],
          [
           "CryptoNight"
          ],
          [
           "CryptoNight"
          ],
          [
           "Shabal256"
          ],
          [
           "Counterparty"
          ],
          [
           "Scrypt"
          ],
          [
           "SHA-256"
          ],
          [
           "Groestl"
          ],
          [
           "Scrypt"
          ],
          [
           "Scrypt"
          ],
          [
           "Scrypt"
          ],
          [
           "X13"
          ],
          [
           "Scrypt"
          ],
          [
           "Scrypt"
          ],
          [
           "Scrypt"
          ],
          [
           "Scrypt"
          ],
          [
           "X13"
          ],
          [
           "Scrypt"
          ],
          [
           "Stanford Folding"
          ],
          [
           "X11"
          ],
          [
           "Multiple"
          ],
          [
           "QuBit"
          ],
          [
           "Scrypt"
          ],
          [
           "Scrypt"
          ],
          [
           "Scrypt"
          ],
          [
           "M7 POW"
          ],
          [
           "Scrypt"
          ],
          [
           "SHA-256"
          ],
          [
           "Scrypt"
          ],
          [
           "X11"
          ],
          [
           "SHA3"
          ],
          [
           "X11"
          ],
          [
           "Lyra2RE"
          ],
          [
           "SHA-256"
          ],
          [
           "QUAIT"
          ],
          [
           "X11"
          ],
          [
           "X11"
          ],
          [
           "Scrypt"
          ],
          [
           "Scrypt"
          ],
          [
           "Scrypt"
          ],
          [
           "Ethash"
          ],
          [
           "X13"
          ],
          [
           "Blake2b"
          ],
          [
           "SHA-256"
          ],
          [
           "X15"
          ],
          [
           "X11"
          ],
          [
           "SHA-256"
          ],
          [
           "BLAKE256"
          ],
          [
           "Scrypt"
          ],
          [
           "1GB AES Pattern Search"
          ],
          [
           "SHA-256"
          ],
          [
           "X11"
          ],
          [
           "Scrypt"
          ],
          [
           "SHA-256"
          ],
          [
           "SHA-256"
          ],
          [
           "NIST5"
          ],
          [
           "Scrypt"
          ],
          [
           "Scrypt"
          ],
          [
           "X11"
          ],
          [
           "Dagger"
          ],
          [
           "Scrypt"
          ],
          [
           "X11GOST"
          ],
          [
           "X11"
          ],
          [
           "Scrypt"
          ],
          [
           "SHA-256"
          ],
          [
           "Scrypt"
          ],
          [
           "PoS"
          ],
          [
           "Scrypt"
          ],
          [
           "X11"
          ],
          [
           "X11"
          ],
          [
           "SHA-256"
          ],
          [
           "SHA-256"
          ],
          [
           "NIST5"
          ],
          [
           "X11"
          ],
          [
           "Scrypt"
          ],
          [
           "POS 3.0"
          ],
          [
           "Scrypt"
          ],
          [
           "Scrypt"
          ],
          [
           "Scrypt"
          ],
          [
           "X13"
          ],
          [
           "X11"
          ],
          [
           "X11"
          ],
          [
           "Equihash"
          ],
          [
           "X11"
          ],
          [
           "Scrypt"
          ],
          [
           "CryptoNight"
          ],
          [
           "SHA-256"
          ],
          [
           "SHA-256"
          ],
          [
           "X11"
          ],
          [
           "Scrypt"
          ],
          [
           "Multiple"
          ],
          [
           "Scrypt"
          ],
          [
           "Scrypt"
          ],
          [
           "Scrypt"
          ],
          [
           "SHA-256"
          ],
          [
           "Scrypt"
          ],
          [
           "Scrypt"
          ],
          [
           "SHA-256D"
          ],
          [
           "PoS"
          ],
          [
           "Scrypt"
          ],
          [
           "X11"
          ],
          [
           "Lyra2Z"
          ],
          [
           "PoS"
          ],
          [
           "X13"
          ],
          [
           "X14"
          ],
          [
           "PoS"
          ],
          [
           "SHA-256D"
          ],
          [
           "Ethash"
          ],
          [
           "Equihash"
          ],
          [
           "DPoS"
          ],
          [
           "X11"
          ],
          [
           "Scrypt"
          ],
          [
           "X11"
          ],
          [
           "X13"
          ],
          [
           "X11"
          ],
          [
           "PoS"
          ],
          [
           "Scrypt"
          ],
          [
           "Scrypt"
          ],
          [
           "X11"
          ],
          [
           "PoS"
          ],
          [
           "X11"
          ],
          [
           "SHA-256"
          ],
          [
           "Scrypt"
          ],
          [
           "X11"
          ],
          [
           "Scrypt"
          ],
          [
           "Scrypt"
          ],
          [
           "X11"
          ],
          [
           "CryptoNight"
          ],
          [
           "Scrypt"
          ],
          [
           "Scrypt"
          ],
          [
           "Scrypt"
          ],
          [
           "Scrypt"
          ],
          [
           "Quark"
          ],
          [
           "QuBit"
          ],
          [
           "Scrypt"
          ],
          [
           "CryptoNight"
          ],
          [
           "Lyra2RE"
          ],
          [
           "Scrypt"
          ],
          [
           "SHA-256"
          ],
          [
           "X11"
          ],
          [
           "Scrypt"
          ],
          [
           "X11"
          ],
          [
           "Scrypt"
          ],
          [
           "CryptoNight-V7"
          ],
          [
           "Scrypt"
          ],
          [
           "Scrypt"
          ],
          [
           "Scrypt"
          ],
          [
           "X13"
          ],
          [
           "X11"
          ],
          [
           "Equihash"
          ],
          [
           "Scrypt"
          ],
          [
           "Scrypt"
          ],
          [
           "Lyra2RE"
          ],
          [
           "Scrypt"
          ],
          [
           "Dagger-Hashimoto"
          ],
          [
           "X11"
          ],
          [
           "Blake2S"
          ],
          [
           "X11"
          ],
          [
           "Scrypt"
          ],
          [
           "PoS"
          ],
          [
           "X11"
          ],
          [
           "NIST5"
          ],
          [
           "PoS"
          ],
          [
           "X11"
          ],
          [
           "Scrypt"
          ],
          [
           "Scrypt"
          ],
          [
           "Scrypt"
          ],
          [
           "SHA-256"
          ],
          [
           "X11"
          ],
          [
           "Scrypt"
          ],
          [
           "Scrypt"
          ],
          [
           "SHA-256"
          ],
          [
           "PoS"
          ],
          [
           "Scrypt"
          ],
          [
           "X15"
          ],
          [
           "SHA-256"
          ],
          [
           "Scrypt"
          ],
          [
           "POS 3.0"
          ],
          [
           "CryptoNight-V7"
          ],
          [
           "536"
          ],
          [
           "Argon2d"
          ],
          [
           "Blake2b"
          ],
          [
           "Cloverhash"
          ],
          [
           "CryptoNight"
          ],
          [
           "NIST5"
          ],
          [
           "X11"
          ],
          [
           "NIST5"
          ],
          [
           "Skein"
          ],
          [
           "Scrypt"
          ],
          [
           "X13"
          ],
          [
           "Scrypt"
          ],
          [
           "X11"
          ],
          [
           "X11"
          ],
          [
           "Scrypt"
          ],
          [
           "CryptoNight"
          ],
          [
           "X13"
          ],
          [
           "Time Travel"
          ],
          [
           "Scrypt"
          ],
          [
           "Keccak"
          ],
          [
           "SkunkHash v2 Raptor"
          ],
          [
           "X11"
          ],
          [
           "Skein"
          ],
          [
           "SHA-256"
          ],
          [
           "X11"
          ],
          [
           "Scrypt"
          ],
          [
           "VeChainThor Authority"
          ],
          [
           "Scrypt"
          ],
          [
           "PoS"
          ],
          [
           "Scrypt"
          ],
          [
           "Scrypt"
          ],
          [
           "Scrypt"
          ],
          [
           "Scrypt"
          ],
          [
           "Scrypt"
          ],
          [
           "Scrypt"
          ],
          [
           "Scrypt"
          ],
          [
           "CryptoNight"
          ],
          [
           "SHA-512"
          ],
          [
           "Ouroboros"
          ],
          [
           "X11"
          ],
          [
           "Equihash"
          ],
          [
           "NeoScrypt"
          ],
          [
           "X11"
          ],
          [
           "Scrypt"
          ],
          [
           "NeoScrypt"
          ],
          [
           "Lyra2REv2"
          ],
          [
           "Equihash"
          ],
          [
           "Scrypt"
          ],
          [
           "SHA-256"
          ],
          [
           "NIST5"
          ],
          [
           "PHI1612"
          ],
          [
           "Dagger"
          ],
          [
           "Scrypt"
          ],
          [
           "Quark"
          ],
          [
           "Scrypt"
          ],
          [
           "POS 2.0"
          ],
          [
           "Scrypt"
          ],
          [
           "SHA-256"
          ],
          [
           "X11"
          ],
          [
           "NeoScrypt"
          ],
          [
           "Ethash"
          ],
          [
           "NeoScrypt"
          ],
          [
           "X11"
          ],
          [
           "DPoS"
          ],
          [
           "NIST5"
          ],
          [
           "X13"
          ],
          [
           "Multiple"
          ],
          [
           "Scrypt"
          ],
          [
           "CryptoNight"
          ],
          [
           "CryptoNight"
          ],
          [
           "Ethash"
          ],
          [
           "NIST5"
          ],
          [
           "Quark"
          ],
          [
           "X11"
          ],
          [
           "CryptoNight-V7"
          ],
          [
           "Scrypt"
          ],
          [
           "Scrypt"
          ],
          [
           "Scrypt"
          ],
          [
           "X11"
          ],
          [
           "BLAKE256"
          ],
          [
           "X11"
          ],
          [
           "NeoScrypt"
          ],
          [
           "Quark"
          ],
          [
           "NeoScrypt"
          ],
          [
           "Scrypt"
          ],
          [
           "Scrypt"
          ],
          [
           "Scrypt"
          ],
          [
           "X11"
          ],
          [
           "X11"
          ],
          [
           "SHA-256"
          ],
          [
           "C11"
          ],
          [
           "POS 3.0"
          ],
          [
           "Ethash"
          ],
          [
           "Scrypt"
          ],
          [
           "CryptoNight"
          ],
          [
           "SkunkHash"
          ],
          [
           "Scrypt"
          ],
          [
           "CryptoNight"
          ],
          [
           "Scrypt"
          ],
          [
           "Dagger"
          ],
          [
           "Lyra2REv2"
          ],
          [
           "X13"
          ],
          [
           "Proof-of-BibleHash"
          ],
          [
           "SHA-256 + Hive"
          ],
          [
           "Scrypt"
          ],
          [
           "Scrypt"
          ],
          [
           "X11"
          ],
          [
           "C11"
          ],
          [
           "Proof-of-Authority"
          ],
          [
           "X11"
          ],
          [
           "XEVAN"
          ],
          [
           "Scrypt"
          ],
          [
           "VBFT"
          ],
          [
           "Ethash"
          ],
          [
           "CryptoNight"
          ],
          [
           "Scrypt"
          ],
          [
           "IMesh"
          ],
          [
           "NIST5"
          ],
          [
           "Scrypt"
          ],
          [
           "Scrypt"
          ],
          [
           "Equihash"
          ],
          [
           "Scrypt"
          ],
          [
           "Lyra2Z"
          ],
          [
           "Green Protocol"
          ],
          [
           "PoS"
          ],
          [
           "Scrypt"
          ],
          [
           "Semux BFT consensus"
          ],
          [
           "X11"
          ],
          [
           "Quark"
          ],
          [
           "PoS"
          ],
          [
           "CryptoNight"
          ],
          [
           "X16R"
          ],
          [
           "Scrypt"
          ],
          [
           "NIST5"
          ],
          [
           "Lyra2RE"
          ],
          [
           "XEVAN"
          ],
          [
           "Tribus"
          ],
          [
           "Scrypt"
          ],
          [
           "Lyra2Z"
          ],
          [
           "CryptoNight"
          ],
          [
           "CryptoNight Heavy"
          ],
          [
           "CryptoNight"
          ],
          [
           "Scrypt"
          ],
          [
           "Scrypt"
          ],
          [
           "Jump Consistent Hash"
          ],
          [
           "SHA-256D"
          ],
          [
           "CryptoNight"
          ],
          [
           "Scrypt"
          ],
          [
           "X15"
          ],
          [
           "Scrypt"
          ],
          [
           "Quark"
          ],
          [
           "SHA-256"
          ],
          [
           "DPoS"
          ],
          [
           "X16R"
          ],
          [
           "HMQ1725"
          ],
          [
           "X11"
          ],
          [
           "X16R"
          ],
          [
           "Quark"
          ],
          [
           "Quark"
          ],
          [
           "Scrypt"
          ],
          [
           "Lyra2REv2"
          ],
          [
           "Quark"
          ],
          [
           "Scrypt"
          ],
          [
           "Scrypt"
          ],
          [
           "CryptoNight-V7"
          ],
          [
           "Cryptonight-GPU"
          ],
          [
           "XEVAN"
          ],
          [
           "CryptoNight Heavy"
          ],
          [
           "X11"
          ],
          [
           "X11"
          ],
          [
           "Scrypt"
          ],
          [
           "PoS"
          ],
          [
           "SHA-256"
          ],
          [
           "Keccak"
          ],
          [
           "X11"
          ],
          [
           "X11"
          ],
          [
           "Scrypt"
          ],
          [
           "SHA-512"
          ],
          [
           "X16R"
          ],
          [
           "ECC 256K1"
          ],
          [
           "Equihash"
          ],
          [
           "XEVAN"
          ],
          [
           "Lyra2Z"
          ],
          [
           "SHA-256"
          ],
          [
           "XEVAN"
          ],
          [
           "X11"
          ],
          [
           "CryptoNight"
          ],
          [
           "Quark"
          ],
          [
           "Blake"
          ],
          [
           "Blake"
          ],
          [
           "Equihash"
          ],
          [
           "Exosis"
          ],
          [
           "Scrypt"
          ],
          [
           "Scrypt"
          ],
          [
           "Equihash"
          ],
          [
           "Quark"
          ],
          [
           "Equihash"
          ],
          [
           "Quark"
          ],
          [
           "Scrypt"
          ],
          [
           "QuBit"
          ],
          [
           "X11"
          ],
          [
           "Scrypt"
          ],
          [
           "XEVAN"
          ],
          [
           "SHA-256D"
          ],
          [
           "X11"
          ],
          [
           "SHA-256"
          ],
          [
           "X13"
          ],
          [
           "SHA-256"
          ],
          [
           "X11"
          ],
          [
           "DPoS"
          ],
          [
           "Scrypt"
          ],
          [
           "Scrypt"
          ],
          [
           "X11"
          ],
          [
           "NeoScrypt"
          ],
          [
           "Scrypt"
          ],
          [
           "Blake"
          ],
          [
           "Scrypt"
          ],
          [
           "SHA-256"
          ],
          [
           "Scrypt"
          ],
          [
           "X11"
          ],
          [
           "Scrypt"
          ],
          [
           "Scrypt"
          ],
          [
           "SHA-256"
          ],
          [
           "X11"
          ],
          [
           "SHA-256"
          ],
          [
           "Scrypt"
          ],
          [
           "Scrypt"
          ],
          [
           "Scrypt"
          ],
          [
           "Groestl"
          ],
          [
           "X11"
          ],
          [
           "Scrypt"
          ],
          [
           "PoS"
          ],
          [
           "Scrypt"
          ],
          [
           "Scrypt"
          ],
          [
           "X11"
          ],
          [
           "SHA-256"
          ],
          [
           "DPoS"
          ],
          [
           "Scrypt"
          ],
          [
           "Scrypt"
          ],
          [
           "NeoScrypt"
          ],
          [
           "Multiple"
          ],
          [
           "X13"
          ],
          [
           "Equihash+Scrypt"
          ],
          [
           "DPoS"
          ],
          [
           "Ethash"
          ],
          [
           "DPoS"
          ],
          [
           "SHA-256"
          ],
          [
           "Leased POS"
          ],
          [
           "PoS"
          ],
          [
           "TRC10"
          ],
          [
           "PoS"
          ],
          [
           "SHA-256"
          ],
          [
           "Scrypt"
          ],
          [
           "CryptoNight"
          ],
          [
           "Equihash"
          ],
          [
           "Scrypt"
          ]
         ],
         "hovertemplate": "<b>%{hovertext}</b><br><br>PC 1=%{x}<br>PC 2=%{y}<br>PC 3=%{z}<br>Algorithm=%{customdata[0]}<br>Class=%{marker.color}<extra></extra>",
         "hovertext": [
          "42 Coin",
          "404Coin",
          "EliteCoin",
          "Bitcoin",
          "Ethereum",
          "Litecoin",
          "Dash",
          "Monero",
          "Ethereum Classic",
          "ZCash",
          "Bitshares",
          "DigiByte",
          "BitcoinDark",
          "PayCoin",
          "ProsperCoin",
          "KoboCoin",
          "Spreadcoin",
          "Argentum",
          "Aurora Coin",
          "BlueCoin",
          "MyriadCoin",
          "MoonCoin",
          "ZetaCoin",
          "SexCoin",
          "Quatloo",
          "EnergyCoin",
          "QuarkCoin",
          "Riecoin",
          "Digitalcoin ",
          "BitBar",
          "Catcoin",
          "CryptoBullion",
          "CannaCoin",
          "CryptCoin",
          "CasinoCoin",
          "Diamond",
          "Verge",
          "DevCoin",
          "EarthCoin",
          "E-Gulden",
          "Einsteinium",
          "Emerald",
          "Exclusive Coin",
          "FlutterCoin",
          "Franko",
          "FeatherCoin",
          "GrandCoin",
          "GlobalCoin",
          "GoldCoin",
          "HoboNickels",
          "HyperStake",
          "Infinite Coin",
          "IOCoin",
          "IXcoin",
          "KrugerCoin",
          "LuckyCoin",
          "Litebar ",
          "MaxCoin",
          "MegaCoin",
          "MediterraneanCoin",
          "MintCoin",
          "MinCoin",
          "MazaCoin",
          "Nautilus Coin",
          "NavCoin",
          "NobleCoin",
          "Namecoin",
          "NyanCoin",
          "OpalCoin",
          "Orbitcoin",
          "PotCoin",
          "PhoenixCoin",
          "Reddcoin",
          "RonPaulCoin",
          "StableCoin",
          "SmartCoin",
          "SuperCoin",
          "SyncCoin",
          "SysCoin",
          "TeslaCoin",
          "TigerCoin",
          "TittieCoin",
          "TorCoin",
          "TerraCoin",
          "UnbreakableCoin",
          "Unobtanium",
          "UroCoin",
          "UnitaryStatus Dollar",
          "UltraCoin",
          "ViaCoin",
          "VeriCoin",
          "Vertcoin",
          "WorldCoin",
          "X11 Coin",
          "Crypti",
          "JouleCoin",
          "StealthCoin",
          "ZCC Coin",
          "ByteCoin",
          "DigitalNote ",
          "BurstCoin",
          "StorjCoin",
          "MonaCoin",
          "Neutron",
          "FairCoin",
          "Gulden",
          "RubyCoin",
          "PesetaCoin",
          "Kore",
          "Wild Beast Coin",
          "Dnotes",
          "Flo",
          "8BIT Coin",
          "Sativa Coin",
          "ArtByte",
          "Folding Coin",
          "Ucoin",
          "Unitus",
          "CypherPunkCoin",
          "OmniCron",
          "Vtorrent",
          "GreenCoin",
          "Cryptonite",
          "MasterCoin",
          "SoonCoin",
          "1Credit",
          "IslaCoin",
          "Nexus",
          "MarsCoin ",
          "Crypto",
          "Anarchists Prime",
          "Droidz",
          "BowsCoin",
          "Squall Coin",
          "Song Coin",
          "BitZeny",
          "Diggits",
          "Expanse",
          "Paycon",
          "Siacoin",
          "Emercoin",
          "EverGreenCoin",
          "MindCoin",
          "I0coin",
          "Decred",
          "Revolution VR",
          "HOdlcoin",
          "EDRCoin",
          "Hitcoin",
          "Gamecredits",
          "DubaiCoin",
          "CarpeDiemCoin",
          "PWR Coin",
          "BillaryCoin",
          "GPU Coin",
          "Adzcoin",
          "SoilCoin",
          "YoCoin",
          "SibCoin",
          "EuropeCoin",
          "ZeitCoin",
          "SwingCoin",
          "SafeExchangeCoin",
          "Nebuchadnezzar",
          "Francs",
          "BolivarCoin",
          "Ratecoin",
          "Revenu",
          "Clockcoin",
          "VIP Tokens",
          "BitSend",
          "Omni",
          "Let it Ride",
          "PutinCoin",
          "iBankCoin",
          "Frankywillcoin",
          "MudraCoin",
          "PizzaCoin",
          "Lutetium Coin",
          "Komodo",
          "GoldBlocks",
          "CarterCoin",
          "Karbo",
          "BitTokens",
          "ZayedCoin",
          "MustangCoin",
          "ZoneCoin",
          "Circuits of Value",
          "RootCoin",
          "DopeCoin",
          "BitCurrency",
          "DollarCoin",
          "Swiscoin",
          "Shilling",
          "BuzzCoin",
          "Opair",
          "PesoBit",
          "Halloween Coin",
          "ZCoin",
          "CoffeeCoin",
          "RoyalCoin",
          "GanjaCoin V2",
          "TeamUP",
          "LanaCoin",
          "Elementrem",
          "ZClassic",
          "ARK",
          "InsaneCoin",
          "KiloCoin",
          "ArtexCoin",
          "EmberCoin",
          "XenixCoin",
          "FreeCoin",
          "PLNCoin",
          "AquariusCoin",
          "Kurrent",
          "Creatio",
          "Eternity",
          "Eurocoin",
          "BitcoinFast",
          "Stakenet",
          "BitConnect Coin",
          "MoneyCoin",
          "Enigma",
          "Cannabis Industry Coin",
          "Russiacoin",
          "PandaCoin",
          "GameUnits",
          "GAKHcoin",
          "Allsafe",
          "LiteCreed",
          "OsmiumCoin",
          "Bikercoins",
          "HexxCoin",
          "Klingon Empire Darsek",
          "Internet of People",
          "KushCoin",
          "Printerium",
          "PacCoin",
          "Impeach",
          "Citadel",
          "Zilbercoin",
          "FirstCoin",
          "BeaverCoin",
          "FindCoin",
          "VaultCoin",
          "Zero",
          "OpenChat",
          "Canada eCoin",
          "Zoin",
          "RenosCoin",
          "DubaiCoin",
          "VirtacoinPlus",
          "TajCoin",
          "Impact",
          "EB3coin",
          "Atmos",
          "HappyCoin",
          "Coinonat",
          "MacronCoin",
          "Condensate",
          "Independent Money System",
          "ArgusCoin",
          "LomoCoin",
          "ProCurrency",
          "GoldReserve",
          "BenjiRolls",
          "GrowthCoin",
          "ILCoin",
          "Phreak",
          "Degas Coin",
          "HTML5 Coin",
          "Ultimate Secure Cash",
          "EquiTrader",
          "QTUM",
          "Quantum Resistant Ledger",
          "Espers",
          "Dynamic",
          "Nano",
          "ChanCoin",
          "Dinastycoin",
          "Denarius",
          "DigitalPrice",
          "Virta Unique Coin",
          "Bitcoin Planet",
          "Unify",
          "BritCoin",
          "SocialCoin",
          "ArcticCoin",
          "DAS",
          "Linda",
          "LeviarCoin",
          "DeepOnion",
          "Bitcore",
          "gCn Coin",
          "SmartCash",
          "Signatum",
          "Onix",
          "Cream",
          "Bitcoin Cash",
          "Monoeci",
          "Draftcoin",
          "Vechain",
          "Sojourn Coin",
          "Stakecoin",
          "NewYorkCoin",
          "FrazCoin",
          "Kronecoin",
          "AdCoin",
          "Linx",
          "CoinonatX",
          "Ethereum Dark",
          "Sumokoin",
          "Obsidian",
          "Cardano",
          "Regalcoin",
          "BitcoinZ",
          "TrezarCoin",
          "Elements",
          "TerraNovaCoin",
          "VIVO Coin",
          "Rupee",
          "Bitcoin Gold",
          "WomenCoin",
          "Theresa May Coin",
          "NamoCoin",
          "LUXCoin",
          "Pirl",
          "Xios",
          "Bitcloud 2.0",
          "eBoost",
          "KekCoin",
          "BlackholeCoin",
          "Infinity Economics",
          "Pura",
          "Innova",
          "Ellaism",
          "GoByte",
          "Magnet",
          "Lamden Tau",
          "Electra",
          "Bitcoin Diamond",
          "SHIELD",
          "Cash & Back Coin",
          "UltraNote",
          "BitCoal",
          "DaxxCoin",
          "Bulwark",
          "Kalkulus",
          "AC3",
          "Lethean",
          "GermanCoin",
          "LiteCoin Ultra",
          "PopularCoin",
          "PhantomX",
          "Photon",
          "Sucre",
          "SparksPay",
          "Digiwage",
          "GunCoin",
          "IrishCoin",
          "Trollcoin",
          "Litecoin Plus",
          "Monkey Project",
          "Pioneer Coin",
          "UnitedBitcoin",
          "Interzone",
          "TokenPay",
          "1717 Masonic Commemorative Token",
          "My Big Coin",
          "TurtleCoin",
          "MUNcoin",
          "Unified Society USDEX",
          "Niobio Cash",
          "ShareChain",
          "Travelflex",
          "KREDS",
          "Tokyo Coin",
          "BiblePay",
          "LitecoinCash",
          "BitFlip",
          "LottoCoin",
          "Crypto Improvement Fund",
          "Stipend",
          "Poa Network",
          "Pushi",
          "Ellerium",
          "Velox",
          "Ontology",
          "Callisto Network",
          "BitTube",
          "Poseidon",
          "Aidos Kuneen",
          "Bitspace",
          "Briacoin",
          "Ignition",
          "Bitrolium",
          "MedicCoin",
          "Alpenschillling",
          "Bitcoin Green",
          "Deviant Coin",
          "Abjcoin",
          "Semux",
          "FuturoCoin",
          "Carebit",
          "Zealium",
          "Monero Classic",
          "Proton",
          "iDealCash",
          "Jumpcoin",
          "Infinex",
          "Bitcoin Incognito",
          "KEYCO",
          "HollyWoodCoin",
          "GINcoin",
          "PlatinCoin",
          "Loki",
          "Newton Coin",
          "Swisscoin",
          "Xt3ch",
          "MassGrid",
          "TheVig",
          "PluraCoin",
          "EmaratCoin",
          "Dekado",
          "Lynx",
          "Poseidon Quark",
          "BitcoinWSpectrum",
          "Muse",
          "Motion",
          "PlusOneCoin",
          "Axe",
          "Trivechain",
          "Dystem",
          "Giant",
          "Peony Coin",
          "Absolute Coin",
          "Vitae",
          "HexCoin",
          "TPCash",
          "Webchain",
          "Ryo",
          "Urals Coin",
          "Qwertycoin",
          "ARENON",
          "EUNO",
          "MMOCoin",
          "Ketan",
          "Project Pai",
          "XDNA",
          "PAXEX",
          "Azart",
          "ThunderStake",
          "Kcash",
          "Xchange",
          "Acute Angle Cloud",
          "CrypticCoin",
          "Bettex coin",
          "Actinium",
          "Bitcoin SV",
          "BitMoney",
          "Junson Ming Chan Coin",
          "FREDEnergy",
          "HerbCoin",
          "Universal Molecule",
          "Lithium",
          "PirateCash",
          "Exosis",
          "Block-Logic",
          "Oduwa",
          "Beam",
          "Galilel",
          "Bithereum",
          "Crypto Sports",
          "Credit",
          "SLICE",
          "Dash Platinum",
          "Nasdacoin",
          "Beetle Coin",
          "Titan Coin",
          "Award",
          "BLAST",
          "Bitcoin Rhodium",
          "GlobalToken",
          "Insane Coin",
          "ALAX",
          "LiteDoge",
          "SolarCoin",
          "TruckCoin",
          "UFO Coin",
          "OrangeCoin",
          "BlakeCoin",
          "BitstarCoin",
          "NeosCoin",
          "HyperCoin",
          "PinkCoin",
          "Crypto Escudo",
          "AudioCoin",
          "IncaKoin",
          "Piggy Coin",
          "Crown Coin",
          "Genstake",
          "SmileyCoin",
          "XiaoMiCoin",
          "Groestlcoin",
          "CapriCoin",
          " ClubCoin",
          "Radium",
          "Bata",
          "Pakcoin",
          "Creditbit ",
          "OKCash",
          "Lisk",
          "HiCoin",
          "WhiteCoin",
          "FriendshipCoin",
          "JoinCoin",
          "Triangles Coin",
          "Vollar",
          "EOS",
          "Reality Clash",
          "Oxycoin",
          "TigerCash",
          "Waves",
          "Particl",
          "BitTorrent",
          "Nxt",
          "ZEPHYR",
          "Gapcoin",
          "Beldex",
          "Horizen",
          "BitcoinPlus"
         ],
         "legendgroup": "",
         "marker": {
          "color": [
           0,
           0,
           0,
           1,
           1,
           1,
           0,
           1,
           1,
           1,
           0,
           1,
           0,
           0,
           1,
           0,
           1,
           1,
           0,
           0,
           1,
           1,
           1,
           1,
           1,
           0,
           1,
           1,
           1,
           0,
           1,
           0,
           1,
           1,
           0,
           0,
           1,
           1,
           1,
           1,
           1,
           1,
           0,
           0,
           1,
           1,
           1,
           1,
           1,
           0,
           0,
           1,
           0,
           1,
           1,
           1,
           1,
           0,
           1,
           1,
           0,
           1,
           0,
           0,
           0,
           1,
           1,
           1,
           0,
           0,
           0,
           0,
           0,
           1,
           1,
           1,
           0,
           0,
           1,
           0,
           1,
           0,
           0,
           1,
           1,
           1,
           1,
           0,
           0,
           1,
           0,
           1,
           1,
           0,
           0,
           1,
           0,
           0,
           1,
           1,
           0,
           0,
           1,
           0,
           0,
           1,
           0,
           1,
           0,
           1,
           0,
           1,
           0,
           0,
           1,
           1,
           0,
           1,
           1,
           1,
           0,
           1,
           1,
           1,
           1,
           1,
           0,
           0,
           1,
           1,
           1,
           0,
           1,
           0,
           1,
           1,
           0,
           1,
           0,
           1,
           0,
           0,
           1,
           1,
           0,
           1,
           1,
           0,
           0,
           1,
           0,
           1,
           0,
           0,
           0,
           1,
           1,
           1,
           1,
           0,
           0,
           0,
           0,
           0,
           1,
           1,
           0,
           0,
           0,
           0,
           0,
           1,
           0,
           0,
           0,
           0,
           0,
           1,
           0,
           1,
           0,
           0,
           1,
           0,
           1,
           0,
           0,
           1,
           0,
           1,
           0,
           1,
           0,
           1,
           0,
           0,
           0,
           0,
           1,
           0,
           0,
           0,
           0,
           0,
           1,
           1,
           0,
           0,
           1,
           1,
           0,
           0,
           0,
           0,
           0,
           1,
           0,
           0,
           0,
           0,
           0,
           0,
           0,
           0,
           1,
           0,
           0,
           0,
           0,
           0,
           0,
           1,
           1,
           1,
           0,
           0,
           0,
           0,
           1,
           0,
           1,
           0,
           0,
           1,
           0,
           1,
           1,
           0,
           1,
           1,
           0,
           1,
           0,
           0,
           0,
           1,
           0,
           0,
           1,
           0,
           0,
           0,
           0,
           0,
           0,
           0,
           1,
           0,
           1,
           0,
           0,
           0,
           0,
           1,
           0,
           1,
           0,
           1,
           1,
           1,
           1,
           0,
           1,
           0,
           0,
           1,
           0,
           1,
           1,
           1,
           0,
           1,
           0,
           1,
           1,
           1,
           0,
           1,
           0,
           1,
           0,
           0,
           3,
           1,
           0,
           1,
           1,
           1,
           1,
           1,
           0,
           0,
           1,
           0,
           0,
           0,
           1,
           0,
           1,
           0,
           1,
           0,
           1,
           0,
           0,
           0,
           0,
           1,
           0,
           0,
           1,
           0,
           0,
           0,
           1,
           1,
           1,
           1,
           0,
           0,
           0,
           0,
           1,
           0,
           1,
           1,
           1,
           0,
           0,
           1,
           1,
           0,
           0,
           1,
           0,
           1,
           1,
           1,
           0,
           1,
           1,
           0,
           0,
           0,
           1,
           1,
           1,
           0,
           0,
           0,
           1,
           1,
           0,
           1,
           1,
           1,
           1,
           0,
           3,
           3,
           1,
           1,
           1,
           0,
           3,
           0,
           0,
           0,
           0,
           1,
           1,
           1,
           1,
           0,
           0,
           0,
           1,
           0,
           1,
           0,
           0,
           0,
           0,
           1,
           0,
           0,
           1,
           0,
           0,
           1,
           1,
           0,
           1,
           0,
           1,
           1,
           1,
           1,
           0,
           0,
           1,
           0,
           1,
           0,
           0,
           0,
           0,
           0,
           0,
           1,
           1,
           1,
           0,
           0,
           0,
           0,
           0,
           0,
           1,
           0,
           1,
           1,
           1,
           1,
           0,
           0,
           0,
           0,
           1,
           0,
           0,
           1,
           0,
           0,
           1,
           3,
           1,
           0,
           1,
           1,
           0,
           0,
           1,
           0,
           1,
           1,
           0,
           1,
           1,
           0,
           1,
           0,
           1,
           0,
           0,
           1,
           0,
           0,
           0,
           0,
           0,
           1,
           1,
           1,
           0,
           0,
           0,
           1,
           0,
           1,
           0,
           1,
           0,
           0,
           0,
           0,
           1,
           0,
           0,
           0,
           1,
           0,
           1,
           0,
           1,
           0,
           0,
           0,
           1,
           1,
           0,
           0,
           0,
           0,
           0,
           0,
           1,
           0,
           1,
           0,
           1,
           0,
           0,
           3,
           0,
           2,
           0,
           0,
           0,
           1,
           1,
           0
          ],
          "coloraxis": "coloraxis",
          "symbol": "circle"
         },
         "mode": "markers",
         "name": "",
         "scene": "scene",
         "showlegend": false,
         "type": "scatter3d",
         "x": [
          -0.3401608135955141,
          -0.32350736792186574,
          2.3037163793430957,
          -0.14089181360227337,
          -0.1541259309375606,
          -0.16953783514695833,
          -0.39336206214354885,
          -0.13029171653847743,
          -0.15256764501877282,
          -0.1707926246414573,
          -0.24869599224462,
          0.159847725298587,
          -0.3103456562080971,
          -0.26510937728687745,
          -0.17068367813513902,
          -0.24252066196865366,
          -0.22409256328972643,
          -0.17030020084981787,
          -0.3398205303983246,
          -0.3324037934189297,
          -0.093504817116487,
          2.5518430533966634,
          -0.1379778366276558,
          -0.16755631093729453,
          -0.17010412601458552,
          -0.33865850904564887,
          -0.23290755113050665,
          -0.1937736325381408,
          -0.170153215750717,
          -0.3401567493692107,
          -0.1706659569674257,
          -0.34014103876809193,
          -0.17075240351867244,
          -0.22418185473812455,
          0.6443595345106463,
          -0.36416052651841474,
          0.18354944319806604,
          0.2368249515789927,
          0.07789022515789465,
          -0.17049882811419956,
          -0.1661054144207425,
          -0.1704380906221213,
          -0.3395659587404068,
          -0.28410594249575166,
          -0.1708093783028311,
          -0.1629384310465511,
          -0.15003710303882886,
          -0.16960495341039078,
          -0.16988218526329818,
          -0.3382202184106386,
          -0.3279646104916683,
          1.5774544924936482,
          -0.3932568370015171,
          -0.14085321094651024,
          -0.16717221650491026,
          -0.1705252574365194,
          -0.170879942132267,
          -0.3853998959476841,
          -0.1701394497979467,
          -0.1376776156729398,
          -0.035039475849500595,
          -0.17076123527306555,
          -0.27366296387618744,
          -0.294675633039364,
          -0.28045068945010376,
          -0.03566166201570062,
          -0.14093076540852412,
          -0.16442749548822963,
          -0.28107243307047913,
          -0.3370599607549929,
          -0.3344644493379333,
          -0.33856307933465524,
          0.017712834632871297,
          -0.1707406163923196,
          -0.16883476456734672,
          -0.1702275239891437,
          -0.34783634521079837,
          -0.3936282820598007,
          -0.12808620683466676,
          -0.25069141453944904,
          -0.14039474327466286,
          -0.32099859977893974,
          -0.39353991916391345,
          -0.1406817749099955,
          -0.140664512551479,
          -0.14125533684950276,
          -0.2243557464307621,
          -0.3154004306261113,
          -0.33883851299667145,
          -0.17045729700387374,
          -0.2847353742689171,
          -0.16635092778386418,
          -0.16756091615313878,
          -0.3935044526674101,
          -0.2511594899994627,
          -0.14046200317232718,
          -0.2808534603715232,
          -0.33126371957560125,
          3.8755334603878415,
          0.4757677877310373,
          -0.03141230605476679,
          -0.3347997574289739,
          -0.16932514850409583,
          -0.3095576446393366,
          -0.36358255210900303,
          -0.1539244187991816,
          -0.2946560183120894,
          -0.16804447347346801,
          -0.2811476810645501,
          -0.17088214111763492,
          -0.28931061886207765,
          -0.167909653988499,
          -0.34014289554361515,
          -0.281099916003969,
          -0.15413750830436904,
          -0.14324112187458574,
          -0.34828071974877634,
          -0.12750049311568476,
          -0.2009795062007466,
          -0.17075530537263456,
          -0.33987733854310015,
          -0.04371680984899745,
          -0.12118724813674672,
          -0.1708910409555695,
          -0.14095852287748314,
          0.4814226551665105,
          -0.39360982477763173,
          -0.3420768811459671,
          -0.22374314971780204,
          -0.15908759194512628,
          -0.14069834929387554,
          -0.3982851202470955,
          -0.22402792476555822,
          -0.3829346724712724,
          -0.16901474706195885,
          -0.16820730061677427,
          -0.2930580649338621,
          -0.15519250324022857,
          -0.28062163653556527,
          0.3568901445933403,
          -0.3029012382007624,
          -0.24496250380080412,
          -0.22406333009711907,
          -0.1408543324876916,
          -0.0790624141046306,
          -0.1668503912979634,
          -0.14062727215137993,
          -0.3103165919140502,
          -0.07113693789654123,
          -0.16945486162319204,
          -0.310380317618303,
          0.2774748129395188,
          -0.23361044018683852,
          -0.3397531607131783,
          -0.29292637747591277,
          -0.22322419390438375,
          -0.16774770181011306,
          -0.16970153373025365,
          -0.16076636057988525,
          -0.39077850935335795,
          0.8583013245764597,
          -0.31018032763928666,
          -0.08612269410661332,
          -0.33924933216225117,
          -0.17068097202375132,
          -0.22402653870290754,
          -0.39145392000716617,
          -0.3089235581305419,
          -0.3065914628864851,
          -0.3548776906688059,
          -0.39234500981281206,
          -0.17089109942886185,
          -0.35606151827160143,
          -0.31605391354400303,
          -0.339791213898912,
          -0.3382310027793332,
          -0.23460538348082835,
          -0.22417640161082672,
          -0.335776503285762,
          -0.35462973017655136,
          -0.3930837812632118,
          -0.3389957222719917,
          0.3207162626397222,
          -0.3103612118673162,
          -0.1411143066711717,
          -0.3935990038828251,
          -0.3399803944925405,
          -0.10757915916258691,
          -0.34013713295545506,
          -0.16805849529687267,
          -0.2929174791082557,
          -0.14107296002960118,
          -0.25437738512668134,
          -0.1705545420798927,
          0.04176932612101817,
          -0.3382068211829278,
          -0.33975157849124105,
          -0.37976147961309964,
          -0.14741359942899762,
          -0.33753619570353915,
          -0.23603627085604792,
          -0.3920068969203352,
          -0.33728353474261596,
          -0.27260696192574874,
          -0.15493478273676306,
          -0.1708142261221663,
          3.730673130074797,
          -0.39319166667699124,
          -0.09760181736652637,
          -0.21076615400067378,
          0.8502254867960689,
          -0.3935539415705089,
          -0.3386703886742406,
          -0.3396789235895579,
          -0.33983311051796056,
          -0.22200473532009843,
          -0.33924933216225117,
          -0.39312878044644733,
          -0.31022399441074544,
          -0.33967969683144544,
          -0.3629706558674318,
          -0.33982701146154354,
          -0.33541408174942056,
          -0.39358290589258815,
          0.3207107054249769,
          -0.33903751064944787,
          0.34833704638573065,
          -0.34002624120993774,
          -0.3400968259243968,
          -0.36167760557619427,
          -0.36938704094331065,
          -0.17087283617102836,
          0.3208413544137173,
          -0.15962802668109,
          -0.3363230117194549,
          -0.31033764320945134,
          -0.3934928949548661,
          -0.33987468941376087,
          0.49123324460764956,
          -0.3400015343126134,
          -0.1290560527261812,
          -0.29456222171798696,
          -0.29541495128176243,
          -0.170841141763595,
          -0.23580421626700757,
          -0.2169090648432164,
          -0.17082661920944492,
          -0.32086269813901175,
          -0.16897509570095381,
          -0.1593465348710241,
          -0.294303686960906,
          -0.17869759949197248,
          -0.3927585690747782,
          -0.392667254303005,
          -0.3914978151865462,
          -0.14175859671312893,
          -0.33749657936651123,
          -0.3926565306944235,
          -0.18681103701644144,
          -0.331898696040781,
          -0.3885978142361949,
          -0.3399448682216182,
          -0.33994400823279197,
          -0.33306422609005754,
          0.26766931996348453,
          -0.3931350622302788,
          -0.17040361571635074,
          -0.2772040024656681,
          -0.10744677463576814,
          -0.3392835322681528,
          -0.3391555736076171,
          0.8891798037601952,
          -0.2637994841406808,
          -0.1702255609193037,
          -0.3548403280498005,
          -0.12891443461528598,
          0.5739549033161021,
          -0.13878156465982272,
          -0.043122258565305716,
          -0.13962266936099385,
          0.3568201419927909,
          -0.3564127385240243,
          -0.22323247270919366,
          -0.3549153342501825,
          -0.4089580548646874,
          -0.17054495049510898,
          -0.28078510881462904,
          -0.17030812308227686,
          -0.22362714016205235,
          -0.2242044554431641,
          0.1247805969111125,
          0.3211056326556853,
          -0.280855904192967,
          -0.15630637088806945,
          3.2377104923056286,
          -0.10744602359765192,
          -0.3331573099109144,
          -0.21507581438268478,
          -0.40846331079488285,
          -0.14089097842145606,
          -0.39340745143238354,
          -0.29463662569722826,
          4.3816704441803305,
          -0.09644698514920196,
          -0.33914969036348536,
          1.574869768707293,
          -0.1706427226526497,
          -0.17009432607035102,
          -0.16979540799281737,
          -0.16978234833016073,
          -0.3395801522527559,
          -0.34007976231771414,
          0.3212893471444655,
          -0.3067406759045431,
          0.6445887713891594,
          -0.3933482037072853,
          0.04148924316160604,
          -0.33206023184541855,
          -0.1786121460019874,
          -0.34003533178045653,
          -0.16762588960754937,
          -0.2911929645144858,
          -0.17067275418377523,
          0.42867669343440346,
          -0.30868461009953285,
          -0.34118283529248244,
          -0.40175759345931605,
          -0.1665068338451666,
          -0.33998567163201593,
          -0.4052922855859016,
          -0.16897330614542208,
          -0.3557862242860169,
          -0.33985621044030623,
          -0.09166139669318467,
          -0.21974984456523922,
          -0.16747129066987715,
          -0.15329943958417885,
          -0.16757151322537558,
          -0.392140959370904,
          3.7355280741279366,
          0.2028663371713729,
          -0.27752793884757604,
          -0.11773486319205306,
          -0.33731704658761136,
          1.1586264225361638,
          0.32069342981570265,
          -0.07817680023361628,
          -0.31100339081088924,
          -0.3615635605160506,
          -0.21949024767164604,
          -0.11802827319649382,
          0.07432119731083728,
          -0.33899446076778905,
          -0.08705706412443458,
          -0.3927223091224737,
          1.095387206777723,
          -0.22417846666436916,
          -0.16762349073152893,
          -0.36072823735949716,
          -0.1606631240224099,
          -0.16989396438805487,
          -0.32656439028248785,
          -0.340101878622402,
          -0.34825266338917443,
          -0.22410390610730774,
          -0.14087039631515547,
          -0.19788242733267028,
          -0.35634328201523063,
          -0.27949415613279344,
          -0.2832113555347744,
          8.059745904956356,
          -0.157208043110025,
          -0.3356489052675068,
          0.32456726545675463,
          0.02207816695619939,
          -0.166010789070453,
          -0.15191248208712801,
          -0.22760072646688653,
          -0.16356500869028226,
          -0.33169088916931705,
          -0.1704674389282663,
          0.13651237751586498,
          -0.2182457988125875,
          -0.36717431406325457,
          -0.37941792446178685,
          -0.3934245773711941,
          -0.343915521506513,
          -0.29379650717792744,
          -0.3318283921174794,
          -0.10632958937747872,
          0.3286175586439885,
          -0.17070440788840444,
          -0.14196312486430335,
          -0.3560117247872835,
          -0.3401292197175004,
          -0.3401109306889154,
          -0.1696642391451976,
          -0.2881795627059383,
          -0.14519681846138988,
          -0.3568759596674422,
          -0.33874427053496425,
          -0.3398274823364058,
          3.9579582790004926,
          -0.22327321584884244,
          -0.4039613113483428,
          -0.3389328531038918,
          0.3208758573090752,
          -0.29915736456791403,
          -0.2867022606079723,
          -0.18687064037732357,
          -0.159473266172411,
          -0.3333744326927835,
          -0.11900761785519536,
          -0.29433100548672186,
          -0.1474979891056849,
          0.32480518789278606,
          0.5896687199186957,
          2.1293073067935673,
          -0.14332002848239317,
          -0.2945827510119908,
          -0.14464461583232469,
          -0.3379239735925274,
          0.33447767198138056,
          -0.33930153692289333,
          -0.19913336564442966,
          2.2363186686694743,
          -0.357270385852914,
          -0.26392779995152826,
          1.0212010252429473,
          -0.1751895905160248,
          -0.16842046559500698,
          -0.22416063157201419,
          -0.34366709519186434,
          -0.361677000529216,
          -0.4069765117487774,
          -0.17528777769464915,
          -0.3362940470237931,
          -0.36039695007546296,
          -0.17072896458831882,
          -0.33300436227492963,
          -0.11790315654877852,
          -0.1723507123124853,
          -0.17341923289197142,
          3.1116607170777195,
          -0.3478301539440146,
          -0.39289813671869317,
          -0.29182880897322094,
          -0.33803243055459276,
          -0.1007335179670463,
          -0.3368615216146792,
          -0.34769132624903215,
          -0.22413199068137804,
          -0.1995925643005312,
          -0.2532387928357432,
          -0.1746171968101787,
          -0.36465541790816997,
          -0.06544329051453616,
          -0.29873574872239916,
          -0.1468956766618972,
          -0.1408910159599236,
          0.4347987136972346,
          -0.13836295406085303,
          0.40063329755896776,
          -0.4062713334623248,
          -0.14868619463446683,
          -0.14907847809935804,
          -0.29420752535290945,
          -0.16900357693387022,
          -0.169621394739767,
          -0.3398315153501133,
          -0.16873261501851392,
          -0.4067273507983796,
          -0.1705056261912553,
          -0.36179394203690707,
          0.5665163428355602,
          -0.20019036951633187,
          -0.3483069466216015,
          -0.3393143892576001,
          -0.3383722630751347,
          -0.2926439119804311,
          -0.3904620554836168,
          -0.14016738721855804,
          -0.11197046117580603,
          -0.13903543516432204,
          -0.3931253408151641,
          3.747764044581423,
          0.09501347566147551,
          0.5253518517368941,
          -0.3906670481659028,
          -0.09281590503579283,
          -0.3386995372813123,
          -0.09953229085836052,
          -0.33952492150953456,
          -0.2651419237285222,
          -0.3400432402630464,
          -0.38475621690067774,
          -0.15428798628772553,
          -0.253738305579406,
          -0.09016863141138569,
          -0.3805043109634544,
          -0.14068114581306504,
          -0.3393219992325185,
          0.544771677141685,
          -0.33238887395523614,
          -0.19333480576338177,
          -0.3896953011824178,
          -0.33776135917877476,
          -0.3395248317661876,
          -0.17080586354938698,
          -0.1687618453631464,
          -0.3772456941664649,
          -0.30886126204458464,
          3.7310648912635602,
          -0.10194107802204504,
          -0.33495727792512725,
          -0.33668570943205717,
          -0.12823483188244159,
          -0.281254886964039,
          -0.08576602547899427,
          3.740924360053821,
          -0.15496792908360296,
          3.7421675579315052,
          -0.2460463267072986,
          -0.43727312747989583,
          -0.33946074912682644,
          34.04713424510745,
          -0.2860223439697844,
          2.4808670184177584,
          -0.33820592056766086,
          0.3424443176187712,
          -0.17079368083049806,
          -0.29497921950734735
         ],
         "y": [
          1.0520945476574213,
          1.052233656214116,
          1.639574571723157,
          -1.3264929367309368,
          -2.0098485358735525,
          -1.101005878048901,
          1.218153806174633,
          -2.30366143093287,
          -2.0099556571901416,
          -2.0338829762270567,
          1.577606761117554,
          -1.8045888804217816,
          0.8265815243593387,
          0.619683937344552,
          -1.1009956571606767,
          1.87601089463854,
          -0.9349258606297051,
          -1.1010155109817001,
          1.0520929675289434,
          1.0523451516847135,
          -1.7985270905954243,
          -1.3009589495537492,
          -1.3265103671486742,
          -1.1010663333673703,
          -1.1010361703491327,
          1.0521430822440063,
          -0.445448266008221,
          -1.251545155012086,
          -1.1009988895537453,
          1.0520943040754478,
          -1.100995084647606,
          1.0520944367183263,
          -1.1009919837841358,
          -0.9349272456834733,
          0.28881759448618705,
          0.9015596135856381,
          -1.8004901578407084,
          -1.3300208395145665,
          -1.1030720139221608,
          -1.100989685260022,
          -1.1010567955516137,
          -1.100995971167653,
          1.5325963435100654,
          0.41037498993729377,
          -1.1009923966355226,
          -1.6613330605242123,
          -1.1013781039850434,
          -1.1009975487910628,
          -1.1010081891418906,
          1.0520672622994738,
          1.0119169337097549,
          -1.1124379353591773,
          1.2181572056554197,
          -1.3264916896051677,
          -1.1010654875195545,
          -1.1009897892744362,
          -1.1009872636363873,
          2.101307485526109,
          -1.1009938213646615,
          -2.2062280889276367,
          0.8535858750272675,
          -1.1009899146408881,
          0.8259691282289562,
          0.845185746220939,
          1.791654832606939,
          -1.1078652507076119,
          -1.3264941951366251,
          -1.1010304868264393,
          1.7916347461005124,
          0.4918404689194985,
          1.0519636497259919,
          1.0520726818578277,
          1.0636562768317035,
          -1.1009974966498672,
          -1.101107636030099,
          -1.1010035651966603,
          1.0112749428407506,
          1.21816170100389,
          -1.326729332602287,
          0.14800296640994892,
          -1.3264963825837195,
          1.6089001716375495,
          1.2181570581633914,
          -1.3265018975112475,
          -1.326529833387393,
          -1.3264891219931623,
          -0.9349193666037241,
          1.0516947457022985,
          1.0520622838340792,
          -1.1009898431868428,
          0.30739346024885017,
          -1.336110290420291,
          -1.1010780451361122,
          1.2181615782082469,
          0.1480628274900374,
          -1.326497046896041,
          1.7916418203934859,
          1.051632153048642,
          -2.3761836632291584,
          -2.3551979489649906,
          0.30690318874369743,
          1.4595772537461242,
          -1.101014843262256,
          0.8265724902281392,
          0.9015815703102267,
          -1.1016981893400846,
          0.845198512169458,
          -1.1010194079609752,
          1.7916233171151073,
          -1.1009882929620591,
          0.8449962892235009,
          -1.101010263964743,
          1.0520951265626708,
          1.7916263599096638,
          -1.1011951886904847,
          -2.136594825220825,
          1.0112455899362855,
          -1.7981257184941624,
          -1.5039645706145774,
          -1.1009847526901504,
          1.05208870922834,
          -1.1043763327361762,
          -2.155759479540484,
          -1.1009870744353087,
          -1.326495091889821,
          -1.1488969085384368,
          1.2181622980482463,
          2.4270800707589384,
          -0.934924320017102,
          -2.1647606987495642,
          -1.326511250984505,
          1.8535707553722731,
          -0.9349245222007291,
          0.6756876159865842,
          -1.1010836374082504,
          -1.10108736471848,
          0.8451751537559375,
          -2.0098956702778614,
          1.7916118183297527,
          -2.1380586644755635,
          0.8260886947753733,
          1.8761747283985308,
          -0.9349219168778972,
          -1.326491725838501,
          0.9009660892524154,
          -1.101013534180612,
          -2.181908360078212,
          0.8265824633317865,
          1.208672339096011,
          -1.1010031974452525,
          0.8265890276153883,
          -1.329177179183456,
          1.5255005051062136,
          1.0520762247331996,
          0.8450886391680017,
          -0.9349457956148078,
          -2.198468963705591,
          -1.1010744158099648,
          -2.221567414539145,
          1.2179658336168837,
          0.8082135603267463,
          0.8265733686330167,
          0.2936010774730399,
          1.532591576067049,
          -1.1009948199043533,
          -0.934927476744369,
          1.2181757109900306,
          0.8264769579379823,
          0.8263256452464469,
          1.5215152714089346,
          1.218098933622974,
          -1.100987074052403,
          1.5572523485527816,
          1.0513737015229188,
          1.0520732457542938,
          1.052081910505725,
          1.5846198317360614,
          -0.9349323183256324,
          1.0111719181891434,
          -1.3870169273177686,
          1.2181418012617184,
          1.0520647032226675,
          -2.352716348818804,
          0.8265817716374771,
          -1.3264916786625718,
          1.218160398143929,
          1.0520846299963835,
          -1.798381922075476,
          1.0520953127330803,
          -1.1010450657694484,
          0.8452546786949294,
          -1.3264910194583166,
          0.4379596265107711,
          -1.1009982336726487,
          1.9181254585730252,
          1.5325847653352846,
          1.0521077687390117,
          1.2174849468171338,
          -2.224695569521596,
          1.532631925375252,
          1.5847216959069204,
          1.8564986280741096,
          1.532444382136878,
          1.9173373718839284,
          -2.009894316951986,
          -2.0338836741003705,
          1.9223104273205196,
          1.218153312450231,
          -1.1061171813984312,
          -0.9348552465911858,
          1.8275459321911156,
          1.2181612141095006,
          1.5325877849199474,
          1.0520812175065057,
          1.0520736418160372,
          -0.9350143745101488,
          1.532591576067049,
          1.2181328491780306,
          0.8265869545161937,
          1.0520853465876616,
          0.6501358964260942,
          1.0520843364864327,
          1.051760014379289,
          1.2181594185560352,
          -2.352724776491966,
          1.0520228623188443,
          0.8415908358761491,
          1.052089147484228,
          1.0520941286412682,
          1.5007491191157132,
          0.6490853300441676,
          -1.1009880570495059,
          -2.3527235549724974,
          -2.164736326050765,
          1.0518436191875407,
          0.8265825330638626,
          1.2181590617526876,
          1.0520887948130597,
          -0.9867840926185012,
          1.0520832471960802,
          -2.30376022934889,
          0.8451603017426912,
          0.4274539900336657,
          -1.1009875172828623,
          1.5847201763232293,
          -0.9354286193341965,
          -2.0338810751577596,
          1.0519681760926782,
          -1.1009996950659013,
          -2.1647354801078786,
          0.8451840808562321,
          -2.1061882005881323,
          1.218114816270748,
          1.823315060737421,
          1.21814804880561,
          -1.1030447585722936,
          1.5325804995508987,
          1.2181181127976697,
          -0.6315734511260095,
          1.5325441154549575,
          1.2179493043951444,
          1.0520856186793686,
          1.0520801068043195,
          1.0515739845616827,
          0.5806683479758474,
          1.2181476428480984,
          -1.1009974971000007,
          0.8442626684225087,
          -1.3272712670220905,
          1.532582972866291,
          1.0520482914874212,
          1.8453501195390718,
          0.6195855993234624,
          -1.1010190982548365,
          1.5572419374802213,
          -2.3036956676741247,
          1.937253248418502,
          -2.261344199238869,
          -2.151236913375514,
          -2.261224801914287,
          -2.3530421134458366,
          1.5215256654805276,
          -0.9349580603671567,
          1.5214915603467334,
          1.8760858055416347,
          -1.1009898832153011,
          1.7916215336881351,
          -1.1010240150608621,
          -0.9349408175560102,
          -0.934928650686093,
          1.029623751677875,
          -2.3527367620956405,
          1.7916275710003464,
          -2.224343894135096,
          -1.140831963166756,
          -1.3269028873004463,
          1.5377753950031647,
          -0.9354443760672153,
          1.876101789107227,
          -1.326492909748975,
          1.218161707226631,
          0.8451860872099531,
          2.6994984093799563,
          -1.1064547878897784,
          1.5325636022373814,
          -1.0445867779537363,
          -1.100993584192054,
          -1.1010238564537358,
          -1.1010261966777912,
          -1.1010257747627301,
          1.0520771261301618,
          1.052094016902136,
          -2.3527569876396224,
          1.5783628189616579,
          1.537102521039711,
          1.218150504741964,
          -2.042755540412047,
          0.4917048884186762,
          -0.9347912354828483,
          1.0520868042605789,
          -1.6612527993199022,
          0.6100850252509776,
          -2.0338791036039368,
          1.058187409850142,
          0.8265767005413355,
          1.521125395396778,
          1.8163368798765078,
          -2.1985235839787514,
          1.052084459509237,
          1.7075674994091334,
          -1.1009996372512045,
          1.559076720733151,
          1.0520932997190193,
          0.618548371888998,
          -0.9350330056972763,
          -1.6612613016855742,
          -2.0100317872322715,
          -1.6612546417838874,
          1.2181017766730433,
          1.922186088199453,
          1.5171067237269353,
          1.7915917926894025,
          -1.7983051111371982,
          1.0520289560693126,
          -2.3893743184351433,
          -2.35271896104955,
          -2.0148931744258176,
          1.3146132622702975,
          1.5007490543857596,
          -0.9351745851091474,
          -2.3040146810422124,
          1.0279935732230647,
          1.0520197541357683,
          -1.1020273613498257,
          1.2181534792464053,
          -1.2871100058382114,
          -0.9349284859211315,
          -1.6612482228358516,
          1.5007010578797089,
          -1.6613825250177239,
          -1.1010023868079535,
          1.0518589561051026,
          1.0520934523626793,
          1.0112457465149625,
          -0.9349284765712066,
          -1.326491619449516,
          -1.232562652789864,
          1.5572496192471108,
          -0.06371642272640533,
          0.33188096583149107,
          -2.8525167698297147,
          -2.1898729526466134,
          1.052066351993612,
          -2.35283638029913,
          -1.1022507118514209,
          -2.198465337874844,
          -1.3364056593711926,
          1.5843962309146702,
          3.1222584283789496,
          3.2014798827550623,
          -1.1010029179612022,
          -1.1048575277033434,
          -0.9350968894945619,
          0.9205205343316311,
          3.4206004562682275,
          1.2181495370196367,
          1.3546802262226072,
          0.8451333011611994,
          1.591920381771357,
          -2.0131782916773235,
          -2.3532034161347593,
          -1.1009963268713236,
          -2.2246015675203603,
          1.521508627697093,
          1.0520933188918633,
          1.052092410089265,
          -2.0338832634800537,
          0.8450328299550898,
          -2.2248328553990957,
          1.5628763402400172,
          1.5325569044716578,
          1.052082821612604,
          1.8148486121683198,
          -0.9349593766449754,
          1.7076104988412146,
          1.5325568106301621,
          -2.352717491413981,
          0.58453921544042,
          1.0499810227305726,
          -0.6315549423297709,
          -2.164743533488553,
          0.8122304564044939,
          -2.2969678011142833,
          0.8451895166745105,
          -2.224690122721897,
          -2.353026649495153,
          -2.320613834970029,
          -2.432248027536829,
          1.0508055576482003,
          0.8451678866459252,
          -2.223396597848567,
          1.920780438654189,
          -2.3530140950056726,
          1.0520593223339583,
          1.6692414056231109,
          0.2455085574450865,
          1.5004153595014165,
          0.6196563034549113,
          1.7171008834370525,
          -1.3616221656177043,
          -2.063508693040225,
          -0.9349288095243673,
          0.7914392446838558,
          1.5007446396786073,
          1.7076591913226915,
          0.8363977680843796,
          0.8169727332371326,
          1.5007267573042216,
          -1.1009979489782507,
          1.0515759185660982,
          -2.3045734007318117,
          -2.136306658457955,
          -0.798473781276294,
          -2.3773453022296525,
          1.0112339021718837,
          1.2181477988308365,
          0.8450948940906439,
          1.5324884223519553,
          -1.326754451337543,
          0.8277098737670172,
          1.01120464485996,
          -0.9349308835535002,
          1.0431388962840655,
          1.7628179123212429,
          -1.3616621034782843,
          3.189872190694025,
          -2.036162450072302,
          1.1477811885943696,
          -2.2247257765297728,
          -1.32649291096172,
          0.8198093407353678,
          1.0180423441933966,
          -2.3561856240903887,
          1.7076453448509217,
          -2.129279668787104,
          -2.129232437309603,
          -0.08774953007125905,
          -2.07584849620537,
          -1.10103557149172,
          1.0520894397953964,
          -2.033997733105106,
          1.7076568295009904,
          -2.0338811170704556,
          1.5007465828885387,
          1.0252989900412168,
          -1.5040140592547475,
          1.011244967580863,
          1.0520589071169855,
          1.3545293852963245,
          1.918569119180275,
          1.2179490633030272,
          -1.3265017755997688,
          -0.3614534072587816,
          -1.3265431883174055,
          1.2181554552222782,
          1.9222064771054044,
          1.0399095336731596,
          -1.1520516668910017,
          1.2182573695526195,
          -1.6618150103374283,
          1.0519917906157283,
          -2.1328616593336323,
          1.0520744083823999,
          0.619676512314337,
          1.052098346099419,
          1.218073413862518,
          -1.101200050142828,
          1.0470133544129439,
          0.8335687536109768,
          1.2178358637113404,
          -1.3265018771871793,
          1.0521103995818204,
          -1.1153574190813353,
          1.052045701403998,
          -1.2515467243964253,
          1.2181327987394364,
          1.052052093315125,
          1.5325909237120283,
          -1.1009876072812896,
          -1.101054291761108,
          0.7269341619194225,
          0.8265672443402482,
          1.9222969009571542,
          0.8439195704626565,
          1.052037707727352,
          0.4918102706973124,
          -1.7981515421081131,
          1.791628761631226,
          -2.3594456073562298,
          1.9227353399290823,
          -2.0098940998967714,
          1.922775503593558,
          0.6195593444533574,
          3.248699188857153,
          1.532593268345941,
          1.704581417775596,
          1.544197670495617,
          0.8246626977108331,
          1.0519702462251388,
          -2.3530568178953373,
          -2.033883010349077,
          0.8451873207633677
         ],
         "z": [
          -0.5828247417746488,
          -0.5832480159478654,
          -0.7135222232318833,
          0.16510721866836486,
          0.4052547773772229,
          -0.005777330563329407,
          -0.4787242361141471,
          0.4113634602256758,
          0.40523893367859654,
          0.4102301396080659,
          -0.07060016842378038,
          0.3649861197574573,
          -0.4119628406945334,
          -0.10093815963623445,
          -0.005752121925165724,
          -0.7334708370358338,
          0.09835123373144754,
          -0.0057573080521714035,
          -0.5828325158611181,
          -0.5830586509144706,
          0.3698079016684863,
          -0.030899651037939783,
          0.16504141738576295,
          -0.005812462559544831,
          -0.005757881338599748,
          -0.5828700430367285,
          0.035113794558226434,
          0.08315452862195989,
          -0.005764088697495338,
          -0.5828247901793224,
          -0.005752656298274538,
          -0.5828251897684784,
          -0.005751215282086853,
          0.09835362964600063,
          -0.05185346965485195,
          -0.4938993519975539,
          0.363612156547911,
          0.1568288053542248,
          -0.011248640235141976,
          -0.005757695986758749,
          -0.005848828782040829,
          -0.005757896057301711,
          -0.11466477729576506,
          -0.3402684902455907,
          -0.005749779650395697,
          0.20738320740330274,
          -0.006167129503173588,
          -0.005777383021584311,
          -0.00576869016559531,
          -0.5828654619624744,
          -0.16830935922506526,
          -0.04503236205179378,
          -0.47872740912662465,
          0.1651060546242441,
          -0.005821757639424845,
          -0.005757047336133968,
          -0.005749118023494974,
          -0.7970392359449046,
          -0.005765418298587553,
          0.375592293882129,
          -0.2796353580600131,
          -0.005751414666463242,
          -0.41271345427876943,
          -0.2718037575613334,
          -0.682191714785139,
          -0.00760206993443563,
          0.16510839324095541,
          -0.005893907255715839,
          -0.6821729664116337,
          -0.3695955223582579,
          -0.5829342215515088,
          -0.582858386037105,
          -0.5936162458748089,
          -0.005750404979985552,
          -0.005773911418238714,
          -0.00576139798860592,
          -0.16771013682454328,
          -0.478719471112413,
          0.16484965891778233,
          0.10447615508358613,
          0.16509608765961525,
          -0.3088034209451593,
          -0.4787206526743612,
          0.16510399961955347,
          0.16510911496075537,
          0.1651151030467078,
          0.09835620363762258,
          -0.5833340787938378,
          -0.582849783845087,
          -0.005758651711774685,
          -0.4335422343153786,
          0.17342693244129978,
          -0.005810036592440998,
          -0.47872238955588475,
          0.10447543840828244,
          0.1650978174485715,
          -0.6821795694258233,
          -0.5829447166722055,
          0.3336230236752557,
          0.4102655664184463,
          0.5430388217271596,
          -0.10328601854686655,
          -0.005780611662277945,
          -0.41197978041634314,
          -0.49391743014122724,
          -0.0060114385407471944,
          -0.2718067487318153,
          -0.005810143268520444,
          -0.6821689175940217,
          -0.0057488621706568545,
          -0.2718937803223226,
          -0.005815155808195052,
          -0.5828252820909335,
          -0.6821706545511818,
          -0.006105865505542129,
          0.3410466532035607,
          -0.1676937706764221,
          0.3705363993632498,
          0.21570999680922828,
          -0.005752576594002379,
          -0.5828303235796755,
          -0.00810073395311668,
          0.3380754976236411,
          -0.005748891689553141,
          0.16510923025379895,
          -0.011774422656723054,
          -0.4787200278310042,
          -0.8214030478868216,
          0.09834262540071734,
          0.35980573450354236,
          0.1651062435682416,
          -0.7146348721763762,
          0.09834943290110731,
          0.16921414574037802,
          -0.005774381043847939,
          -0.005792832285491499,
          -0.2718401029701999,
          0.40528944677302087,
          -0.6821791443292835,
          0.448327054241817,
          -0.4120422737315768,
          -0.7334452135828676,
          0.09834975896844594,
          0.16510608844376742,
          -0.47449870902412994,
          -0.005839681723921598,
          0.359377863302988,
          -0.4119637171140456,
          -0.48450633958273126,
          -0.005779832589183386,
          -0.41196350109173674,
          0.1556959139707428,
          -0.6496836449112089,
          -0.5828308052237477,
          -0.27182612030913006,
          0.09833454048610947,
          0.4310005972065417,
          -0.005759883951565921,
          0.38024546956214,
          -0.4787484527151504,
          -0.2918906628379739,
          -0.4119651564693621,
          -0.0354401422847783,
          -0.11467135876253827,
          -0.005752351839234697,
          0.09834998435550507,
          -0.4787739146348123,
          -0.41197595331514864,
          -0.41200144530792676,
          -0.6460135423980972,
          -0.4787375522523985,
          -0.005748890375706997,
          -0.13528063503517548,
          -0.5832550482937776,
          -0.5828293116859167,
          -0.5828681030173144,
          -0.3711543271467533,
          0.0983545033978888,
          -0.1679763540504861,
          0.5292043176519435,
          -0.4787284747843638,
          -0.5828465264026931,
          0.413459426039976,
          -0.41196251993387883,
          0.16511225724435646,
          -0.47871990919194507,
          -0.5828270676655264,
          0.37011365645306854,
          -0.5828254558589496,
          -0.005804735067281293,
          -0.27185917352762956,
          0.16511114427885765,
          -0.3027907304707913,
          -0.005754681146005474,
          -0.806395902628942,
          -0.11469478628820441,
          -0.582837082064454,
          -0.4789151489642733,
          0.43431320984453015,
          -0.11472005131399621,
          -0.3711404711626288,
          -0.6361860003185448,
          -0.11468896057508524,
          -0.798769057805398,
          0.40528305451782964,
          0.4102307909901082,
          -0.35691280734932385,
          -0.4787281878048799,
          -0.006475858016859508,
          0.09802057245690796,
          -0.7161606338344652,
          -0.47872114146472017,
          -0.11468436714080109,
          -0.5828335569693768,
          -0.5828283943766517,
          0.09831912532713893,
          -0.11467135876253827,
          -0.4787256347300037,
          -0.4119668059714969,
          -0.5828343553045017,
          -0.08031236814206173,
          -0.5828306546672292,
          -0.5828713760909096,
          -0.47872009799371606,
          0.41346122505375693,
          -0.5828372574138058,
          -0.28637351663522403,
          -0.5828268716811534,
          -0.5828261795243564,
          -0.23082745349154343,
          -0.36138006951181095,
          -0.005749129959449905,
          0.4134578786481055,
          0.35981375682044575,
          -0.5828663125069947,
          -0.41196323063518103,
          -0.4787221664762347,
          -0.5828304034628697,
          0.09160922997862819,
          -0.5828262917795826,
          0.4113536372229849,
          -0.271801419928544,
          -0.2864076154225198,
          -0.00574998992121137,
          -0.3711456852360823,
          0.09827996522082921,
          0.4102305714471318,
          -0.5832583543652001,
          -0.0057919266931879525,
          0.359806900012015,
          -0.2718122672380479,
          0.48112007013093594,
          -0.4787308657677256,
          -0.6338940764088818,
          -0.4787674000559198,
          -0.006034207677514719,
          -0.11471082101231318,
          -0.4787339426849695,
          -0.0689076964758104,
          -0.11483665479309661,
          -0.4787970062427161,
          -0.5828281074825588,
          -0.5828270376994894,
          -0.5828904232825746,
          -0.10588224780698481,
          -0.4787284115580788,
          -0.005758413511443956,
          -0.27203638048003287,
          0.1644663669026262,
          -0.11466884434905163,
          -0.5828394814750419,
          -0.7543004833462613,
          -0.10094983771858695,
          -0.005758372281744144,
          -0.13530759663802727,
          0.4113375017896808,
          -0.5663492478737598,
          0.42969636017132,
          0.4604396999600352,
          0.43380434612400776,
          0.4126658733824227,
          -0.6459791187926819,
          0.09833716313114747,
          -0.6460079578961172,
          -0.7559511344494025,
          -0.005756560761303333,
          -0.6821771811551786,
          -0.005755437722442638,
          0.09834313162998631,
          0.09835444464050905,
          -0.5894291912069874,
          0.4134542105331812,
          -0.6821766928940749,
          0.3425856647257614,
          -0.07887116686520888,
          0.17105808754856525,
          -0.011241838401368514,
          0.09823951571449313,
          -0.7559660532138357,
          0.16510719348390163,
          -0.4787247202516679,
          -0.2718047519934552,
          9.26101764793426,
          -0.006436525110647435,
          -0.11466819361269483,
          -0.058391543356987846,
          -0.005753505230234259,
          -0.005760549852850017,
          -0.005767190578920284,
          -0.005767584386633656,
          -0.5828350949584673,
          -0.5828265629293948,
          0.4134538451750095,
          -0.06937031536872175,
          -0.2661613488017173,
          -0.4787239124454414,
          0.406940334371588,
          -0.36968752082283585,
          0.0972437905298242,
          -0.5828261921717157,
          0.207478726817779,
          -0.09260725328467581,
          0.41022652497328926,
          -0.602300843966818,
          -0.4120013603406129,
          -0.6462618770397249,
          -0.6190905612008503,
          0.43098191232357747,
          -0.5828269085359775,
          -0.5418750042056848,
          -0.005791980656356252,
          -0.08444205867355628,
          -0.5828317336516239,
          -0.10483543872867308,
          0.098269224342214,
          0.20747673458970747,
          0.40527138246693417,
          0.20747779902520488,
          -0.47874296373021014,
          -0.3570035885743564,
          -0.6583960094863772,
          -0.682248703246155,
          0.3703398079112421,
          -0.5828793485303919,
          0.40079774534958434,
          0.4134604853340926,
          0.4044476947336746,
          -0.3349556200448866,
          -0.2308301509012737,
          0.09829105884720124,
          0.41114189782619787,
          -0.5879076127949995,
          -0.5828376656861888,
          -0.0075353929173405535,
          -0.4787393747992318,
          0.08561136480889525,
          0.09835379444299691,
          0.2074777646051963,
          -0.23084050839988687,
          0.20733891990538608,
          -0.005769557913154104,
          -0.5831012538998868,
          -0.5828259256856111,
          -0.16769446838955715,
          0.09835202070636799,
          0.16510644914787903,
          0.02912303501924607,
          -0.1352733992450506,
          0.13924559733720734,
          -0.20965425648855934,
          0.328403914114566,
          0.4343581043580922,
          -0.5829263876351986,
          0.413391650851991,
          -0.01008474916370338,
          0.4309586033385904,
          0.17314223381351934,
          -0.3712765615732556,
          11.277690925394236,
          12.423415700650347,
          -0.005755824572671668,
          -0.012288595464719587,
          0.09824611747260972,
          -0.5479525990921906,
          8.16840715959611,
          -0.4787219060603349,
          -0.2680513341872766,
          -0.2718142761043957,
          -0.10706912146866375,
          0.40477753413142803,
          0.4133679958226378,
          -0.005751496829637448,
          0.44229263273884556,
          -0.6459852786605942,
          -0.5828252495409258,
          -0.5828255044123825,
          0.41020338101547427,
          -0.2719278867651966,
          0.43428768379610244,
          -0.16025045696059972,
          -0.11467650339043314,
          -0.5828303438430108,
          -0.34268835891190624,
          0.09833839172051267,
          -0.541915139080115,
          -0.1146720032765613,
          0.41345585936702217,
          0.0036943055959172094,
          -0.5836771082412828,
          -0.06890994098095918,
          0.3598115046227408,
          0.3798810978111279,
          0.3491666862562616,
          -0.2718126932060995,
          0.434314137966344,
          0.41342363102340673,
          0.3933295727490245,
          0.3862102883289999,
          -0.5872475903658125,
          -0.27180243231646606,
          0.3584757095782264,
          -0.7978978585815614,
          0.4131912869831231,
          -0.5828381945877497,
          -0.4224275531240151,
          -0.3214475863565675,
          -0.2308661725309502,
          -0.10096077327885335,
          -0.2368550415393998,
          0.2697425555642909,
          0.5216682220516793,
          0.0983534346096775,
          -0.30734812451036186,
          -0.23082658186078314,
          -0.5418531157565094,
          -0.27290272255928294,
          -0.40363319318480256,
          -0.23085346445740737,
          -0.005750592409973259,
          -0.5828922284465177,
          0.41124943634965183,
          0.35953087134220807,
          0.30900968593219535,
          0.34461712284556495,
          -0.16770216632565363,
          -0.4787340728044249,
          -0.27185344056249744,
          -0.11467987443711763,
          0.16420460690134675,
          -0.4048912864883976,
          -0.16769967853920292,
          0.09835316420812364,
          -0.5843938813355521,
          0.07326872851252736,
          0.26973685246946305,
          16.150006439236368,
          0.408177443443549,
          0.04297497662952898,
          0.4343068765071917,
          0.16510719461585577,
          0.4188891645595368,
          -0.1740267040525427,
          0.41224644985813247,
          -0.5418671351387511,
          0.38660218312578454,
          0.3866021633684725,
          0.14417427631207175,
          0.37396155963092226,
          -0.0057694716109187565,
          -0.5828315570429448,
          0.41020388301852573,
          -0.5418585697621653,
          0.4102229515292124,
          -0.23082418717226155,
          -0.5990713629634965,
          0.21570103204099833,
          -0.1676930243117361,
          -0.5828378070319089,
          -0.26815323087473364,
          -0.7985365248158999,
          -0.4787526559722409,
          0.16509175138875756,
          -0.10509183679116844,
          0.16507304244185927,
          -0.47873018782866766,
          -0.35729840194919404,
          -0.5907562674217314,
          -0.012194379088320603,
          -0.4788087658143964,
          0.2058121144715055,
          -0.5828391433286196,
          0.38614256894097665,
          -0.5828358699278487,
          -0.10093591755709465,
          -0.5828282871469737,
          -0.4789128477235814,
          -0.0061013279158606765,
          -0.5838734876687844,
          -0.4185772542197752,
          -0.47896690555427596,
          0.16510398064944456,
          -0.5828478111268783,
          -0.019913810881557577,
          -0.5829997757599436,
          0.08314441058088573,
          -0.4788072193447272,
          -0.5828733661328814,
          -0.11466468264599232,
          -0.005750810485755173,
          -0.005786195518443954,
          0.07385204809284979,
          -0.41199529192492645,
          -0.35691944187654984,
          -0.276133536578237,
          -0.5829371580606009,
          -0.36959844316705726,
          0.3705589582633985,
          -0.6821674468065719,
          0.43691775533953975,
          -0.3572404672306185,
          0.4052837992886432,
          -0.35727795525202705,
          -0.10136653786225684,
          17.152788000834697,
          -0.11466666928815934,
          -1.2061593831330921,
          -0.007388423061900599,
          -0.22181778041426195,
          -0.5828466124677285,
          0.41301041475621464,
          0.4102301714569285,
          -0.2717968544459028
         ]
        }
       ],
       "layout": {
        "coloraxis": {
         "colorbar": {
          "title": {
           "text": "Class"
          }
         },
         "colorscale": [
          [
           0,
           "#0d0887"
          ],
          [
           0.1111111111111111,
           "#46039f"
          ],
          [
           0.2222222222222222,
           "#7201a8"
          ],
          [
           0.3333333333333333,
           "#9c179e"
          ],
          [
           0.4444444444444444,
           "#bd3786"
          ],
          [
           0.5555555555555556,
           "#d8576b"
          ],
          [
           0.6666666666666666,
           "#ed7953"
          ],
          [
           0.7777777777777778,
           "#fb9f3a"
          ],
          [
           0.8888888888888888,
           "#fdca26"
          ],
          [
           1,
           "#f0f921"
          ]
         ]
        },
        "legend": {
         "tracegroupgap": 0
        },
        "margin": {
         "t": 60
        },
        "scene": {
         "domain": {
          "x": [
           0,
           1
          ],
          "y": [
           0,
           1
          ]
         },
         "xaxis": {
          "title": {
           "text": "PC 1"
          }
         },
         "yaxis": {
          "title": {
           "text": "PC 2"
          }
         },
         "zaxis": {
          "title": {
           "text": "PC 3"
          }
         }
        },
        "template": {
         "data": {
          "bar": [
           {
            "error_x": {
             "color": "#2a3f5f"
            },
            "error_y": {
             "color": "#2a3f5f"
            },
            "marker": {
             "line": {
              "color": "#E5ECF6",
              "width": 0.5
             },
             "pattern": {
              "fillmode": "overlay",
              "size": 10,
              "solidity": 0.2
             }
            },
            "type": "bar"
           }
          ],
          "barpolar": [
           {
            "marker": {
             "line": {
              "color": "#E5ECF6",
              "width": 0.5
             },
             "pattern": {
              "fillmode": "overlay",
              "size": 10,
              "solidity": 0.2
             }
            },
            "type": "barpolar"
           }
          ],
          "carpet": [
           {
            "aaxis": {
             "endlinecolor": "#2a3f5f",
             "gridcolor": "white",
             "linecolor": "white",
             "minorgridcolor": "white",
             "startlinecolor": "#2a3f5f"
            },
            "baxis": {
             "endlinecolor": "#2a3f5f",
             "gridcolor": "white",
             "linecolor": "white",
             "minorgridcolor": "white",
             "startlinecolor": "#2a3f5f"
            },
            "type": "carpet"
           }
          ],
          "choropleth": [
           {
            "colorbar": {
             "outlinewidth": 0,
             "ticks": ""
            },
            "type": "choropleth"
           }
          ],
          "contour": [
           {
            "colorbar": {
             "outlinewidth": 0,
             "ticks": ""
            },
            "colorscale": [
             [
              0,
              "#0d0887"
             ],
             [
              0.1111111111111111,
              "#46039f"
             ],
             [
              0.2222222222222222,
              "#7201a8"
             ],
             [
              0.3333333333333333,
              "#9c179e"
             ],
             [
              0.4444444444444444,
              "#bd3786"
             ],
             [
              0.5555555555555556,
              "#d8576b"
             ],
             [
              0.6666666666666666,
              "#ed7953"
             ],
             [
              0.7777777777777778,
              "#fb9f3a"
             ],
             [
              0.8888888888888888,
              "#fdca26"
             ],
             [
              1,
              "#f0f921"
             ]
            ],
            "type": "contour"
           }
          ],
          "contourcarpet": [
           {
            "colorbar": {
             "outlinewidth": 0,
             "ticks": ""
            },
            "type": "contourcarpet"
           }
          ],
          "heatmap": [
           {
            "colorbar": {
             "outlinewidth": 0,
             "ticks": ""
            },
            "colorscale": [
             [
              0,
              "#0d0887"
             ],
             [
              0.1111111111111111,
              "#46039f"
             ],
             [
              0.2222222222222222,
              "#7201a8"
             ],
             [
              0.3333333333333333,
              "#9c179e"
             ],
             [
              0.4444444444444444,
              "#bd3786"
             ],
             [
              0.5555555555555556,
              "#d8576b"
             ],
             [
              0.6666666666666666,
              "#ed7953"
             ],
             [
              0.7777777777777778,
              "#fb9f3a"
             ],
             [
              0.8888888888888888,
              "#fdca26"
             ],
             [
              1,
              "#f0f921"
             ]
            ],
            "type": "heatmap"
           }
          ],
          "heatmapgl": [
           {
            "colorbar": {
             "outlinewidth": 0,
             "ticks": ""
            },
            "colorscale": [
             [
              0,
              "#0d0887"
             ],
             [
              0.1111111111111111,
              "#46039f"
             ],
             [
              0.2222222222222222,
              "#7201a8"
             ],
             [
              0.3333333333333333,
              "#9c179e"
             ],
             [
              0.4444444444444444,
              "#bd3786"
             ],
             [
              0.5555555555555556,
              "#d8576b"
             ],
             [
              0.6666666666666666,
              "#ed7953"
             ],
             [
              0.7777777777777778,
              "#fb9f3a"
             ],
             [
              0.8888888888888888,
              "#fdca26"
             ],
             [
              1,
              "#f0f921"
             ]
            ],
            "type": "heatmapgl"
           }
          ],
          "histogram": [
           {
            "marker": {
             "pattern": {
              "fillmode": "overlay",
              "size": 10,
              "solidity": 0.2
             }
            },
            "type": "histogram"
           }
          ],
          "histogram2d": [
           {
            "colorbar": {
             "outlinewidth": 0,
             "ticks": ""
            },
            "colorscale": [
             [
              0,
              "#0d0887"
             ],
             [
              0.1111111111111111,
              "#46039f"
             ],
             [
              0.2222222222222222,
              "#7201a8"
             ],
             [
              0.3333333333333333,
              "#9c179e"
             ],
             [
              0.4444444444444444,
              "#bd3786"
             ],
             [
              0.5555555555555556,
              "#d8576b"
             ],
             [
              0.6666666666666666,
              "#ed7953"
             ],
             [
              0.7777777777777778,
              "#fb9f3a"
             ],
             [
              0.8888888888888888,
              "#fdca26"
             ],
             [
              1,
              "#f0f921"
             ]
            ],
            "type": "histogram2d"
           }
          ],
          "histogram2dcontour": [
           {
            "colorbar": {
             "outlinewidth": 0,
             "ticks": ""
            },
            "colorscale": [
             [
              0,
              "#0d0887"
             ],
             [
              0.1111111111111111,
              "#46039f"
             ],
             [
              0.2222222222222222,
              "#7201a8"
             ],
             [
              0.3333333333333333,
              "#9c179e"
             ],
             [
              0.4444444444444444,
              "#bd3786"
             ],
             [
              0.5555555555555556,
              "#d8576b"
             ],
             [
              0.6666666666666666,
              "#ed7953"
             ],
             [
              0.7777777777777778,
              "#fb9f3a"
             ],
             [
              0.8888888888888888,
              "#fdca26"
             ],
             [
              1,
              "#f0f921"
             ]
            ],
            "type": "histogram2dcontour"
           }
          ],
          "mesh3d": [
           {
            "colorbar": {
             "outlinewidth": 0,
             "ticks": ""
            },
            "type": "mesh3d"
           }
          ],
          "parcoords": [
           {
            "line": {
             "colorbar": {
              "outlinewidth": 0,
              "ticks": ""
             }
            },
            "type": "parcoords"
           }
          ],
          "pie": [
           {
            "automargin": true,
            "type": "pie"
           }
          ],
          "scatter": [
           {
            "fillpattern": {
             "fillmode": "overlay",
             "size": 10,
             "solidity": 0.2
            },
            "type": "scatter"
           }
          ],
          "scatter3d": [
           {
            "line": {
             "colorbar": {
              "outlinewidth": 0,
              "ticks": ""
             }
            },
            "marker": {
             "colorbar": {
              "outlinewidth": 0,
              "ticks": ""
             }
            },
            "type": "scatter3d"
           }
          ],
          "scattercarpet": [
           {
            "marker": {
             "colorbar": {
              "outlinewidth": 0,
              "ticks": ""
             }
            },
            "type": "scattercarpet"
           }
          ],
          "scattergeo": [
           {
            "marker": {
             "colorbar": {
              "outlinewidth": 0,
              "ticks": ""
             }
            },
            "type": "scattergeo"
           }
          ],
          "scattergl": [
           {
            "marker": {
             "colorbar": {
              "outlinewidth": 0,
              "ticks": ""
             }
            },
            "type": "scattergl"
           }
          ],
          "scattermapbox": [
           {
            "marker": {
             "colorbar": {
              "outlinewidth": 0,
              "ticks": ""
             }
            },
            "type": "scattermapbox"
           }
          ],
          "scatterpolar": [
           {
            "marker": {
             "colorbar": {
              "outlinewidth": 0,
              "ticks": ""
             }
            },
            "type": "scatterpolar"
           }
          ],
          "scatterpolargl": [
           {
            "marker": {
             "colorbar": {
              "outlinewidth": 0,
              "ticks": ""
             }
            },
            "type": "scatterpolargl"
           }
          ],
          "scatterternary": [
           {
            "marker": {
             "colorbar": {
              "outlinewidth": 0,
              "ticks": ""
             }
            },
            "type": "scatterternary"
           }
          ],
          "surface": [
           {
            "colorbar": {
             "outlinewidth": 0,
             "ticks": ""
            },
            "colorscale": [
             [
              0,
              "#0d0887"
             ],
             [
              0.1111111111111111,
              "#46039f"
             ],
             [
              0.2222222222222222,
              "#7201a8"
             ],
             [
              0.3333333333333333,
              "#9c179e"
             ],
             [
              0.4444444444444444,
              "#bd3786"
             ],
             [
              0.5555555555555556,
              "#d8576b"
             ],
             [
              0.6666666666666666,
              "#ed7953"
             ],
             [
              0.7777777777777778,
              "#fb9f3a"
             ],
             [
              0.8888888888888888,
              "#fdca26"
             ],
             [
              1,
              "#f0f921"
             ]
            ],
            "type": "surface"
           }
          ],
          "table": [
           {
            "cells": {
             "fill": {
              "color": "#EBF0F8"
             },
             "line": {
              "color": "white"
             }
            },
            "header": {
             "fill": {
              "color": "#C8D4E3"
             },
             "line": {
              "color": "white"
             }
            },
            "type": "table"
           }
          ]
         },
         "layout": {
          "annotationdefaults": {
           "arrowcolor": "#2a3f5f",
           "arrowhead": 0,
           "arrowwidth": 1
          },
          "autotypenumbers": "strict",
          "coloraxis": {
           "colorbar": {
            "outlinewidth": 0,
            "ticks": ""
           }
          },
          "colorscale": {
           "diverging": [
            [
             0,
             "#8e0152"
            ],
            [
             0.1,
             "#c51b7d"
            ],
            [
             0.2,
             "#de77ae"
            ],
            [
             0.3,
             "#f1b6da"
            ],
            [
             0.4,
             "#fde0ef"
            ],
            [
             0.5,
             "#f7f7f7"
            ],
            [
             0.6,
             "#e6f5d0"
            ],
            [
             0.7,
             "#b8e186"
            ],
            [
             0.8,
             "#7fbc41"
            ],
            [
             0.9,
             "#4d9221"
            ],
            [
             1,
             "#276419"
            ]
           ],
           "sequential": [
            [
             0,
             "#0d0887"
            ],
            [
             0.1111111111111111,
             "#46039f"
            ],
            [
             0.2222222222222222,
             "#7201a8"
            ],
            [
             0.3333333333333333,
             "#9c179e"
            ],
            [
             0.4444444444444444,
             "#bd3786"
            ],
            [
             0.5555555555555556,
             "#d8576b"
            ],
            [
             0.6666666666666666,
             "#ed7953"
            ],
            [
             0.7777777777777778,
             "#fb9f3a"
            ],
            [
             0.8888888888888888,
             "#fdca26"
            ],
            [
             1,
             "#f0f921"
            ]
           ],
           "sequentialminus": [
            [
             0,
             "#0d0887"
            ],
            [
             0.1111111111111111,
             "#46039f"
            ],
            [
             0.2222222222222222,
             "#7201a8"
            ],
            [
             0.3333333333333333,
             "#9c179e"
            ],
            [
             0.4444444444444444,
             "#bd3786"
            ],
            [
             0.5555555555555556,
             "#d8576b"
            ],
            [
             0.6666666666666666,
             "#ed7953"
            ],
            [
             0.7777777777777778,
             "#fb9f3a"
            ],
            [
             0.8888888888888888,
             "#fdca26"
            ],
            [
             1,
             "#f0f921"
            ]
           ]
          },
          "colorway": [
           "#636efa",
           "#EF553B",
           "#00cc96",
           "#ab63fa",
           "#FFA15A",
           "#19d3f3",
           "#FF6692",
           "#B6E880",
           "#FF97FF",
           "#FECB52"
          ],
          "font": {
           "color": "#2a3f5f"
          },
          "geo": {
           "bgcolor": "white",
           "lakecolor": "white",
           "landcolor": "#E5ECF6",
           "showlakes": true,
           "showland": true,
           "subunitcolor": "white"
          },
          "hoverlabel": {
           "align": "left"
          },
          "hovermode": "closest",
          "mapbox": {
           "style": "light"
          },
          "paper_bgcolor": "white",
          "plot_bgcolor": "#E5ECF6",
          "polar": {
           "angularaxis": {
            "gridcolor": "white",
            "linecolor": "white",
            "ticks": ""
           },
           "bgcolor": "#E5ECF6",
           "radialaxis": {
            "gridcolor": "white",
            "linecolor": "white",
            "ticks": ""
           }
          },
          "scene": {
           "xaxis": {
            "backgroundcolor": "#E5ECF6",
            "gridcolor": "white",
            "gridwidth": 2,
            "linecolor": "white",
            "showbackground": true,
            "ticks": "",
            "zerolinecolor": "white"
           },
           "yaxis": {
            "backgroundcolor": "#E5ECF6",
            "gridcolor": "white",
            "gridwidth": 2,
            "linecolor": "white",
            "showbackground": true,
            "ticks": "",
            "zerolinecolor": "white"
           },
           "zaxis": {
            "backgroundcolor": "#E5ECF6",
            "gridcolor": "white",
            "gridwidth": 2,
            "linecolor": "white",
            "showbackground": true,
            "ticks": "",
            "zerolinecolor": "white"
           }
          },
          "shapedefaults": {
           "line": {
            "color": "#2a3f5f"
           }
          },
          "ternary": {
           "aaxis": {
            "gridcolor": "white",
            "linecolor": "white",
            "ticks": ""
           },
           "baxis": {
            "gridcolor": "white",
            "linecolor": "white",
            "ticks": ""
           },
           "bgcolor": "#E5ECF6",
           "caxis": {
            "gridcolor": "white",
            "linecolor": "white",
            "ticks": ""
           }
          },
          "title": {
           "x": 0.05
          },
          "xaxis": {
           "automargin": true,
           "gridcolor": "white",
           "linecolor": "white",
           "ticks": "",
           "title": {
            "standoff": 15
           },
           "zerolinecolor": "white",
           "zerolinewidth": 2
          },
          "yaxis": {
           "automargin": true,
           "gridcolor": "white",
           "linecolor": "white",
           "ticks": "",
           "title": {
            "standoff": 15
           },
           "zerolinecolor": "white",
           "zerolinewidth": 2
          }
         }
        },
        "width": 800
       }
      },
      "text/html": [
       "<div>                            <div id=\"c2bd88a4-a72d-4293-ae19-d1ef33fc9c60\" class=\"plotly-graph-div\" style=\"height:525px; width:800px;\"></div>            <script type=\"text/javascript\">                require([\"plotly\"], function(Plotly) {                    window.PLOTLYENV=window.PLOTLYENV || {};                                    if (document.getElementById(\"c2bd88a4-a72d-4293-ae19-d1ef33fc9c60\")) {                    Plotly.newPlot(                        \"c2bd88a4-a72d-4293-ae19-d1ef33fc9c60\",                        [{\"customdata\":[[\"Scrypt\"],[\"Scrypt\"],[\"X13\"],[\"SHA-256\"],[\"Ethash\"],[\"Scrypt\"],[\"X11\"],[\"CryptoNight-V7\"],[\"Ethash\"],[\"Equihash\"],[\"SHA-512\"],[\"Multiple\"],[\"SHA-256\"],[\"SHA-256\"],[\"Scrypt\"],[\"X15\"],[\"X11\"],[\"Scrypt\"],[\"Scrypt\"],[\"Scrypt\"],[\"Multiple\"],[\"Scrypt\"],[\"SHA-256\"],[\"Scrypt\"],[\"Scrypt\"],[\"Scrypt\"],[\"Quark\"],[\"Groestl\"],[\"Scrypt\"],[\"Scrypt\"],[\"Scrypt\"],[\"Scrypt\"],[\"Scrypt\"],[\"X11\"],[\"Scrypt\"],[\"Groestl\"],[\"Multiple\"],[\"SHA-256\"],[\"Scrypt\"],[\"Scrypt\"],[\"Scrypt\"],[\"Scrypt\"],[\"PoS\"],[\"Scrypt\"],[\"Scrypt\"],[\"NeoScrypt\"],[\"Scrypt\"],[\"Scrypt\"],[\"Scrypt\"],[\"Scrypt\"],[\"X11\"],[\"Scrypt\"],[\"X11\"],[\"SHA-256\"],[\"Scrypt\"],[\"Scrypt\"],[\"Scrypt\"],[\"SHA3\"],[\"Scrypt\"],[\"HybridScryptHash256\"],[\"Scrypt\"],[\"Scrypt\"],[\"SHA-256\"],[\"Scrypt\"],[\"X13\"],[\"Scrypt\"],[\"SHA-256\"],[\"Scrypt\"],[\"X13\"],[\"NeoScrypt\"],[\"Scrypt\"],[\"Scrypt\"],[\"Scrypt\"],[\"Scrypt\"],[\"Scrypt\"],[\"Scrypt\"],[\"X11\"],[\"X11\"],[\"SHA-256\"],[\"Multiple\"],[\"SHA-256\"],[\"PHI1612\"],[\"X11\"],[\"SHA-256\"],[\"SHA-256\"],[\"SHA-256\"],[\"X11\"],[\"Scrypt\"],[\"Scrypt\"],[\"Scrypt\"],[\"Scrypt\"],[\"Lyra2REv2\"],[\"Scrypt\"],[\"X11\"],[\"Multiple\"],[\"SHA-256\"],[\"X13\"],[\"Scrypt\"],[\"CryptoNight\"],[\"CryptoNight\"],[\"Shabal256\"],[\"Counterparty\"],[\"Scrypt\"],[\"SHA-256\"],[\"Groestl\"],[\"Scrypt\"],[\"Scrypt\"],[\"Scrypt\"],[\"X13\"],[\"Scrypt\"],[\"Scrypt\"],[\"Scrypt\"],[\"Scrypt\"],[\"X13\"],[\"Scrypt\"],[\"Stanford Folding\"],[\"X11\"],[\"Multiple\"],[\"QuBit\"],[\"Scrypt\"],[\"Scrypt\"],[\"Scrypt\"],[\"M7 POW\"],[\"Scrypt\"],[\"SHA-256\"],[\"Scrypt\"],[\"X11\"],[\"SHA3\"],[\"X11\"],[\"Lyra2RE\"],[\"SHA-256\"],[\"QUAIT\"],[\"X11\"],[\"X11\"],[\"Scrypt\"],[\"Scrypt\"],[\"Scrypt\"],[\"Ethash\"],[\"X13\"],[\"Blake2b\"],[\"SHA-256\"],[\"X15\"],[\"X11\"],[\"SHA-256\"],[\"BLAKE256\"],[\"Scrypt\"],[\"1GB AES Pattern Search\"],[\"SHA-256\"],[\"X11\"],[\"Scrypt\"],[\"SHA-256\"],[\"SHA-256\"],[\"NIST5\"],[\"Scrypt\"],[\"Scrypt\"],[\"X11\"],[\"Dagger\"],[\"Scrypt\"],[\"X11GOST\"],[\"X11\"],[\"Scrypt\"],[\"SHA-256\"],[\"Scrypt\"],[\"PoS\"],[\"Scrypt\"],[\"X11\"],[\"X11\"],[\"SHA-256\"],[\"SHA-256\"],[\"NIST5\"],[\"X11\"],[\"Scrypt\"],[\"POS 3.0\"],[\"Scrypt\"],[\"Scrypt\"],[\"Scrypt\"],[\"X13\"],[\"X11\"],[\"X11\"],[\"Equihash\"],[\"X11\"],[\"Scrypt\"],[\"CryptoNight\"],[\"SHA-256\"],[\"SHA-256\"],[\"X11\"],[\"Scrypt\"],[\"Multiple\"],[\"Scrypt\"],[\"Scrypt\"],[\"Scrypt\"],[\"SHA-256\"],[\"Scrypt\"],[\"Scrypt\"],[\"SHA-256D\"],[\"PoS\"],[\"Scrypt\"],[\"X11\"],[\"Lyra2Z\"],[\"PoS\"],[\"X13\"],[\"X14\"],[\"PoS\"],[\"SHA-256D\"],[\"Ethash\"],[\"Equihash\"],[\"DPoS\"],[\"X11\"],[\"Scrypt\"],[\"X11\"],[\"X13\"],[\"X11\"],[\"PoS\"],[\"Scrypt\"],[\"Scrypt\"],[\"X11\"],[\"PoS\"],[\"X11\"],[\"SHA-256\"],[\"Scrypt\"],[\"X11\"],[\"Scrypt\"],[\"Scrypt\"],[\"X11\"],[\"CryptoNight\"],[\"Scrypt\"],[\"Scrypt\"],[\"Scrypt\"],[\"Scrypt\"],[\"Quark\"],[\"QuBit\"],[\"Scrypt\"],[\"CryptoNight\"],[\"Lyra2RE\"],[\"Scrypt\"],[\"SHA-256\"],[\"X11\"],[\"Scrypt\"],[\"X11\"],[\"Scrypt\"],[\"CryptoNight-V7\"],[\"Scrypt\"],[\"Scrypt\"],[\"Scrypt\"],[\"X13\"],[\"X11\"],[\"Equihash\"],[\"Scrypt\"],[\"Scrypt\"],[\"Lyra2RE\"],[\"Scrypt\"],[\"Dagger-Hashimoto\"],[\"X11\"],[\"Blake2S\"],[\"X11\"],[\"Scrypt\"],[\"PoS\"],[\"X11\"],[\"NIST5\"],[\"PoS\"],[\"X11\"],[\"Scrypt\"],[\"Scrypt\"],[\"Scrypt\"],[\"SHA-256\"],[\"X11\"],[\"Scrypt\"],[\"Scrypt\"],[\"SHA-256\"],[\"PoS\"],[\"Scrypt\"],[\"X15\"],[\"SHA-256\"],[\"Scrypt\"],[\"POS 3.0\"],[\"CryptoNight-V7\"],[\"536\"],[\"Argon2d\"],[\"Blake2b\"],[\"Cloverhash\"],[\"CryptoNight\"],[\"NIST5\"],[\"X11\"],[\"NIST5\"],[\"Skein\"],[\"Scrypt\"],[\"X13\"],[\"Scrypt\"],[\"X11\"],[\"X11\"],[\"Scrypt\"],[\"CryptoNight\"],[\"X13\"],[\"Time Travel\"],[\"Scrypt\"],[\"Keccak\"],[\"SkunkHash v2 Raptor\"],[\"X11\"],[\"Skein\"],[\"SHA-256\"],[\"X11\"],[\"Scrypt\"],[\"VeChainThor Authority\"],[\"Scrypt\"],[\"PoS\"],[\"Scrypt\"],[\"Scrypt\"],[\"Scrypt\"],[\"Scrypt\"],[\"Scrypt\"],[\"Scrypt\"],[\"Scrypt\"],[\"CryptoNight\"],[\"SHA-512\"],[\"Ouroboros\"],[\"X11\"],[\"Equihash\"],[\"NeoScrypt\"],[\"X11\"],[\"Scrypt\"],[\"NeoScrypt\"],[\"Lyra2REv2\"],[\"Equihash\"],[\"Scrypt\"],[\"SHA-256\"],[\"NIST5\"],[\"PHI1612\"],[\"Dagger\"],[\"Scrypt\"],[\"Quark\"],[\"Scrypt\"],[\"POS 2.0\"],[\"Scrypt\"],[\"SHA-256\"],[\"X11\"],[\"NeoScrypt\"],[\"Ethash\"],[\"NeoScrypt\"],[\"X11\"],[\"DPoS\"],[\"NIST5\"],[\"X13\"],[\"Multiple\"],[\"Scrypt\"],[\"CryptoNight\"],[\"CryptoNight\"],[\"Ethash\"],[\"NIST5\"],[\"Quark\"],[\"X11\"],[\"CryptoNight-V7\"],[\"Scrypt\"],[\"Scrypt\"],[\"Scrypt\"],[\"X11\"],[\"BLAKE256\"],[\"X11\"],[\"NeoScrypt\"],[\"Quark\"],[\"NeoScrypt\"],[\"Scrypt\"],[\"Scrypt\"],[\"Scrypt\"],[\"X11\"],[\"X11\"],[\"SHA-256\"],[\"C11\"],[\"POS 3.0\"],[\"Ethash\"],[\"Scrypt\"],[\"CryptoNight\"],[\"SkunkHash\"],[\"Scrypt\"],[\"CryptoNight\"],[\"Scrypt\"],[\"Dagger\"],[\"Lyra2REv2\"],[\"X13\"],[\"Proof-of-BibleHash\"],[\"SHA-256 + Hive\"],[\"Scrypt\"],[\"Scrypt\"],[\"X11\"],[\"C11\"],[\"Proof-of-Authority\"],[\"X11\"],[\"XEVAN\"],[\"Scrypt\"],[\"VBFT\"],[\"Ethash\"],[\"CryptoNight\"],[\"Scrypt\"],[\"IMesh\"],[\"NIST5\"],[\"Scrypt\"],[\"Scrypt\"],[\"Equihash\"],[\"Scrypt\"],[\"Lyra2Z\"],[\"Green Protocol\"],[\"PoS\"],[\"Scrypt\"],[\"Semux BFT consensus\"],[\"X11\"],[\"Quark\"],[\"PoS\"],[\"CryptoNight\"],[\"X16R\"],[\"Scrypt\"],[\"NIST5\"],[\"Lyra2RE\"],[\"XEVAN\"],[\"Tribus\"],[\"Scrypt\"],[\"Lyra2Z\"],[\"CryptoNight\"],[\"CryptoNight Heavy\"],[\"CryptoNight\"],[\"Scrypt\"],[\"Scrypt\"],[\"Jump Consistent Hash\"],[\"SHA-256D\"],[\"CryptoNight\"],[\"Scrypt\"],[\"X15\"],[\"Scrypt\"],[\"Quark\"],[\"SHA-256\"],[\"DPoS\"],[\"X16R\"],[\"HMQ1725\"],[\"X11\"],[\"X16R\"],[\"Quark\"],[\"Quark\"],[\"Scrypt\"],[\"Lyra2REv2\"],[\"Quark\"],[\"Scrypt\"],[\"Scrypt\"],[\"CryptoNight-V7\"],[\"Cryptonight-GPU\"],[\"XEVAN\"],[\"CryptoNight Heavy\"],[\"X11\"],[\"X11\"],[\"Scrypt\"],[\"PoS\"],[\"SHA-256\"],[\"Keccak\"],[\"X11\"],[\"X11\"],[\"Scrypt\"],[\"SHA-512\"],[\"X16R\"],[\"ECC 256K1\"],[\"Equihash\"],[\"XEVAN\"],[\"Lyra2Z\"],[\"SHA-256\"],[\"XEVAN\"],[\"X11\"],[\"CryptoNight\"],[\"Quark\"],[\"Blake\"],[\"Blake\"],[\"Equihash\"],[\"Exosis\"],[\"Scrypt\"],[\"Scrypt\"],[\"Equihash\"],[\"Quark\"],[\"Equihash\"],[\"Quark\"],[\"Scrypt\"],[\"QuBit\"],[\"X11\"],[\"Scrypt\"],[\"XEVAN\"],[\"SHA-256D\"],[\"X11\"],[\"SHA-256\"],[\"X13\"],[\"SHA-256\"],[\"X11\"],[\"DPoS\"],[\"Scrypt\"],[\"Scrypt\"],[\"X11\"],[\"NeoScrypt\"],[\"Scrypt\"],[\"Blake\"],[\"Scrypt\"],[\"SHA-256\"],[\"Scrypt\"],[\"X11\"],[\"Scrypt\"],[\"Scrypt\"],[\"SHA-256\"],[\"X11\"],[\"SHA-256\"],[\"Scrypt\"],[\"Scrypt\"],[\"Scrypt\"],[\"Groestl\"],[\"X11\"],[\"Scrypt\"],[\"PoS\"],[\"Scrypt\"],[\"Scrypt\"],[\"X11\"],[\"SHA-256\"],[\"DPoS\"],[\"Scrypt\"],[\"Scrypt\"],[\"NeoScrypt\"],[\"Multiple\"],[\"X13\"],[\"Equihash+Scrypt\"],[\"DPoS\"],[\"Ethash\"],[\"DPoS\"],[\"SHA-256\"],[\"Leased POS\"],[\"PoS\"],[\"TRC10\"],[\"PoS\"],[\"SHA-256\"],[\"Scrypt\"],[\"CryptoNight\"],[\"Equihash\"],[\"Scrypt\"]],\"hovertemplate\":\"<b>%{hovertext}</b><br><br>PC 1=%{x}<br>PC 2=%{y}<br>PC 3=%{z}<br>Algorithm=%{customdata[0]}<br>Class=%{marker.color}<extra></extra>\",\"hovertext\":[\"42 Coin\",\"404Coin\",\"EliteCoin\",\"Bitcoin\",\"Ethereum\",\"Litecoin\",\"Dash\",\"Monero\",\"Ethereum Classic\",\"ZCash\",\"Bitshares\",\"DigiByte\",\"BitcoinDark\",\"PayCoin\",\"ProsperCoin\",\"KoboCoin\",\"Spreadcoin\",\"Argentum\",\"Aurora Coin\",\"BlueCoin\",\"MyriadCoin\",\"MoonCoin\",\"ZetaCoin\",\"SexCoin\",\"Quatloo\",\"EnergyCoin\",\"QuarkCoin\",\"Riecoin\",\"Digitalcoin \",\"BitBar\",\"Catcoin\",\"CryptoBullion\",\"CannaCoin\",\"CryptCoin\",\"CasinoCoin\",\"Diamond\",\"Verge\",\"DevCoin\",\"EarthCoin\",\"E-Gulden\",\"Einsteinium\",\"Emerald\",\"Exclusive Coin\",\"FlutterCoin\",\"Franko\",\"FeatherCoin\",\"GrandCoin\",\"GlobalCoin\",\"GoldCoin\",\"HoboNickels\",\"HyperStake\",\"Infinite Coin\",\"IOCoin\",\"IXcoin\",\"KrugerCoin\",\"LuckyCoin\",\"Litebar \",\"MaxCoin\",\"MegaCoin\",\"MediterraneanCoin\",\"MintCoin\",\"MinCoin\",\"MazaCoin\",\"Nautilus Coin\",\"NavCoin\",\"NobleCoin\",\"Namecoin\",\"NyanCoin\",\"OpalCoin\",\"Orbitcoin\",\"PotCoin\",\"PhoenixCoin\",\"Reddcoin\",\"RonPaulCoin\",\"StableCoin\",\"SmartCoin\",\"SuperCoin\",\"SyncCoin\",\"SysCoin\",\"TeslaCoin\",\"TigerCoin\",\"TittieCoin\",\"TorCoin\",\"TerraCoin\",\"UnbreakableCoin\",\"Unobtanium\",\"UroCoin\",\"UnitaryStatus Dollar\",\"UltraCoin\",\"ViaCoin\",\"VeriCoin\",\"Vertcoin\",\"WorldCoin\",\"X11 Coin\",\"Crypti\",\"JouleCoin\",\"StealthCoin\",\"ZCC Coin\",\"ByteCoin\",\"DigitalNote \",\"BurstCoin\",\"StorjCoin\",\"MonaCoin\",\"Neutron\",\"FairCoin\",\"Gulden\",\"RubyCoin\",\"PesetaCoin\",\"Kore\",\"Wild Beast Coin\",\"Dnotes\",\"Flo\",\"8BIT Coin\",\"Sativa Coin\",\"ArtByte\",\"Folding Coin\",\"Ucoin\",\"Unitus\",\"CypherPunkCoin\",\"OmniCron\",\"Vtorrent\",\"GreenCoin\",\"Cryptonite\",\"MasterCoin\",\"SoonCoin\",\"1Credit\",\"IslaCoin\",\"Nexus\",\"MarsCoin \",\"Crypto\",\"Anarchists Prime\",\"Droidz\",\"BowsCoin\",\"Squall Coin\",\"Song Coin\",\"BitZeny\",\"Diggits\",\"Expanse\",\"Paycon\",\"Siacoin\",\"Emercoin\",\"EverGreenCoin\",\"MindCoin\",\"I0coin\",\"Decred\",\"Revolution VR\",\"HOdlcoin\",\"EDRCoin\",\"Hitcoin\",\"Gamecredits\",\"DubaiCoin\",\"CarpeDiemCoin\",\"PWR Coin\",\"BillaryCoin\",\"GPU Coin\",\"Adzcoin\",\"SoilCoin\",\"YoCoin\",\"SibCoin\",\"EuropeCoin\",\"ZeitCoin\",\"SwingCoin\",\"SafeExchangeCoin\",\"Nebuchadnezzar\",\"Francs\",\"BolivarCoin\",\"Ratecoin\",\"Revenu\",\"Clockcoin\",\"VIP Tokens\",\"BitSend\",\"Omni\",\"Let it Ride\",\"PutinCoin\",\"iBankCoin\",\"Frankywillcoin\",\"MudraCoin\",\"PizzaCoin\",\"Lutetium Coin\",\"Komodo\",\"GoldBlocks\",\"CarterCoin\",\"Karbo\",\"BitTokens\",\"ZayedCoin\",\"MustangCoin\",\"ZoneCoin\",\"Circuits of Value\",\"RootCoin\",\"DopeCoin\",\"BitCurrency\",\"DollarCoin\",\"Swiscoin\",\"Shilling\",\"BuzzCoin\",\"Opair\",\"PesoBit\",\"Halloween Coin\",\"ZCoin\",\"CoffeeCoin\",\"RoyalCoin\",\"GanjaCoin V2\",\"TeamUP\",\"LanaCoin\",\"Elementrem\",\"ZClassic\",\"ARK\",\"InsaneCoin\",\"KiloCoin\",\"ArtexCoin\",\"EmberCoin\",\"XenixCoin\",\"FreeCoin\",\"PLNCoin\",\"AquariusCoin\",\"Kurrent\",\"Creatio\",\"Eternity\",\"Eurocoin\",\"BitcoinFast\",\"Stakenet\",\"BitConnect Coin\",\"MoneyCoin\",\"Enigma\",\"Cannabis Industry Coin\",\"Russiacoin\",\"PandaCoin\",\"GameUnits\",\"GAKHcoin\",\"Allsafe\",\"LiteCreed\",\"OsmiumCoin\",\"Bikercoins\",\"HexxCoin\",\"Klingon Empire Darsek\",\"Internet of People\",\"KushCoin\",\"Printerium\",\"PacCoin\",\"Impeach\",\"Citadel\",\"Zilbercoin\",\"FirstCoin\",\"BeaverCoin\",\"FindCoin\",\"VaultCoin\",\"Zero\",\"OpenChat\",\"Canada eCoin\",\"Zoin\",\"RenosCoin\",\"DubaiCoin\",\"VirtacoinPlus\",\"TajCoin\",\"Impact\",\"EB3coin\",\"Atmos\",\"HappyCoin\",\"Coinonat\",\"MacronCoin\",\"Condensate\",\"Independent Money System\",\"ArgusCoin\",\"LomoCoin\",\"ProCurrency\",\"GoldReserve\",\"BenjiRolls\",\"GrowthCoin\",\"ILCoin\",\"Phreak\",\"Degas Coin\",\"HTML5 Coin\",\"Ultimate Secure Cash\",\"EquiTrader\",\"QTUM\",\"Quantum Resistant Ledger\",\"Espers\",\"Dynamic\",\"Nano\",\"ChanCoin\",\"Dinastycoin\",\"Denarius\",\"DigitalPrice\",\"Virta Unique Coin\",\"Bitcoin Planet\",\"Unify\",\"BritCoin\",\"SocialCoin\",\"ArcticCoin\",\"DAS\",\"Linda\",\"LeviarCoin\",\"DeepOnion\",\"Bitcore\",\"gCn Coin\",\"SmartCash\",\"Signatum\",\"Onix\",\"Cream\",\"Bitcoin Cash\",\"Monoeci\",\"Draftcoin\",\"Vechain\",\"Sojourn Coin\",\"Stakecoin\",\"NewYorkCoin\",\"FrazCoin\",\"Kronecoin\",\"AdCoin\",\"Linx\",\"CoinonatX\",\"Ethereum Dark\",\"Sumokoin\",\"Obsidian\",\"Cardano\",\"Regalcoin\",\"BitcoinZ\",\"TrezarCoin\",\"Elements\",\"TerraNovaCoin\",\"VIVO Coin\",\"Rupee\",\"Bitcoin Gold\",\"WomenCoin\",\"Theresa May Coin\",\"NamoCoin\",\"LUXCoin\",\"Pirl\",\"Xios\",\"Bitcloud 2.0\",\"eBoost\",\"KekCoin\",\"BlackholeCoin\",\"Infinity Economics\",\"Pura\",\"Innova\",\"Ellaism\",\"GoByte\",\"Magnet\",\"Lamden Tau\",\"Electra\",\"Bitcoin Diamond\",\"SHIELD\",\"Cash & Back Coin\",\"UltraNote\",\"BitCoal\",\"DaxxCoin\",\"Bulwark\",\"Kalkulus\",\"AC3\",\"Lethean\",\"GermanCoin\",\"LiteCoin Ultra\",\"PopularCoin\",\"PhantomX\",\"Photon\",\"Sucre\",\"SparksPay\",\"Digiwage\",\"GunCoin\",\"IrishCoin\",\"Trollcoin\",\"Litecoin Plus\",\"Monkey Project\",\"Pioneer Coin\",\"UnitedBitcoin\",\"Interzone\",\"TokenPay\",\"1717 Masonic Commemorative Token\",\"My Big Coin\",\"TurtleCoin\",\"MUNcoin\",\"Unified Society USDEX\",\"Niobio Cash\",\"ShareChain\",\"Travelflex\",\"KREDS\",\"Tokyo Coin\",\"BiblePay\",\"LitecoinCash\",\"BitFlip\",\"LottoCoin\",\"Crypto Improvement Fund\",\"Stipend\",\"Poa Network\",\"Pushi\",\"Ellerium\",\"Velox\",\"Ontology\",\"Callisto Network\",\"BitTube\",\"Poseidon\",\"Aidos Kuneen\",\"Bitspace\",\"Briacoin\",\"Ignition\",\"Bitrolium\",\"MedicCoin\",\"Alpenschillling\",\"Bitcoin Green\",\"Deviant Coin\",\"Abjcoin\",\"Semux\",\"FuturoCoin\",\"Carebit\",\"Zealium\",\"Monero Classic\",\"Proton\",\"iDealCash\",\"Jumpcoin\",\"Infinex\",\"Bitcoin Incognito\",\"KEYCO\",\"HollyWoodCoin\",\"GINcoin\",\"PlatinCoin\",\"Loki\",\"Newton Coin\",\"Swisscoin\",\"Xt3ch\",\"MassGrid\",\"TheVig\",\"PluraCoin\",\"EmaratCoin\",\"Dekado\",\"Lynx\",\"Poseidon Quark\",\"BitcoinWSpectrum\",\"Muse\",\"Motion\",\"PlusOneCoin\",\"Axe\",\"Trivechain\",\"Dystem\",\"Giant\",\"Peony Coin\",\"Absolute Coin\",\"Vitae\",\"HexCoin\",\"TPCash\",\"Webchain\",\"Ryo\",\"Urals Coin\",\"Qwertycoin\",\"ARENON\",\"EUNO\",\"MMOCoin\",\"Ketan\",\"Project Pai\",\"XDNA\",\"PAXEX\",\"Azart\",\"ThunderStake\",\"Kcash\",\"Xchange\",\"Acute Angle Cloud\",\"CrypticCoin\",\"Bettex coin\",\"Actinium\",\"Bitcoin SV\",\"BitMoney\",\"Junson Ming Chan Coin\",\"FREDEnergy\",\"HerbCoin\",\"Universal Molecule\",\"Lithium\",\"PirateCash\",\"Exosis\",\"Block-Logic\",\"Oduwa\",\"Beam\",\"Galilel\",\"Bithereum\",\"Crypto Sports\",\"Credit\",\"SLICE\",\"Dash Platinum\",\"Nasdacoin\",\"Beetle Coin\",\"Titan Coin\",\"Award\",\"BLAST\",\"Bitcoin Rhodium\",\"GlobalToken\",\"Insane Coin\",\"ALAX\",\"LiteDoge\",\"SolarCoin\",\"TruckCoin\",\"UFO Coin\",\"OrangeCoin\",\"BlakeCoin\",\"BitstarCoin\",\"NeosCoin\",\"HyperCoin\",\"PinkCoin\",\"Crypto Escudo\",\"AudioCoin\",\"IncaKoin\",\"Piggy Coin\",\"Crown Coin\",\"Genstake\",\"SmileyCoin\",\"XiaoMiCoin\",\"Groestlcoin\",\"CapriCoin\",\" ClubCoin\",\"Radium\",\"Bata\",\"Pakcoin\",\"Creditbit \",\"OKCash\",\"Lisk\",\"HiCoin\",\"WhiteCoin\",\"FriendshipCoin\",\"JoinCoin\",\"Triangles Coin\",\"Vollar\",\"EOS\",\"Reality Clash\",\"Oxycoin\",\"TigerCash\",\"Waves\",\"Particl\",\"BitTorrent\",\"Nxt\",\"ZEPHYR\",\"Gapcoin\",\"Beldex\",\"Horizen\",\"BitcoinPlus\"],\"legendgroup\":\"\",\"marker\":{\"color\":[0,0,0,1,1,1,0,1,1,1,0,1,0,0,1,0,1,1,0,0,1,1,1,1,1,0,1,1,1,0,1,0,1,1,0,0,1,1,1,1,1,1,0,0,1,1,1,1,1,0,0,1,0,1,1,1,1,0,1,1,0,1,0,0,0,1,1,1,0,0,0,0,0,1,1,1,0,0,1,0,1,0,0,1,1,1,1,0,0,1,0,1,1,0,0,1,0,0,1,1,0,0,1,0,0,1,0,1,0,1,0,1,0,0,1,1,0,1,1,1,0,1,1,1,1,1,0,0,1,1,1,0,1,0,1,1,0,1,0,1,0,0,1,1,0,1,1,0,0,1,0,1,0,0,0,1,1,1,1,0,0,0,0,0,1,1,0,0,0,0,0,1,0,0,0,0,0,1,0,1,0,0,1,0,1,0,0,1,0,1,0,1,0,1,0,0,0,0,1,0,0,0,0,0,1,1,0,0,1,1,0,0,0,0,0,1,0,0,0,0,0,0,0,0,1,0,0,0,0,0,0,1,1,1,0,0,0,0,1,0,1,0,0,1,0,1,1,0,1,1,0,1,0,0,0,1,0,0,1,0,0,0,0,0,0,0,1,0,1,0,0,0,0,1,0,1,0,1,1,1,1,0,1,0,0,1,0,1,1,1,0,1,0,1,1,1,0,1,0,1,0,0,3,1,0,1,1,1,1,1,0,0,1,0,0,0,1,0,1,0,1,0,1,0,0,0,0,1,0,0,1,0,0,0,1,1,1,1,0,0,0,0,1,0,1,1,1,0,0,1,1,0,0,1,0,1,1,1,0,1,1,0,0,0,1,1,1,0,0,0,1,1,0,1,1,1,1,0,3,3,1,1,1,0,3,0,0,0,0,1,1,1,1,0,0,0,1,0,1,0,0,0,0,1,0,0,1,0,0,1,1,0,1,0,1,1,1,1,0,0,1,0,1,0,0,0,0,0,0,1,1,1,0,0,0,0,0,0,1,0,1,1,1,1,0,0,0,0,1,0,0,1,0,0,1,3,1,0,1,1,0,0,1,0,1,1,0,1,1,0,1,0,1,0,0,1,0,0,0,0,0,1,1,1,0,0,0,1,0,1,0,1,0,0,0,0,1,0,0,0,1,0,1,0,1,0,0,0,1,1,0,0,0,0,0,0,1,0,1,0,1,0,0,3,0,2,0,0,0,1,1,0],\"coloraxis\":\"coloraxis\",\"symbol\":\"circle\"},\"mode\":\"markers\",\"name\":\"\",\"scene\":\"scene\",\"showlegend\":false,\"x\":[-0.3401608135955141,-0.32350736792186574,2.3037163793430957,-0.14089181360227337,-0.1541259309375606,-0.16953783514695833,-0.39336206214354885,-0.13029171653847743,-0.15256764501877282,-0.1707926246414573,-0.24869599224462,0.159847725298587,-0.3103456562080971,-0.26510937728687745,-0.17068367813513902,-0.24252066196865366,-0.22409256328972643,-0.17030020084981787,-0.3398205303983246,-0.3324037934189297,-0.093504817116487,2.5518430533966634,-0.1379778366276558,-0.16755631093729453,-0.17010412601458552,-0.33865850904564887,-0.23290755113050665,-0.1937736325381408,-0.170153215750717,-0.3401567493692107,-0.1706659569674257,-0.34014103876809193,-0.17075240351867244,-0.22418185473812455,0.6443595345106463,-0.36416052651841474,0.18354944319806604,0.2368249515789927,0.07789022515789465,-0.17049882811419956,-0.1661054144207425,-0.1704380906221213,-0.3395659587404068,-0.28410594249575166,-0.1708093783028311,-0.1629384310465511,-0.15003710303882886,-0.16960495341039078,-0.16988218526329818,-0.3382202184106386,-0.3279646104916683,1.5774544924936482,-0.3932568370015171,-0.14085321094651024,-0.16717221650491026,-0.1705252574365194,-0.170879942132267,-0.3853998959476841,-0.1701394497979467,-0.1376776156729398,-0.035039475849500595,-0.17076123527306555,-0.27366296387618744,-0.294675633039364,-0.28045068945010376,-0.03566166201570062,-0.14093076540852412,-0.16442749548822963,-0.28107243307047913,-0.3370599607549929,-0.3344644493379333,-0.33856307933465524,0.017712834632871297,-0.1707406163923196,-0.16883476456734672,-0.1702275239891437,-0.34783634521079837,-0.3936282820598007,-0.12808620683466676,-0.25069141453944904,-0.14039474327466286,-0.32099859977893974,-0.39353991916391345,-0.1406817749099955,-0.140664512551479,-0.14125533684950276,-0.2243557464307621,-0.3154004306261113,-0.33883851299667145,-0.17045729700387374,-0.2847353742689171,-0.16635092778386418,-0.16756091615313878,-0.3935044526674101,-0.2511594899994627,-0.14046200317232718,-0.2808534603715232,-0.33126371957560125,3.8755334603878415,0.4757677877310373,-0.03141230605476679,-0.3347997574289739,-0.16932514850409583,-0.3095576446393366,-0.36358255210900303,-0.1539244187991816,-0.2946560183120894,-0.16804447347346801,-0.2811476810645501,-0.17088214111763492,-0.28931061886207765,-0.167909653988499,-0.34014289554361515,-0.281099916003969,-0.15413750830436904,-0.14324112187458574,-0.34828071974877634,-0.12750049311568476,-0.2009795062007466,-0.17075530537263456,-0.33987733854310015,-0.04371680984899745,-0.12118724813674672,-0.1708910409555695,-0.14095852287748314,0.4814226551665105,-0.39360982477763173,-0.3420768811459671,-0.22374314971780204,-0.15908759194512628,-0.14069834929387554,-0.3982851202470955,-0.22402792476555822,-0.3829346724712724,-0.16901474706195885,-0.16820730061677427,-0.2930580649338621,-0.15519250324022857,-0.28062163653556527,0.3568901445933403,-0.3029012382007624,-0.24496250380080412,-0.22406333009711907,-0.1408543324876916,-0.0790624141046306,-0.1668503912979634,-0.14062727215137993,-0.3103165919140502,-0.07113693789654123,-0.16945486162319204,-0.310380317618303,0.2774748129395188,-0.23361044018683852,-0.3397531607131783,-0.29292637747591277,-0.22322419390438375,-0.16774770181011306,-0.16970153373025365,-0.16076636057988525,-0.39077850935335795,0.8583013245764597,-0.31018032763928666,-0.08612269410661332,-0.33924933216225117,-0.17068097202375132,-0.22402653870290754,-0.39145392000716617,-0.3089235581305419,-0.3065914628864851,-0.3548776906688059,-0.39234500981281206,-0.17089109942886185,-0.35606151827160143,-0.31605391354400303,-0.339791213898912,-0.3382310027793332,-0.23460538348082835,-0.22417640161082672,-0.335776503285762,-0.35462973017655136,-0.3930837812632118,-0.3389957222719917,0.3207162626397222,-0.3103612118673162,-0.1411143066711717,-0.3935990038828251,-0.3399803944925405,-0.10757915916258691,-0.34013713295545506,-0.16805849529687267,-0.2929174791082557,-0.14107296002960118,-0.25437738512668134,-0.1705545420798927,0.04176932612101817,-0.3382068211829278,-0.33975157849124105,-0.37976147961309964,-0.14741359942899762,-0.33753619570353915,-0.23603627085604792,-0.3920068969203352,-0.33728353474261596,-0.27260696192574874,-0.15493478273676306,-0.1708142261221663,3.730673130074797,-0.39319166667699124,-0.09760181736652637,-0.21076615400067378,0.8502254867960689,-0.3935539415705089,-0.3386703886742406,-0.3396789235895579,-0.33983311051796056,-0.22200473532009843,-0.33924933216225117,-0.39312878044644733,-0.31022399441074544,-0.33967969683144544,-0.3629706558674318,-0.33982701146154354,-0.33541408174942056,-0.39358290589258815,0.3207107054249769,-0.33903751064944787,0.34833704638573065,-0.34002624120993774,-0.3400968259243968,-0.36167760557619427,-0.36938704094331065,-0.17087283617102836,0.3208413544137173,-0.15962802668109,-0.3363230117194549,-0.31033764320945134,-0.3934928949548661,-0.33987468941376087,0.49123324460764956,-0.3400015343126134,-0.1290560527261812,-0.29456222171798696,-0.29541495128176243,-0.170841141763595,-0.23580421626700757,-0.2169090648432164,-0.17082661920944492,-0.32086269813901175,-0.16897509570095381,-0.1593465348710241,-0.294303686960906,-0.17869759949197248,-0.3927585690747782,-0.392667254303005,-0.3914978151865462,-0.14175859671312893,-0.33749657936651123,-0.3926565306944235,-0.18681103701644144,-0.331898696040781,-0.3885978142361949,-0.3399448682216182,-0.33994400823279197,-0.33306422609005754,0.26766931996348453,-0.3931350622302788,-0.17040361571635074,-0.2772040024656681,-0.10744677463576814,-0.3392835322681528,-0.3391555736076171,0.8891798037601952,-0.2637994841406808,-0.1702255609193037,-0.3548403280498005,-0.12891443461528598,0.5739549033161021,-0.13878156465982272,-0.043122258565305716,-0.13962266936099385,0.3568201419927909,-0.3564127385240243,-0.22323247270919366,-0.3549153342501825,-0.4089580548646874,-0.17054495049510898,-0.28078510881462904,-0.17030812308227686,-0.22362714016205235,-0.2242044554431641,0.1247805969111125,0.3211056326556853,-0.280855904192967,-0.15630637088806945,3.2377104923056286,-0.10744602359765192,-0.3331573099109144,-0.21507581438268478,-0.40846331079488285,-0.14089097842145606,-0.39340745143238354,-0.29463662569722826,4.3816704441803305,-0.09644698514920196,-0.33914969036348536,1.574869768707293,-0.1706427226526497,-0.17009432607035102,-0.16979540799281737,-0.16978234833016073,-0.3395801522527559,-0.34007976231771414,0.3212893471444655,-0.3067406759045431,0.6445887713891594,-0.3933482037072853,0.04148924316160604,-0.33206023184541855,-0.1786121460019874,-0.34003533178045653,-0.16762588960754937,-0.2911929645144858,-0.17067275418377523,0.42867669343440346,-0.30868461009953285,-0.34118283529248244,-0.40175759345931605,-0.1665068338451666,-0.33998567163201593,-0.4052922855859016,-0.16897330614542208,-0.3557862242860169,-0.33985621044030623,-0.09166139669318467,-0.21974984456523922,-0.16747129066987715,-0.15329943958417885,-0.16757151322537558,-0.392140959370904,3.7355280741279366,0.2028663371713729,-0.27752793884757604,-0.11773486319205306,-0.33731704658761136,1.1586264225361638,0.32069342981570265,-0.07817680023361628,-0.31100339081088924,-0.3615635605160506,-0.21949024767164604,-0.11802827319649382,0.07432119731083728,-0.33899446076778905,-0.08705706412443458,-0.3927223091224737,1.095387206777723,-0.22417846666436916,-0.16762349073152893,-0.36072823735949716,-0.1606631240224099,-0.16989396438805487,-0.32656439028248785,-0.340101878622402,-0.34825266338917443,-0.22410390610730774,-0.14087039631515547,-0.19788242733267028,-0.35634328201523063,-0.27949415613279344,-0.2832113555347744,8.059745904956356,-0.157208043110025,-0.3356489052675068,0.32456726545675463,0.02207816695619939,-0.166010789070453,-0.15191248208712801,-0.22760072646688653,-0.16356500869028226,-0.33169088916931705,-0.1704674389282663,0.13651237751586498,-0.2182457988125875,-0.36717431406325457,-0.37941792446178685,-0.3934245773711941,-0.343915521506513,-0.29379650717792744,-0.3318283921174794,-0.10632958937747872,0.3286175586439885,-0.17070440788840444,-0.14196312486430335,-0.3560117247872835,-0.3401292197175004,-0.3401109306889154,-0.1696642391451976,-0.2881795627059383,-0.14519681846138988,-0.3568759596674422,-0.33874427053496425,-0.3398274823364058,3.9579582790004926,-0.22327321584884244,-0.4039613113483428,-0.3389328531038918,0.3208758573090752,-0.29915736456791403,-0.2867022606079723,-0.18687064037732357,-0.159473266172411,-0.3333744326927835,-0.11900761785519536,-0.29433100548672186,-0.1474979891056849,0.32480518789278606,0.5896687199186957,2.1293073067935673,-0.14332002848239317,-0.2945827510119908,-0.14464461583232469,-0.3379239735925274,0.33447767198138056,-0.33930153692289333,-0.19913336564442966,2.2363186686694743,-0.357270385852914,-0.26392779995152826,1.0212010252429473,-0.1751895905160248,-0.16842046559500698,-0.22416063157201419,-0.34366709519186434,-0.361677000529216,-0.4069765117487774,-0.17528777769464915,-0.3362940470237931,-0.36039695007546296,-0.17072896458831882,-0.33300436227492963,-0.11790315654877852,-0.1723507123124853,-0.17341923289197142,3.1116607170777195,-0.3478301539440146,-0.39289813671869317,-0.29182880897322094,-0.33803243055459276,-0.1007335179670463,-0.3368615216146792,-0.34769132624903215,-0.22413199068137804,-0.1995925643005312,-0.2532387928357432,-0.1746171968101787,-0.36465541790816997,-0.06544329051453616,-0.29873574872239916,-0.1468956766618972,-0.1408910159599236,0.4347987136972346,-0.13836295406085303,0.40063329755896776,-0.4062713334623248,-0.14868619463446683,-0.14907847809935804,-0.29420752535290945,-0.16900357693387022,-0.169621394739767,-0.3398315153501133,-0.16873261501851392,-0.4067273507983796,-0.1705056261912553,-0.36179394203690707,0.5665163428355602,-0.20019036951633187,-0.3483069466216015,-0.3393143892576001,-0.3383722630751347,-0.2926439119804311,-0.3904620554836168,-0.14016738721855804,-0.11197046117580603,-0.13903543516432204,-0.3931253408151641,3.747764044581423,0.09501347566147551,0.5253518517368941,-0.3906670481659028,-0.09281590503579283,-0.3386995372813123,-0.09953229085836052,-0.33952492150953456,-0.2651419237285222,-0.3400432402630464,-0.38475621690067774,-0.15428798628772553,-0.253738305579406,-0.09016863141138569,-0.3805043109634544,-0.14068114581306504,-0.3393219992325185,0.544771677141685,-0.33238887395523614,-0.19333480576338177,-0.3896953011824178,-0.33776135917877476,-0.3395248317661876,-0.17080586354938698,-0.1687618453631464,-0.3772456941664649,-0.30886126204458464,3.7310648912635602,-0.10194107802204504,-0.33495727792512725,-0.33668570943205717,-0.12823483188244159,-0.281254886964039,-0.08576602547899427,3.740924360053821,-0.15496792908360296,3.7421675579315052,-0.2460463267072986,-0.43727312747989583,-0.33946074912682644,34.04713424510745,-0.2860223439697844,2.4808670184177584,-0.33820592056766086,0.3424443176187712,-0.17079368083049806,-0.29497921950734735],\"y\":[1.0520945476574213,1.052233656214116,1.639574571723157,-1.3264929367309368,-2.0098485358735525,-1.101005878048901,1.218153806174633,-2.30366143093287,-2.0099556571901416,-2.0338829762270567,1.577606761117554,-1.8045888804217816,0.8265815243593387,0.619683937344552,-1.1009956571606767,1.87601089463854,-0.9349258606297051,-1.1010155109817001,1.0520929675289434,1.0523451516847135,-1.7985270905954243,-1.3009589495537492,-1.3265103671486742,-1.1010663333673703,-1.1010361703491327,1.0521430822440063,-0.445448266008221,-1.251545155012086,-1.1009988895537453,1.0520943040754478,-1.100995084647606,1.0520944367183263,-1.1009919837841358,-0.9349272456834733,0.28881759448618705,0.9015596135856381,-1.8004901578407084,-1.3300208395145665,-1.1030720139221608,-1.100989685260022,-1.1010567955516137,-1.100995971167653,1.5325963435100654,0.41037498993729377,-1.1009923966355226,-1.6613330605242123,-1.1013781039850434,-1.1009975487910628,-1.1010081891418906,1.0520672622994738,1.0119169337097549,-1.1124379353591773,1.2181572056554197,-1.3264916896051677,-1.1010654875195545,-1.1009897892744362,-1.1009872636363873,2.101307485526109,-1.1009938213646615,-2.2062280889276367,0.8535858750272675,-1.1009899146408881,0.8259691282289562,0.845185746220939,1.791654832606939,-1.1078652507076119,-1.3264941951366251,-1.1010304868264393,1.7916347461005124,0.4918404689194985,1.0519636497259919,1.0520726818578277,1.0636562768317035,-1.1009974966498672,-1.101107636030099,-1.1010035651966603,1.0112749428407506,1.21816170100389,-1.326729332602287,0.14800296640994892,-1.3264963825837195,1.6089001716375495,1.2181570581633914,-1.3265018975112475,-1.326529833387393,-1.3264891219931623,-0.9349193666037241,1.0516947457022985,1.0520622838340792,-1.1009898431868428,0.30739346024885017,-1.336110290420291,-1.1010780451361122,1.2181615782082469,0.1480628274900374,-1.326497046896041,1.7916418203934859,1.051632153048642,-2.3761836632291584,-2.3551979489649906,0.30690318874369743,1.4595772537461242,-1.101014843262256,0.8265724902281392,0.9015815703102267,-1.1016981893400846,0.845198512169458,-1.1010194079609752,1.7916233171151073,-1.1009882929620591,0.8449962892235009,-1.101010263964743,1.0520951265626708,1.7916263599096638,-1.1011951886904847,-2.136594825220825,1.0112455899362855,-1.7981257184941624,-1.5039645706145774,-1.1009847526901504,1.05208870922834,-1.1043763327361762,-2.155759479540484,-1.1009870744353087,-1.326495091889821,-1.1488969085384368,1.2181622980482463,2.4270800707589384,-0.934924320017102,-2.1647606987495642,-1.326511250984505,1.8535707553722731,-0.9349245222007291,0.6756876159865842,-1.1010836374082504,-1.10108736471848,0.8451751537559375,-2.0098956702778614,1.7916118183297527,-2.1380586644755635,0.8260886947753733,1.8761747283985308,-0.9349219168778972,-1.326491725838501,0.9009660892524154,-1.101013534180612,-2.181908360078212,0.8265824633317865,1.208672339096011,-1.1010031974452525,0.8265890276153883,-1.329177179183456,1.5255005051062136,1.0520762247331996,0.8450886391680017,-0.9349457956148078,-2.198468963705591,-1.1010744158099648,-2.221567414539145,1.2179658336168837,0.8082135603267463,0.8265733686330167,0.2936010774730399,1.532591576067049,-1.1009948199043533,-0.934927476744369,1.2181757109900306,0.8264769579379823,0.8263256452464469,1.5215152714089346,1.218098933622974,-1.100987074052403,1.5572523485527816,1.0513737015229188,1.0520732457542938,1.052081910505725,1.5846198317360614,-0.9349323183256324,1.0111719181891434,-1.3870169273177686,1.2181418012617184,1.0520647032226675,-2.352716348818804,0.8265817716374771,-1.3264916786625718,1.218160398143929,1.0520846299963835,-1.798381922075476,1.0520953127330803,-1.1010450657694484,0.8452546786949294,-1.3264910194583166,0.4379596265107711,-1.1009982336726487,1.9181254585730252,1.5325847653352846,1.0521077687390117,1.2174849468171338,-2.224695569521596,1.532631925375252,1.5847216959069204,1.8564986280741096,1.532444382136878,1.9173373718839284,-2.009894316951986,-2.0338836741003705,1.9223104273205196,1.218153312450231,-1.1061171813984312,-0.9348552465911858,1.8275459321911156,1.2181612141095006,1.5325877849199474,1.0520812175065057,1.0520736418160372,-0.9350143745101488,1.532591576067049,1.2181328491780306,0.8265869545161937,1.0520853465876616,0.6501358964260942,1.0520843364864327,1.051760014379289,1.2181594185560352,-2.352724776491966,1.0520228623188443,0.8415908358761491,1.052089147484228,1.0520941286412682,1.5007491191157132,0.6490853300441676,-1.1009880570495059,-2.3527235549724974,-2.164736326050765,1.0518436191875407,0.8265825330638626,1.2181590617526876,1.0520887948130597,-0.9867840926185012,1.0520832471960802,-2.30376022934889,0.8451603017426912,0.4274539900336657,-1.1009875172828623,1.5847201763232293,-0.9354286193341965,-2.0338810751577596,1.0519681760926782,-1.1009996950659013,-2.1647354801078786,0.8451840808562321,-2.1061882005881323,1.218114816270748,1.823315060737421,1.21814804880561,-1.1030447585722936,1.5325804995508987,1.2181181127976697,-0.6315734511260095,1.5325441154549575,1.2179493043951444,1.0520856186793686,1.0520801068043195,1.0515739845616827,0.5806683479758474,1.2181476428480984,-1.1009974971000007,0.8442626684225087,-1.3272712670220905,1.532582972866291,1.0520482914874212,1.8453501195390718,0.6195855993234624,-1.1010190982548365,1.5572419374802213,-2.3036956676741247,1.937253248418502,-2.261344199238869,-2.151236913375514,-2.261224801914287,-2.3530421134458366,1.5215256654805276,-0.9349580603671567,1.5214915603467334,1.8760858055416347,-1.1009898832153011,1.7916215336881351,-1.1010240150608621,-0.9349408175560102,-0.934928650686093,1.029623751677875,-2.3527367620956405,1.7916275710003464,-2.224343894135096,-1.140831963166756,-1.3269028873004463,1.5377753950031647,-0.9354443760672153,1.876101789107227,-1.326492909748975,1.218161707226631,0.8451860872099531,2.6994984093799563,-1.1064547878897784,1.5325636022373814,-1.0445867779537363,-1.100993584192054,-1.1010238564537358,-1.1010261966777912,-1.1010257747627301,1.0520771261301618,1.052094016902136,-2.3527569876396224,1.5783628189616579,1.537102521039711,1.218150504741964,-2.042755540412047,0.4917048884186762,-0.9347912354828483,1.0520868042605789,-1.6612527993199022,0.6100850252509776,-2.0338791036039368,1.058187409850142,0.8265767005413355,1.521125395396778,1.8163368798765078,-2.1985235839787514,1.052084459509237,1.7075674994091334,-1.1009996372512045,1.559076720733151,1.0520932997190193,0.618548371888998,-0.9350330056972763,-1.6612613016855742,-2.0100317872322715,-1.6612546417838874,1.2181017766730433,1.922186088199453,1.5171067237269353,1.7915917926894025,-1.7983051111371982,1.0520289560693126,-2.3893743184351433,-2.35271896104955,-2.0148931744258176,1.3146132622702975,1.5007490543857596,-0.9351745851091474,-2.3040146810422124,1.0279935732230647,1.0520197541357683,-1.1020273613498257,1.2181534792464053,-1.2871100058382114,-0.9349284859211315,-1.6612482228358516,1.5007010578797089,-1.6613825250177239,-1.1010023868079535,1.0518589561051026,1.0520934523626793,1.0112457465149625,-0.9349284765712066,-1.326491619449516,-1.232562652789864,1.5572496192471108,-0.06371642272640533,0.33188096583149107,-2.8525167698297147,-2.1898729526466134,1.052066351993612,-2.35283638029913,-1.1022507118514209,-2.198465337874844,-1.3364056593711926,1.5843962309146702,3.1222584283789496,3.2014798827550623,-1.1010029179612022,-1.1048575277033434,-0.9350968894945619,0.9205205343316311,3.4206004562682275,1.2181495370196367,1.3546802262226072,0.8451333011611994,1.591920381771357,-2.0131782916773235,-2.3532034161347593,-1.1009963268713236,-2.2246015675203603,1.521508627697093,1.0520933188918633,1.052092410089265,-2.0338832634800537,0.8450328299550898,-2.2248328553990957,1.5628763402400172,1.5325569044716578,1.052082821612604,1.8148486121683198,-0.9349593766449754,1.7076104988412146,1.5325568106301621,-2.352717491413981,0.58453921544042,1.0499810227305726,-0.6315549423297709,-2.164743533488553,0.8122304564044939,-2.2969678011142833,0.8451895166745105,-2.224690122721897,-2.353026649495153,-2.320613834970029,-2.432248027536829,1.0508055576482003,0.8451678866459252,-2.223396597848567,1.920780438654189,-2.3530140950056726,1.0520593223339583,1.6692414056231109,0.2455085574450865,1.5004153595014165,0.6196563034549113,1.7171008834370525,-1.3616221656177043,-2.063508693040225,-0.9349288095243673,0.7914392446838558,1.5007446396786073,1.7076591913226915,0.8363977680843796,0.8169727332371326,1.5007267573042216,-1.1009979489782507,1.0515759185660982,-2.3045734007318117,-2.136306658457955,-0.798473781276294,-2.3773453022296525,1.0112339021718837,1.2181477988308365,0.8450948940906439,1.5324884223519553,-1.326754451337543,0.8277098737670172,1.01120464485996,-0.9349308835535002,1.0431388962840655,1.7628179123212429,-1.3616621034782843,3.189872190694025,-2.036162450072302,1.1477811885943696,-2.2247257765297728,-1.32649291096172,0.8198093407353678,1.0180423441933966,-2.3561856240903887,1.7076453448509217,-2.129279668787104,-2.129232437309603,-0.08774953007125905,-2.07584849620537,-1.10103557149172,1.0520894397953964,-2.033997733105106,1.7076568295009904,-2.0338811170704556,1.5007465828885387,1.0252989900412168,-1.5040140592547475,1.011244967580863,1.0520589071169855,1.3545293852963245,1.918569119180275,1.2179490633030272,-1.3265017755997688,-0.3614534072587816,-1.3265431883174055,1.2181554552222782,1.9222064771054044,1.0399095336731596,-1.1520516668910017,1.2182573695526195,-1.6618150103374283,1.0519917906157283,-2.1328616593336323,1.0520744083823999,0.619676512314337,1.052098346099419,1.218073413862518,-1.101200050142828,1.0470133544129439,0.8335687536109768,1.2178358637113404,-1.3265018771871793,1.0521103995818204,-1.1153574190813353,1.052045701403998,-1.2515467243964253,1.2181327987394364,1.052052093315125,1.5325909237120283,-1.1009876072812896,-1.101054291761108,0.7269341619194225,0.8265672443402482,1.9222969009571542,0.8439195704626565,1.052037707727352,0.4918102706973124,-1.7981515421081131,1.791628761631226,-2.3594456073562298,1.9227353399290823,-2.0098940998967714,1.922775503593558,0.6195593444533574,3.248699188857153,1.532593268345941,1.704581417775596,1.544197670495617,0.8246626977108331,1.0519702462251388,-2.3530568178953373,-2.033883010349077,0.8451873207633677],\"z\":[-0.5828247417746488,-0.5832480159478654,-0.7135222232318833,0.16510721866836486,0.4052547773772229,-0.005777330563329407,-0.4787242361141471,0.4113634602256758,0.40523893367859654,0.4102301396080659,-0.07060016842378038,0.3649861197574573,-0.4119628406945334,-0.10093815963623445,-0.005752121925165724,-0.7334708370358338,0.09835123373144754,-0.0057573080521714035,-0.5828325158611181,-0.5830586509144706,0.3698079016684863,-0.030899651037939783,0.16504141738576295,-0.005812462559544831,-0.005757881338599748,-0.5828700430367285,0.035113794558226434,0.08315452862195989,-0.005764088697495338,-0.5828247901793224,-0.005752656298274538,-0.5828251897684784,-0.005751215282086853,0.09835362964600063,-0.05185346965485195,-0.4938993519975539,0.363612156547911,0.1568288053542248,-0.011248640235141976,-0.005757695986758749,-0.005848828782040829,-0.005757896057301711,-0.11466477729576506,-0.3402684902455907,-0.005749779650395697,0.20738320740330274,-0.006167129503173588,-0.005777383021584311,-0.00576869016559531,-0.5828654619624744,-0.16830935922506526,-0.04503236205179378,-0.47872740912662465,0.1651060546242441,-0.005821757639424845,-0.005757047336133968,-0.005749118023494974,-0.7970392359449046,-0.005765418298587553,0.375592293882129,-0.2796353580600131,-0.005751414666463242,-0.41271345427876943,-0.2718037575613334,-0.682191714785139,-0.00760206993443563,0.16510839324095541,-0.005893907255715839,-0.6821729664116337,-0.3695955223582579,-0.5829342215515088,-0.582858386037105,-0.5936162458748089,-0.005750404979985552,-0.005773911418238714,-0.00576139798860592,-0.16771013682454328,-0.478719471112413,0.16484965891778233,0.10447615508358613,0.16509608765961525,-0.3088034209451593,-0.4787206526743612,0.16510399961955347,0.16510911496075537,0.1651151030467078,0.09835620363762258,-0.5833340787938378,-0.582849783845087,-0.005758651711774685,-0.4335422343153786,0.17342693244129978,-0.005810036592440998,-0.47872238955588475,0.10447543840828244,0.1650978174485715,-0.6821795694258233,-0.5829447166722055,0.3336230236752557,0.4102655664184463,0.5430388217271596,-0.10328601854686655,-0.005780611662277945,-0.41197978041634314,-0.49391743014122724,-0.0060114385407471944,-0.2718067487318153,-0.005810143268520444,-0.6821689175940217,-0.0057488621706568545,-0.2718937803223226,-0.005815155808195052,-0.5828252820909335,-0.6821706545511818,-0.006105865505542129,0.3410466532035607,-0.1676937706764221,0.3705363993632498,0.21570999680922828,-0.005752576594002379,-0.5828303235796755,-0.00810073395311668,0.3380754976236411,-0.005748891689553141,0.16510923025379895,-0.011774422656723054,-0.4787200278310042,-0.8214030478868216,0.09834262540071734,0.35980573450354236,0.1651062435682416,-0.7146348721763762,0.09834943290110731,0.16921414574037802,-0.005774381043847939,-0.005792832285491499,-0.2718401029701999,0.40528944677302087,-0.6821791443292835,0.448327054241817,-0.4120422737315768,-0.7334452135828676,0.09834975896844594,0.16510608844376742,-0.47449870902412994,-0.005839681723921598,0.359377863302988,-0.4119637171140456,-0.48450633958273126,-0.005779832589183386,-0.41196350109173674,0.1556959139707428,-0.6496836449112089,-0.5828308052237477,-0.27182612030913006,0.09833454048610947,0.4310005972065417,-0.005759883951565921,0.38024546956214,-0.4787484527151504,-0.2918906628379739,-0.4119651564693621,-0.0354401422847783,-0.11467135876253827,-0.005752351839234697,0.09834998435550507,-0.4787739146348123,-0.41197595331514864,-0.41200144530792676,-0.6460135423980972,-0.4787375522523985,-0.005748890375706997,-0.13528063503517548,-0.5832550482937776,-0.5828293116859167,-0.5828681030173144,-0.3711543271467533,0.0983545033978888,-0.1679763540504861,0.5292043176519435,-0.4787284747843638,-0.5828465264026931,0.413459426039976,-0.41196251993387883,0.16511225724435646,-0.47871990919194507,-0.5828270676655264,0.37011365645306854,-0.5828254558589496,-0.005804735067281293,-0.27185917352762956,0.16511114427885765,-0.3027907304707913,-0.005754681146005474,-0.806395902628942,-0.11469478628820441,-0.582837082064454,-0.4789151489642733,0.43431320984453015,-0.11472005131399621,-0.3711404711626288,-0.6361860003185448,-0.11468896057508524,-0.798769057805398,0.40528305451782964,0.4102307909901082,-0.35691280734932385,-0.4787281878048799,-0.006475858016859508,0.09802057245690796,-0.7161606338344652,-0.47872114146472017,-0.11468436714080109,-0.5828335569693768,-0.5828283943766517,0.09831912532713893,-0.11467135876253827,-0.4787256347300037,-0.4119668059714969,-0.5828343553045017,-0.08031236814206173,-0.5828306546672292,-0.5828713760909096,-0.47872009799371606,0.41346122505375693,-0.5828372574138058,-0.28637351663522403,-0.5828268716811534,-0.5828261795243564,-0.23082745349154343,-0.36138006951181095,-0.005749129959449905,0.4134578786481055,0.35981375682044575,-0.5828663125069947,-0.41196323063518103,-0.4787221664762347,-0.5828304034628697,0.09160922997862819,-0.5828262917795826,0.4113536372229849,-0.271801419928544,-0.2864076154225198,-0.00574998992121137,-0.3711456852360823,0.09827996522082921,0.4102305714471318,-0.5832583543652001,-0.0057919266931879525,0.359806900012015,-0.2718122672380479,0.48112007013093594,-0.4787308657677256,-0.6338940764088818,-0.4787674000559198,-0.006034207677514719,-0.11471082101231318,-0.4787339426849695,-0.0689076964758104,-0.11483665479309661,-0.4787970062427161,-0.5828281074825588,-0.5828270376994894,-0.5828904232825746,-0.10588224780698481,-0.4787284115580788,-0.005758413511443956,-0.27203638048003287,0.1644663669026262,-0.11466884434905163,-0.5828394814750419,-0.7543004833462613,-0.10094983771858695,-0.005758372281744144,-0.13530759663802727,0.4113375017896808,-0.5663492478737598,0.42969636017132,0.4604396999600352,0.43380434612400776,0.4126658733824227,-0.6459791187926819,0.09833716313114747,-0.6460079578961172,-0.7559511344494025,-0.005756560761303333,-0.6821771811551786,-0.005755437722442638,0.09834313162998631,0.09835444464050905,-0.5894291912069874,0.4134542105331812,-0.6821766928940749,0.3425856647257614,-0.07887116686520888,0.17105808754856525,-0.011241838401368514,0.09823951571449313,-0.7559660532138357,0.16510719348390163,-0.4787247202516679,-0.2718047519934552,9.26101764793426,-0.006436525110647435,-0.11466819361269483,-0.058391543356987846,-0.005753505230234259,-0.005760549852850017,-0.005767190578920284,-0.005767584386633656,-0.5828350949584673,-0.5828265629293948,0.4134538451750095,-0.06937031536872175,-0.2661613488017173,-0.4787239124454414,0.406940334371588,-0.36968752082283585,0.0972437905298242,-0.5828261921717157,0.207478726817779,-0.09260725328467581,0.41022652497328926,-0.602300843966818,-0.4120013603406129,-0.6462618770397249,-0.6190905612008503,0.43098191232357747,-0.5828269085359775,-0.5418750042056848,-0.005791980656356252,-0.08444205867355628,-0.5828317336516239,-0.10483543872867308,0.098269224342214,0.20747673458970747,0.40527138246693417,0.20747779902520488,-0.47874296373021014,-0.3570035885743564,-0.6583960094863772,-0.682248703246155,0.3703398079112421,-0.5828793485303919,0.40079774534958434,0.4134604853340926,0.4044476947336746,-0.3349556200448866,-0.2308301509012737,0.09829105884720124,0.41114189782619787,-0.5879076127949995,-0.5828376656861888,-0.0075353929173405535,-0.4787393747992318,0.08561136480889525,0.09835379444299691,0.2074777646051963,-0.23084050839988687,0.20733891990538608,-0.005769557913154104,-0.5831012538998868,-0.5828259256856111,-0.16769446838955715,0.09835202070636799,0.16510644914787903,0.02912303501924607,-0.1352733992450506,0.13924559733720734,-0.20965425648855934,0.328403914114566,0.4343581043580922,-0.5829263876351986,0.413391650851991,-0.01008474916370338,0.4309586033385904,0.17314223381351934,-0.3712765615732556,11.277690925394236,12.423415700650347,-0.005755824572671668,-0.012288595464719587,0.09824611747260972,-0.5479525990921906,8.16840715959611,-0.4787219060603349,-0.2680513341872766,-0.2718142761043957,-0.10706912146866375,0.40477753413142803,0.4133679958226378,-0.005751496829637448,0.44229263273884556,-0.6459852786605942,-0.5828252495409258,-0.5828255044123825,0.41020338101547427,-0.2719278867651966,0.43428768379610244,-0.16025045696059972,-0.11467650339043314,-0.5828303438430108,-0.34268835891190624,0.09833839172051267,-0.541915139080115,-0.1146720032765613,0.41345585936702217,0.0036943055959172094,-0.5836771082412828,-0.06890994098095918,0.3598115046227408,0.3798810978111279,0.3491666862562616,-0.2718126932060995,0.434314137966344,0.41342363102340673,0.3933295727490245,0.3862102883289999,-0.5872475903658125,-0.27180243231646606,0.3584757095782264,-0.7978978585815614,0.4131912869831231,-0.5828381945877497,-0.4224275531240151,-0.3214475863565675,-0.2308661725309502,-0.10096077327885335,-0.2368550415393998,0.2697425555642909,0.5216682220516793,0.0983534346096775,-0.30734812451036186,-0.23082658186078314,-0.5418531157565094,-0.27290272255928294,-0.40363319318480256,-0.23085346445740737,-0.005750592409973259,-0.5828922284465177,0.41124943634965183,0.35953087134220807,0.30900968593219535,0.34461712284556495,-0.16770216632565363,-0.4787340728044249,-0.27185344056249744,-0.11467987443711763,0.16420460690134675,-0.4048912864883976,-0.16769967853920292,0.09835316420812364,-0.5843938813355521,0.07326872851252736,0.26973685246946305,16.150006439236368,0.408177443443549,0.04297497662952898,0.4343068765071917,0.16510719461585577,0.4188891645595368,-0.1740267040525427,0.41224644985813247,-0.5418671351387511,0.38660218312578454,0.3866021633684725,0.14417427631207175,0.37396155963092226,-0.0057694716109187565,-0.5828315570429448,0.41020388301852573,-0.5418585697621653,0.4102229515292124,-0.23082418717226155,-0.5990713629634965,0.21570103204099833,-0.1676930243117361,-0.5828378070319089,-0.26815323087473364,-0.7985365248158999,-0.4787526559722409,0.16509175138875756,-0.10509183679116844,0.16507304244185927,-0.47873018782866766,-0.35729840194919404,-0.5907562674217314,-0.012194379088320603,-0.4788087658143964,0.2058121144715055,-0.5828391433286196,0.38614256894097665,-0.5828358699278487,-0.10093591755709465,-0.5828282871469737,-0.4789128477235814,-0.0061013279158606765,-0.5838734876687844,-0.4185772542197752,-0.47896690555427596,0.16510398064944456,-0.5828478111268783,-0.019913810881557577,-0.5829997757599436,0.08314441058088573,-0.4788072193447272,-0.5828733661328814,-0.11466468264599232,-0.005750810485755173,-0.005786195518443954,0.07385204809284979,-0.41199529192492645,-0.35691944187654984,-0.276133536578237,-0.5829371580606009,-0.36959844316705726,0.3705589582633985,-0.6821674468065719,0.43691775533953975,-0.3572404672306185,0.4052837992886432,-0.35727795525202705,-0.10136653786225684,17.152788000834697,-0.11466666928815934,-1.2061593831330921,-0.007388423061900599,-0.22181778041426195,-0.5828466124677285,0.41301041475621464,0.4102301714569285,-0.2717968544459028],\"type\":\"scatter3d\"}],                        {\"template\":{\"data\":{\"histogram2dcontour\":[{\"type\":\"histogram2dcontour\",\"colorbar\":{\"outlinewidth\":0,\"ticks\":\"\"},\"colorscale\":[[0.0,\"#0d0887\"],[0.1111111111111111,\"#46039f\"],[0.2222222222222222,\"#7201a8\"],[0.3333333333333333,\"#9c179e\"],[0.4444444444444444,\"#bd3786\"],[0.5555555555555556,\"#d8576b\"],[0.6666666666666666,\"#ed7953\"],[0.7777777777777778,\"#fb9f3a\"],[0.8888888888888888,\"#fdca26\"],[1.0,\"#f0f921\"]]}],\"choropleth\":[{\"type\":\"choropleth\",\"colorbar\":{\"outlinewidth\":0,\"ticks\":\"\"}}],\"histogram2d\":[{\"type\":\"histogram2d\",\"colorbar\":{\"outlinewidth\":0,\"ticks\":\"\"},\"colorscale\":[[0.0,\"#0d0887\"],[0.1111111111111111,\"#46039f\"],[0.2222222222222222,\"#7201a8\"],[0.3333333333333333,\"#9c179e\"],[0.4444444444444444,\"#bd3786\"],[0.5555555555555556,\"#d8576b\"],[0.6666666666666666,\"#ed7953\"],[0.7777777777777778,\"#fb9f3a\"],[0.8888888888888888,\"#fdca26\"],[1.0,\"#f0f921\"]]}],\"heatmap\":[{\"type\":\"heatmap\",\"colorbar\":{\"outlinewidth\":0,\"ticks\":\"\"},\"colorscale\":[[0.0,\"#0d0887\"],[0.1111111111111111,\"#46039f\"],[0.2222222222222222,\"#7201a8\"],[0.3333333333333333,\"#9c179e\"],[0.4444444444444444,\"#bd3786\"],[0.5555555555555556,\"#d8576b\"],[0.6666666666666666,\"#ed7953\"],[0.7777777777777778,\"#fb9f3a\"],[0.8888888888888888,\"#fdca26\"],[1.0,\"#f0f921\"]]}],\"heatmapgl\":[{\"type\":\"heatmapgl\",\"colorbar\":{\"outlinewidth\":0,\"ticks\":\"\"},\"colorscale\":[[0.0,\"#0d0887\"],[0.1111111111111111,\"#46039f\"],[0.2222222222222222,\"#7201a8\"],[0.3333333333333333,\"#9c179e\"],[0.4444444444444444,\"#bd3786\"],[0.5555555555555556,\"#d8576b\"],[0.6666666666666666,\"#ed7953\"],[0.7777777777777778,\"#fb9f3a\"],[0.8888888888888888,\"#fdca26\"],[1.0,\"#f0f921\"]]}],\"contourcarpet\":[{\"type\":\"contourcarpet\",\"colorbar\":{\"outlinewidth\":0,\"ticks\":\"\"}}],\"contour\":[{\"type\":\"contour\",\"colorbar\":{\"outlinewidth\":0,\"ticks\":\"\"},\"colorscale\":[[0.0,\"#0d0887\"],[0.1111111111111111,\"#46039f\"],[0.2222222222222222,\"#7201a8\"],[0.3333333333333333,\"#9c179e\"],[0.4444444444444444,\"#bd3786\"],[0.5555555555555556,\"#d8576b\"],[0.6666666666666666,\"#ed7953\"],[0.7777777777777778,\"#fb9f3a\"],[0.8888888888888888,\"#fdca26\"],[1.0,\"#f0f921\"]]}],\"surface\":[{\"type\":\"surface\",\"colorbar\":{\"outlinewidth\":0,\"ticks\":\"\"},\"colorscale\":[[0.0,\"#0d0887\"],[0.1111111111111111,\"#46039f\"],[0.2222222222222222,\"#7201a8\"],[0.3333333333333333,\"#9c179e\"],[0.4444444444444444,\"#bd3786\"],[0.5555555555555556,\"#d8576b\"],[0.6666666666666666,\"#ed7953\"],[0.7777777777777778,\"#fb9f3a\"],[0.8888888888888888,\"#fdca26\"],[1.0,\"#f0f921\"]]}],\"mesh3d\":[{\"type\":\"mesh3d\",\"colorbar\":{\"outlinewidth\":0,\"ticks\":\"\"}}],\"scatter\":[{\"fillpattern\":{\"fillmode\":\"overlay\",\"size\":10,\"solidity\":0.2},\"type\":\"scatter\"}],\"parcoords\":[{\"type\":\"parcoords\",\"line\":{\"colorbar\":{\"outlinewidth\":0,\"ticks\":\"\"}}}],\"scatterpolargl\":[{\"type\":\"scatterpolargl\",\"marker\":{\"colorbar\":{\"outlinewidth\":0,\"ticks\":\"\"}}}],\"bar\":[{\"error_x\":{\"color\":\"#2a3f5f\"},\"error_y\":{\"color\":\"#2a3f5f\"},\"marker\":{\"line\":{\"color\":\"#E5ECF6\",\"width\":0.5},\"pattern\":{\"fillmode\":\"overlay\",\"size\":10,\"solidity\":0.2}},\"type\":\"bar\"}],\"scattergeo\":[{\"type\":\"scattergeo\",\"marker\":{\"colorbar\":{\"outlinewidth\":0,\"ticks\":\"\"}}}],\"scatterpolar\":[{\"type\":\"scatterpolar\",\"marker\":{\"colorbar\":{\"outlinewidth\":0,\"ticks\":\"\"}}}],\"histogram\":[{\"marker\":{\"pattern\":{\"fillmode\":\"overlay\",\"size\":10,\"solidity\":0.2}},\"type\":\"histogram\"}],\"scattergl\":[{\"type\":\"scattergl\",\"marker\":{\"colorbar\":{\"outlinewidth\":0,\"ticks\":\"\"}}}],\"scatter3d\":[{\"type\":\"scatter3d\",\"line\":{\"colorbar\":{\"outlinewidth\":0,\"ticks\":\"\"}},\"marker\":{\"colorbar\":{\"outlinewidth\":0,\"ticks\":\"\"}}}],\"scattermapbox\":[{\"type\":\"scattermapbox\",\"marker\":{\"colorbar\":{\"outlinewidth\":0,\"ticks\":\"\"}}}],\"scatterternary\":[{\"type\":\"scatterternary\",\"marker\":{\"colorbar\":{\"outlinewidth\":0,\"ticks\":\"\"}}}],\"scattercarpet\":[{\"type\":\"scattercarpet\",\"marker\":{\"colorbar\":{\"outlinewidth\":0,\"ticks\":\"\"}}}],\"carpet\":[{\"aaxis\":{\"endlinecolor\":\"#2a3f5f\",\"gridcolor\":\"white\",\"linecolor\":\"white\",\"minorgridcolor\":\"white\",\"startlinecolor\":\"#2a3f5f\"},\"baxis\":{\"endlinecolor\":\"#2a3f5f\",\"gridcolor\":\"white\",\"linecolor\":\"white\",\"minorgridcolor\":\"white\",\"startlinecolor\":\"#2a3f5f\"},\"type\":\"carpet\"}],\"table\":[{\"cells\":{\"fill\":{\"color\":\"#EBF0F8\"},\"line\":{\"color\":\"white\"}},\"header\":{\"fill\":{\"color\":\"#C8D4E3\"},\"line\":{\"color\":\"white\"}},\"type\":\"table\"}],\"barpolar\":[{\"marker\":{\"line\":{\"color\":\"#E5ECF6\",\"width\":0.5},\"pattern\":{\"fillmode\":\"overlay\",\"size\":10,\"solidity\":0.2}},\"type\":\"barpolar\"}],\"pie\":[{\"automargin\":true,\"type\":\"pie\"}]},\"layout\":{\"autotypenumbers\":\"strict\",\"colorway\":[\"#636efa\",\"#EF553B\",\"#00cc96\",\"#ab63fa\",\"#FFA15A\",\"#19d3f3\",\"#FF6692\",\"#B6E880\",\"#FF97FF\",\"#FECB52\"],\"font\":{\"color\":\"#2a3f5f\"},\"hovermode\":\"closest\",\"hoverlabel\":{\"align\":\"left\"},\"paper_bgcolor\":\"white\",\"plot_bgcolor\":\"#E5ECF6\",\"polar\":{\"bgcolor\":\"#E5ECF6\",\"angularaxis\":{\"gridcolor\":\"white\",\"linecolor\":\"white\",\"ticks\":\"\"},\"radialaxis\":{\"gridcolor\":\"white\",\"linecolor\":\"white\",\"ticks\":\"\"}},\"ternary\":{\"bgcolor\":\"#E5ECF6\",\"aaxis\":{\"gridcolor\":\"white\",\"linecolor\":\"white\",\"ticks\":\"\"},\"baxis\":{\"gridcolor\":\"white\",\"linecolor\":\"white\",\"ticks\":\"\"},\"caxis\":{\"gridcolor\":\"white\",\"linecolor\":\"white\",\"ticks\":\"\"}},\"coloraxis\":{\"colorbar\":{\"outlinewidth\":0,\"ticks\":\"\"}},\"colorscale\":{\"sequential\":[[0.0,\"#0d0887\"],[0.1111111111111111,\"#46039f\"],[0.2222222222222222,\"#7201a8\"],[0.3333333333333333,\"#9c179e\"],[0.4444444444444444,\"#bd3786\"],[0.5555555555555556,\"#d8576b\"],[0.6666666666666666,\"#ed7953\"],[0.7777777777777778,\"#fb9f3a\"],[0.8888888888888888,\"#fdca26\"],[1.0,\"#f0f921\"]],\"sequentialminus\":[[0.0,\"#0d0887\"],[0.1111111111111111,\"#46039f\"],[0.2222222222222222,\"#7201a8\"],[0.3333333333333333,\"#9c179e\"],[0.4444444444444444,\"#bd3786\"],[0.5555555555555556,\"#d8576b\"],[0.6666666666666666,\"#ed7953\"],[0.7777777777777778,\"#fb9f3a\"],[0.8888888888888888,\"#fdca26\"],[1.0,\"#f0f921\"]],\"diverging\":[[0,\"#8e0152\"],[0.1,\"#c51b7d\"],[0.2,\"#de77ae\"],[0.3,\"#f1b6da\"],[0.4,\"#fde0ef\"],[0.5,\"#f7f7f7\"],[0.6,\"#e6f5d0\"],[0.7,\"#b8e186\"],[0.8,\"#7fbc41\"],[0.9,\"#4d9221\"],[1,\"#276419\"]]},\"xaxis\":{\"gridcolor\":\"white\",\"linecolor\":\"white\",\"ticks\":\"\",\"title\":{\"standoff\":15},\"zerolinecolor\":\"white\",\"automargin\":true,\"zerolinewidth\":2},\"yaxis\":{\"gridcolor\":\"white\",\"linecolor\":\"white\",\"ticks\":\"\",\"title\":{\"standoff\":15},\"zerolinecolor\":\"white\",\"automargin\":true,\"zerolinewidth\":2},\"scene\":{\"xaxis\":{\"backgroundcolor\":\"#E5ECF6\",\"gridcolor\":\"white\",\"linecolor\":\"white\",\"showbackground\":true,\"ticks\":\"\",\"zerolinecolor\":\"white\",\"gridwidth\":2},\"yaxis\":{\"backgroundcolor\":\"#E5ECF6\",\"gridcolor\":\"white\",\"linecolor\":\"white\",\"showbackground\":true,\"ticks\":\"\",\"zerolinecolor\":\"white\",\"gridwidth\":2},\"zaxis\":{\"backgroundcolor\":\"#E5ECF6\",\"gridcolor\":\"white\",\"linecolor\":\"white\",\"showbackground\":true,\"ticks\":\"\",\"zerolinecolor\":\"white\",\"gridwidth\":2}},\"shapedefaults\":{\"line\":{\"color\":\"#2a3f5f\"}},\"annotationdefaults\":{\"arrowcolor\":\"#2a3f5f\",\"arrowhead\":0,\"arrowwidth\":1},\"geo\":{\"bgcolor\":\"white\",\"landcolor\":\"#E5ECF6\",\"subunitcolor\":\"white\",\"showland\":true,\"showlakes\":true,\"lakecolor\":\"white\"},\"title\":{\"x\":0.05},\"mapbox\":{\"style\":\"light\"}}},\"scene\":{\"domain\":{\"x\":[0.0,1.0],\"y\":[0.0,1.0]},\"xaxis\":{\"title\":{\"text\":\"PC 1\"}},\"yaxis\":{\"title\":{\"text\":\"PC 2\"}},\"zaxis\":{\"title\":{\"text\":\"PC 3\"}}},\"coloraxis\":{\"colorbar\":{\"title\":{\"text\":\"Class\"}},\"colorscale\":[[0.0,\"#0d0887\"],[0.1111111111111111,\"#46039f\"],[0.2222222222222222,\"#7201a8\"],[0.3333333333333333,\"#9c179e\"],[0.4444444444444444,\"#bd3786\"],[0.5555555555555556,\"#d8576b\"],[0.6666666666666666,\"#ed7953\"],[0.7777777777777778,\"#fb9f3a\"],[0.8888888888888888,\"#fdca26\"],[1.0,\"#f0f921\"]]},\"legend\":{\"tracegroupgap\":0},\"margin\":{\"t\":60},\"width\":800},                        {\"responsive\": true}                    ).then(function(){\n",
       "                            \n",
       "var gd = document.getElementById('c2bd88a4-a72d-4293-ae19-d1ef33fc9c60');\n",
       "var x = new MutationObserver(function (mutations, observer) {{\n",
       "        var display = window.getComputedStyle(gd).display;\n",
       "        if (!display || display === 'none') {{\n",
       "            console.log([gd, 'removed!']);\n",
       "            Plotly.purge(gd);\n",
       "            observer.disconnect();\n",
       "        }}\n",
       "}});\n",
       "\n",
       "// Listen for the removal of the full notebook cells\n",
       "var notebookContainer = gd.closest('#notebook-container');\n",
       "if (notebookContainer) {{\n",
       "    x.observe(notebookContainer, {childList: true});\n",
       "}}\n",
       "\n",
       "// Listen for the clearing of the current output cell\n",
       "var outputEl = gd.closest('.output');\n",
       "if (outputEl) {{\n",
       "    x.observe(outputEl, {childList: true});\n",
       "}}\n",
       "\n",
       "                        })                };                });            </script>        </div>"
      ]
     },
     "metadata": {},
     "output_type": "display_data"
    }
   ],
   "source": [
    "# Creating a 3D-Scatter with the PCA data and the clusters\n",
    "# YOUR CODE HERE\n",
    "fig = px.scatter_3d(\n",
    "    clustered_df, \n",
    "    x=\"PC 1\", \n",
    "    y=\"PC 2\",\n",
    "    z=\"PC 3\",\n",
    "    color=\"Class\",\n",
    "    width=800,\n",
    "    hover_name=\"CoinName\",\n",
    "    hover_data=['Algorithm'],\n",
    ")\n",
    "\n",
    "fig.show()"
   ]
  },
  {
   "cell_type": "code",
   "execution_count": 154,
   "metadata": {},
   "outputs": [
    {
     "data": {},
     "metadata": {},
     "output_type": "display_data"
    },
    {
     "data": {
      "application/vnd.holoviews_exec.v0+json": "",
      "text/html": [
       "<div id='1490'>\n",
       "\n",
       "\n",
       "\n",
       "\n",
       "\n",
       "  <div class=\"bk-root\" id=\"03a1a63f-742e-4371-9f70-ecdcbcf4afec\" data-root-id=\"1490\"></div>\n",
       "</div>\n",
       "<script type=\"application/javascript\">(function(root) {\n",
       "  function embed_document(root) {\n",
       "    var docs_json = {\"4f3001f9-b72b-445b-9a36-8b9c1e7159aa\":{\"defs\":[{\"extends\":null,\"module\":null,\"name\":\"ReactiveHTML1\",\"overrides\":[],\"properties\":[]},{\"extends\":null,\"module\":null,\"name\":\"FlexBox1\",\"overrides\":[],\"properties\":[{\"default\":\"flex-start\",\"kind\":null,\"name\":\"align_content\"},{\"default\":\"flex-start\",\"kind\":null,\"name\":\"align_items\"},{\"default\":\"row\",\"kind\":null,\"name\":\"flex_direction\"},{\"default\":\"wrap\",\"kind\":null,\"name\":\"flex_wrap\"},{\"default\":\"flex-start\",\"kind\":null,\"name\":\"justify_content\"}]},{\"extends\":null,\"module\":null,\"name\":\"GridStack1\",\"overrides\":[],\"properties\":[{\"default\":\"warn\",\"kind\":null,\"name\":\"mode\"},{\"default\":null,\"kind\":null,\"name\":\"ncols\"},{\"default\":null,\"kind\":null,\"name\":\"nrows\"},{\"default\":true,\"kind\":null,\"name\":\"allow_resize\"},{\"default\":true,\"kind\":null,\"name\":\"allow_drag\"},{\"default\":[],\"kind\":null,\"name\":\"state\"}]},{\"extends\":null,\"module\":null,\"name\":\"click1\",\"overrides\":[],\"properties\":[{\"default\":\"\",\"kind\":null,\"name\":\"terminal_output\"},{\"default\":\"\",\"kind\":null,\"name\":\"debug_name\"},{\"default\":0,\"kind\":null,\"name\":\"clears\"}]},{\"extends\":null,\"module\":null,\"name\":\"TemplateActions1\",\"overrides\":[],\"properties\":[{\"default\":0,\"kind\":null,\"name\":\"open_modal\"},{\"default\":0,\"kind\":null,\"name\":\"close_modal\"}]},{\"extends\":null,\"module\":null,\"name\":\"MaterialTemplateActions1\",\"overrides\":[],\"properties\":[{\"default\":0,\"kind\":null,\"name\":\"open_modal\"},{\"default\":0,\"kind\":null,\"name\":\"close_modal\"}]}],\"roots\":{\"references\":[{\"attributes\":{\"source\":{\"id\":\"1492\"}},\"id\":\"1541\",\"type\":\"CDSView\"},{\"attributes\":{\"margin\":[5,5,5,5],\"name\":\"HSpacer02337\",\"sizing_mode\":\"stretch_width\"},\"id\":\"1491\",\"type\":\"Spacer\"},{\"attributes\":{\"data\":{\"Algorithm\":[\"Scrypt\",\"Scrypt\",\"X13\",\"SHA-256\",\"Ethash\",\"Scrypt\",\"X11\",\"CryptoNight-V7\",\"Ethash\",\"Equihash\",\"SHA-512\",\"Multiple\",\"SHA-256\",\"SHA-256\",\"Scrypt\",\"X15\",\"X11\",\"Scrypt\",\"Scrypt\",\"Scrypt\",\"Multiple\",\"Scrypt\",\"SHA-256\",\"Scrypt\",\"Scrypt\",\"Scrypt\",\"Quark\",\"Groestl\",\"Scrypt\",\"Scrypt\",\"Scrypt\",\"Scrypt\",\"Scrypt\",\"X11\",\"Scrypt\",\"Groestl\",\"Multiple\",\"SHA-256\",\"Scrypt\",\"Scrypt\",\"Scrypt\",\"Scrypt\",\"PoS\",\"Scrypt\",\"Scrypt\",\"NeoScrypt\",\"Scrypt\",\"Scrypt\",\"Scrypt\",\"Scrypt\",\"X11\",\"Scrypt\",\"X11\",\"SHA-256\",\"Scrypt\",\"Scrypt\",\"Scrypt\",\"SHA3\",\"Scrypt\",\"HybridScryptHash256\",\"Scrypt\",\"Scrypt\",\"SHA-256\",\"Scrypt\",\"X13\",\"Scrypt\",\"SHA-256\",\"Scrypt\",\"X13\",\"NeoScrypt\",\"Scrypt\",\"Scrypt\",\"Scrypt\",\"Scrypt\",\"Scrypt\",\"Scrypt\",\"X11\",\"X11\",\"SHA-256\",\"Multiple\",\"SHA-256\",\"PHI1612\",\"X11\",\"SHA-256\",\"SHA-256\",\"SHA-256\",\"X11\",\"Scrypt\",\"Scrypt\",\"Scrypt\",\"Scrypt\",\"Lyra2REv2\",\"Scrypt\",\"X11\",\"Multiple\",\"SHA-256\",\"X13\",\"Scrypt\",\"CryptoNight\",\"CryptoNight\",\"Shabal256\",\"Counterparty\",\"Scrypt\",\"SHA-256\",\"Groestl\",\"Scrypt\",\"Scrypt\",\"Scrypt\",\"X13\",\"Scrypt\",\"Scrypt\",\"Scrypt\",\"Scrypt\",\"X13\",\"Scrypt\",\"Stanford Folding\",\"X11\",\"Multiple\",\"QuBit\",\"Scrypt\",\"Scrypt\",\"Scrypt\",\"M7 POW\",\"Scrypt\",\"SHA-256\",\"Scrypt\",\"X11\",\"SHA3\",\"X11\",\"Lyra2RE\",\"SHA-256\",\"QUAIT\",\"X11\",\"X11\",\"Scrypt\",\"Scrypt\",\"Scrypt\",\"Ethash\",\"X13\",\"Blake2b\",\"SHA-256\",\"X15\",\"X11\",\"SHA-256\",\"BLAKE256\",\"Scrypt\",\"1GB AES Pattern Search\",\"SHA-256\",\"X11\",\"Scrypt\",\"SHA-256\",\"SHA-256\",\"NIST5\",\"Scrypt\",\"Scrypt\",\"X11\",\"Dagger\",\"Scrypt\",\"X11GOST\",\"X11\",\"Scrypt\",\"SHA-256\",\"Scrypt\",\"PoS\",\"Scrypt\",\"X11\",\"X11\",\"SHA-256\",\"SHA-256\",\"NIST5\",\"X11\",\"Scrypt\",\"POS 3.0\",\"Scrypt\",\"Scrypt\",\"Scrypt\",\"X13\",\"X11\",\"X11\",\"Equihash\",\"X11\",\"Scrypt\",\"CryptoNight\",\"SHA-256\",\"SHA-256\",\"X11\",\"Scrypt\",\"Multiple\",\"Scrypt\",\"Scrypt\",\"Scrypt\",\"SHA-256\",\"Scrypt\",\"Scrypt\",\"SHA-256D\",\"PoS\",\"Scrypt\",\"X11\",\"Lyra2Z\",\"PoS\",\"X13\",\"X14\",\"PoS\",\"SHA-256D\",\"Ethash\",\"Equihash\",\"DPoS\",\"X11\",\"Scrypt\",\"X11\",\"X13\",\"X11\",\"PoS\",\"Scrypt\",\"Scrypt\",\"X11\",\"PoS\",\"X11\",\"SHA-256\",\"Scrypt\",\"X11\",\"Scrypt\",\"Scrypt\",\"X11\",\"CryptoNight\",\"Scrypt\",\"Scrypt\",\"Scrypt\",\"Scrypt\",\"Quark\",\"QuBit\",\"Scrypt\",\"CryptoNight\",\"Lyra2RE\",\"Scrypt\",\"SHA-256\",\"X11\",\"Scrypt\",\"X11\",\"Scrypt\",\"CryptoNight-V7\",\"Scrypt\",\"Scrypt\",\"Scrypt\",\"X13\",\"X11\",\"Equihash\",\"Scrypt\",\"Scrypt\",\"Lyra2RE\",\"Scrypt\",\"Dagger-Hashimoto\",\"X11\",\"Blake2S\",\"X11\",\"Scrypt\",\"PoS\",\"X11\",\"NIST5\",\"PoS\",\"X11\",\"Scrypt\",\"Scrypt\",\"Scrypt\",\"SHA-256\",\"X11\",\"Scrypt\",\"Scrypt\",\"SHA-256\",\"PoS\",\"Scrypt\",\"X15\",\"SHA-256\",\"Scrypt\",\"POS 3.0\",\"CryptoNight-V7\",\"536\",\"Argon2d\",\"Blake2b\",\"Cloverhash\",\"CryptoNight\",\"NIST5\",\"X11\",\"NIST5\",\"Skein\",\"Scrypt\",\"X13\",\"Scrypt\",\"X11\",\"X11\",\"Scrypt\",\"CryptoNight\",\"X13\",\"Time Travel\",\"Scrypt\",\"Keccak\",\"SkunkHash v2 Raptor\",\"X11\",\"Skein\",\"SHA-256\",\"X11\",\"Scrypt\",\"VeChainThor Authority\",\"Scrypt\",\"PoS\",\"Scrypt\",\"Scrypt\",\"Scrypt\",\"Scrypt\",\"Scrypt\",\"Scrypt\",\"Scrypt\",\"CryptoNight\",\"SHA-512\",\"Ouroboros\",\"X11\",\"Equihash\",\"NeoScrypt\",\"X11\",\"Scrypt\",\"NeoScrypt\",\"Lyra2REv2\",\"Equihash\",\"Scrypt\",\"SHA-256\",\"NIST5\",\"PHI1612\",\"Dagger\",\"Scrypt\",\"Quark\",\"Scrypt\",\"POS 2.0\",\"Scrypt\",\"SHA-256\",\"X11\",\"NeoScrypt\",\"Ethash\",\"NeoScrypt\",\"X11\",\"DPoS\",\"NIST5\",\"X13\",\"Multiple\",\"Scrypt\",\"CryptoNight\",\"CryptoNight\",\"Ethash\",\"NIST5\",\"Quark\",\"X11\",\"CryptoNight-V7\",\"Scrypt\",\"Scrypt\",\"Scrypt\",\"X11\",\"BLAKE256\",\"X11\",\"NeoScrypt\",\"Quark\",\"NeoScrypt\",\"Scrypt\",\"Scrypt\",\"Scrypt\",\"X11\",\"X11\",\"SHA-256\",\"C11\",\"POS 3.0\",\"Ethash\",\"Scrypt\",\"CryptoNight\",\"SkunkHash\",\"Scrypt\",\"CryptoNight\",\"Scrypt\",\"Dagger\",\"Lyra2REv2\",\"X13\",\"Proof-of-BibleHash\",\"SHA-256 + Hive\",\"Scrypt\",\"Scrypt\",\"X11\",\"C11\",\"Proof-of-Authority\",\"X11\",\"XEVAN\",\"Scrypt\",\"VBFT\",\"Ethash\",\"CryptoNight\",\"Scrypt\",\"IMesh\",\"NIST5\",\"Scrypt\",\"Scrypt\",\"Equihash\",\"Scrypt\",\"Lyra2Z\",\"Green Protocol\",\"PoS\",\"Scrypt\",\"Semux BFT consensus\",\"X11\",\"Quark\",\"PoS\",\"CryptoNight\",\"X16R\",\"Scrypt\",\"NIST5\",\"Lyra2RE\",\"XEVAN\",\"Tribus\",\"Scrypt\",\"Lyra2Z\",\"CryptoNight\",\"CryptoNight Heavy\",\"CryptoNight\",\"Scrypt\",\"Scrypt\",\"Jump Consistent Hash\",\"SHA-256D\",\"CryptoNight\",\"Scrypt\",\"X15\",\"Scrypt\",\"Quark\",\"SHA-256\",\"DPoS\",\"X16R\",\"HMQ1725\",\"X11\",\"X16R\",\"Quark\",\"Quark\",\"Scrypt\",\"Lyra2REv2\",\"Quark\",\"Scrypt\",\"Scrypt\",\"CryptoNight-V7\",\"Cryptonight-GPU\",\"XEVAN\",\"CryptoNight Heavy\",\"X11\",\"X11\",\"Scrypt\",\"PoS\",\"SHA-256\",\"Keccak\",\"X11\",\"X11\",\"Scrypt\",\"SHA-512\",\"X16R\",\"ECC 256K1\",\"Equihash\",\"XEVAN\",\"Lyra2Z\",\"SHA-256\",\"XEVAN\",\"X11\",\"CryptoNight\",\"Quark\",\"Blake\",\"Blake\",\"Equihash\",\"Exosis\",\"Scrypt\",\"Scrypt\",\"Equihash\",\"Quark\",\"Equihash\",\"Quark\",\"Scrypt\",\"QuBit\",\"X11\",\"Scrypt\",\"XEVAN\",\"SHA-256D\",\"X11\",\"SHA-256\",\"X13\",\"SHA-256\",\"X11\",\"DPoS\",\"Scrypt\",\"Scrypt\",\"X11\",\"NeoScrypt\",\"Scrypt\",\"Blake\",\"Scrypt\",\"SHA-256\",\"Scrypt\",\"X11\",\"Scrypt\",\"Scrypt\",\"SHA-256\",\"X11\",\"SHA-256\",\"Scrypt\",\"Scrypt\",\"Scrypt\",\"Groestl\",\"X11\",\"Scrypt\",\"PoS\",\"Scrypt\",\"Scrypt\",\"X11\",\"SHA-256\",\"DPoS\",\"Scrypt\",\"Scrypt\",\"NeoScrypt\",\"Multiple\",\"X13\",\"Equihash+Scrypt\",\"DPoS\",\"Ethash\",\"DPoS\",\"SHA-256\",\"Leased POS\",\"PoS\",\"TRC10\",\"PoS\",\"SHA-256\",\"Scrypt\",\"CryptoNight\",\"Equihash\",\"Scrypt\"],\"Class\":{\"__ndarray__\":\"AAAAAAAAAAAAAAAAAQAAAAEAAAABAAAAAAAAAAEAAAABAAAAAQAAAAAAAAABAAAAAAAAAAAAAAABAAAAAAAAAAEAAAABAAAAAAAAAAAAAAABAAAAAQAAAAEAAAABAAAAAQAAAAAAAAABAAAAAQAAAAEAAAAAAAAAAQAAAAAAAAABAAAAAQAAAAAAAAAAAAAAAQAAAAEAAAABAAAAAQAAAAEAAAABAAAAAAAAAAAAAAABAAAAAQAAAAEAAAABAAAAAQAAAAAAAAAAAAAAAQAAAAAAAAABAAAAAQAAAAEAAAABAAAAAAAAAAEAAAABAAAAAAAAAAEAAAAAAAAAAAAAAAAAAAABAAAAAQAAAAEAAAAAAAAAAAAAAAAAAAAAAAAAAAAAAAEAAAABAAAAAQAAAAAAAAAAAAAAAQAAAAAAAAABAAAAAAAAAAAAAAABAAAAAQAAAAEAAAABAAAAAAAAAAAAAAABAAAAAAAAAAEAAAABAAAAAAAAAAAAAAABAAAAAAAAAAAAAAABAAAAAQAAAAAAAAAAAAAAAQAAAAAAAAAAAAAAAQAAAAAAAAABAAAAAAAAAAEAAAAAAAAAAQAAAAAAAAAAAAAAAQAAAAEAAAAAAAAAAQAAAAEAAAABAAAAAAAAAAEAAAABAAAAAQAAAAEAAAABAAAAAAAAAAAAAAABAAAAAQAAAAEAAAAAAAAAAQAAAAAAAAABAAAAAQAAAAAAAAABAAAAAAAAAAEAAAAAAAAAAAAAAAEAAAABAAAAAAAAAAEAAAABAAAAAAAAAAAAAAABAAAAAAAAAAEAAAAAAAAAAAAAAAAAAAABAAAAAQAAAAEAAAABAAAAAAAAAAAAAAAAAAAAAAAAAAAAAAABAAAAAQAAAAAAAAAAAAAAAAAAAAAAAAAAAAAAAQAAAAAAAAAAAAAAAAAAAAAAAAAAAAAAAQAAAAAAAAABAAAAAAAAAAAAAAABAAAAAAAAAAEAAAAAAAAAAAAAAAEAAAAAAAAAAQAAAAAAAAABAAAAAAAAAAEAAAAAAAAAAAAAAAAAAAAAAAAAAQAAAAAAAAAAAAAAAAAAAAAAAAAAAAAAAQAAAAEAAAAAAAAAAAAAAAEAAAABAAAAAAAAAAAAAAAAAAAAAAAAAAAAAAABAAAAAAAAAAAAAAAAAAAAAAAAAAAAAAAAAAAAAAAAAAAAAAABAAAAAAAAAAAAAAAAAAAAAAAAAAAAAAAAAAAAAQAAAAEAAAABAAAAAAAAAAAAAAAAAAAAAAAAAAEAAAAAAAAAAQAAAAAAAAAAAAAAAQAAAAAAAAABAAAAAQAAAAAAAAABAAAAAQAAAAAAAAABAAAAAAAAAAAAAAAAAAAAAQAAAAAAAAAAAAAAAQAAAAAAAAAAAAAAAAAAAAAAAAAAAAAAAAAAAAAAAAABAAAAAAAAAAEAAAAAAAAAAAAAAAAAAAAAAAAAAQAAAAAAAAABAAAAAAAAAAEAAAABAAAAAQAAAAEAAAAAAAAAAQAAAAAAAAAAAAAAAQAAAAAAAAABAAAAAQAAAAEAAAAAAAAAAQAAAAAAAAABAAAAAQAAAAEAAAAAAAAAAQAAAAAAAAABAAAAAAAAAAAAAAADAAAAAQAAAAAAAAABAAAAAQAAAAEAAAABAAAAAQAAAAAAAAAAAAAAAQAAAAAAAAAAAAAAAAAAAAEAAAAAAAAAAQAAAAAAAAABAAAAAAAAAAEAAAAAAAAAAAAAAAAAAAAAAAAAAQAAAAAAAAAAAAAAAQAAAAAAAAAAAAAAAAAAAAEAAAABAAAAAQAAAAEAAAAAAAAAAAAAAAAAAAAAAAAAAQAAAAAAAAABAAAAAQAAAAEAAAAAAAAAAAAAAAEAAAABAAAAAAAAAAAAAAABAAAAAAAAAAEAAAABAAAAAQAAAAAAAAABAAAAAQAAAAAAAAAAAAAAAAAAAAEAAAABAAAAAQAAAAAAAAAAAAAAAAAAAAEAAAABAAAAAAAAAAEAAAABAAAAAQAAAAEAAAAAAAAAAwAAAAMAAAABAAAAAQAAAAEAAAAAAAAAAwAAAAAAAAAAAAAAAAAAAAAAAAABAAAAAQAAAAEAAAABAAAAAAAAAAAAAAAAAAAAAQAAAAAAAAABAAAAAAAAAAAAAAAAAAAAAAAAAAEAAAAAAAAAAAAAAAEAAAAAAAAAAAAAAAEAAAABAAAAAAAAAAEAAAAAAAAAAQAAAAEAAAABAAAAAQAAAAAAAAAAAAAAAQAAAAAAAAABAAAAAAAAAAAAAAAAAAAAAAAAAAAAAAAAAAAAAQAAAAEAAAABAAAAAAAAAAAAAAAAAAAAAAAAAAAAAAAAAAAAAQAAAAAAAAABAAAAAQAAAAEAAAABAAAAAAAAAAAAAAAAAAAAAAAAAAEAAAAAAAAAAAAAAAEAAAAAAAAAAAAAAAEAAAADAAAAAQAAAAAAAAABAAAAAQAAAAAAAAAAAAAAAQAAAAAAAAABAAAAAQAAAAAAAAABAAAAAQAAAAAAAAABAAAAAAAAAAEAAAAAAAAAAAAAAAEAAAAAAAAAAAAAAAAAAAAAAAAAAAAAAAEAAAABAAAAAQAAAAAAAAAAAAAAAAAAAAEAAAAAAAAAAQAAAAAAAAABAAAAAAAAAAAAAAAAAAAAAAAAAAEAAAAAAAAAAAAAAAAAAAABAAAAAAAAAAEAAAAAAAAAAQAAAAAAAAAAAAAAAAAAAAEAAAABAAAAAAAAAAAAAAAAAAAAAAAAAAAAAAAAAAAAAQAAAAAAAAABAAAAAAAAAAEAAAAAAAAAAAAAAAMAAAAAAAAAAgAAAAAAAAAAAAAAAAAAAAEAAAABAAAAAAAAAA==\",\"dtype\":\"int32\",\"order\":\"little\",\"shape\":[532]},\"CoinName\":[\"42 Coin\",\"404Coin\",\"EliteCoin\",\"Bitcoin\",\"Ethereum\",\"Litecoin\",\"Dash\",\"Monero\",\"Ethereum Classic\",\"ZCash\",\"Bitshares\",\"DigiByte\",\"BitcoinDark\",\"PayCoin\",\"ProsperCoin\",\"KoboCoin\",\"Spreadcoin\",\"Argentum\",\"Aurora Coin\",\"BlueCoin\",\"MyriadCoin\",\"MoonCoin\",\"ZetaCoin\",\"SexCoin\",\"Quatloo\",\"EnergyCoin\",\"QuarkCoin\",\"Riecoin\",\"Digitalcoin \",\"BitBar\",\"Catcoin\",\"CryptoBullion\",\"CannaCoin\",\"CryptCoin\",\"CasinoCoin\",\"Diamond\",\"Verge\",\"DevCoin\",\"EarthCoin\",\"E-Gulden\",\"Einsteinium\",\"Emerald\",\"Exclusive Coin\",\"FlutterCoin\",\"Franko\",\"FeatherCoin\",\"GrandCoin\",\"GlobalCoin\",\"GoldCoin\",\"HoboNickels\",\"HyperStake\",\"Infinite Coin\",\"IOCoin\",\"IXcoin\",\"KrugerCoin\",\"LuckyCoin\",\"Litebar \",\"MaxCoin\",\"MegaCoin\",\"MediterraneanCoin\",\"MintCoin\",\"MinCoin\",\"MazaCoin\",\"Nautilus Coin\",\"NavCoin\",\"NobleCoin\",\"Namecoin\",\"NyanCoin\",\"OpalCoin\",\"Orbitcoin\",\"PotCoin\",\"PhoenixCoin\",\"Reddcoin\",\"RonPaulCoin\",\"StableCoin\",\"SmartCoin\",\"SuperCoin\",\"SyncCoin\",\"SysCoin\",\"TeslaCoin\",\"TigerCoin\",\"TittieCoin\",\"TorCoin\",\"TerraCoin\",\"UnbreakableCoin\",\"Unobtanium\",\"UroCoin\",\"UnitaryStatus Dollar\",\"UltraCoin\",\"ViaCoin\",\"VeriCoin\",\"Vertcoin\",\"WorldCoin\",\"X11 Coin\",\"Crypti\",\"JouleCoin\",\"StealthCoin\",\"ZCC Coin\",\"ByteCoin\",\"DigitalNote \",\"BurstCoin\",\"StorjCoin\",\"MonaCoin\",\"Neutron\",\"FairCoin\",\"Gulden\",\"RubyCoin\",\"PesetaCoin\",\"Kore\",\"Wild Beast Coin\",\"Dnotes\",\"Flo\",\"8BIT Coin\",\"Sativa Coin\",\"ArtByte\",\"Folding Coin\",\"Ucoin\",\"Unitus\",\"CypherPunkCoin\",\"OmniCron\",\"Vtorrent\",\"GreenCoin\",\"Cryptonite\",\"MasterCoin\",\"SoonCoin\",\"1Credit\",\"IslaCoin\",\"Nexus\",\"MarsCoin \",\"Crypto\",\"Anarchists Prime\",\"Droidz\",\"BowsCoin\",\"Squall Coin\",\"Song Coin\",\"BitZeny\",\"Diggits\",\"Expanse\",\"Paycon\",\"Siacoin\",\"Emercoin\",\"EverGreenCoin\",\"MindCoin\",\"I0coin\",\"Decred\",\"Revolution VR\",\"HOdlcoin\",\"EDRCoin\",\"Hitcoin\",\"Gamecredits\",\"DubaiCoin\",\"CarpeDiemCoin\",\"PWR Coin\",\"BillaryCoin\",\"GPU Coin\",\"Adzcoin\",\"SoilCoin\",\"YoCoin\",\"SibCoin\",\"EuropeCoin\",\"ZeitCoin\",\"SwingCoin\",\"SafeExchangeCoin\",\"Nebuchadnezzar\",\"Francs\",\"BolivarCoin\",\"Ratecoin\",\"Revenu\",\"Clockcoin\",\"VIP Tokens\",\"BitSend\",\"Omni\",\"Let it Ride\",\"PutinCoin\",\"iBankCoin\",\"Frankywillcoin\",\"MudraCoin\",\"PizzaCoin\",\"Lutetium Coin\",\"Komodo\",\"GoldBlocks\",\"CarterCoin\",\"Karbo\",\"BitTokens\",\"ZayedCoin\",\"MustangCoin\",\"ZoneCoin\",\"Circuits of Value\",\"RootCoin\",\"DopeCoin\",\"BitCurrency\",\"DollarCoin\",\"Swiscoin\",\"Shilling\",\"BuzzCoin\",\"Opair\",\"PesoBit\",\"Halloween Coin\",\"ZCoin\",\"CoffeeCoin\",\"RoyalCoin\",\"GanjaCoin V2\",\"TeamUP\",\"LanaCoin\",\"Elementrem\",\"ZClassic\",\"ARK\",\"InsaneCoin\",\"KiloCoin\",\"ArtexCoin\",\"EmberCoin\",\"XenixCoin\",\"FreeCoin\",\"PLNCoin\",\"AquariusCoin\",\"Kurrent\",\"Creatio\",\"Eternity\",\"Eurocoin\",\"BitcoinFast\",\"Stakenet\",\"BitConnect Coin\",\"MoneyCoin\",\"Enigma\",\"Cannabis Industry Coin\",\"Russiacoin\",\"PandaCoin\",\"GameUnits\",\"GAKHcoin\",\"Allsafe\",\"LiteCreed\",\"OsmiumCoin\",\"Bikercoins\",\"HexxCoin\",\"Klingon Empire Darsek\",\"Internet of People\",\"KushCoin\",\"Printerium\",\"PacCoin\",\"Impeach\",\"Citadel\",\"Zilbercoin\",\"FirstCoin\",\"BeaverCoin\",\"FindCoin\",\"VaultCoin\",\"Zero\",\"OpenChat\",\"Canada eCoin\",\"Zoin\",\"RenosCoin\",\"DubaiCoin\",\"VirtacoinPlus\",\"TajCoin\",\"Impact\",\"EB3coin\",\"Atmos\",\"HappyCoin\",\"Coinonat\",\"MacronCoin\",\"Condensate\",\"Independent Money System\",\"ArgusCoin\",\"LomoCoin\",\"ProCurrency\",\"GoldReserve\",\"BenjiRolls\",\"GrowthCoin\",\"ILCoin\",\"Phreak\",\"Degas Coin\",\"HTML5 Coin\",\"Ultimate Secure Cash\",\"EquiTrader\",\"QTUM\",\"Quantum Resistant Ledger\",\"Espers\",\"Dynamic\",\"Nano\",\"ChanCoin\",\"Dinastycoin\",\"Denarius\",\"DigitalPrice\",\"Virta Unique Coin\",\"Bitcoin Planet\",\"Unify\",\"BritCoin\",\"SocialCoin\",\"ArcticCoin\",\"DAS\",\"Linda\",\"LeviarCoin\",\"DeepOnion\",\"Bitcore\",\"gCn Coin\",\"SmartCash\",\"Signatum\",\"Onix\",\"Cream\",\"Bitcoin Cash\",\"Monoeci\",\"Draftcoin\",\"Vechain\",\"Sojourn Coin\",\"Stakecoin\",\"NewYorkCoin\",\"FrazCoin\",\"Kronecoin\",\"AdCoin\",\"Linx\",\"CoinonatX\",\"Ethereum Dark\",\"Sumokoin\",\"Obsidian\",\"Cardano\",\"Regalcoin\",\"BitcoinZ\",\"TrezarCoin\",\"Elements\",\"TerraNovaCoin\",\"VIVO Coin\",\"Rupee\",\"Bitcoin Gold\",\"WomenCoin\",\"Theresa May Coin\",\"NamoCoin\",\"LUXCoin\",\"Pirl\",\"Xios\",\"Bitcloud 2.0\",\"eBoost\",\"KekCoin\",\"BlackholeCoin\",\"Infinity Economics\",\"Pura\",\"Innova\",\"Ellaism\",\"GoByte\",\"Magnet\",\"Lamden Tau\",\"Electra\",\"Bitcoin Diamond\",\"SHIELD\",\"Cash & Back Coin\",\"UltraNote\",\"BitCoal\",\"DaxxCoin\",\"Bulwark\",\"Kalkulus\",\"AC3\",\"Lethean\",\"GermanCoin\",\"LiteCoin Ultra\",\"PopularCoin\",\"PhantomX\",\"Photon\",\"Sucre\",\"SparksPay\",\"Digiwage\",\"GunCoin\",\"IrishCoin\",\"Trollcoin\",\"Litecoin Plus\",\"Monkey Project\",\"Pioneer Coin\",\"UnitedBitcoin\",\"Interzone\",\"TokenPay\",\"1717 Masonic Commemorative Token\",\"My Big Coin\",\"TurtleCoin\",\"MUNcoin\",\"Unified Society USDEX\",\"Niobio Cash\",\"ShareChain\",\"Travelflex\",\"KREDS\",\"Tokyo Coin\",\"BiblePay\",\"LitecoinCash\",\"BitFlip\",\"LottoCoin\",\"Crypto Improvement Fund\",\"Stipend\",\"Poa Network\",\"Pushi\",\"Ellerium\",\"Velox\",\"Ontology\",\"Callisto Network\",\"BitTube\",\"Poseidon\",\"Aidos Kuneen\",\"Bitspace\",\"Briacoin\",\"Ignition\",\"Bitrolium\",\"MedicCoin\",\"Alpenschillling\",\"Bitcoin Green\",\"Deviant Coin\",\"Abjcoin\",\"Semux\",\"FuturoCoin\",\"Carebit\",\"Zealium\",\"Monero Classic\",\"Proton\",\"iDealCash\",\"Jumpcoin\",\"Infinex\",\"Bitcoin Incognito\",\"KEYCO\",\"HollyWoodCoin\",\"GINcoin\",\"PlatinCoin\",\"Loki\",\"Newton Coin\",\"Swisscoin\",\"Xt3ch\",\"MassGrid\",\"TheVig\",\"PluraCoin\",\"EmaratCoin\",\"Dekado\",\"Lynx\",\"Poseidon Quark\",\"BitcoinWSpectrum\",\"Muse\",\"Motion\",\"PlusOneCoin\",\"Axe\",\"Trivechain\",\"Dystem\",\"Giant\",\"Peony Coin\",\"Absolute Coin\",\"Vitae\",\"HexCoin\",\"TPCash\",\"Webchain\",\"Ryo\",\"Urals Coin\",\"Qwertycoin\",\"ARENON\",\"EUNO\",\"MMOCoin\",\"Ketan\",\"Project Pai\",\"XDNA\",\"PAXEX\",\"Azart\",\"ThunderStake\",\"Kcash\",\"Xchange\",\"Acute Angle Cloud\",\"CrypticCoin\",\"Bettex coin\",\"Actinium\",\"Bitcoin SV\",\"BitMoney\",\"Junson Ming Chan Coin\",\"FREDEnergy\",\"HerbCoin\",\"Universal Molecule\",\"Lithium\",\"PirateCash\",\"Exosis\",\"Block-Logic\",\"Oduwa\",\"Beam\",\"Galilel\",\"Bithereum\",\"Crypto Sports\",\"Credit\",\"SLICE\",\"Dash Platinum\",\"Nasdacoin\",\"Beetle Coin\",\"Titan Coin\",\"Award\",\"BLAST\",\"Bitcoin Rhodium\",\"GlobalToken\",\"Insane Coin\",\"ALAX\",\"LiteDoge\",\"SolarCoin\",\"TruckCoin\",\"UFO Coin\",\"OrangeCoin\",\"BlakeCoin\",\"BitstarCoin\",\"NeosCoin\",\"HyperCoin\",\"PinkCoin\",\"Crypto Escudo\",\"AudioCoin\",\"IncaKoin\",\"Piggy Coin\",\"Crown Coin\",\"Genstake\",\"SmileyCoin\",\"XiaoMiCoin\",\"Groestlcoin\",\"CapriCoin\",\" ClubCoin\",\"Radium\",\"Bata\",\"Pakcoin\",\"Creditbit \",\"OKCash\",\"Lisk\",\"HiCoin\",\"WhiteCoin\",\"FriendshipCoin\",\"JoinCoin\",\"Triangles Coin\",\"Vollar\",\"EOS\",\"Reality Clash\",\"Oxycoin\",\"TigerCash\",\"Waves\",\"Particl\",\"BitTorrent\",\"Nxt\",\"ZEPHYR\",\"Gapcoin\",\"Beldex\",\"Horizen\",\"BitcoinPlus\"],\"PC_1\":{\"__ndarray__\":\"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\",\"dtype\":\"float64\",\"order\":\"little\",\"shape\":[532]},\"PC_2\":{\"__ndarray__\":\"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\",\"dtype\":\"float64\",\"order\":\"little\",\"shape\":[532]},\"PC_3\":{\"__ndarray__\":\"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\",\"dtype\":\"float64\",\"order\":\"little\",\"shape\":[532]},\"ProofType\":[\"PoW/PoS\",\"PoW/PoS\",\"PoW/PoS\",\"PoW\",\"PoW\",\"PoW\",\"PoW/PoS\",\"PoW\",\"PoW\",\"PoW\",\"PoS\",\"PoW\",\"PoW/PoS\",\"PoS\",\"PoW\",\"PoW/PoS\",\"PoW\",\"PoW\",\"PoW/PoS\",\"PoW/PoS\",\"PoW\",\"PoW\",\"PoW\",\"PoW\",\"PoW\",\"PoW/PoS\",\"PoW\",\"PoW\",\"PoW\",\"PoW/PoS\",\"PoW\",\"PoW/PoS\",\"PoW\",\"PoW\",\"PoC\",\"PoW/PoS\",\"PoW\",\"PoW\",\"PoW\",\"PoW\",\"PoW\",\"PoW\",\"PoS\",\"PoS/PoW/PoT\",\"PoW\",\"PoW\",\"PoW\",\"PoW\",\"PoW\",\"PoW/PoS\",\"PoS\",\"PoW\",\"PoW/PoS\",\"PoW\",\"PoW\",\"PoW\",\"PoW\",\"PoW/PoS\",\"PoW\",\"PoW\",\"PoS\",\"PoW\",\"PoW/PoS\",\"PoS\",\"PoW/PoS\",\"PoW\",\"PoW\",\"PoW\",\"PoW/PoS\",\"PoW/PoS\",\"PoW/PoS\",\"PoW/PoS\",\"PoW/PoS\",\"PoW\",\"PoW\",\"PoW\",\"PoS\",\"PoW/PoS\",\"PoW\",\"PoS\",\"PoW\",\"PoS\",\"PoW/PoS\",\"PoW\",\"PoW\",\"PoW\",\"PoW\",\"PoW/PoS\",\"PoW/PoS\",\"PoW\",\"PoST\",\"PoW\",\"PoW\",\"PoW/PoS\",\"PoS\",\"PoW\",\"PoW/PoS\",\"PoW/PoS\",\"PoW\",\"PoW\",\"PoC\",\"PoS\",\"PoW\",\"PoW/PoS\",\"PoW/PoS\",\"PoW\",\"PoS\",\"PoW\",\"PoW/PoS\",\"PoW\",\"PoS\",\"PoW\",\"PoW/PoS\",\"PoW/PoS\",\"PoW\",\"PoW\",\"PoS\",\"PoW\",\"PoW\",\"PoW\",\"PoW/PoS\",\"PoW\",\"PoW\",\"PoW\",\"PoW\",\"PoW\",\"PoW/PoS\",\"PoW/nPoS\",\"PoW\",\"PoW\",\"PoW\",\"PoW/PoS\",\"PoW\",\"PoS/PoW\",\"PoW\",\"PoW\",\"PoS\",\"PoW\",\"PoW/PoS\",\"PoW\",\"PoW/PoS\",\"PoW/PoS\",\"PoW\",\"PoW\",\"PoW/PoS\",\"PoW\",\"PoW\",\"PoW/PoS\",\"PoW/PoS\",\"PoW\",\"PoW/PoS\",\"PoW\",\"PoW/PoS\",\"PoW/PoS\",\"PoS\",\"PoW\",\"PoW\",\"PoW\",\"PoW\",\"PoW/PoS\",\"PoS\",\"PoW/PoS\",\"PoC\",\"PoS\",\"PoW\",\"PoW\",\"PoW/PoS\",\"PoW/PoS\",\"PoW/PoS\",\"PoW/PoS\",\"PoW/PoS\",\"PoW\",\"PoS\",\"PoW/PoS\",\"PoW/PoS\",\"PoW/PoS\",\"PoS\",\"PoW\",\"PoS\",\"dPoW/PoW\",\"PoW/PoS\",\"PoW/PoS\",\"PoW\",\"PoW/PoS\",\"PoW\",\"PoW/PoS\",\"PoW/PoS\",\"PoW\",\"PoW/PoS\",\"PoW\",\"PoS\",\"PoW\",\"PoW/PoW\",\"PoW\",\"PoW/PoS\",\"PoS\",\"PoW/PoS\",\"PoW/PoS\",\"PoW\",\"PoS\",\"PoS\",\"PoW/PoS\",\"PoS\",\"PoW/PoS\",\"PoW\",\"PoW\",\"DPoS\",\"PoW/PoS\",\"PoW\",\"PoW\",\"PoW/PoS\",\"PoW/PoS\",\"PoS\",\"PoW/PoS\",\"PoW/PoS\",\"PoW\",\"PoS\",\"PoW/PoS\",\"PoW/PoS\",\"PoW/PoS\",\"TPoS\",\"PoW/PoS\",\"PoW/PoS\",\"PoW/PoS\",\"PoW\",\"PoW/PoS\",\"PoS\",\"PoW/PoS\",\"PoW/PoS\",\"PoS\",\"PoW/PoS\",\"PoW\",\"PoW\",\"PoW\",\"PoW/PoS\",\"PoW/PoS\",\"PoW/PoS\",\"PoW/PoS\",\"PoW\",\"PoW/PoS\",\"PoW\",\"PoS\",\"PoW/PoS \",\"PoW\",\"PoS\",\"PoW\",\"PoW\",\"PoW/PoS\",\"PoW\",\"PoW\",\"PoS\",\"PoW\",\"PoW/PoS\",\"PoW/PoS\",\"PoW/PoS\",\"PoW\",\"PoS\",\"PoW/PoS\",\"PoW\",\"PoS\",\"PoW/PoS\",\"PoW/PoS\",\"PoW/PoS\",\"PoW/PoS\",\"PoS\",\"PoW/PoS\",\"PoW\",\"PoS\",\"PoW\",\"PoS\",\"PoW/PoS\",\"PoW/PoS\",\"PoS\",\"PoW\",\"PoS\",\"PoW\",\"PoW/PoS\",\"PoW\",\"PoW\",\"PoW\",\"PoW\",\"PoW/PoS\",\"PoW\",\"PoW/PoS\",\"PoW/PoS\",\"PoW\",\"PoW/PoS\",\"PoW\",\"PoW\",\"PoW\",\"PoW/PoS\",\"PoW\",\"PoW/PoS\",\"PoW\",\"PoW\",\"PoW\",\"PoS\",\"PoW\",\"PoW/PoS\",\"PoW\",\"PoW/PoS\",\"PoS\",\"Proof of Authority\",\"PoW\",\"PoS\",\"PoW\",\"PoW\",\"PoW\",\"PoW\",\"PoW\",\"PoW/PoS\",\"PoW/PoS\",\"PoW\",\"PoS\",\"PoS\",\"PoW/PoS\",\"PoW\",\"PoW/PoS\",\"PoW\",\"PoW/PoS\",\"PoW\",\"PoS\",\"PoW\",\"PoW/PoS\",\"PoW/PoS\",\"PoW/PoS\",\"PoW/PoS\",\"PoW\",\"PoW/PoS\",\"PoW/PoS\",\"PoW\",\"PoS\",\"PoW/PoS\",\"PoS\",\"PoW\",\"PoW\",\"PoW\",\"PoW\",\"PoW/PoS\",\"DPoS\",\"PoW/PoS\",\"PoW/PoS\",\"PoW\",\"PoW/PoS\",\"PoW\",\"PoW\",\"PoW\",\"PoS\",\"PoS\",\"PoW\",\"PoW\",\"PoW/PoS\",\"PoW/PoS\",\"PoW\",\"PoW/PoS\",\"PoW\",\"PoW\",\"PoW\",\"PoS\",\"PoW\",\"PoW\",\"PoW/PoS\",\"PoW/PoS\",\"PoS\",\"PoW\",\"PoW\",\"PoW\",\"PoS\",\"PoS\",\"PoW and PoS\",\"PoW\",\"PoW\",\"PoW/PoS\",\"PoW\",\"PoW\",\"PoW\",\"PoW\",\"PoS\",\"POBh\",\"PoW + Hive\",\"PoW\",\"PoW\",\"PoW\",\"PoW/PoS\",\"PoA\",\"PoW/PoS\",\"PoW/PoS\",\"PoS\",\"PoS\",\"PoW\",\"PoW\",\"PoW\",\"PoW\",\"PoW/PoS\",\"PoW/PoS\",\"PoW/PoS\",\"PoW\",\"PoS\",\"PoW\",\"PoS\",\"PoS\",\"PoW/PoS\",\"DPoS\",\"PoW\",\"PoW/PoS\",\"PoS\",\"PoW\",\"PoS\",\"PoW/PoS\",\"PoW\",\"PoW\",\"PoS/PoW\",\"PoW\",\"PoS\",\"PoW\",\"PoW\",\"PoW\",\"PoW\",\"PoW/PoS\",\"PoS\",\"PoW\",\"PoW/PoS\",\"PoW\",\"PoW/PoS\",\"PoS\",\"HPoW\",\"PoS\",\"PoS\",\"PoS\",\"PoW\",\"PoW\",\"PoW\",\"PoW/PoS\",\"PoS\",\"PoW/PoS\",\"PoS\",\"PoW/PoS\",\"PoS\",\"PoW\",\"PoW/PoS\",\"PoW\",\"PoW\",\"PoW\",\"PoW\",\"PoS\",\"PoW/PoS\",\"PoS\",\"PoS\",\"PoW\",\"PoW/PoS\",\"PoS\",\"PoW\",\"PoW/PoS\",\"Zero-Knowledge Proof\",\"PoW\",\"DPOS\",\"PoW\",\"PoS\",\"PoW\",\"PoW\",\"Pos\",\"PoS\",\"PoW\",\"PoW/PoS\",\"PoW\",\"PoW\",\"PoS\",\"PoW\",\"PoW\",\"PoW/PoS\",\"PoW\",\"PoW/PoS\",\"PoW\",\"PoS\",\"PoW/PoS\",\"PoW\",\"PoS\",\"PoW/PoS\",\"PoW/PoS\",\"PoW/PoS\",\"PoW/PoS\",\"PoW\",\"PoW\",\"PoW\",\"PoW/PoS\",\"DPoS\",\"PoW/PoS\",\"PoW\",\"PoW/PoS\",\"PoW\",\"PoW/PoS\",\"PoW\",\"PoW/PoS\",\"PoS\",\"PoW/PoS\",\"PoW/PoS\",\"PoW\",\"PoW/PoS\",\"PoW/PoS\",\"PoW/PoS\",\"PoW\",\"PoW/PoS\",\"PoW\",\"PoW/PoS\",\"PoW\",\"PoW/PoS\",\"PoW/PoS\",\"PoS\",\"PoW\",\"PoW\",\"Proof of Trust\",\"PoW/PoS\",\"DPoS\",\"PoS\",\"PoW/PoS\",\"PoW/PoS\",\"PoW\",\"PoW/PoS\",\"PoW\",\"DPoS\",\"PoW\",\"DPoS\",\"PoS\",\"LPoS\",\"PoS\",\"DPoS\",\"PoS/LPoS\",\"DPoS\",\"PoW/PoS\",\"PoW\",\"PoW\",\"PoS\"],\"TotalCoinSupply\":[\"42\",\"532000000\",\"314159265359\",\"21000000\",\"0\",\"84000000\",\"22000000\",\"0\",\"210000000\",\"21000000\",\"3600570502\",\"21000000000\",\"22000000\",\"12500000\",\"21000000\",\"350000000\",\"20000000\",\"64000000\",\"16768584\",\"0\",\"2000000000\",\"384000000000\",\"169795588\",\"250000000\",\"100000000\",\"0\",\"247000000\",\"84000000\",\"48166000\",\"500000\",\"21000000 \",\"1000000\",\"13140000\",\"18000000\",\"40000000000\",\"4380000\",\"16555000000\",\"21000000000\",\"13500000000\",\"21000000 \",\"299792458\",\"32000000\",\"0\",\"0\",\"11235813\",\"336000000\",\"1420609614\",\"70000000\",\"72245700\",\"120000000\",\"0\",\"90600000000\",\"22000000\",\"21000000\",\"265420800\",\"20000000\",\"1350000\",\"100000000\",\"42000000\",\"200000000\",\"0\",\"10000000\",\"2419200000\",\"16180000\",\"0\",\"15000000000\",\"21000000\",\"337000000\",\"0\",\"3770000\",\"420000000\",\"98000000\",\"0\",\"21000000\",\"250000000\",\"51200000\",\"0\",\"1000\",\"888000000\",\"100000000\",\"47011968\",\"2300000000\",\"10000000\",\"42000000\",\"80000000\",\"250000\",\"0\",\"1600000000\",\"100000000\",\"23000000\",\"0\",\"84000000\",\"265420800\",\"5500000\",\"0\",\"45000000\",\"0\",\"1000000000\",\"184467440735\",\"10000000000\",\"2158812800\",\"500000000\",\"105120000\",\"68000000\",\"0\",\"1680000000\",\"0\",\"166386000\",\"12000000\",\"2628000\",\"500000000\",\"160000000\",\"0\",\"10000000\",\"1000000000\",\"1000000000\",\"20000000\",\"0\",\"0\",\"3371337\",\"20000000\",\"10000000000\",\"1840000000\",\"619478\",\"21000000\",\"92000000000\",\"0\",\"78000000\",\"33000000\",\"65789100\",\"53760000\",\"5060000\",\"21000000\",\"0\",\"210240000\",\"250000000\",\"100000000\",\"16906397\",\"50000000\",\"0\",\"1000000000\",\"26298000\",\"16000000\",\"21000000\",\"21000000\",\"210000000\",\"81962100\",\"22000000\",\"26550000000\",\"84000000\",\"10500000\",\"21626280000 \",\"0\",\"42000000\",\"221052632\",\"84000000\",\"30000000\",\"168351300\",\"24000000\",\"384000000\",\" 99000000000\",\"40000000\",\"2147483647\",\"20000000\",\"20000000\",\"25000000\",\"75000000\",\"222725000\",\"525000000\",\"90000000\",\"139000000\",\"616448\",\"33500000\",\"2000000000\",\"44333333\",\"100000000\",\"200000000\",\"25000000\",\"657000000\",\"200000000\",\"50000000\",\"90000000\",\"10000000\",\"21000000\",\"9736000\",\"3000000\",\"21000000\",\"1200000000\",\"0\",\"200000000\",\"0\",\"10638298\",\"3100000000\",\"30000000\",\"20000000000\",\"74000000\",\"0\",\"1500000000\",\"21400000\",\"39999898\",\"2500124\",\"100000000\",\"301000000\",\"7506000000\",\"26205539\",\"21000000\",\"125000000\",\"30000000\",\"10000000000\",\"500000000\",\"850000000\",\"3853326.77707314\",\"50000000\",\"38540000 \",\"42000000\",\"228000000\",\"20000000\",\"60000000\",\"20000000\",\"33000000\",\"76500000\",\"28000000\",\"650659833\",\"5000000\",\"21000000\",\"144000000\",\"32514916898\",\"13000000\",\"3315789\",\"15000000\",\"78835200\",\"2714286\",\"25000000\",\"9999999\",\"500000000\",\"21000000\",\"9354000\",\"20000000\",\"100000000000\",\"21933333\",\"185000000\",\"55000000\",\"110000000\",\"3360000\",\"14524851.4827\",\"1000000000\",\"17000000\",\"1000000000\",\"100000000 \",\"21000000\",\"34426423\",\"2232901\",\"100000000\",\"36900000\",\"110000000\",\"4000000000\",\"110290030\",\"100000000\",\"48252000\",\"400000000\",\"500000000\",\"21212121\",\"28600000\",\"1000000000\",\"75000000000\",\"40000000\",\"35520400\",\"2000000000\",\"2500000000\",\"30000000\",\"105000000\",\"90000000000\",\"200084200\",\"72000000\",\"100000000\",\"105000000\",\"50000000000\",\"0\",\"340282367\",\"30000000\",\"2000000000\",\"10000000\",\"100000000\",\"120000000\",\"100000000\",\"19276800\",\"30000000\",\" 75000000\",\"60000000\",\"18900000\",\"50000000000\",\"54000000\",\"18898187.6216583\",\"21000000\",\"200000000000\",\"5000000000\",\"137500000\",\"1100000000\",\"100000000\",\"21000000\",\"9507271\",\"17405891.19707116\",\"86712634466\",\"10500000000\",\"61599965\",\"0\",\"20000000\",\"84000000\",\"100000000\",\"100000000\",\"48252000\",\"4200000\",\"88888888\",\"91388946\",\"45000000000\",\"27000000\",\"21000000000\",\"400000000\",\"1800000000\",\"15733333\",\"27000000\",\"24000000\",\"21000000\",\"25000000000\",\"100000000\",\"1200000000\",\"60000000\",\"156306732.71\",\"21000000\",\"200000000\",\"100000000\",\"21000000\",\"14788275.991\",\"9000000000\",\"350000000\",\"45000000\",\"280000000\",\"31800000\",\"144000000\",\"500000000\",\"30000000000\",\"210000000\",\"660000000\",\"210000000\",\"85000000000\",\"12500000\",\"10000000000\",\"27716121\",\"20000000\",\"550000000\",\"999481516\",\"50000000000\",\"150000000\",\"4999999999\",\"50000000\",\" 90000000000\",\"19800000\",\"21000000\",\"120000000\",\"500000000\",\"64000000\",\"900000000\",\"4000000\",\"21000000\",\"23000000\",\"20166000\",\"23000000\",\"25000000\",\"1618033\",\"30000000\",\"1000000000000\",\"16600000\",\"232000000\",\"336000000\",\"10000000000\",\"100000000\",\"1100000000\",\"800000000\",\"5200000000\",\"840000000\",\"40000000\",\"18406979840\",\"500000000\",\"19340594\",\"252460800\",\"25000000\",\"60000000\",\"124000000\",\"1000000000\",\"6500000000\",\"1000000000\",\"21000000\",\"25000000\",\"50000000\",\"3000000\",\"5000000\",\"70000000\",\"500000000\",\"300000000\",\"21000000\",\"88000000\",\"30000000\",\"100000000\",\"100000000\",\"200000000\",\"80000000\",\"18400000\",\"45000000\",\"5121951220\",\"21000000\",\"26280000\",\"21000000\",\"18000000\",\"26000000\",\"10500000\",\"600000518\",\"150000000\",\"184000000000\",\"10200000000\",\"44000000\",\"168000000\",\"100000000\",\"1000000000\",\"84000000\",\"90000000\",\"92000000000\",\"650000000 \",\"100262205\",\"18081806 \",\"22075700\",\"21000000\",\"21000000\",\"82546564\",\"21000000\",\"5151000\",\"16880000000\",\"52500000\",\"100000000\",\"22105263\",\"1000000000\",\"1750000000\",\"88188888\",\"210000000\",\"184470000000\",\"55000000\",\"50000000\",\"260000000\",\"210000000\",\"2100000000\",\"366000000\",\"100000000\",\"25000000\",\"18000000000\",\"1000000000\",\"100000000\",\"1000000000\",\"7600000000\",\"50000000\",\"84000000\",\"21000000\",\"70000000000\",\"0\",\"8080000000\",\"54000000\",\"105120001.44\",\"25228800\",\"105000000\",\"21000000\",\"120000000\",\"21000000\",\"262800000\",\"19035999\",\"30886000\",\"13370000\",\"74800000000\",\"100000000\",\"19700000\",\"84000000\",\"500000000\",\"5000000000\",\"420000000\",\"64000000\",\"2100000\",\"168000000\",\"30000000\",\"1000000000\",\"35000000000\",\"98100000000\",\"0\",\"4000000000\",\"200000000\",\"7000000000\",\"54256119\",\"21000000\",\"0\",\"500000000\",\"1000000000\",\"10500000000\",\"190000000\",\"1000000000\",\"42000000\",\"15000000\",\"50000000000\",\"400000000\",\"105000000\",\"208000000\",\"160000000\",\"9000000\",\"5000000\",\"182000000\",\"16504333\",\"105000000\",\"159918400\",\"10008835635\",\"300000000\",\"60168145\",\"2800000\",\"120000\",\"2100000000\",\"0\",\"24487944\",\"0\",\"1000000000\",\"100000000\",\"8634140\",\"990000000000\",\"1000000000\",\"2000000000\",\"250000000\",\"1400222610\",\"21000000\",\"1000000\"],\"TotalCoinsMined\":{\"__ndarray__\":\"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\",\"dtype\":\"float64\",\"order\":\"little\",\"shape\":[532]}},\"selected\":{\"id\":\"1493\"},\"selection_policy\":{\"id\":\"1542\"}},\"id\":\"1492\",\"type\":\"ColumnDataSource\"},{\"attributes\":{\"editor\":{\"id\":\"1530\"},\"field\":\"CoinName\",\"formatter\":{\"id\":\"1529\"},\"title\":\"CoinName\"},\"id\":\"1531\",\"type\":\"TableColumn\"},{\"attributes\":{},\"id\":\"1535\",\"type\":\"IntEditor\"},{\"attributes\":{\"editor\":{\"id\":\"1535\"},\"field\":\"Class\",\"formatter\":{\"id\":\"1534\"},\"title\":\"Class\"},\"id\":\"1536\",\"type\":\"TableColumn\"},{\"attributes\":{},\"id\":\"1542\",\"type\":\"UnionRenderers\"},{\"attributes\":{},\"id\":\"1499\",\"type\":\"StringFormatter\"},{\"attributes\":{\"editor\":{\"id\":\"1495\"},\"field\":\"Algorithm\",\"formatter\":{\"id\":\"1494\"},\"title\":\"Algorithm\"},\"id\":\"1496\",\"type\":\"TableColumn\"},{\"attributes\":{\"margin\":[5,5,5,5],\"name\":\"HSpacer02338\",\"sizing_mode\":\"stretch_width\"},\"id\":\"1546\",\"type\":\"Spacer\"},{\"attributes\":{},\"id\":\"1494\",\"type\":\"StringFormatter\"},{\"attributes\":{},\"id\":\"1500\",\"type\":\"StringEditor\"},{\"attributes\":{\"editor\":{\"id\":\"1505\"},\"field\":\"TotalCoinsMined\",\"formatter\":{\"id\":\"1504\"},\"title\":\"TotalCoinsMined\"},\"id\":\"1506\",\"type\":\"TableColumn\"},{\"attributes\":{\"columns\":[{\"id\":\"1496\"},{\"id\":\"1501\"},{\"id\":\"1506\"},{\"id\":\"1511\"},{\"id\":\"1516\"},{\"id\":\"1521\"},{\"id\":\"1526\"},{\"id\":\"1531\"},{\"id\":\"1536\"}],\"height\":300,\"reorderable\":false,\"source\":{\"id\":\"1492\"},\"view\":{\"id\":\"1541\"},\"width\":700},\"id\":\"1539\",\"type\":\"DataTable\"},{\"attributes\":{},\"id\":\"1495\",\"type\":\"StringEditor\"},{\"attributes\":{\"format\":\"0,0.0[00000]\"},\"id\":\"1514\",\"type\":\"NumberFormatter\"},{\"attributes\":{\"format\":\"0,0.0[00000]\"},\"id\":\"1504\",\"type\":\"NumberFormatter\"},{\"attributes\":{},\"id\":\"1510\",\"type\":\"StringEditor\"},{\"attributes\":{},\"id\":\"1493\",\"type\":\"Selection\"},{\"attributes\":{\"editor\":{\"id\":\"1500\"},\"field\":\"ProofType\",\"formatter\":{\"id\":\"1499\"},\"title\":\"ProofType\"},\"id\":\"1501\",\"type\":\"TableColumn\"},{\"attributes\":{\"children\":[{\"id\":\"1491\"},{\"id\":\"1539\"},{\"id\":\"1546\"}],\"margin\":[0,0,0,0],\"name\":\"Row02333\",\"tags\":[\"embedded\"]},\"id\":\"1490\",\"type\":\"Row\"},{\"attributes\":{},\"id\":\"1505\",\"type\":\"NumberEditor\"},{\"attributes\":{},\"id\":\"1520\",\"type\":\"NumberEditor\"},{\"attributes\":{},\"id\":\"1530\",\"type\":\"StringEditor\"},{\"attributes\":{},\"id\":\"1509\",\"type\":\"StringFormatter\"},{\"attributes\":{\"editor\":{\"id\":\"1515\"},\"field\":\"PC_1\",\"formatter\":{\"id\":\"1514\"},\"title\":\"PC 1\"},\"id\":\"1516\",\"type\":\"TableColumn\"},{\"attributes\":{\"editor\":{\"id\":\"1510\"},\"field\":\"TotalCoinSupply\",\"formatter\":{\"id\":\"1509\"},\"title\":\"TotalCoinSupply\"},\"id\":\"1511\",\"type\":\"TableColumn\"},{\"attributes\":{},\"id\":\"1515\",\"type\":\"NumberEditor\"},{\"attributes\":{\"editor\":{\"id\":\"1520\"},\"field\":\"PC_2\",\"formatter\":{\"id\":\"1519\"},\"title\":\"PC 2\"},\"id\":\"1521\",\"type\":\"TableColumn\"},{\"attributes\":{},\"id\":\"1525\",\"type\":\"NumberEditor\"},{\"attributes\":{\"format\":\"0,0.0[00000]\"},\"id\":\"1519\",\"type\":\"NumberFormatter\"},{\"attributes\":{},\"id\":\"1534\",\"type\":\"NumberFormatter\"},{\"attributes\":{\"editor\":{\"id\":\"1525\"},\"field\":\"PC_3\",\"formatter\":{\"id\":\"1524\"},\"title\":\"PC 3\"},\"id\":\"1526\",\"type\":\"TableColumn\"},{\"attributes\":{\"format\":\"0,0.0[00000]\"},\"id\":\"1524\",\"type\":\"NumberFormatter\"},{\"attributes\":{},\"id\":\"1529\",\"type\":\"StringFormatter\"}],\"root_ids\":[\"1490\"]},\"title\":\"Bokeh Application\",\"version\":\"2.4.1\"}};\n",
       "    var render_items = [{\"docid\":\"4f3001f9-b72b-445b-9a36-8b9c1e7159aa\",\"root_ids\":[\"1490\"],\"roots\":{\"1490\":\"03a1a63f-742e-4371-9f70-ecdcbcf4afec\"}}];\n",
       "    root.Bokeh.embed.embed_items_notebook(docs_json, render_items);\n",
       "  }\n",
       "  if (root.Bokeh !== undefined && root.Bokeh.Panel !== undefined) {\n",
       "    embed_document(root);\n",
       "  } else {\n",
       "    var attempts = 0;\n",
       "    var timer = setInterval(function(root) {\n",
       "      if (root.Bokeh !== undefined && root.Bokeh.Panel !== undefined) {\n",
       "        clearInterval(timer);\n",
       "        embed_document(root);\n",
       "      } else if (document.readyState == \"complete\") {\n",
       "        attempts++;\n",
       "        if (attempts > 200) {\n",
       "          clearInterval(timer);\n",
       "          console.log(\"Bokeh: ERROR: Unable to run BokehJS code because BokehJS library is missing\");\n",
       "        }\n",
       "      }\n",
       "    }, 25, root)\n",
       "  }\n",
       "})(window);</script>"
      ],
      "text/plain": [
       ":Table   [Algorithm,ProofType,TotalCoinsMined,TotalCoinSupply,PC 1,PC 2,PC 3,CoinName,Class]"
      ]
     },
     "execution_count": 154,
     "metadata": {
      "application/vnd.holoviews_exec.v0+json": {
       "id": "1490"
      }
     },
     "output_type": "execute_result"
    }
   ],
   "source": [
    "# Create a table with tradable cryptocurrencies.\n",
    "# YOUR CODE HERE\n",
    "clustered_df.hvplot.table()"
   ]
  },
  {
   "cell_type": "code",
   "execution_count": 163,
   "metadata": {},
   "outputs": [
    {
     "name": "stdout",
     "output_type": "stream",
     "text": [
      "There are 532 tradable cryptocurrencies.\n"
     ]
    }
   ],
   "source": [
    "# Print the total number of tradable cryptocurrencies.\n",
    "# YOUR CODE HERE\n",
    "\n",
    "print(f\"There are {len(clustered_df)} tradable cryptocurrencies.\")"
   ]
  },
  {
   "cell_type": "code",
   "execution_count": 182,
   "metadata": {},
   "outputs": [
    {
     "name": "stdout",
     "output_type": "stream",
     "text": [
      "     TotalCoinSupply  TotalCoinsMined\n",
      "42                42     4.199995e+01\n",
      "404        532000000     1.055185e+09\n",
      "1337    314159265359     2.927942e+10\n",
      "BTC         21000000     1.792718e+07\n",
      "ETH                0     1.076842e+08\n",
      "...              ...              ...\n",
      "ZEPH      2000000000     2.000000e+09\n",
      "GAP        250000000     1.493105e+07\n",
      "BDX       1400222610     9.802226e+08\n",
      "ZEN         21000000     7.296538e+06\n",
      "XBC          1000000     1.283270e+05\n",
      "\n",
      "[532 rows x 2 columns]\n",
      "[[4.20000000e-11 0.00000000e+00]\n",
      " [5.32000000e-04 1.06585544e-03]\n",
      " [3.14159265e-01 2.95755135e-02]\n",
      " ...\n",
      " [1.40022261e-03 9.90135079e-04]\n",
      " [2.10000000e-05 7.37028150e-06]\n",
      " [1.00000000e-06 1.29582282e-07]]\n"
     ]
    }
   ],
   "source": [
    "# Scaling data to create the scatter plot with tradable cryptocurrencies.\n",
    "# YOUR CODE HERE\n",
    "data=pd.concat([clustered_df[\"TotalCoinSupply\"], clustered_df[\"TotalCoinsMined\"]], axis=1)\n",
    "\n",
    "scaled_data=MinMaxScaler().fit_transform(data)\n",
    "print(scaled_data)"
   ]
  },
  {
   "cell_type": "code",
   "execution_count": 186,
   "metadata": {},
   "outputs": [
    {
     "data": {
      "text/html": [
       "<div>\n",
       "<style scoped>\n",
       "    .dataframe tbody tr th:only-of-type {\n",
       "        vertical-align: middle;\n",
       "    }\n",
       "\n",
       "    .dataframe tbody tr th {\n",
       "        vertical-align: top;\n",
       "    }\n",
       "\n",
       "    .dataframe thead th {\n",
       "        text-align: right;\n",
       "    }\n",
       "</style>\n",
       "<table border=\"1\" class=\"dataframe\">\n",
       "  <thead>\n",
       "    <tr style=\"text-align: right;\">\n",
       "      <th></th>\n",
       "      <th>TotalCoinSupply</th>\n",
       "      <th>TotalCoinsMined</th>\n",
       "      <th>CoinName</th>\n",
       "      <th>Class</th>\n",
       "    </tr>\n",
       "  </thead>\n",
       "  <tbody>\n",
       "    <tr>\n",
       "      <th>42</th>\n",
       "      <td>4.200000e-11</td>\n",
       "      <td>0.000000</td>\n",
       "      <td>42 Coin</td>\n",
       "      <td>0</td>\n",
       "    </tr>\n",
       "    <tr>\n",
       "      <th>404</th>\n",
       "      <td>5.320000e-04</td>\n",
       "      <td>0.001066</td>\n",
       "      <td>404Coin</td>\n",
       "      <td>0</td>\n",
       "    </tr>\n",
       "    <tr>\n",
       "      <th>1337</th>\n",
       "      <td>3.141593e-01</td>\n",
       "      <td>0.029576</td>\n",
       "      <td>EliteCoin</td>\n",
       "      <td>0</td>\n",
       "    </tr>\n",
       "    <tr>\n",
       "      <th>BTC</th>\n",
       "      <td>2.100000e-05</td>\n",
       "      <td>0.000018</td>\n",
       "      <td>Bitcoin</td>\n",
       "      <td>1</td>\n",
       "    </tr>\n",
       "    <tr>\n",
       "      <th>ETH</th>\n",
       "      <td>0.000000e+00</td>\n",
       "      <td>0.000109</td>\n",
       "      <td>Ethereum</td>\n",
       "      <td>1</td>\n",
       "    </tr>\n",
       "    <tr>\n",
       "      <th>LTC</th>\n",
       "      <td>8.400000e-05</td>\n",
       "      <td>0.000064</td>\n",
       "      <td>Litecoin</td>\n",
       "      <td>1</td>\n",
       "    </tr>\n",
       "    <tr>\n",
       "      <th>DASH</th>\n",
       "      <td>2.200000e-05</td>\n",
       "      <td>0.000009</td>\n",
       "      <td>Dash</td>\n",
       "      <td>0</td>\n",
       "    </tr>\n",
       "    <tr>\n",
       "      <th>XMR</th>\n",
       "      <td>0.000000e+00</td>\n",
       "      <td>0.000017</td>\n",
       "      <td>Monero</td>\n",
       "      <td>1</td>\n",
       "    </tr>\n",
       "    <tr>\n",
       "      <th>ETC</th>\n",
       "      <td>2.100000e-04</td>\n",
       "      <td>0.000115</td>\n",
       "      <td>Ethereum Classic</td>\n",
       "      <td>1</td>\n",
       "    </tr>\n",
       "    <tr>\n",
       "      <th>ZEC</th>\n",
       "      <td>2.100000e-05</td>\n",
       "      <td>0.000007</td>\n",
       "      <td>ZCash</td>\n",
       "      <td>1</td>\n",
       "    </tr>\n",
       "  </tbody>\n",
       "</table>\n",
       "</div>"
      ],
      "text/plain": [
       "      TotalCoinSupply  TotalCoinsMined          CoinName  Class\n",
       "42       4.200000e-11         0.000000           42 Coin      0\n",
       "404      5.320000e-04         0.001066           404Coin      0\n",
       "1337     3.141593e-01         0.029576         EliteCoin      0\n",
       "BTC      2.100000e-05         0.000018           Bitcoin      1\n",
       "ETH      0.000000e+00         0.000109          Ethereum      1\n",
       "LTC      8.400000e-05         0.000064          Litecoin      1\n",
       "DASH     2.200000e-05         0.000009              Dash      0\n",
       "XMR      0.000000e+00         0.000017            Monero      1\n",
       "ETC      2.100000e-04         0.000115  Ethereum Classic      1\n",
       "ZEC      2.100000e-05         0.000007             ZCash      1"
      ]
     },
     "execution_count": 186,
     "metadata": {},
     "output_type": "execute_result"
    }
   ],
   "source": [
    "# Create a new DataFrame that has the scaled data with the clustered_df DataFrame index.\n",
    "# YOUR CODE HERE\n",
    "plot_df = pd.DataFrame(\n",
    "data=scaled_data, columns = [\"TotalCoinSupply\", \"TotalCoinsMined\"], index=data.index)\n",
    "\n",
    "# Add the \"CoinName\" column from the clustered_df DataFrame to the new DataFrame.\n",
    "# YOUR CODE HERE\n",
    "plot_df[\"CoinName\"]=clustered_df[\"CoinName\"]\n",
    "\n",
    "# Add the \"Class\" column from the clustered_df DataFrame to the new DataFrame. \n",
    "# YOUR CODE HERE\n",
    "plot_df[\"Class\"]=clustered_df[\"Class\"]\n",
    "\n",
    "plot_df.head(10)"
   ]
  },
  {
   "cell_type": "code",
   "execution_count": 188,
   "metadata": {},
   "outputs": [
    {
     "data": {},
     "metadata": {},
     "output_type": "display_data"
    },
    {
     "data": {
      "application/vnd.holoviews_exec.v0+json": "",
      "text/html": [
       "<div id='1921'>\n",
       "\n",
       "\n",
       "\n",
       "\n",
       "\n",
       "  <div class=\"bk-root\" id=\"a4cc56c1-fd7e-4462-a87c-7d4ab9134623\" data-root-id=\"1921\"></div>\n",
       "</div>\n",
       "<script type=\"application/javascript\">(function(root) {\n",
       "  function embed_document(root) {\n",
       "    var docs_json = {\"eeb9ce74-f7ba-475b-913f-5064a31d396c\":{\"defs\":[{\"extends\":null,\"module\":null,\"name\":\"ReactiveHTML1\",\"overrides\":[],\"properties\":[]},{\"extends\":null,\"module\":null,\"name\":\"FlexBox1\",\"overrides\":[],\"properties\":[{\"default\":\"flex-start\",\"kind\":null,\"name\":\"align_content\"},{\"default\":\"flex-start\",\"kind\":null,\"name\":\"align_items\"},{\"default\":\"row\",\"kind\":null,\"name\":\"flex_direction\"},{\"default\":\"wrap\",\"kind\":null,\"name\":\"flex_wrap\"},{\"default\":\"flex-start\",\"kind\":null,\"name\":\"justify_content\"}]},{\"extends\":null,\"module\":null,\"name\":\"GridStack1\",\"overrides\":[],\"properties\":[{\"default\":\"warn\",\"kind\":null,\"name\":\"mode\"},{\"default\":null,\"kind\":null,\"name\":\"ncols\"},{\"default\":null,\"kind\":null,\"name\":\"nrows\"},{\"default\":true,\"kind\":null,\"name\":\"allow_resize\"},{\"default\":true,\"kind\":null,\"name\":\"allow_drag\"},{\"default\":[],\"kind\":null,\"name\":\"state\"}]},{\"extends\":null,\"module\":null,\"name\":\"click1\",\"overrides\":[],\"properties\":[{\"default\":\"\",\"kind\":null,\"name\":\"terminal_output\"},{\"default\":\"\",\"kind\":null,\"name\":\"debug_name\"},{\"default\":0,\"kind\":null,\"name\":\"clears\"}]},{\"extends\":null,\"module\":null,\"name\":\"TemplateActions1\",\"overrides\":[],\"properties\":[{\"default\":0,\"kind\":null,\"name\":\"open_modal\"},{\"default\":0,\"kind\":null,\"name\":\"close_modal\"}]},{\"extends\":null,\"module\":null,\"name\":\"MaterialTemplateActions1\",\"overrides\":[],\"properties\":[{\"default\":0,\"kind\":null,\"name\":\"open_modal\"},{\"default\":0,\"kind\":null,\"name\":\"close_modal\"}]}],\"roots\":{\"references\":[{\"attributes\":{\"fill_alpha\":{\"value\":0.1},\"fill_color\":{\"value\":\"#fc4f30\"},\"hatch_alpha\":{\"value\":0.1},\"hatch_color\":{\"value\":\"#fc4f30\"},\"line_alpha\":{\"value\":0.1},\"line_color\":{\"value\":\"#fc4f30\"},\"size\":{\"value\":5.477225575051661},\"x\":{\"field\":\"TotalCoinsMined\"},\"y\":{\"field\":\"TotalCoinSupply\"}},\"id\":\"1990\",\"type\":\"Scatter\"},{\"attributes\":{\"data\":{\"Class\":[3,3,3,3,3,3],\"CoinName\":[\"Vechain\",\"BiblePay\",\"LitecoinCash\",\"Poa Network\",\"Acute Angle Cloud\",\"Waves\"],\"TotalCoinSupply\":{\"__ndarray__\":\"+nQumcwytj+U9gZfmEx1P7x5qkNuhks/hFoo4ZaLMD/8qfHSTWJQPyxDHOviNho/\",\"dtype\":\"float64\",\"order\":\"little\",\"shape\":[6]},\"TotalCoinsMined\":{\"__ndarray__\":\"zaDgBxGurD+PWA2R2lNdP5CkxfJKIUU/nBkleI8SKz96Q0MFuIxQP/tFfmC/eho/\",\"dtype\":\"float64\",\"order\":\"little\",\"shape\":[6]}},\"selected\":{\"id\":\"2033\"},\"selection_policy\":{\"id\":\"2053\"}},\"id\":\"2032\",\"type\":\"ColumnDataSource\"},{\"attributes\":{\"source\":{\"id\":\"1986\"}},\"id\":\"1993\",\"type\":\"CDSView\"},{\"attributes\":{},\"id\":\"1980\",\"type\":\"UnionRenderers\"},{\"attributes\":{\"bottom_units\":\"screen\",\"coordinates\":null,\"fill_alpha\":0.5,\"fill_color\":\"lightgrey\",\"group\":null,\"left_units\":\"screen\",\"level\":\"overlay\",\"line_alpha\":1.0,\"line_color\":\"black\",\"line_dash\":[4,4],\"line_width\":2,\"right_units\":\"screen\",\"syncable\":false,\"top_units\":\"screen\"},\"id\":\"1951\",\"type\":\"BoxAnnotation\"},{\"attributes\":{\"fill_alpha\":{\"value\":0.2},\"fill_color\":{\"value\":\"#fc4f30\"},\"hatch_alpha\":{\"value\":0.2},\"hatch_color\":{\"value\":\"#fc4f30\"},\"line_alpha\":{\"value\":0.2},\"line_color\":{\"value\":\"#fc4f30\"},\"size\":{\"value\":5.477225575051661},\"x\":{\"field\":\"TotalCoinsMined\"},\"y\":{\"field\":\"TotalCoinSupply\"}},\"id\":\"1991\",\"type\":\"Scatter\"},{\"attributes\":{\"label\":{\"value\":\"1\"},\"renderers\":[{\"id\":\"1992\"}]},\"id\":\"2006\",\"type\":\"LegendItem\"},{\"attributes\":{\"coordinates\":null,\"data_source\":{\"id\":\"1986\"},\"glyph\":{\"id\":\"1989\"},\"group\":null,\"hover_glyph\":null,\"muted_glyph\":{\"id\":\"1991\"},\"nonselection_glyph\":{\"id\":\"1990\"},\"selection_glyph\":{\"id\":\"2007\"},\"view\":{\"id\":\"1993\"}},\"id\":\"1992\",\"type\":\"GlyphRenderer\"},{\"attributes\":{\"overlay\":{\"id\":\"1951\"}},\"id\":\"1949\",\"type\":\"BoxZoomTool\"},{\"attributes\":{\"margin\":[5,5,5,5],\"name\":\"HSpacer03292\",\"sizing_mode\":\"stretch_width\"},\"id\":\"1922\",\"type\":\"Spacer\"},{\"attributes\":{},\"id\":\"2003\",\"type\":\"UnionRenderers\"},{\"attributes\":{\"children\":[{\"id\":\"1922\"},{\"id\":\"1929\"},{\"id\":\"2202\"}],\"margin\":[0,0,0,0],\"name\":\"Row03288\",\"tags\":[\"embedded\"]},\"id\":\"1921\",\"type\":\"Row\"},{\"attributes\":{\"angle\":{\"value\":0.0},\"fill_alpha\":{\"value\":1.0},\"fill_color\":{\"value\":\"#6d904f\"},\"hatch_alpha\":{\"value\":1.0},\"hatch_color\":{\"value\":\"#6d904f\"},\"hatch_scale\":{\"value\":12.0},\"hatch_weight\":{\"value\":1.0},\"line_alpha\":{\"value\":1.0},\"line_cap\":{\"value\":\"butt\"},\"line_color\":{\"value\":\"#6d904f\"},\"line_dash\":{\"value\":[]},\"line_dash_offset\":{\"value\":0},\"line_join\":{\"value\":\"bevel\"},\"line_width\":{\"value\":1},\"marker\":{\"value\":\"circle\"},\"size\":{\"value\":5.477225575051661},\"x\":{\"field\":\"TotalCoinsMined\"},\"y\":{\"field\":\"TotalCoinSupply\"}},\"id\":\"2057\",\"type\":\"Scatter\"},{\"attributes\":{\"tools\":[{\"id\":\"1925\"},{\"id\":\"1946\"},{\"id\":\"1947\"},{\"id\":\"1948\"},{\"id\":\"1949\"},{\"id\":\"1950\"}]},\"id\":\"1952\",\"type\":\"Toolbar\"},{\"attributes\":{\"data\":{\"Class\":[0,0,0,0,0,0,0,0,0,0,0,0,0,0,0,0,0,0,0,0,0,0,0,0,0,0,0,0,0,0,0,0,0,0,0,0,0,0,0,0,0,0,0,0,0,0,0,0,0,0,0,0,0,0,0,0,0,0,0,0,0,0,0,0,0,0,0,0,0,0,0,0,0,0,0,0,0,0,0,0,0,0,0,0,0,0,0,0,0,0,0,0,0,0,0,0,0,0,0,0,0,0,0,0,0,0,0,0,0,0,0,0,0,0,0,0,0,0,0,0,0,0,0,0,0,0,0,0,0,0,0,0,0,0,0,0,0,0,0,0,0,0,0,0,0,0,0,0,0,0,0,0,0,0,0,0,0,0,0,0,0,0,0,0,0,0,0,0,0,0,0,0,0,0,0,0,0,0,0,0,0,0,0,0,0,0,0,0,0,0,0,0,0,0,0,0,0,0,0,0,0,0,0,0,0,0,0,0,0,0,0,0,0,0,0,0,0,0,0,0,0,0,0,0,0,0,0,0,0,0,0,0,0,0,0,0,0,0,0,0,0,0,0,0,0,0,0,0,0,0,0,0,0,0,0,0,0,0,0,0,0,0,0,0,0,0,0,0,0,0,0,0,0,0,0,0,0,0,0,0,0,0,0,0,0,0,0],\"CoinName\":[\"42 Coin\",\"404Coin\",\"EliteCoin\",\"Dash\",\"Bitshares\",\"BitcoinDark\",\"PayCoin\",\"KoboCoin\",\"Aurora Coin\",\"BlueCoin\",\"EnergyCoin\",\"BitBar\",\"CryptoBullion\",\"CasinoCoin\",\"Diamond\",\"Exclusive Coin\",\"FlutterCoin\",\"HoboNickels\",\"HyperStake\",\"IOCoin\",\"MaxCoin\",\"MintCoin\",\"MazaCoin\",\"Nautilus Coin\",\"NavCoin\",\"OpalCoin\",\"Orbitcoin\",\"PotCoin\",\"PhoenixCoin\",\"Reddcoin\",\"SuperCoin\",\"SyncCoin\",\"TeslaCoin\",\"TittieCoin\",\"TorCoin\",\"UnitaryStatus Dollar\",\"UltraCoin\",\"VeriCoin\",\"X11 Coin\",\"Crypti\",\"StealthCoin\",\"ZCC Coin\",\"BurstCoin\",\"StorjCoin\",\"Neutron\",\"FairCoin\",\"RubyCoin\",\"Kore\",\"Dnotes\",\"8BIT Coin\",\"Sativa Coin\",\"Ucoin\",\"Vtorrent\",\"IslaCoin\",\"Nexus\",\"Droidz\",\"Squall Coin\",\"Diggits\",\"Paycon\",\"Emercoin\",\"EverGreenCoin\",\"Decred\",\"EDRCoin\",\"Hitcoin\",\"DubaiCoin\",\"PWR Coin\",\"BillaryCoin\",\"GPU Coin\",\"EuropeCoin\",\"ZeitCoin\",\"SwingCoin\",\"SafeExchangeCoin\",\"Nebuchadnezzar\",\"Ratecoin\",\"Revenu\",\"Clockcoin\",\"VIP Tokens\",\"BitSend\",\"Let it Ride\",\"PutinCoin\",\"iBankCoin\",\"Frankywillcoin\",\"MudraCoin\",\"Lutetium Coin\",\"GoldBlocks\",\"CarterCoin\",\"BitTokens\",\"MustangCoin\",\"ZoneCoin\",\"RootCoin\",\"BitCurrency\",\"Swiscoin\",\"BuzzCoin\",\"Opair\",\"PesoBit\",\"Halloween Coin\",\"CoffeeCoin\",\"RoyalCoin\",\"GanjaCoin V2\",\"TeamUP\",\"LanaCoin\",\"ARK\",\"InsaneCoin\",\"EmberCoin\",\"XenixCoin\",\"FreeCoin\",\"PLNCoin\",\"AquariusCoin\",\"Creatio\",\"Eternity\",\"Eurocoin\",\"BitcoinFast\",\"Stakenet\",\"BitConnect Coin\",\"MoneyCoin\",\"Enigma\",\"Russiacoin\",\"PandaCoin\",\"GameUnits\",\"GAKHcoin\",\"Allsafe\",\"LiteCreed\",\"Klingon Empire Darsek\",\"Internet of People\",\"KushCoin\",\"Printerium\",\"Impeach\",\"Zilbercoin\",\"FirstCoin\",\"FindCoin\",\"OpenChat\",\"RenosCoin\",\"VirtacoinPlus\",\"TajCoin\",\"Impact\",\"Atmos\",\"HappyCoin\",\"MacronCoin\",\"Condensate\",\"Independent Money System\",\"ArgusCoin\",\"LomoCoin\",\"ProCurrency\",\"GoldReserve\",\"GrowthCoin\",\"Phreak\",\"Degas Coin\",\"HTML5 Coin\",\"Ultimate Secure Cash\",\"QTUM\",\"Espers\",\"Denarius\",\"Virta Unique Coin\",\"Bitcoin Planet\",\"BritCoin\",\"Linda\",\"DeepOnion\",\"Signatum\",\"Cream\",\"Monoeci\",\"Draftcoin\",\"Stakecoin\",\"CoinonatX\",\"Ethereum Dark\",\"Obsidian\",\"Cardano\",\"Regalcoin\",\"TrezarCoin\",\"TerraNovaCoin\",\"Rupee\",\"WomenCoin\",\"Theresa May Coin\",\"NamoCoin\",\"LUXCoin\",\"Xios\",\"Bitcloud 2.0\",\"KekCoin\",\"BlackholeCoin\",\"Infinity Economics\",\"Magnet\",\"Lamden Tau\",\"Electra\",\"Bitcoin Diamond\",\"Cash & Back Coin\",\"Bulwark\",\"Kalkulus\",\"GermanCoin\",\"LiteCoin Ultra\",\"PhantomX\",\"Digiwage\",\"Trollcoin\",\"Litecoin Plus\",\"Monkey Project\",\"TokenPay\",\"1717 Masonic Commemorative Token\",\"My Big Coin\",\"Unified Society USDEX\",\"Tokyo Coin\",\"Stipend\",\"Pushi\",\"Ellerium\",\"Velox\",\"Ontology\",\"Bitspace\",\"Briacoin\",\"Ignition\",\"MedicCoin\",\"Bitcoin Green\",\"Deviant Coin\",\"Abjcoin\",\"Semux\",\"Carebit\",\"Zealium\",\"Proton\",\"iDealCash\",\"Bitcoin Incognito\",\"HollyWoodCoin\",\"Swisscoin\",\"Xt3ch\",\"TheVig\",\"EmaratCoin\",\"Dekado\",\"Lynx\",\"Poseidon Quark\",\"BitcoinWSpectrum\",\"Muse\",\"Trivechain\",\"Dystem\",\"Giant\",\"Peony Coin\",\"Absolute Coin\",\"Vitae\",\"TPCash\",\"ARENON\",\"EUNO\",\"MMOCoin\",\"Ketan\",\"XDNA\",\"PAXEX\",\"ThunderStake\",\"Kcash\",\"Bettex coin\",\"BitMoney\",\"Junson Ming Chan Coin\",\"HerbCoin\",\"PirateCash\",\"Oduwa\",\"Galilel\",\"Crypto Sports\",\"Credit\",\"Dash Platinum\",\"Nasdacoin\",\"Beetle Coin\",\"Titan Coin\",\"Award\",\"Insane Coin\",\"ALAX\",\"LiteDoge\",\"TruckCoin\",\"OrangeCoin\",\"BitstarCoin\",\"NeosCoin\",\"HyperCoin\",\"PinkCoin\",\"AudioCoin\",\"IncaKoin\",\"Piggy Coin\",\"Genstake\",\"XiaoMiCoin\",\"CapriCoin\",\" ClubCoin\",\"Radium\",\"Creditbit \",\"OKCash\",\"Lisk\",\"HiCoin\",\"WhiteCoin\",\"FriendshipCoin\",\"Triangles Coin\",\"EOS\",\"Oxycoin\",\"TigerCash\",\"Particl\",\"Nxt\",\"ZEPHYR\",\"Gapcoin\",\"BitcoinPlus\"],\"TotalCoinSupply\":{\"__ndarray__\":\"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\",\"dtype\":\"float64\",\"order\":\"little\",\"shape\":[287]},\"TotalCoinsMined\":{\"__ndarray__\":\"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\",\"dtype\":\"float64\",\"order\":\"little\",\"shape\":[287]}},\"selected\":{\"id\":\"1966\"},\"selection_policy\":{\"id\":\"1980\"}},\"id\":\"1965\",\"type\":\"ColumnDataSource\"},{\"attributes\":{},\"id\":\"1961\",\"type\":\"AllLabels\"},{\"attributes\":{},\"id\":\"1964\",\"type\":\"AllLabels\"},{\"attributes\":{\"angle\":{\"value\":0.0},\"fill_alpha\":{\"value\":1.0},\"fill_color\":{\"value\":\"#e5ae38\"},\"hatch_alpha\":{\"value\":1.0},\"hatch_color\":{\"value\":\"#e5ae38\"},\"hatch_scale\":{\"value\":12.0},\"hatch_weight\":{\"value\":1.0},\"line_alpha\":{\"value\":1.0},\"line_cap\":{\"value\":\"butt\"},\"line_color\":{\"value\":\"#e5ae38\"},\"line_dash\":{\"value\":[]},\"line_dash_offset\":{\"value\":0},\"line_join\":{\"value\":\"bevel\"},\"line_width\":{\"value\":1},\"marker\":{\"value\":\"circle\"},\"size\":{\"value\":5.477225575051661},\"x\":{\"field\":\"TotalCoinsMined\"},\"y\":{\"field\":\"TotalCoinSupply\"}},\"id\":\"2031\",\"type\":\"Scatter\"},{\"attributes\":{},\"id\":\"1963\",\"type\":\"BasicTickFormatter\"},{\"attributes\":{},\"id\":\"2033\",\"type\":\"Selection\"},{\"attributes\":{\"label\":{\"value\":\"3\"},\"renderers\":[{\"id\":\"2038\"}]},\"id\":\"2056\",\"type\":\"LegendItem\"},{\"attributes\":{\"fill_alpha\":{\"value\":0.2},\"fill_color\":{\"value\":\"#30a2da\"},\"hatch_alpha\":{\"value\":0.2},\"hatch_color\":{\"value\":\"#30a2da\"},\"line_alpha\":{\"value\":0.2},\"line_color\":{\"value\":\"#30a2da\"},\"size\":{\"value\":5.477225575051661},\"x\":{\"field\":\"TotalCoinsMined\"},\"y\":{\"field\":\"TotalCoinSupply\"}},\"id\":\"1970\",\"type\":\"Scatter\"},{\"attributes\":{\"callback\":null,\"renderers\":[{\"id\":\"1971\"},{\"id\":\"1992\"},{\"id\":\"2014\"},{\"id\":\"2038\"}],\"tags\":[\"hv_created\"],\"tooltips\":[[\"Class\",\"@{Class}\"],[\"TotalCoinsMined\",\"@{TotalCoinsMined}\"],[\"TotalCoinSupply\",\"@{TotalCoinSupply}\"],[\"CoinName\",\"@{CoinName}\"]]},\"id\":\"1925\",\"type\":\"HoverTool\"},{\"attributes\":{\"end\":1.1,\"reset_end\":1.1,\"reset_start\":-0.1,\"start\":-0.1,\"tags\":[[[\"TotalCoinSupply\",\"TotalCoinSupply\",null]]]},\"id\":\"1924\",\"type\":\"Range1d\"},{\"attributes\":{\"click_policy\":\"mute\",\"coordinates\":null,\"group\":null,\"items\":[{\"id\":\"1984\"},{\"id\":\"2006\"},{\"id\":\"2030\"},{\"id\":\"2056\"}],\"location\":[0,0],\"title\":\"Class\"},\"id\":\"1983\",\"type\":\"Legend\"},{\"attributes\":{\"angle\":{\"value\":0.0},\"fill_alpha\":{\"value\":1.0},\"fill_color\":{\"value\":\"#fc4f30\"},\"hatch_alpha\":{\"value\":1.0},\"hatch_color\":{\"value\":\"#fc4f30\"},\"hatch_scale\":{\"value\":12.0},\"hatch_weight\":{\"value\":1.0},\"line_alpha\":{\"value\":1.0},\"line_cap\":{\"value\":\"butt\"},\"line_color\":{\"value\":\"#fc4f30\"},\"line_dash\":{\"value\":[]},\"line_dash_offset\":{\"value\":0},\"line_join\":{\"value\":\"bevel\"},\"line_width\":{\"value\":1},\"marker\":{\"value\":\"circle\"},\"size\":{\"value\":5.477225575051661},\"x\":{\"field\":\"TotalCoinsMined\"},\"y\":{\"field\":\"TotalCoinSupply\"}},\"id\":\"2007\",\"type\":\"Scatter\"},{\"attributes\":{\"end\":1.042857142857143,\"reset_end\":1.042857142857143,\"reset_start\":-0.04285714285714286,\"start\":-0.04285714285714286,\"tags\":[[[\"TotalCoinsMined\",\"TotalCoinsMined\",null]]]},\"id\":\"1923\",\"type\":\"Range1d\"},{\"attributes\":{\"margin\":[5,5,5,5],\"name\":\"HSpacer03293\",\"sizing_mode\":\"stretch_width\"},\"id\":\"2202\",\"type\":\"Spacer\"},{\"attributes\":{},\"id\":\"1934\",\"type\":\"LinearScale\"},{\"attributes\":{\"label\":{\"value\":\"0\"},\"renderers\":[{\"id\":\"1971\"}]},\"id\":\"1984\",\"type\":\"LegendItem\"},{\"attributes\":{},\"id\":\"1936\",\"type\":\"LinearScale\"},{\"attributes\":{\"fill_alpha\":{\"value\":0.2},\"fill_color\":{\"value\":\"#e5ae38\"},\"hatch_alpha\":{\"value\":0.2},\"hatch_color\":{\"value\":\"#e5ae38\"},\"line_alpha\":{\"value\":0.2},\"line_color\":{\"value\":\"#e5ae38\"},\"size\":{\"value\":5.477225575051661},\"x\":{\"field\":\"TotalCoinsMined\"},\"y\":{\"field\":\"TotalCoinSupply\"}},\"id\":\"2013\",\"type\":\"Scatter\"},{\"attributes\":{},\"id\":\"2053\",\"type\":\"UnionRenderers\"},{\"attributes\":{\"angle\":{\"value\":0.0},\"fill_alpha\":{\"value\":1.0},\"fill_color\":{\"value\":\"#30a2da\"},\"hatch_alpha\":{\"value\":1.0},\"hatch_color\":{\"value\":\"#30a2da\"},\"hatch_scale\":{\"value\":12.0},\"hatch_weight\":{\"value\":1.0},\"line_alpha\":{\"value\":1.0},\"line_cap\":{\"value\":\"butt\"},\"line_color\":{\"value\":\"#30a2da\"},\"line_dash\":{\"value\":[]},\"line_dash_offset\":{\"value\":0},\"line_join\":{\"value\":\"bevel\"},\"line_width\":{\"value\":1},\"marker\":{\"value\":\"circle\"},\"size\":{\"value\":5.477225575051661},\"x\":{\"field\":\"TotalCoinsMined\"},\"y\":{\"field\":\"TotalCoinSupply\"}},\"id\":\"1985\",\"type\":\"Scatter\"},{\"attributes\":{\"source\":{\"id\":\"2008\"}},\"id\":\"2015\",\"type\":\"CDSView\"},{\"attributes\":{\"fill_color\":{\"value\":\"#6d904f\"},\"hatch_color\":{\"value\":\"#6d904f\"},\"line_color\":{\"value\":\"#6d904f\"},\"size\":{\"value\":5.477225575051661},\"x\":{\"field\":\"TotalCoinsMined\"},\"y\":{\"field\":\"TotalCoinSupply\"}},\"id\":\"2035\",\"type\":\"Scatter\"},{\"attributes\":{\"source\":{\"id\":\"1965\"}},\"id\":\"1972\",\"type\":\"CDSView\"},{\"attributes\":{\"fill_alpha\":{\"value\":0.2},\"fill_color\":{\"value\":\"#6d904f\"},\"hatch_alpha\":{\"value\":0.2},\"hatch_color\":{\"value\":\"#6d904f\"},\"line_alpha\":{\"value\":0.2},\"line_color\":{\"value\":\"#6d904f\"},\"size\":{\"value\":5.477225575051661},\"x\":{\"field\":\"TotalCoinsMined\"},\"y\":{\"field\":\"TotalCoinSupply\"}},\"id\":\"2037\",\"type\":\"Scatter\"},{\"attributes\":{\"fill_alpha\":{\"value\":0.1},\"fill_color\":{\"value\":\"#6d904f\"},\"hatch_alpha\":{\"value\":0.1},\"hatch_color\":{\"value\":\"#6d904f\"},\"line_alpha\":{\"value\":0.1},\"line_color\":{\"value\":\"#6d904f\"},\"size\":{\"value\":5.477225575051661},\"x\":{\"field\":\"TotalCoinsMined\"},\"y\":{\"field\":\"TotalCoinSupply\"}},\"id\":\"2036\",\"type\":\"Scatter\"},{\"attributes\":{\"data\":{\"Class\":[2],\"CoinName\":[\"BitTorrent\"],\"TotalCoinSupply\":{\"__ndarray__\":\"rkfhehSu7z8=\",\"dtype\":\"float64\",\"order\":\"little\",\"shape\":[1]},\"TotalCoinsMined\":{\"__ndarray__\":\"AAAAAAAA8D8=\",\"dtype\":\"float64\",\"order\":\"little\",\"shape\":[1]}},\"selected\":{\"id\":\"2009\"},\"selection_policy\":{\"id\":\"2027\"}},\"id\":\"2008\",\"type\":\"ColumnDataSource\"},{\"attributes\":{\"coordinates\":null,\"data_source\":{\"id\":\"2032\"},\"glyph\":{\"id\":\"2035\"},\"group\":null,\"hover_glyph\":null,\"muted_glyph\":{\"id\":\"2037\"},\"nonselection_glyph\":{\"id\":\"2036\"},\"selection_glyph\":{\"id\":\"2057\"},\"view\":{\"id\":\"2039\"}},\"id\":\"2038\",\"type\":\"GlyphRenderer\"},{\"attributes\":{},\"id\":\"1987\",\"type\":\"Selection\"},{\"attributes\":{},\"id\":\"2009\",\"type\":\"Selection\"},{\"attributes\":{\"below\":[{\"id\":\"1938\"}],\"center\":[{\"id\":\"1941\"},{\"id\":\"1945\"}],\"height\":300,\"left\":[{\"id\":\"1942\"}],\"margin\":[5,5,5,5],\"min_border_bottom\":10,\"min_border_left\":10,\"min_border_right\":10,\"min_border_top\":10,\"renderers\":[{\"id\":\"1971\"},{\"id\":\"1992\"},{\"id\":\"2014\"},{\"id\":\"2038\"}],\"right\":[{\"id\":\"1983\"}],\"sizing_mode\":\"fixed\",\"title\":{\"id\":\"1930\"},\"toolbar\":{\"id\":\"1952\"},\"width\":700,\"x_range\":{\"id\":\"1923\"},\"x_scale\":{\"id\":\"1934\"},\"y_range\":{\"id\":\"1924\"},\"y_scale\":{\"id\":\"1936\"}},\"id\":\"1929\",\"subtype\":\"Figure\",\"type\":\"Plot\"},{\"attributes\":{\"coordinates\":null,\"group\":null,\"text_color\":\"black\",\"text_font_size\":\"12pt\"},\"id\":\"1930\",\"type\":\"Title\"},{\"attributes\":{},\"id\":\"2027\",\"type\":\"UnionRenderers\"},{\"attributes\":{},\"id\":\"1947\",\"type\":\"PanTool\"},{\"attributes\":{\"axis\":{\"id\":\"1938\"},\"coordinates\":null,\"grid_line_color\":null,\"group\":null,\"ticker\":null},\"id\":\"1941\",\"type\":\"Grid\"},{\"attributes\":{\"data\":{\"Class\":[1,1,1,1,1,1,1,1,1,1,1,1,1,1,1,1,1,1,1,1,1,1,1,1,1,1,1,1,1,1,1,1,1,1,1,1,1,1,1,1,1,1,1,1,1,1,1,1,1,1,1,1,1,1,1,1,1,1,1,1,1,1,1,1,1,1,1,1,1,1,1,1,1,1,1,1,1,1,1,1,1,1,1,1,1,1,1,1,1,1,1,1,1,1,1,1,1,1,1,1,1,1,1,1,1,1,1,1,1,1,1,1,1,1,1,1,1,1,1,1,1,1,1,1,1,1,1,1,1,1,1,1,1,1,1,1,1,1,1,1,1,1,1,1,1,1,1,1,1,1,1,1,1,1,1,1,1,1,1,1,1,1,1,1,1,1,1,1,1,1,1,1,1,1,1,1,1,1,1,1,1,1,1,1,1,1,1,1,1,1,1,1,1,1,1,1,1,1,1,1,1,1,1,1,1,1,1,1,1,1,1,1,1,1,1,1,1,1,1,1,1,1,1,1,1,1,1,1,1,1,1,1,1,1,1,1,1,1],\"CoinName\":[\"Bitcoin\",\"Ethereum\",\"Litecoin\",\"Monero\",\"Ethereum Classic\",\"ZCash\",\"DigiByte\",\"ProsperCoin\",\"Spreadcoin\",\"Argentum\",\"MyriadCoin\",\"MoonCoin\",\"ZetaCoin\",\"SexCoin\",\"Quatloo\",\"QuarkCoin\",\"Riecoin\",\"Digitalcoin \",\"Catcoin\",\"CannaCoin\",\"CryptCoin\",\"Verge\",\"DevCoin\",\"EarthCoin\",\"E-Gulden\",\"Einsteinium\",\"Emerald\",\"Franko\",\"FeatherCoin\",\"GrandCoin\",\"GlobalCoin\",\"GoldCoin\",\"Infinite Coin\",\"IXcoin\",\"KrugerCoin\",\"LuckyCoin\",\"Litebar \",\"MegaCoin\",\"MediterraneanCoin\",\"MinCoin\",\"NobleCoin\",\"Namecoin\",\"NyanCoin\",\"RonPaulCoin\",\"StableCoin\",\"SmartCoin\",\"SysCoin\",\"TigerCoin\",\"TerraCoin\",\"UnbreakableCoin\",\"Unobtanium\",\"UroCoin\",\"ViaCoin\",\"Vertcoin\",\"WorldCoin\",\"JouleCoin\",\"ByteCoin\",\"DigitalNote \",\"MonaCoin\",\"Gulden\",\"PesetaCoin\",\"Wild Beast Coin\",\"Flo\",\"ArtByte\",\"Folding Coin\",\"Unitus\",\"CypherPunkCoin\",\"OmniCron\",\"GreenCoin\",\"Cryptonite\",\"MasterCoin\",\"SoonCoin\",\"1Credit\",\"MarsCoin \",\"Crypto\",\"Anarchists Prime\",\"BowsCoin\",\"Song Coin\",\"BitZeny\",\"Expanse\",\"Siacoin\",\"MindCoin\",\"I0coin\",\"Revolution VR\",\"HOdlcoin\",\"Gamecredits\",\"CarpeDiemCoin\",\"Adzcoin\",\"SoilCoin\",\"YoCoin\",\"SibCoin\",\"Francs\",\"BolivarCoin\",\"Omni\",\"PizzaCoin\",\"Komodo\",\"Karbo\",\"ZayedCoin\",\"Circuits of Value\",\"DopeCoin\",\"DollarCoin\",\"Shilling\",\"ZCoin\",\"Elementrem\",\"ZClassic\",\"KiloCoin\",\"ArtexCoin\",\"Kurrent\",\"Cannabis Industry Coin\",\"OsmiumCoin\",\"Bikercoins\",\"HexxCoin\",\"PacCoin\",\"Citadel\",\"BeaverCoin\",\"VaultCoin\",\"Zero\",\"Canada eCoin\",\"Zoin\",\"DubaiCoin\",\"EB3coin\",\"Coinonat\",\"BenjiRolls\",\"ILCoin\",\"EquiTrader\",\"Quantum Resistant Ledger\",\"Dynamic\",\"Nano\",\"ChanCoin\",\"Dinastycoin\",\"DigitalPrice\",\"Unify\",\"SocialCoin\",\"ArcticCoin\",\"DAS\",\"LeviarCoin\",\"Bitcore\",\"gCn Coin\",\"SmartCash\",\"Onix\",\"Bitcoin Cash\",\"Sojourn Coin\",\"NewYorkCoin\",\"FrazCoin\",\"Kronecoin\",\"AdCoin\",\"Linx\",\"Sumokoin\",\"BitcoinZ\",\"Elements\",\"VIVO Coin\",\"Bitcoin Gold\",\"Pirl\",\"eBoost\",\"Pura\",\"Innova\",\"Ellaism\",\"GoByte\",\"SHIELD\",\"UltraNote\",\"BitCoal\",\"DaxxCoin\",\"AC3\",\"Lethean\",\"PopularCoin\",\"Photon\",\"Sucre\",\"SparksPay\",\"GunCoin\",\"IrishCoin\",\"Pioneer Coin\",\"UnitedBitcoin\",\"Interzone\",\"TurtleCoin\",\"MUNcoin\",\"Niobio Cash\",\"ShareChain\",\"Travelflex\",\"KREDS\",\"BitFlip\",\"LottoCoin\",\"Crypto Improvement Fund\",\"Callisto Network\",\"BitTube\",\"Poseidon\",\"Aidos Kuneen\",\"Bitrolium\",\"Alpenschillling\",\"FuturoCoin\",\"Monero Classic\",\"Jumpcoin\",\"Infinex\",\"KEYCO\",\"GINcoin\",\"PlatinCoin\",\"Loki\",\"Newton Coin\",\"MassGrid\",\"PluraCoin\",\"Motion\",\"PlusOneCoin\",\"Axe\",\"HexCoin\",\"Webchain\",\"Ryo\",\"Urals Coin\",\"Qwertycoin\",\"Project Pai\",\"Azart\",\"Xchange\",\"CrypticCoin\",\"Actinium\",\"Bitcoin SV\",\"FREDEnergy\",\"Universal Molecule\",\"Lithium\",\"Exosis\",\"Block-Logic\",\"Beam\",\"Bithereum\",\"SLICE\",\"BLAST\",\"Bitcoin Rhodium\",\"GlobalToken\",\"SolarCoin\",\"UFO Coin\",\"BlakeCoin\",\"Crypto Escudo\",\"Crown Coin\",\"SmileyCoin\",\"Groestlcoin\",\"Bata\",\"Pakcoin\",\"JoinCoin\",\"Vollar\",\"Reality Clash\",\"Beldex\",\"Horizen\"],\"TotalCoinSupply\":{\"__ndarray__\":\"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\",\"dtype\":\"float64\",\"order\":\"little\",\"shape\":[238]},\"TotalCoinsMined\":{\"__ndarray__\":\"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\",\"dtype\":\"float64\",\"order\":\"little\",\"shape\":[238]}},\"selected\":{\"id\":\"1987\"},\"selection_policy\":{\"id\":\"2003\"}},\"id\":\"1986\",\"type\":\"ColumnDataSource\"},{\"attributes\":{\"source\":{\"id\":\"2032\"}},\"id\":\"2039\",\"type\":\"CDSView\"},{\"attributes\":{\"coordinates\":null,\"data_source\":{\"id\":\"1965\"},\"glyph\":{\"id\":\"1968\"},\"group\":null,\"hover_glyph\":null,\"muted_glyph\":{\"id\":\"1970\"},\"nonselection_glyph\":{\"id\":\"1969\"},\"selection_glyph\":{\"id\":\"1985\"},\"view\":{\"id\":\"1972\"}},\"id\":\"1971\",\"type\":\"GlyphRenderer\"},{\"attributes\":{\"fill_alpha\":{\"value\":0.1},\"fill_color\":{\"value\":\"#30a2da\"},\"hatch_alpha\":{\"value\":0.1},\"hatch_color\":{\"value\":\"#30a2da\"},\"line_alpha\":{\"value\":0.1},\"line_color\":{\"value\":\"#30a2da\"},\"size\":{\"value\":5.477225575051661},\"x\":{\"field\":\"TotalCoinsMined\"},\"y\":{\"field\":\"TotalCoinSupply\"}},\"id\":\"1969\",\"type\":\"Scatter\"},{\"attributes\":{\"axis_label\":\"TotalCoinsMined\",\"coordinates\":null,\"formatter\":{\"id\":\"1960\"},\"group\":null,\"major_label_policy\":{\"id\":\"1961\"},\"ticker\":{\"id\":\"1939\"}},\"id\":\"1938\",\"type\":\"LinearAxis\"},{\"attributes\":{\"fill_color\":{\"value\":\"#e5ae38\"},\"hatch_color\":{\"value\":\"#e5ae38\"},\"line_color\":{\"value\":\"#e5ae38\"},\"size\":{\"value\":5.477225575051661},\"x\":{\"field\":\"TotalCoinsMined\"},\"y\":{\"field\":\"TotalCoinSupply\"}},\"id\":\"2011\",\"type\":\"Scatter\"},{\"attributes\":{},\"id\":\"1950\",\"type\":\"ResetTool\"},{\"attributes\":{\"label\":{\"value\":\"2\"},\"renderers\":[{\"id\":\"2014\"}]},\"id\":\"2030\",\"type\":\"LegendItem\"},{\"attributes\":{\"fill_alpha\":{\"value\":0.1},\"fill_color\":{\"value\":\"#e5ae38\"},\"hatch_alpha\":{\"value\":0.1},\"hatch_color\":{\"value\":\"#e5ae38\"},\"line_alpha\":{\"value\":0.1},\"line_color\":{\"value\":\"#e5ae38\"},\"size\":{\"value\":5.477225575051661},\"x\":{\"field\":\"TotalCoinsMined\"},\"y\":{\"field\":\"TotalCoinSupply\"}},\"id\":\"2012\",\"type\":\"Scatter\"},{\"attributes\":{},\"id\":\"1948\",\"type\":\"WheelZoomTool\"},{\"attributes\":{\"coordinates\":null,\"data_source\":{\"id\":\"2008\"},\"glyph\":{\"id\":\"2011\"},\"group\":null,\"hover_glyph\":null,\"muted_glyph\":{\"id\":\"2013\"},\"nonselection_glyph\":{\"id\":\"2012\"},\"selection_glyph\":{\"id\":\"2031\"},\"view\":{\"id\":\"2015\"}},\"id\":\"2014\",\"type\":\"GlyphRenderer\"},{\"attributes\":{\"fill_color\":{\"value\":\"#fc4f30\"},\"hatch_color\":{\"value\":\"#fc4f30\"},\"line_color\":{\"value\":\"#fc4f30\"},\"size\":{\"value\":5.477225575051661},\"x\":{\"field\":\"TotalCoinsMined\"},\"y\":{\"field\":\"TotalCoinSupply\"}},\"id\":\"1989\",\"type\":\"Scatter\"},{\"attributes\":{},\"id\":\"1939\",\"type\":\"BasicTicker\"},{\"attributes\":{\"axis_label\":\"TotalCoinSupply\",\"coordinates\":null,\"formatter\":{\"id\":\"1963\"},\"group\":null,\"major_label_policy\":{\"id\":\"1964\"},\"ticker\":{\"id\":\"1943\"}},\"id\":\"1942\",\"type\":\"LinearAxis\"},{\"attributes\":{\"axis\":{\"id\":\"1942\"},\"coordinates\":null,\"dimension\":1,\"grid_line_color\":null,\"group\":null,\"ticker\":null},\"id\":\"1945\",\"type\":\"Grid\"},{\"attributes\":{},\"id\":\"1943\",\"type\":\"BasicTicker\"},{\"attributes\":{},\"id\":\"1960\",\"type\":\"BasicTickFormatter\"},{\"attributes\":{\"fill_color\":{\"value\":\"#30a2da\"},\"hatch_color\":{\"value\":\"#30a2da\"},\"line_color\":{\"value\":\"#30a2da\"},\"size\":{\"value\":5.477225575051661},\"x\":{\"field\":\"TotalCoinsMined\"},\"y\":{\"field\":\"TotalCoinSupply\"}},\"id\":\"1968\",\"type\":\"Scatter\"},{\"attributes\":{},\"id\":\"1946\",\"type\":\"SaveTool\"},{\"attributes\":{},\"id\":\"1966\",\"type\":\"Selection\"}],\"root_ids\":[\"1921\"]},\"title\":\"Bokeh Application\",\"version\":\"2.4.1\"}};\n",
       "    var render_items = [{\"docid\":\"eeb9ce74-f7ba-475b-913f-5064a31d396c\",\"root_ids\":[\"1921\"],\"roots\":{\"1921\":\"a4cc56c1-fd7e-4462-a87c-7d4ab9134623\"}}];\n",
       "    root.Bokeh.embed.embed_items_notebook(docs_json, render_items);\n",
       "  }\n",
       "  if (root.Bokeh !== undefined && root.Bokeh.Panel !== undefined) {\n",
       "    embed_document(root);\n",
       "  } else {\n",
       "    var attempts = 0;\n",
       "    var timer = setInterval(function(root) {\n",
       "      if (root.Bokeh !== undefined && root.Bokeh.Panel !== undefined) {\n",
       "        clearInterval(timer);\n",
       "        embed_document(root);\n",
       "      } else if (document.readyState == \"complete\") {\n",
       "        attempts++;\n",
       "        if (attempts > 200) {\n",
       "          clearInterval(timer);\n",
       "          console.log(\"Bokeh: ERROR: Unable to run BokehJS code because BokehJS library is missing\");\n",
       "        }\n",
       "      }\n",
       "    }, 25, root)\n",
       "  }\n",
       "})(window);</script>"
      ],
      "text/plain": [
       ":NdOverlay   [Class]\n",
       "   :Scatter   [TotalCoinsMined]   (TotalCoinSupply,CoinName)"
      ]
     },
     "execution_count": 188,
     "metadata": {
      "application/vnd.holoviews_exec.v0+json": {
       "id": "1921"
      }
     },
     "output_type": "execute_result"
    }
   ],
   "source": [
    "# Create a hvplot.scatter plot using x=\"TotalCoinsMined\" and y=\"TotalCoinSupply\".\n",
    "# YOUR CODE HERE\n",
    "plot_df.hvplot.scatter(x=\"TotalCoinsMined\", y=\"TotalCoinSupply\", by=\"Class\", hover_cols=[\"CoinName\"])"
   ]
  },
  {
   "cell_type": "code",
   "execution_count": null,
   "metadata": {},
   "outputs": [],
   "source": []
  }
 ],
 "metadata": {
  "file_extension": ".py",
  "kernelspec": {
   "display_name": "PythonData",
   "language": "python",
   "name": "pythondata"
  },
  "language_info": {
   "codemirror_mode": {
    "name": "ipython",
    "version": 3
   },
   "file_extension": ".py",
   "mimetype": "text/x-python",
   "name": "python",
   "nbconvert_exporter": "python",
   "pygments_lexer": "ipython3",
   "version": "3.9.7"
  },
  "latex_envs": {
   "LaTeX_envs_menu_present": true,
   "autoclose": false,
   "autocomplete": true,
   "bibliofile": "biblio.bib",
   "cite_by": "apalike",
   "current_citInitial": 1,
   "eqLabelWithNumbers": true,
   "eqNumInitial": 1,
   "hotkeys": {
    "equation": "Ctrl-E",
    "itemize": "Ctrl-I"
   },
   "labels_anchors": false,
   "latex_user_defs": false,
   "report_style_numbering": false,
   "user_envs_cfg": false
  },
  "mimetype": "text/x-python",
  "name": "python",
  "npconvert_exporter": "python",
  "pygments_lexer": "ipython3",
  "version": 3
 },
 "nbformat": 4,
 "nbformat_minor": 2
}
